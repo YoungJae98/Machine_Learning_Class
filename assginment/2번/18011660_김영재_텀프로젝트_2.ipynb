{
 "cells": [
  {
   "cell_type": "markdown",
   "id": "increased-flood",
   "metadata": {
    "papermill": {
     "duration": 0.013002,
     "end_time": "2021-06-06T03:54:47.173998",
     "exception": false,
     "start_time": "2021-06-06T03:54:47.160996",
     "status": "completed"
    },
    "tags": []
   },
   "source": [
    "# 반드시 처음부터 끝까지 스켈레톤 코드를 살펴보고 구현하기 시작하길 바란다\n",
    "\n",
    "## 1. 스켈레톤 코드를 [복사 및 편집] 하여 사용한다.\n",
    "## 2. 아래의 [Empty Module 3개]를 직접 구현한다.\n"
   ]
  },
  {
   "cell_type": "code",
   "execution_count": 1,
   "id": "average-luxembourg",
   "metadata": {
    "execution": {
     "iopub.execute_input": "2021-06-06T03:54:47.201798Z",
     "iopub.status.busy": "2021-06-06T03:54:47.200829Z",
     "iopub.status.idle": "2021-06-06T03:54:47.212527Z",
     "shell.execute_reply": "2021-06-06T03:54:47.213119Z",
     "shell.execute_reply.started": "2021-06-06T03:53:18.413761Z"
    },
    "papermill": {
     "duration": 0.027196,
     "end_time": "2021-06-06T03:54:47.213383",
     "exception": false,
     "start_time": "2021-06-06T03:54:47.186187",
     "status": "completed"
    },
    "tags": []
   },
   "outputs": [
    {
     "name": "stdout",
     "output_type": "stream",
     "text": [
      "/kaggle/input/2021-ml-tp2-spam/train.csv\n",
      "/kaggle/input/2021-ml-tp2-spam/test.csv\n",
      "/kaggle/input/2021-ml-tp2-spam/sample_submit.csv\n"
     ]
    }
   ],
   "source": [
    "# This Python 3 environment comes with many helpful analytics libraries installed\n",
    "# It is defined by the kaggle/python Docker image: https://github.com/kaggle/docker-python\n",
    "# For example, here's several helpful packages to load\n",
    "\n",
    "import numpy as np # linear algebra\n",
    "import pandas as pd # data processing, CSV file I/O (e.g. pd.read_csv)\n",
    "\n",
    "# Input data files are available in the read-only \"../input/\" directory\n",
    "# For example, running this (by clicking run or pressing Shift+Enter) will list all files under the input directory\n",
    "\n",
    "import os\n",
    "for dirname, _, filenames in os.walk('/kaggle/input'):\n",
    "    for filename in filenames:\n",
    "        print(os.path.join(dirname, filename))\n",
    "\n",
    "# You can write up to 20GB to the current directory (/kaggle/working/) that gets preserved as output when you create a version using \"Save & Run All\" \n",
    "# You can also write temporary files to /kaggle/temp/, but they won't be saved outside of the current session"
   ]
  },
  {
   "cell_type": "code",
   "execution_count": 2,
   "id": "informal-timeline",
   "metadata": {
    "execution": {
     "iopub.execute_input": "2021-06-06T03:54:47.242577Z",
     "iopub.status.busy": "2021-06-06T03:54:47.241930Z",
     "iopub.status.idle": "2021-06-06T03:54:48.521137Z",
     "shell.execute_reply": "2021-06-06T03:54:48.520685Z",
     "shell.execute_reply.started": "2021-06-06T03:53:18.427340Z"
    },
    "papermill": {
     "duration": 1.295094,
     "end_time": "2021-06-06T03:54:48.521263",
     "exception": false,
     "start_time": "2021-06-06T03:54:47.226169",
     "status": "completed"
    },
    "tags": []
   },
   "outputs": [],
   "source": [
    "import numpy as np # linear algebra\n",
    "import pandas as pd # data processing, CSV file I/O (e.g. pd.read_csv)\n",
    "import re\n",
    "import nltk\n",
    "from nltk.tokenize import word_tokenize\n",
    "from nltk.corpus import stopwords"
   ]
  },
  {
   "cell_type": "markdown",
   "id": "private-hands",
   "metadata": {
    "papermill": {
     "duration": 0.011817,
     "end_time": "2021-06-06T03:54:48.545055",
     "exception": false,
     "start_time": "2021-06-06T03:54:48.533238",
     "status": "completed"
    },
    "tags": []
   },
   "source": [
    "- nltk 라이브러리에서 punkt 데이터를 다운 받음, 이 데이터는 영화 리뷰와 같은 문서 데이터로 문자의 tokeninizer를 위해서 필요하다\n",
    "- nltk 라이브러리를 이용해서 불용어를 다운 받음"
   ]
  },
  {
   "cell_type": "code",
   "execution_count": 3,
   "id": "christian-display",
   "metadata": {
    "execution": {
     "iopub.execute_input": "2021-06-06T03:54:48.571407Z",
     "iopub.status.busy": "2021-06-06T03:54:48.570906Z",
     "iopub.status.idle": "2021-06-06T03:54:48.957394Z",
     "shell.execute_reply": "2021-06-06T03:54:48.957868Z",
     "shell.execute_reply.started": "2021-06-06T03:53:18.441368Z"
    },
    "papermill": {
     "duration": 0.401166,
     "end_time": "2021-06-06T03:54:48.958030",
     "exception": false,
     "start_time": "2021-06-06T03:54:48.556864",
     "status": "completed"
    },
    "tags": []
   },
   "outputs": [
    {
     "name": "stdout",
     "output_type": "stream",
     "text": [
      "[nltk_data] Downloading package punkt to /usr/share/nltk_data...\n",
      "[nltk_data]   Package punkt is already up-to-date!\n",
      "[nltk_data] Downloading package stopwords to /usr/share/nltk_data...\n",
      "[nltk_data]   Package stopwords is already up-to-date!\n"
     ]
    },
    {
     "data": {
      "text/plain": [
       "True"
      ]
     },
     "execution_count": 3,
     "metadata": {},
     "output_type": "execute_result"
    }
   ],
   "source": [
    "nltk.download('punkt')\n",
    "nltk.download('stopwords')"
   ]
  },
  {
   "cell_type": "code",
   "execution_count": 4,
   "id": "elementary-region",
   "metadata": {
    "execution": {
     "iopub.execute_input": "2021-06-06T03:54:48.989014Z",
     "iopub.status.busy": "2021-06-06T03:54:48.988407Z",
     "iopub.status.idle": "2021-06-06T03:54:49.035159Z",
     "shell.execute_reply": "2021-06-06T03:54:49.035607Z",
     "shell.execute_reply.started": "2021-06-06T03:53:18.458511Z"
    },
    "papermill": {
     "duration": 0.0647,
     "end_time": "2021-06-06T03:54:49.035765",
     "exception": false,
     "start_time": "2021-06-06T03:54:48.971065",
     "status": "completed"
    },
    "tags": []
   },
   "outputs": [
    {
     "data": {
      "text/plain": [
       "0       No I'm in the same boat. Still here at my moms...\n",
       "1       (Bank of Granite issues Strong-Buy) EXPLOSIVE ...\n",
       "2          They r giving a second chance to rahul dengra.\n",
       "3          O i played smash bros  &lt;#&gt;  religiously.\n",
       "4       PRIVATE! Your 2003 Account Statement for 07973...\n",
       "                              ...                        \n",
       "4452    I came hostel. I m going to sleep. Plz call me...\n",
       "4453                               Sorry, I'll call later\n",
       "4454        Prabha..i'm soryda..realy..frm heart i'm sory\n",
       "4455                           Nt joking seriously i told\n",
       "4456                  In work now. Going have in few min.\n",
       "Name: Data, Length: 4457, dtype: object"
      ]
     },
     "execution_count": 4,
     "metadata": {},
     "output_type": "execute_result"
    }
   ],
   "source": [
    "df_train = pd.read_csv(\"/kaggle/input/2021-ml-tp2-spam/train.csv\",encoding=\"latin-1\")\n",
    "df_test = pd.read_csv(\"/kaggle/input/2021-ml-tp2-spam/test.csv\",encoding=\"latin-1\")\n",
    "df_train.Data"
   ]
  },
  {
   "cell_type": "code",
   "execution_count": 5,
   "id": "secure-daniel",
   "metadata": {
    "execution": {
     "iopub.execute_input": "2021-06-06T03:54:49.064344Z",
     "iopub.status.busy": "2021-06-06T03:54:49.063571Z",
     "iopub.status.idle": "2021-06-06T03:54:49.068072Z",
     "shell.execute_reply": "2021-06-06T03:54:49.068501Z",
     "shell.execute_reply.started": "2021-06-06T03:53:18.492227Z"
    },
    "papermill": {
     "duration": 0.019978,
     "end_time": "2021-06-06T03:54:49.068670",
     "exception": false,
     "start_time": "2021-06-06T03:54:49.048692",
     "status": "completed"
    },
    "tags": []
   },
   "outputs": [],
   "source": [
    "X_train = df_train[\"Data\"]\n",
    "y_train=df_train[\"Class\"]\n",
    "X_test=df_test[\"Data\"]"
   ]
  },
  {
   "cell_type": "markdown",
   "id": "advanced-sharp",
   "metadata": {
    "papermill": {
     "duration": 0.012489,
     "end_time": "2021-06-06T03:54:49.094292",
     "exception": false,
     "start_time": "2021-06-06T03:54:49.081803",
     "status": "completed"
    },
    "tags": []
   },
   "source": [
    "# [Empty Module #1] 텍스트 데이터 전처리  \n",
    "\n",
    "목표: 텍스트 데이터를 처리하기 위한 여러 과정을 거쳐, 머신을 위한 데이터를 만든다. \n",
    "\n",
    "```\n",
    "[input]\n",
    "--------------\n",
    "- text: 텍스트 문장 데이터 \n",
    "\n",
    "[output]\n",
    "--------------\n",
    "- text: 전처리를 완료한 문장 데이터 \n",
    "    \n",
    "```"
   ]
  },
  {
   "cell_type": "code",
   "execution_count": 6,
   "id": "forced-standing",
   "metadata": {
    "execution": {
     "iopub.execute_input": "2021-06-06T03:54:49.123271Z",
     "iopub.status.busy": "2021-06-06T03:54:49.122422Z",
     "iopub.status.idle": "2021-06-06T03:54:49.129593Z",
     "shell.execute_reply": "2021-06-06T03:54:49.130062Z",
     "shell.execute_reply.started": "2021-06-06T03:53:18.499850Z"
    },
    "papermill": {
     "duration": 0.022879,
     "end_time": "2021-06-06T03:54:49.130178",
     "exception": false,
     "start_time": "2021-06-06T03:54:49.107299",
     "status": "completed"
    },
    "tags": []
   },
   "outputs": [],
   "source": [
    "# ------------------------------------------------\n",
    "# [Empty Module #1] 텍스트 데이터 전처리\n",
    "# ------------------------------------------------\n",
    "from nltk.corpus import stopwords \n",
    "from nltk.stem.porter import PorterStemmer\n",
    "\n",
    "def data_processing(text):\n",
    "    # ------------------------------------------------------------\n",
    "    # 구현 가이드라인 \n",
    "    # ------------------------------------------------------------\n",
    "    # [1] re.sub 사용해 text 속 '[^A-Za-z]' 외의 문자만을 찾아내 제거한후, pre_words 변수에 저장\n",
    "    #      1) pattern은 '[^A-Za-z]', repl=' ' 로 각각 설정.\n",
    "    #      2) 이모지나 숫자,점과 같은 문자외의 것들을 제거했다. (이모지는 감정 분석과 관련해서 몇가지 의미를 나타내지만 이 테스크에서는 이러한 의미도 제거함.)\n",
    "    #\n",
    "    # [2] pre_words의 lower 내장 함수를 이용해 대문자들은 소문자로 변경\n",
    "    #      1)  대, 소문자가 구분되어 있으면 \"Go\"와 \"go\" 와 같이 동일한 단어를 머신은 다른 단어로 취급한다. 따라서 대문자를 모두 소문자로 변경.\n",
    "    #\n",
    "    # [3] word_tokenize 함수를 이용해 pre_word 를 토큰화하여 word를 리스트화한 후 tokenized_words변수에 저장\n",
    "    #\n",
    "    # [4] nltk 라이브러리로 다운 받은 stopwords의 \"words\" 내장 함수를 이용해 english 불용어를 찾아서 stops 변수에 저장  \n",
    "    #      1) 불용어: 텍스트 분류에서 불용어는 텍스트의 중요도을 결정하는데 영향을 미치지 않는 단어임. \n",
    "    #                    (ex: the, we, a , will), 따라서 불필요한 단어가 예측 모델에 악영향을 끼칠 수 있기 때문에 제거.\n",
    "    #\n",
    "    # [5] [3] 에서 찾은 문자열 중 단어가 [4] 에서 찾은 불용어 속에 없을 경우, tokenized_words_remove 리스트에 append \n",
    "    #\n",
    "    # [6] PorterStemmer 속 stem 내장 함수를 이용해 동일 의미를 갖는 단어를 동일한 단어로 변경하는 과정을 거친 후 다시 저장.\n",
    "    #    \n",
    "    # ------------------------------------------------------------\n",
    "    ##############\n",
    "    \n",
    "   # [1] 데이터 구분하기 - 가이드라인대로 구성하였다.\n",
    "    pre_words = re.sub('[^A-Za-z]', ' ', text)\n",
    "    ##############\n",
    "   \n",
    "    # [2] lower함수를 이용한 대문자 -> 소문자 변환작업\n",
    "    pre_words = pre_words.lower()\n",
    "    ##############\n",
    "    \n",
    "    # [3] 토큰화 함수를 이용한 preword 토큰화 과정\n",
    "    tokenized_words = word_tokenize(pre_words)\n",
    "    ##############\n",
    "        \n",
    "    # [4] english의 불용어들을 따로 저장하기\n",
    "    stops = stopwords.words('english')\n",
    "    \n",
    "    ##############\n",
    "    tokenized_words_remove=[]\n",
    "    \n",
    "    for w in tokenized_words: \n",
    "        # [5] 불용어들을 제외하고 리스트에 추가하기\n",
    "        if w not in stops:\n",
    "            tokenized_words_remove.append(w)\n",
    "        ##############\n",
    "    \n",
    "    stemmer = PorterStemmer()\n",
    "    for i in range(len(tokenized_words_remove)):\n",
    "        # [6]불용어가 제거된 문자들에 대해서 stemmer의 stem함수를 이용해서 어간 추출 과정을 진행하였다.\n",
    "        tokenized_words_remove[i] = stemmer.stem(tokenized_words_remove[i])\n",
    "        ##############\n",
    "    \n",
    "    return ( \" \".join( tokenized_words_remove ))"
   ]
  },
  {
   "cell_type": "code",
   "execution_count": 7,
   "id": "blessed-compact",
   "metadata": {
    "execution": {
     "iopub.execute_input": "2021-06-06T03:54:49.158846Z",
     "iopub.status.busy": "2021-06-06T03:54:49.157984Z",
     "iopub.status.idle": "2021-06-06T03:54:52.320052Z",
     "shell.execute_reply": "2021-06-06T03:54:52.318880Z",
     "shell.execute_reply.started": "2021-06-06T03:53:18.512780Z"
    },
    "papermill": {
     "duration": 3.177357,
     "end_time": "2021-06-06T03:54:52.320185",
     "exception": false,
     "start_time": "2021-06-06T03:54:49.142828",
     "status": "completed"
    },
    "tags": []
   },
   "outputs": [],
   "source": [
    "X_train=[data_processing(i) for i in X_train]\n",
    "X_test=[data_processing(i) for i in X_test]"
   ]
  },
  {
   "cell_type": "markdown",
   "id": "seven-bumper",
   "metadata": {
    "papermill": {
     "duration": 0.013889,
     "end_time": "2021-06-06T03:54:52.346952",
     "exception": false,
     "start_time": "2021-06-06T03:54:52.333063",
     "status": "completed"
    },
    "tags": []
   },
   "source": [
    "# [Empty Module #2] Bag of Word \n",
    "\n",
    "목표: 문장 데이터를 머신을 학습하기 위한 실수화된 Feature로 변경하기로한다. \n",
    "\n",
    "- train 과 test 데이터 전부 type을 ('U')로 변경하여 Countvectorizer를 사용한다. \n",
    "- [설명 링크](https://scikit-learn.org/stable/modules/generated/sklearn.feature_extraction.text.CountVectorizer.html?highlight=countvectorizer#sklearn.feature_extraction.text.CountVectorizer)"
   ]
  },
  {
   "cell_type": "code",
   "execution_count": 8,
   "id": "appointed-inquiry",
   "metadata": {
    "execution": {
     "iopub.execute_input": "2021-06-06T03:54:52.381941Z",
     "iopub.status.busy": "2021-06-06T03:54:52.381399Z",
     "iopub.status.idle": "2021-06-06T03:54:52.570146Z",
     "shell.execute_reply": "2021-06-06T03:54:52.569596Z",
     "shell.execute_reply.started": "2021-06-06T03:54:03.956328Z"
    },
    "papermill": {
     "duration": 0.210644,
     "end_time": "2021-06-06T03:54:52.570265",
     "exception": false,
     "start_time": "2021-06-06T03:54:52.359621",
     "status": "completed"
    },
    "tags": []
   },
   "outputs": [],
   "source": [
    "# ------------------------------------------------\n",
    "# [Empty Module #2] 텍스트 데이터 Bag of word  feature  화 \n",
    "# ------------------------------------------------\n",
    "from sklearn.feature_extraction.text import CountVectorizer, TfidfVectorizer, HashingVectorizer\n",
    "# ------------------------------------------------------------\n",
    "# 구현 가이드라인 \n",
    "# ------------------------------------------------------------\n",
    "# [1]  CountVectorizer를 정의 \n",
    "#           1) max_features를 100으로 지정 \n",
    "# [2] X_train 과 X_test를 numpy array로 변환 후 데이터 타입을 \"U\"로 변경해 저장\n",
    "#\n",
    "# [3] CountVectorizer를 이용해 X_train은 학습 및 변환을 하고, X_test는 변환을 진행. \n",
    "# ------------------------------------------------------------\n",
    "########### 가이드라인대로 구성.\n",
    "from sklearn.feature_extraction.text import CountVectorizer\n",
    "# [1] countervectorizer 생성\n",
    "#vectorizer = CountVectorizer(max_features=100)\n",
    "#HashVectorizer도 해보았으나 성능이 좋지 않음.\n",
    "#TfidfVectorizer를 통한 변환하기 -> 성능이 더 좋게나와서 Tfidf를 사용함\n",
    "#CountVectorizer 때처럼 max_features를 설정해보았었으나, 성능이 좋게 나오지 않아 제외하였다.\n",
    "vectorizer = TfidfVectorizer()\n",
    "   \n",
    "# [2] train과 test셋 변환\n",
    "X_train = np.array(X_train, dtype='U')\n",
    "X_test = np.array(X_test, dtype='U')\n",
    "\n",
    "# [3] train셋은 fit_transform, test셋은 transform으로 변환\n",
    "X_train_features = vectorizer.fit_transform(X_train)\n",
    "X_test_features = vectorizer.transform(X_test)\n"
   ]
  },
  {
   "cell_type": "code",
   "execution_count": 9,
   "id": "julian-causing",
   "metadata": {
    "execution": {
     "iopub.execute_input": "2021-06-06T03:54:52.605513Z",
     "iopub.status.busy": "2021-06-06T03:54:52.605024Z",
     "iopub.status.idle": "2021-06-06T03:54:52.607649Z",
     "shell.execute_reply": "2021-06-06T03:54:52.607221Z",
     "shell.execute_reply.started": "2021-06-06T03:54:05.315222Z"
    },
    "papermill": {
     "duration": 0.024537,
     "end_time": "2021-06-06T03:54:52.607755",
     "exception": false,
     "start_time": "2021-06-06T03:54:52.583218",
     "status": "completed"
    },
    "tags": []
   },
   "outputs": [],
   "source": [
    "y_train[y_train==\"ham\"]=0\n",
    "y_train[y_train==\"spam\"]=1\n",
    "y_train=y_train.astype(\"uint8\")"
   ]
  },
  {
   "cell_type": "markdown",
   "id": "integrated-process",
   "metadata": {
    "papermill": {
     "duration": 0.012395,
     "end_time": "2021-06-06T03:54:52.632747",
     "exception": false,
     "start_time": "2021-06-06T03:54:52.620352",
     "status": "completed"
    },
    "tags": []
   },
   "source": [
    "## [Empty Module #3] SVM: classifier\n",
    "목표: SVC() 를 활용해 classification 을 진행\n",
    "\n",
    "- fit()으로 train 에 대한 머신러닝 학습\n",
    "- predict()으로 test 에 대한 정답을 추론 하여 반환"
   ]
  },
  {
   "cell_type": "code",
   "execution_count": 10,
   "id": "conventional-underwear",
   "metadata": {
    "execution": {
     "iopub.execute_input": "2021-06-06T03:54:52.663688Z",
     "iopub.status.busy": "2021-06-06T03:54:52.663128Z",
     "iopub.status.idle": "2021-06-06T03:54:53.156684Z",
     "shell.execute_reply": "2021-06-06T03:54:53.156155Z",
     "shell.execute_reply.started": "2021-06-06T03:54:05.993422Z"
    },
    "papermill": {
     "duration": 0.51149,
     "end_time": "2021-06-06T03:54:53.156828",
     "exception": false,
     "start_time": "2021-06-06T03:54:52.645338",
     "status": "completed"
    },
    "tags": []
   },
   "outputs": [],
   "source": [
    "# ------------------------------------------------\n",
    "# [Empty Module #3] 텍스트 데이터 Bag of word  feature  화 \n",
    "# ------------------------------------------------\n",
    "from sklearn.svm import SVC\n",
    "# ------------------------------------------------------------\n",
    "# 구현 가이드라인 \n",
    "# ------------------------------------------------------------\n",
    "# [1]  SVC 정의 \n",
    "#           1) gamma=\"auto\" 사용 \n",
    "# [2] X_train_features과 y_train으로 SVC 학습진행 후, X_test_features로 predict 진행\n",
    "#\n",
    "# ------------------------------------------------------------\n",
    "###########\n",
    "\n",
    "\n",
    "#성능 향상을 위한 그리드 서치 이용\n",
    "from sklearn.model_selection import GridSearchCV\n",
    "#parameters = {'kernel':['rbf', 'linear'], 'gamma':['auto', 'scale'], 'C':[1, 10, 100, 500, 1000, 2000]}\n",
    "parameters = {'C':[4000, 5000, 6000, 7000, 8000, 9000, 10000]}\n",
    "\n",
    "# [1]\n",
    "# 주석한 params로 그리드 서치 이용 결과 rbf, auto, c=2000이 제일 높게나옴 -> 임의로 숫자를 더 높여봄\n",
    "# class_weight=balanced 추가 -> 최종 결과 10000이 가장 높게나옴\n",
    "clf= GridSearchCV(SVC(class_weight=\"balanced\"), parameters, cv=10)\n",
    "svm = SVC(kernel='rbf', gamma = 'auto', C = 10000, class_weight=\"balanced\")\n",
    "\n",
    "# [2]\n",
    "svm.fit(X_train_features, y_train)\n",
    "\n",
    "y_pred=svm.predict(X_test_features)\n",
    "\n",
    "#rbf, auto, C = 4000일때 0.98295\n",
    "#rbf, auto, C = 5000일때 0.98116\n",
    "#rbf, auto, C = 9000일때 0.98295\n",
    "#rbf, auto, C = 10000일때 0.98475"
   ]
  },
  {
   "cell_type": "markdown",
   "id": "described-april",
   "metadata": {
    "papermill": {
     "duration": 0.012542,
     "end_time": "2021-06-06T03:54:53.182486",
     "exception": false,
     "start_time": "2021-06-06T03:54:53.169944",
     "status": "completed"
    },
    "tags": []
   },
   "source": [
    "# Predict to CSV"
   ]
  },
  {
   "cell_type": "code",
   "execution_count": 11,
   "id": "taken-raising",
   "metadata": {
    "execution": {
     "iopub.execute_input": "2021-06-06T03:54:53.212477Z",
     "iopub.status.busy": "2021-06-06T03:54:53.211939Z",
     "iopub.status.idle": "2021-06-06T03:54:53.219046Z",
     "shell.execute_reply": "2021-06-06T03:54:53.218526Z",
     "shell.execute_reply.started": "2021-06-06T03:54:06.650875Z"
    },
    "papermill": {
     "duration": 0.024336,
     "end_time": "2021-06-06T03:54:53.219173",
     "exception": false,
     "start_time": "2021-06-06T03:54:53.194837",
     "status": "completed"
    },
    "tags": []
   },
   "outputs": [],
   "source": [
    "df_pred={\"ID\": range(np.array(y_pred).shape[0]),\"Class\":y_pred}\n",
    "df_pred=pd.DataFrame(df_pred)\n",
    "df_pred.to_csv(\"predict.csv\",index=False)"
   ]
  },
  {
   "cell_type": "code",
   "execution_count": null,
   "id": "declared-swing",
   "metadata": {
    "papermill": {
     "duration": 0.012372,
     "end_time": "2021-06-06T03:54:53.244097",
     "exception": false,
     "start_time": "2021-06-06T03:54:53.231725",
     "status": "completed"
    },
    "tags": []
   },
   "outputs": [],
   "source": []
  }
 ],
 "metadata": {
  "kernelspec": {
   "display_name": "Python 3",
   "language": "python",
   "name": "python3"
  },
  "language_info": {
   "codemirror_mode": {
    "name": "ipython",
    "version": 3
   },
   "file_extension": ".py",
   "mimetype": "text/x-python",
   "name": "python",
   "nbconvert_exporter": "python",
   "pygments_lexer": "ipython3",
   "version": "3.7.10"
  },
  "papermill": {
   "default_parameters": {},
   "duration": 13.57224,
   "end_time": "2021-06-06T03:54:53.863979",
   "environment_variables": {},
   "exception": null,
   "input_path": "__notebook__.ipynb",
   "output_path": "__notebook__.ipynb",
   "parameters": {},
   "start_time": "2021-06-06T03:54:40.291739",
   "version": "2.3.3"
  }
 },
 "nbformat": 4,
 "nbformat_minor": 5
}
