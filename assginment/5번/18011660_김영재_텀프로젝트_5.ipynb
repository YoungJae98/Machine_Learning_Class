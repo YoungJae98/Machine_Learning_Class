{
 "cells": [
  {
   "cell_type": "code",
   "execution_count": 1,
   "id": "domestic-sodium",
   "metadata": {
    "_cell_guid": "b1076dfc-b9ad-4769-8c92-a6c4dae69d19",
    "_uuid": "8f2839f25d086af736a60e9eeb907d3b93b6e0e5",
    "execution": {
     "iopub.execute_input": "2021-06-05T22:30:17.862911Z",
     "iopub.status.busy": "2021-06-05T22:30:17.862311Z",
     "iopub.status.idle": "2021-06-05T22:30:19.696403Z",
     "shell.execute_reply": "2021-06-05T22:30:19.697206Z",
     "shell.execute_reply.started": "2021-06-05T04:53:27.192969Z"
    },
    "papermill": {
     "duration": 1.859543,
     "end_time": "2021-06-05T22:30:19.697780",
     "exception": false,
     "start_time": "2021-06-05T22:30:17.838237",
     "status": "completed"
    },
    "scrolled": true,
    "tags": []
   },
   "outputs": [
    {
     "name": "stdout",
     "output_type": "stream",
     "text": [
      "/kaggle/input/2021-ml-tp4/sample_submission.csv\n",
      "/kaggle/input/2021-ml-tp4/class_info.csv\n",
      "/kaggle/input/2021-ml-tp4/train_label.csv\n",
      "/kaggle/input/2021-ml-tp4/test/0261.avi\n",
      "/kaggle/input/2021-ml-tp4/test/0435.avi\n",
      "/kaggle/input/2021-ml-tp4/test/0309.avi\n",
      "/kaggle/input/2021-ml-tp4/test/0039.avi\n",
      "/kaggle/input/2021-ml-tp4/test/0162.avi\n",
      "/kaggle/input/2021-ml-tp4/test/0402.avi\n",
      "/kaggle/input/2021-ml-tp4/test/0255.avi\n",
      "/kaggle/input/2021-ml-tp4/test/0416.avi\n",
      "/kaggle/input/2021-ml-tp4/test/0354.avi\n",
      "/kaggle/input/2021-ml-tp4/test/0486.avi\n",
      "/kaggle/input/2021-ml-tp4/test/0113.avi\n",
      "/kaggle/input/2021-ml-tp4/test/0106.avi\n",
      "/kaggle/input/2021-ml-tp4/test/0291.avi\n",
      "/kaggle/input/2021-ml-tp4/test/0407.avi\n",
      "/kaggle/input/2021-ml-tp4/test/0247.avi\n",
      "/kaggle/input/2021-ml-tp4/test/0442.avi\n",
      "/kaggle/input/2021-ml-tp4/test/0193.avi\n",
      "/kaggle/input/2021-ml-tp4/test/0044.avi\n",
      "/kaggle/input/2021-ml-tp4/test/0136.avi\n",
      "/kaggle/input/2021-ml-tp4/test/0332.avi\n",
      "/kaggle/input/2021-ml-tp4/test/0311.avi\n",
      "/kaggle/input/2021-ml-tp4/test/0386.avi\n",
      "/kaggle/input/2021-ml-tp4/test/0476.avi\n",
      "/kaggle/input/2021-ml-tp4/test/0464.avi\n",
      "/kaggle/input/2021-ml-tp4/test/0204.avi\n",
      "/kaggle/input/2021-ml-tp4/test/0346.avi\n",
      "/kaggle/input/2021-ml-tp4/test/0326.avi\n",
      "/kaggle/input/2021-ml-tp4/test/0056.avi\n",
      "/kaggle/input/2021-ml-tp4/test/0462.avi\n",
      "/kaggle/input/2021-ml-tp4/test/0130.avi\n",
      "/kaggle/input/2021-ml-tp4/test/0349.avi\n",
      "/kaggle/input/2021-ml-tp4/test/0240.avi\n",
      "/kaggle/input/2021-ml-tp4/test/0037.avi\n",
      "/kaggle/input/2021-ml-tp4/test/0088.avi\n",
      "/kaggle/input/2021-ml-tp4/test/0196.avi\n",
      "/kaggle/input/2021-ml-tp4/test/0208.avi\n",
      "/kaggle/input/2021-ml-tp4/test/0269.avi\n",
      "/kaggle/input/2021-ml-tp4/test/0496.avi\n",
      "/kaggle/input/2021-ml-tp4/test/0267.avi\n",
      "/kaggle/input/2021-ml-tp4/test/0188.avi\n",
      "/kaggle/input/2021-ml-tp4/test/0275.avi\n",
      "/kaggle/input/2021-ml-tp4/test/0359.avi\n",
      "/kaggle/input/2021-ml-tp4/test/0074.avi\n",
      "/kaggle/input/2021-ml-tp4/test/0362.avi\n",
      "/kaggle/input/2021-ml-tp4/test/0243.avi\n",
      "/kaggle/input/2021-ml-tp4/test/0413.avi\n",
      "/kaggle/input/2021-ml-tp4/test/0499.avi\n",
      "/kaggle/input/2021-ml-tp4/test/0177.avi\n",
      "/kaggle/input/2021-ml-tp4/test/0250.avi\n",
      "/kaggle/input/2021-ml-tp4/test/0093.avi\n",
      "/kaggle/input/2021-ml-tp4/test/0465.avi\n",
      "/kaggle/input/2021-ml-tp4/test/0098.avi\n",
      "/kaggle/input/2021-ml-tp4/test/0057.avi\n",
      "/kaggle/input/2021-ml-tp4/test/0114.avi\n",
      "/kaggle/input/2021-ml-tp4/test/0210.avi\n",
      "/kaggle/input/2021-ml-tp4/test/0433.avi\n",
      "/kaggle/input/2021-ml-tp4/test/0378.avi\n",
      "/kaggle/input/2021-ml-tp4/test/0405.avi\n",
      "/kaggle/input/2021-ml-tp4/test/0373.avi\n",
      "/kaggle/input/2021-ml-tp4/test/0324.avi\n",
      "/kaggle/input/2021-ml-tp4/test/0375.avi\n",
      "/kaggle/input/2021-ml-tp4/test/0097.avi\n",
      "/kaggle/input/2021-ml-tp4/test/0067.avi\n",
      "/kaggle/input/2021-ml-tp4/test/0118.avi\n",
      "/kaggle/input/2021-ml-tp4/test/0383.avi\n",
      "/kaggle/input/2021-ml-tp4/test/0091.avi\n",
      "/kaggle/input/2021-ml-tp4/test/0080.avi\n",
      "/kaggle/input/2021-ml-tp4/test/0090.avi\n",
      "/kaggle/input/2021-ml-tp4/test/0436.avi\n",
      "/kaggle/input/2021-ml-tp4/test/0047.avi\n",
      "/kaggle/input/2021-ml-tp4/test/0132.avi\n",
      "/kaggle/input/2021-ml-tp4/test/0449.avi\n",
      "/kaggle/input/2021-ml-tp4/test/0122.avi\n",
      "/kaggle/input/2021-ml-tp4/test/0503.avi\n",
      "/kaggle/input/2021-ml-tp4/test/0096.avi\n",
      "/kaggle/input/2021-ml-tp4/test/0238.avi\n",
      "/kaggle/input/2021-ml-tp4/test/0225.avi\n",
      "/kaggle/input/2021-ml-tp4/test/0185.avi\n",
      "/kaggle/input/2021-ml-tp4/test/0477.avi\n",
      "/kaggle/input/2021-ml-tp4/test/0139.avi\n",
      "/kaggle/input/2021-ml-tp4/test/0222.avi\n",
      "/kaggle/input/2021-ml-tp4/test/0294.avi\n",
      "/kaggle/input/2021-ml-tp4/test/0257.avi\n",
      "/kaggle/input/2021-ml-tp4/test/0123.avi\n",
      "/kaggle/input/2021-ml-tp4/test/0181.avi\n",
      "/kaggle/input/2021-ml-tp4/test/0200.avi\n",
      "/kaggle/input/2021-ml-tp4/test/0494.avi\n",
      "/kaggle/input/2021-ml-tp4/test/0095.avi\n",
      "/kaggle/input/2021-ml-tp4/test/0498.avi\n",
      "/kaggle/input/2021-ml-tp4/test/0382.avi\n",
      "/kaggle/input/2021-ml-tp4/test/0108.avi\n",
      "/kaggle/input/2021-ml-tp4/test/0194.avi\n",
      "/kaggle/input/2021-ml-tp4/test/0046.avi\n",
      "/kaggle/input/2021-ml-tp4/test/0217.avi\n",
      "/kaggle/input/2021-ml-tp4/test/0374.avi\n",
      "/kaggle/input/2021-ml-tp4/test/0010.avi\n",
      "/kaggle/input/2021-ml-tp4/test/0335.avi\n",
      "/kaggle/input/2021-ml-tp4/test/0392.avi\n",
      "/kaggle/input/2021-ml-tp4/test/0463.avi\n",
      "/kaggle/input/2021-ml-tp4/test/0062.avi\n",
      "/kaggle/input/2021-ml-tp4/test/0385.avi\n",
      "/kaggle/input/2021-ml-tp4/test/0171.avi\n",
      "/kaggle/input/2021-ml-tp4/test/0124.avi\n",
      "/kaggle/input/2021-ml-tp4/test/0389.avi\n",
      "/kaggle/input/2021-ml-tp4/test/0148.avi\n",
      "/kaggle/input/2021-ml-tp4/test/0415.avi\n",
      "/kaggle/input/2021-ml-tp4/test/0271.avi\n",
      "/kaggle/input/2021-ml-tp4/test/0495.avi\n",
      "/kaggle/input/2021-ml-tp4/test/0393.avi\n",
      "/kaggle/input/2021-ml-tp4/test/0356.avi\n",
      "/kaggle/input/2021-ml-tp4/test/0024.avi\n",
      "/kaggle/input/2021-ml-tp4/test/0228.avi\n",
      "/kaggle/input/2021-ml-tp4/test/0478.avi\n",
      "/kaggle/input/2021-ml-tp4/test/0409.avi\n",
      "/kaggle/input/2021-ml-tp4/test/0282.avi\n",
      "/kaggle/input/2021-ml-tp4/test/0376.avi\n",
      "/kaggle/input/2021-ml-tp4/test/0418.avi\n",
      "/kaggle/input/2021-ml-tp4/test/0134.avi\n",
      "/kaggle/input/2021-ml-tp4/test/0234.avi\n",
      "/kaggle/input/2021-ml-tp4/test/0094.avi\n",
      "/kaggle/input/2021-ml-tp4/test/0187.avi\n",
      "/kaggle/input/2021-ml-tp4/test/0322.avi\n",
      "/kaggle/input/2021-ml-tp4/test/0165.avi\n",
      "/kaggle/input/2021-ml-tp4/test/0388.avi\n",
      "/kaggle/input/2021-ml-tp4/test/0141.avi\n",
      "/kaggle/input/2021-ml-tp4/test/0076.avi\n",
      "/kaggle/input/2021-ml-tp4/test/0453.avi\n",
      "/kaggle/input/2021-ml-tp4/test/0302.avi\n",
      "/kaggle/input/2021-ml-tp4/test/0381.avi\n",
      "/kaggle/input/2021-ml-tp4/test/0367.avi\n",
      "/kaggle/input/2021-ml-tp4/test/0191.avi\n",
      "/kaggle/input/2021-ml-tp4/test/0338.avi\n",
      "/kaggle/input/2021-ml-tp4/test/0031.avi\n",
      "/kaggle/input/2021-ml-tp4/test/0125.avi\n",
      "/kaggle/input/2021-ml-tp4/test/0396.avi\n",
      "/kaggle/input/2021-ml-tp4/test/0321.avi\n",
      "/kaggle/input/2021-ml-tp4/test/0281.avi\n",
      "/kaggle/input/2021-ml-tp4/test/0353.avi\n",
      "/kaggle/input/2021-ml-tp4/test/0241.avi\n",
      "/kaggle/input/2021-ml-tp4/test/0488.avi\n",
      "/kaggle/input/2021-ml-tp4/test/0161.avi\n",
      "/kaggle/input/2021-ml-tp4/test/0129.avi\n",
      "/kaggle/input/2021-ml-tp4/test/0259.avi\n",
      "/kaggle/input/2021-ml-tp4/test/0260.avi\n",
      "/kaggle/input/2021-ml-tp4/test/0115.avi\n",
      "/kaggle/input/2021-ml-tp4/test/0485.avi\n",
      "/kaggle/input/2021-ml-tp4/test/0054.avi\n",
      "/kaggle/input/2021-ml-tp4/test/0011.avi\n",
      "/kaggle/input/2021-ml-tp4/test/0143.avi\n",
      "/kaggle/input/2021-ml-tp4/test/0384.avi\n",
      "/kaggle/input/2021-ml-tp4/test/0159.avi\n",
      "/kaggle/input/2021-ml-tp4/test/0154.avi\n",
      "/kaggle/input/2021-ml-tp4/test/0040.avi\n",
      "/kaggle/input/2021-ml-tp4/test/0025.avi\n",
      "/kaggle/input/2021-ml-tp4/test/0372.avi\n",
      "/kaggle/input/2021-ml-tp4/test/0364.avi\n",
      "/kaggle/input/2021-ml-tp4/test/0366.avi\n",
      "/kaggle/input/2021-ml-tp4/test/0100.avi\n",
      "/kaggle/input/2021-ml-tp4/test/0268.avi\n",
      "/kaggle/input/2021-ml-tp4/test/0369.avi\n",
      "/kaggle/input/2021-ml-tp4/test/0480.avi\n",
      "/kaggle/input/2021-ml-tp4/test/0052.avi\n",
      "/kaggle/input/2021-ml-tp4/test/0455.avi\n",
      "/kaggle/input/2021-ml-tp4/test/0003.avi\n",
      "/kaggle/input/2021-ml-tp4/test/0298.avi\n",
      "/kaggle/input/2021-ml-tp4/test/0027.avi\n",
      "/kaggle/input/2021-ml-tp4/test/0434.avi\n",
      "/kaggle/input/2021-ml-tp4/test/0167.avi\n",
      "/kaggle/input/2021-ml-tp4/test/0008.avi\n",
      "/kaggle/input/2021-ml-tp4/test/0142.avi\n",
      "/kaggle/input/2021-ml-tp4/test/0417.avi\n",
      "/kaggle/input/2021-ml-tp4/test/0145.avi\n",
      "/kaggle/input/2021-ml-tp4/test/0348.avi\n",
      "/kaggle/input/2021-ml-tp4/test/0414.avi\n",
      "/kaggle/input/2021-ml-tp4/test/0336.avi\n",
      "/kaggle/input/2021-ml-tp4/test/0163.avi\n",
      "/kaggle/input/2021-ml-tp4/test/0452.avi\n",
      "/kaggle/input/2021-ml-tp4/test/0157.avi\n",
      "/kaggle/input/2021-ml-tp4/test/0001.avi\n",
      "/kaggle/input/2021-ml-tp4/test/0155.avi\n",
      "/kaggle/input/2021-ml-tp4/test/0233.avi\n",
      "/kaggle/input/2021-ml-tp4/test/0223.avi\n",
      "/kaggle/input/2021-ml-tp4/test/0300.avi\n",
      "/kaggle/input/2021-ml-tp4/test/0146.avi\n",
      "/kaggle/input/2021-ml-tp4/test/0447.avi\n",
      "/kaggle/input/2021-ml-tp4/test/0012.avi\n",
      "/kaggle/input/2021-ml-tp4/test/0184.avi\n",
      "/kaggle/input/2021-ml-tp4/test/0256.avi\n",
      "/kaggle/input/2021-ml-tp4/test/0128.avi\n",
      "/kaggle/input/2021-ml-tp4/test/0445.avi\n",
      "/kaggle/input/2021-ml-tp4/test/0448.avi\n",
      "/kaggle/input/2021-ml-tp4/test/0397.avi\n",
      "/kaggle/input/2021-ml-tp4/test/0214.avi\n",
      "/kaggle/input/2021-ml-tp4/test/0399.avi\n",
      "/kaggle/input/2021-ml-tp4/test/0361.avi\n",
      "/kaggle/input/2021-ml-tp4/test/0215.avi\n",
      "/kaggle/input/2021-ml-tp4/test/0440.avi\n",
      "/kaggle/input/2021-ml-tp4/test/0472.avi\n",
      "/kaggle/input/2021-ml-tp4/test/0066.avi\n",
      "/kaggle/input/2021-ml-tp4/test/0104.avi\n",
      "/kaggle/input/2021-ml-tp4/test/0398.avi\n",
      "/kaggle/input/2021-ml-tp4/test/0016.avi\n",
      "/kaggle/input/2021-ml-tp4/test/0263.avi\n",
      "/kaggle/input/2021-ml-tp4/test/0174.avi\n",
      "/kaggle/input/2021-ml-tp4/test/0347.avi\n",
      "/kaggle/input/2021-ml-tp4/test/0325.avi\n",
      "/kaggle/input/2021-ml-tp4/test/0077.avi\n",
      "/kaggle/input/2021-ml-tp4/test/0481.avi\n",
      "/kaggle/input/2021-ml-tp4/test/0135.avi\n",
      "/kaggle/input/2021-ml-tp4/test/0169.avi\n",
      "/kaggle/input/2021-ml-tp4/test/0211.avi\n",
      "/kaggle/input/2021-ml-tp4/test/0197.avi\n",
      "/kaggle/input/2021-ml-tp4/test/0333.avi\n",
      "/kaggle/input/2021-ml-tp4/test/0007.avi\n",
      "/kaggle/input/2021-ml-tp4/test/0301.avi\n",
      "/kaggle/input/2021-ml-tp4/test/0429.avi\n",
      "/kaggle/input/2021-ml-tp4/test/0307.avi\n",
      "/kaggle/input/2021-ml-tp4/test/0116.avi\n",
      "/kaggle/input/2021-ml-tp4/test/0170.avi\n",
      "/kaggle/input/2021-ml-tp4/test/0444.avi\n",
      "/kaggle/input/2021-ml-tp4/test/0075.avi\n",
      "/kaggle/input/2021-ml-tp4/test/0013.avi\n",
      "/kaggle/input/2021-ml-tp4/test/0479.avi\n",
      "/kaggle/input/2021-ml-tp4/test/0313.avi\n",
      "/kaggle/input/2021-ml-tp4/test/0232.avi\n",
      "/kaggle/input/2021-ml-tp4/test/0420.avi\n",
      "/kaggle/input/2021-ml-tp4/test/0387.avi\n",
      "/kaggle/input/2021-ml-tp4/test/0286.avi\n",
      "/kaggle/input/2021-ml-tp4/test/0176.avi\n",
      "/kaggle/input/2021-ml-tp4/test/0368.avi\n",
      "/kaggle/input/2021-ml-tp4/test/0036.avi\n",
      "/kaggle/input/2021-ml-tp4/test/0244.avi\n",
      "/kaggle/input/2021-ml-tp4/test/0454.avi\n",
      "/kaggle/input/2021-ml-tp4/test/0219.avi\n",
      "/kaggle/input/2021-ml-tp4/test/0026.avi\n",
      "/kaggle/input/2021-ml-tp4/test/0483.avi\n",
      "/kaggle/input/2021-ml-tp4/test/0430.avi\n",
      "/kaggle/input/2021-ml-tp4/test/0248.avi\n",
      "/kaggle/input/2021-ml-tp4/test/0150.avi\n",
      "/kaggle/input/2021-ml-tp4/test/0446.avi\n",
      "/kaggle/input/2021-ml-tp4/test/0285.avi\n",
      "/kaggle/input/2021-ml-tp4/test/0189.avi\n",
      "/kaggle/input/2021-ml-tp4/test/0239.avi\n",
      "/kaggle/input/2021-ml-tp4/test/0105.avi\n",
      "/kaggle/input/2021-ml-tp4/test/0068.avi\n",
      "/kaggle/input/2021-ml-tp4/test/0330.avi\n",
      "/kaggle/input/2021-ml-tp4/test/0439.avi\n",
      "/kaggle/input/2021-ml-tp4/test/0183.avi\n",
      "/kaggle/input/2021-ml-tp4/test/0195.avi\n",
      "/kaggle/input/2021-ml-tp4/test/0081.avi\n",
      "/kaggle/input/2021-ml-tp4/test/0306.avi\n",
      "/kaggle/input/2021-ml-tp4/test/0131.avi\n",
      "/kaggle/input/2021-ml-tp4/test/0226.avi\n",
      "/kaggle/input/2021-ml-tp4/test/0441.avi\n",
      "/kaggle/input/2021-ml-tp4/test/0102.avi\n",
      "/kaggle/input/2021-ml-tp4/test/0050.avi\n",
      "/kaggle/input/2021-ml-tp4/test/0043.avi\n",
      "/kaggle/input/2021-ml-tp4/test/0316.avi\n",
      "/kaggle/input/2021-ml-tp4/test/0410.avi\n",
      "/kaggle/input/2021-ml-tp4/test/0422.avi\n",
      "/kaggle/input/2021-ml-tp4/test/0084.avi\n",
      "/kaggle/input/2021-ml-tp4/test/0427.avi\n",
      "/kaggle/input/2021-ml-tp4/test/0458.avi\n",
      "/kaggle/input/2021-ml-tp4/test/0265.avi\n",
      "/kaggle/input/2021-ml-tp4/test/0252.avi\n",
      "/kaggle/input/2021-ml-tp4/test/0206.avi\n",
      "/kaggle/input/2021-ml-tp4/test/0002.avi\n",
      "/kaggle/input/2021-ml-tp4/test/0363.avi\n",
      "/kaggle/input/2021-ml-tp4/test/0502.avi\n",
      "/kaggle/input/2021-ml-tp4/test/0071.avi\n",
      "/kaggle/input/2021-ml-tp4/test/0212.avi\n",
      "/kaggle/input/2021-ml-tp4/test/0264.avi\n",
      "/kaggle/input/2021-ml-tp4/test/0018.avi\n",
      "/kaggle/input/2021-ml-tp4/test/0395.avi\n",
      "/kaggle/input/2021-ml-tp4/test/0467.avi\n",
      "/kaggle/input/2021-ml-tp4/test/0048.avi\n",
      "/kaggle/input/2021-ml-tp4/test/0466.avi\n",
      "/kaggle/input/2021-ml-tp4/test/0042.avi\n",
      "/kaggle/input/2021-ml-tp4/test/0049.avi\n",
      "/kaggle/input/2021-ml-tp4/test/0087.avi\n",
      "/kaggle/input/2021-ml-tp4/test/0173.avi\n",
      "/kaggle/input/2021-ml-tp4/test/0107.avi\n",
      "/kaggle/input/2021-ml-tp4/test/0205.avi\n",
      "/kaggle/input/2021-ml-tp4/test/0041.avi\n",
      "/kaggle/input/2021-ml-tp4/test/0072.avi\n",
      "/kaggle/input/2021-ml-tp4/test/0083.avi\n",
      "/kaggle/input/2021-ml-tp4/test/0491.avi\n",
      "/kaggle/input/2021-ml-tp4/test/0357.avi\n",
      "/kaggle/input/2021-ml-tp4/test/0304.avi\n",
      "/kaggle/input/2021-ml-tp4/test/0064.avi\n",
      "/kaggle/input/2021-ml-tp4/test/0419.avi\n",
      "/kaggle/input/2021-ml-tp4/test/0504.avi\n",
      "/kaggle/input/2021-ml-tp4/test/0342.avi\n",
      "/kaggle/input/2021-ml-tp4/test/0319.avi\n",
      "/kaggle/input/2021-ml-tp4/test/0028.avi\n",
      "/kaggle/input/2021-ml-tp4/test/0246.avi\n",
      "/kaggle/input/2021-ml-tp4/test/0266.avi\n",
      "/kaggle/input/2021-ml-tp4/test/0229.avi\n",
      "/kaggle/input/2021-ml-tp4/test/0190.avi\n",
      "/kaggle/input/2021-ml-tp4/test/0500.avi\n",
      "/kaggle/input/2021-ml-tp4/test/0149.avi\n",
      "/kaggle/input/2021-ml-tp4/test/0380.avi\n",
      "/kaggle/input/2021-ml-tp4/test/0133.avi\n",
      "/kaggle/input/2021-ml-tp4/test/0055.avi\n",
      "/kaggle/input/2021-ml-tp4/test/0343.avi\n",
      "/kaggle/input/2021-ml-tp4/test/0428.avi\n",
      "/kaggle/input/2021-ml-tp4/test/0351.avi\n",
      "/kaggle/input/2021-ml-tp4/test/0280.avi\n",
      "/kaggle/input/2021-ml-tp4/test/0475.avi\n",
      "/kaggle/input/2021-ml-tp4/test/0006.avi\n",
      "/kaggle/input/2021-ml-tp4/test/0450.avi\n",
      "/kaggle/input/2021-ml-tp4/test/0151.avi\n",
      "/kaggle/input/2021-ml-tp4/test/0179.avi\n",
      "/kaggle/input/2021-ml-tp4/test/0005.avi\n",
      "/kaggle/input/2021-ml-tp4/test/0022.avi\n",
      "/kaggle/input/2021-ml-tp4/test/0474.avi\n",
      "/kaggle/input/2021-ml-tp4/test/0089.avi\n",
      "/kaggle/input/2021-ml-tp4/test/0178.avi\n",
      "/kaggle/input/2021-ml-tp4/test/0144.avi\n",
      "/kaggle/input/2021-ml-tp4/test/0262.avi\n",
      "/kaggle/input/2021-ml-tp4/test/0482.avi\n",
      "/kaggle/input/2021-ml-tp4/test/0394.avi\n",
      "/kaggle/input/2021-ml-tp4/test/0468.avi\n",
      "/kaggle/input/2021-ml-tp4/test/0497.avi\n",
      "/kaggle/input/2021-ml-tp4/test/0112.avi\n",
      "/kaggle/input/2021-ml-tp4/test/0035.avi\n",
      "/kaggle/input/2021-ml-tp4/test/0317.avi\n",
      "/kaggle/input/2021-ml-tp4/test/0045.avi\n",
      "/kaggle/input/2021-ml-tp4/test/0426.avi\n",
      "/kaggle/input/2021-ml-tp4/test/0126.avi\n",
      "/kaggle/input/2021-ml-tp4/test/0408.avi\n",
      "/kaggle/input/2021-ml-tp4/test/0152.avi\n",
      "/kaggle/input/2021-ml-tp4/test/0270.avi\n",
      "/kaggle/input/2021-ml-tp4/test/0352.avi\n",
      "/kaggle/input/2021-ml-tp4/test/0272.avi\n",
      "/kaggle/input/2021-ml-tp4/test/0489.avi\n",
      "/kaggle/input/2021-ml-tp4/test/0345.avi\n",
      "/kaggle/input/2021-ml-tp4/test/0438.avi\n",
      "/kaggle/input/2021-ml-tp4/test/0213.avi\n",
      "/kaggle/input/2021-ml-tp4/test/0103.avi\n",
      "/kaggle/input/2021-ml-tp4/test/0253.avi\n",
      "/kaggle/input/2021-ml-tp4/test/0117.avi\n",
      "/kaggle/input/2021-ml-tp4/test/0484.avi\n",
      "/kaggle/input/2021-ml-tp4/test/0147.avi\n",
      "/kaggle/input/2021-ml-tp4/test/0473.avi\n",
      "/kaggle/input/2021-ml-tp4/test/0017.avi\n",
      "/kaggle/input/2021-ml-tp4/test/0140.avi\n",
      "/kaggle/input/2021-ml-tp4/test/0109.avi\n",
      "/kaggle/input/2021-ml-tp4/test/0004.avi\n",
      "/kaggle/input/2021-ml-tp4/test/0401.avi\n",
      "/kaggle/input/2021-ml-tp4/test/0339.avi\n",
      "/kaggle/input/2021-ml-tp4/test/0236.avi\n",
      "/kaggle/input/2021-ml-tp4/test/0119.avi\n",
      "/kaggle/input/2021-ml-tp4/test/0166.avi\n",
      "/kaggle/input/2021-ml-tp4/test/0279.avi\n",
      "/kaggle/input/2021-ml-tp4/test/0379.avi\n",
      "/kaggle/input/2021-ml-tp4/test/0065.avi\n",
      "/kaggle/input/2021-ml-tp4/test/0274.avi\n",
      "/kaggle/input/2021-ml-tp4/test/0058.avi\n",
      "/kaggle/input/2021-ml-tp4/test/0032.avi\n",
      "/kaggle/input/2021-ml-tp4/test/0278.avi\n",
      "/kaggle/input/2021-ml-tp4/test/0021.avi\n",
      "/kaggle/input/2021-ml-tp4/test/0051.avi\n",
      "/kaggle/input/2021-ml-tp4/test/0258.avi\n",
      "/kaggle/input/2021-ml-tp4/test/0370.avi\n",
      "/kaggle/input/2021-ml-tp4/test/0490.avi\n",
      "/kaggle/input/2021-ml-tp4/test/0023.avi\n",
      "/kaggle/input/2021-ml-tp4/test/0461.avi\n",
      "/kaggle/input/2021-ml-tp4/test/0431.avi\n",
      "/kaggle/input/2021-ml-tp4/test/0443.avi\n",
      "/kaggle/input/2021-ml-tp4/test/0086.avi\n",
      "/kaggle/input/2021-ml-tp4/test/0120.avi\n",
      "/kaggle/input/2021-ml-tp4/test/0137.avi\n",
      "/kaggle/input/2021-ml-tp4/test/0323.avi\n",
      "/kaggle/input/2021-ml-tp4/test/0015.avi\n",
      "/kaggle/input/2021-ml-tp4/test/0360.avi\n",
      "/kaggle/input/2021-ml-tp4/test/0099.avi\n",
      "/kaggle/input/2021-ml-tp4/test/0404.avi\n",
      "/kaggle/input/2021-ml-tp4/test/0283.avi\n",
      "/kaggle/input/2021-ml-tp4/test/0198.avi\n",
      "/kaggle/input/2021-ml-tp4/test/0318.avi\n",
      "/kaggle/input/2021-ml-tp4/test/0199.avi\n",
      "/kaggle/input/2021-ml-tp4/test/0230.avi\n",
      "/kaggle/input/2021-ml-tp4/test/0299.avi\n",
      "/kaggle/input/2021-ml-tp4/test/0295.avi\n",
      "/kaggle/input/2021-ml-tp4/test/0331.avi\n",
      "/kaggle/input/2021-ml-tp4/test/0391.avi\n",
      "/kaggle/input/2021-ml-tp4/test/0358.avi\n",
      "/kaggle/input/2021-ml-tp4/test/0224.avi\n",
      "/kaggle/input/2021-ml-tp4/test/0457.avi\n",
      "/kaggle/input/2021-ml-tp4/test/0493.avi\n",
      "/kaggle/input/2021-ml-tp4/test/0400.avi\n",
      "/kaggle/input/2021-ml-tp4/test/0314.avi\n",
      "/kaggle/input/2021-ml-tp4/test/0320.avi\n",
      "/kaggle/input/2021-ml-tp4/test/0160.avi\n",
      "/kaggle/input/2021-ml-tp4/test/0000.avi\n",
      "/kaggle/input/2021-ml-tp4/test/0168.avi\n",
      "/kaggle/input/2021-ml-tp4/test/0202.avi\n",
      "/kaggle/input/2021-ml-tp4/test/0328.avi\n",
      "/kaggle/input/2021-ml-tp4/test/0469.avi\n",
      "/kaggle/input/2021-ml-tp4/test/0403.avi\n",
      "/kaggle/input/2021-ml-tp4/test/0078.avi\n",
      "/kaggle/input/2021-ml-tp4/test/0009.avi\n",
      "/kaggle/input/2021-ml-tp4/test/0289.avi\n",
      "/kaggle/input/2021-ml-tp4/test/0312.avi\n",
      "/kaggle/input/2021-ml-tp4/test/0053.avi\n",
      "/kaggle/input/2021-ml-tp4/test/0203.avi\n",
      "/kaggle/input/2021-ml-tp4/test/0371.avi\n",
      "/kaggle/input/2021-ml-tp4/test/0365.avi\n",
      "/kaggle/input/2021-ml-tp4/test/0273.avi\n",
      "/kaggle/input/2021-ml-tp4/test/0327.avi\n",
      "/kaggle/input/2021-ml-tp4/test/0459.avi\n",
      "/kaggle/input/2021-ml-tp4/test/0340.avi\n",
      "/kaggle/input/2021-ml-tp4/test/0218.avi\n",
      "/kaggle/input/2021-ml-tp4/test/0425.avi\n",
      "/kaggle/input/2021-ml-tp4/test/0254.avi\n",
      "/kaggle/input/2021-ml-tp4/test/0296.avi\n",
      "/kaggle/input/2021-ml-tp4/test/0063.avi\n",
      "/kaggle/input/2021-ml-tp4/test/0061.avi\n",
      "/kaggle/input/2021-ml-tp4/test/0487.avi\n",
      "/kaggle/input/2021-ml-tp4/test/0127.avi\n",
      "/kaggle/input/2021-ml-tp4/test/0029.avi\n",
      "/kaggle/input/2021-ml-tp4/test/0492.avi\n",
      "/kaggle/input/2021-ml-tp4/test/0182.avi\n",
      "/kaggle/input/2021-ml-tp4/test/0341.avi\n",
      "/kaggle/input/2021-ml-tp4/test/0350.avi\n",
      "/kaggle/input/2021-ml-tp4/test/0079.avi\n",
      "/kaggle/input/2021-ml-tp4/test/0288.avi\n",
      "/kaggle/input/2021-ml-tp4/test/0277.avi\n",
      "/kaggle/input/2021-ml-tp4/test/0180.avi\n",
      "/kaggle/input/2021-ml-tp4/test/0284.avi\n",
      "/kaggle/input/2021-ml-tp4/test/0110.avi\n",
      "/kaggle/input/2021-ml-tp4/test/0242.avi\n",
      "/kaggle/input/2021-ml-tp4/test/0305.avi\n",
      "/kaggle/input/2021-ml-tp4/test/0470.avi\n",
      "/kaggle/input/2021-ml-tp4/test/0227.avi\n",
      "/kaggle/input/2021-ml-tp4/test/0315.avi\n",
      "/kaggle/input/2021-ml-tp4/test/0456.avi\n",
      "/kaggle/input/2021-ml-tp4/test/0172.avi\n",
      "/kaggle/input/2021-ml-tp4/test/0175.avi\n",
      "/kaggle/input/2021-ml-tp4/test/0251.avi\n",
      "/kaggle/input/2021-ml-tp4/test/0034.avi\n",
      "/kaggle/input/2021-ml-tp4/test/0424.avi\n",
      "/kaggle/input/2021-ml-tp4/test/0085.avi\n",
      "/kaggle/input/2021-ml-tp4/test/0101.avi\n",
      "/kaggle/input/2021-ml-tp4/test/0308.avi\n",
      "/kaggle/input/2021-ml-tp4/test/0249.avi\n",
      "/kaggle/input/2021-ml-tp4/test/0412.avi\n",
      "/kaggle/input/2021-ml-tp4/test/0070.avi\n",
      "/kaggle/input/2021-ml-tp4/test/0411.avi\n",
      "/kaggle/input/2021-ml-tp4/test/0073.avi\n",
      "/kaggle/input/2021-ml-tp4/test/0192.avi\n",
      "/kaggle/input/2021-ml-tp4/test/0276.avi\n",
      "/kaggle/input/2021-ml-tp4/test/0437.avi\n",
      "/kaggle/input/2021-ml-tp4/test/0209.avi\n",
      "/kaggle/input/2021-ml-tp4/test/0297.avi\n",
      "/kaggle/input/2021-ml-tp4/test/0501.avi\n",
      "/kaggle/input/2021-ml-tp4/test/0334.avi\n",
      "/kaggle/input/2021-ml-tp4/test/0153.avi\n",
      "/kaggle/input/2021-ml-tp4/test/0421.avi\n",
      "/kaggle/input/2021-ml-tp4/test/0030.avi\n",
      "/kaggle/input/2021-ml-tp4/test/0337.avi\n",
      "/kaggle/input/2021-ml-tp4/test/0293.avi\n",
      "/kaggle/input/2021-ml-tp4/test/0201.avi\n",
      "/kaggle/input/2021-ml-tp4/test/0220.avi\n",
      "/kaggle/input/2021-ml-tp4/test/0231.avi\n",
      "/kaggle/input/2021-ml-tp4/test/0292.avi\n",
      "/kaggle/input/2021-ml-tp4/test/0164.avi\n",
      "/kaggle/input/2021-ml-tp4/test/0221.avi\n",
      "/kaggle/input/2021-ml-tp4/test/0060.avi\n",
      "/kaggle/input/2021-ml-tp4/test/0038.avi\n",
      "/kaggle/input/2021-ml-tp4/test/0111.avi\n",
      "/kaggle/input/2021-ml-tp4/test/0069.avi\n",
      "/kaggle/input/2021-ml-tp4/test/0207.avi\n",
      "/kaggle/input/2021-ml-tp4/test/0287.avi\n",
      "/kaggle/input/2021-ml-tp4/test/0290.avi\n",
      "/kaggle/input/2021-ml-tp4/test/0092.avi\n",
      "/kaggle/input/2021-ml-tp4/test/0235.avi\n",
      "/kaggle/input/2021-ml-tp4/test/0460.avi\n",
      "/kaggle/input/2021-ml-tp4/test/0059.avi\n",
      "/kaggle/input/2021-ml-tp4/test/0158.avi\n",
      "/kaggle/input/2021-ml-tp4/test/0014.avi\n",
      "/kaggle/input/2021-ml-tp4/test/0451.avi\n",
      "/kaggle/input/2021-ml-tp4/test/0245.avi\n",
      "/kaggle/input/2021-ml-tp4/test/0355.avi\n",
      "/kaggle/input/2021-ml-tp4/test/0156.avi\n",
      "/kaggle/input/2021-ml-tp4/test/0471.avi\n",
      "/kaggle/input/2021-ml-tp4/test/0186.avi\n",
      "/kaggle/input/2021-ml-tp4/test/0329.avi\n",
      "/kaggle/input/2021-ml-tp4/test/0237.avi\n",
      "/kaggle/input/2021-ml-tp4/test/0423.avi\n",
      "/kaggle/input/2021-ml-tp4/test/0432.avi\n",
      "/kaggle/input/2021-ml-tp4/test/0033.avi\n",
      "/kaggle/input/2021-ml-tp4/test/0344.avi\n",
      "/kaggle/input/2021-ml-tp4/test/0138.avi\n",
      "/kaggle/input/2021-ml-tp4/test/0082.avi\n",
      "/kaggle/input/2021-ml-tp4/test/0216.avi\n",
      "/kaggle/input/2021-ml-tp4/test/0121.avi\n",
      "/kaggle/input/2021-ml-tp4/test/0377.avi\n",
      "/kaggle/input/2021-ml-tp4/test/0406.avi\n",
      "/kaggle/input/2021-ml-tp4/test/0019.avi\n",
      "/kaggle/input/2021-ml-tp4/test/0020.avi\n",
      "/kaggle/input/2021-ml-tp4/test/0390.avi\n",
      "/kaggle/input/2021-ml-tp4/test/0303.avi\n",
      "/kaggle/input/2021-ml-tp4/test/0310.avi\n",
      "/kaggle/input/2021-ml-tp4/train/0261.avi\n",
      "/kaggle/input/2021-ml-tp4/train/1266.avi\n",
      "/kaggle/input/2021-ml-tp4/train/1560.avi\n",
      "/kaggle/input/2021-ml-tp4/train/0589.avi\n",
      "/kaggle/input/2021-ml-tp4/train/1316.avi\n",
      "/kaggle/input/2021-ml-tp4/train/0933.avi\n",
      "/kaggle/input/2021-ml-tp4/train/0435.avi\n",
      "/kaggle/input/2021-ml-tp4/train/1612.avi\n",
      "/kaggle/input/2021-ml-tp4/train/1367.avi\n",
      "/kaggle/input/2021-ml-tp4/train/1828.avi\n",
      "/kaggle/input/2021-ml-tp4/train/0586.avi\n",
      "/kaggle/input/2021-ml-tp4/train/1582.avi\n",
      "/kaggle/input/2021-ml-tp4/train/1530.avi\n",
      "/kaggle/input/2021-ml-tp4/train/1220.avi\n",
      "/kaggle/input/2021-ml-tp4/train/0309.avi\n",
      "/kaggle/input/2021-ml-tp4/train/1245.avi\n",
      "/kaggle/input/2021-ml-tp4/train/0737.avi\n",
      "/kaggle/input/2021-ml-tp4/train/1834.avi\n",
      "/kaggle/input/2021-ml-tp4/train/0632.avi\n",
      "/kaggle/input/2021-ml-tp4/train/1882.avi\n",
      "/kaggle/input/2021-ml-tp4/train/0944.avi\n",
      "/kaggle/input/2021-ml-tp4/train/0039.avi\n",
      "/kaggle/input/2021-ml-tp4/train/1672.avi\n",
      "/kaggle/input/2021-ml-tp4/train/1700.avi\n",
      "/kaggle/input/2021-ml-tp4/train/0753.avi\n",
      "/kaggle/input/2021-ml-tp4/train/0162.avi\n",
      "/kaggle/input/2021-ml-tp4/train/1614.avi\n",
      "/kaggle/input/2021-ml-tp4/train/0402.avi\n",
      "/kaggle/input/2021-ml-tp4/train/1824.avi\n",
      "/kaggle/input/2021-ml-tp4/train/1930.avi\n",
      "/kaggle/input/2021-ml-tp4/train/1476.avi\n",
      "/kaggle/input/2021-ml-tp4/train/0255.avi\n",
      "/kaggle/input/2021-ml-tp4/train/0416.avi\n",
      "/kaggle/input/2021-ml-tp4/train/0948.avi\n",
      "/kaggle/input/2021-ml-tp4/train/0354.avi\n",
      "/kaggle/input/2021-ml-tp4/train/1850.avi\n",
      "/kaggle/input/2021-ml-tp4/train/0538.avi\n",
      "/kaggle/input/2021-ml-tp4/train/0486.avi\n",
      "/kaggle/input/2021-ml-tp4/train/0113.avi\n",
      "/kaggle/input/2021-ml-tp4/train/0568.avi\n",
      "/kaggle/input/2021-ml-tp4/train/0106.avi\n",
      "/kaggle/input/2021-ml-tp4/train/1438.avi\n",
      "/kaggle/input/2021-ml-tp4/train/1926.avi\n",
      "/kaggle/input/2021-ml-tp4/train/0853.avi\n",
      "/kaggle/input/2021-ml-tp4/train/1261.avi\n",
      "/kaggle/input/2021-ml-tp4/train/1830.avi\n",
      "/kaggle/input/2021-ml-tp4/train/1021.avi\n",
      "/kaggle/input/2021-ml-tp4/train/1809.avi\n",
      "/kaggle/input/2021-ml-tp4/train/1617.avi\n",
      "/kaggle/input/2021-ml-tp4/train/1532.avi\n",
      "/kaggle/input/2021-ml-tp4/train/0546.avi\n",
      "/kaggle/input/2021-ml-tp4/train/1802.avi\n",
      "/kaggle/input/2021-ml-tp4/train/0291.avi\n",
      "/kaggle/input/2021-ml-tp4/train/0407.avi\n",
      "/kaggle/input/2021-ml-tp4/train/1490.avi\n",
      "/kaggle/input/2021-ml-tp4/train/0247.avi\n",
      "/kaggle/input/2021-ml-tp4/train/1103.avi\n",
      "/kaggle/input/2021-ml-tp4/train/0442.avi\n",
      "/kaggle/input/2021-ml-tp4/train/0894.avi\n",
      "/kaggle/input/2021-ml-tp4/train/1744.avi\n",
      "/kaggle/input/2021-ml-tp4/train/1401.avi\n",
      "/kaggle/input/2021-ml-tp4/train/1577.avi\n",
      "/kaggle/input/2021-ml-tp4/train/1980.avi\n",
      "/kaggle/input/2021-ml-tp4/train/1825.avi\n",
      "/kaggle/input/2021-ml-tp4/train/1300.avi\n",
      "/kaggle/input/2021-ml-tp4/train/1329.avi\n",
      "/kaggle/input/2021-ml-tp4/train/1934.avi\n",
      "/kaggle/input/2021-ml-tp4/train/0728.avi\n",
      "/kaggle/input/2021-ml-tp4/train/0193.avi\n",
      "/kaggle/input/2021-ml-tp4/train/0644.avi\n",
      "/kaggle/input/2021-ml-tp4/train/1015.avi\n",
      "/kaggle/input/2021-ml-tp4/train/1994.avi\n",
      "/kaggle/input/2021-ml-tp4/train/0044.avi\n",
      "/kaggle/input/2021-ml-tp4/train/0136.avi\n",
      "/kaggle/input/2021-ml-tp4/train/0332.avi\n",
      "/kaggle/input/2021-ml-tp4/train/0775.avi\n",
      "/kaggle/input/2021-ml-tp4/train/0311.avi\n",
      "/kaggle/input/2021-ml-tp4/train/0386.avi\n",
      "/kaggle/input/2021-ml-tp4/train/1889.avi\n",
      "/kaggle/input/2021-ml-tp4/train/1076.avi\n",
      "/kaggle/input/2021-ml-tp4/train/0476.avi\n",
      "/kaggle/input/2021-ml-tp4/train/1234.avi\n",
      "/kaggle/input/2021-ml-tp4/train/0464.avi\n",
      "/kaggle/input/2021-ml-tp4/train/1645.avi\n",
      "/kaggle/input/2021-ml-tp4/train/0204.avi\n",
      "/kaggle/input/2021-ml-tp4/train/0346.avi\n",
      "/kaggle/input/2021-ml-tp4/train/1709.avi\n",
      "/kaggle/input/2021-ml-tp4/train/1651.avi\n",
      "/kaggle/input/2021-ml-tp4/train/1547.avi\n",
      "/kaggle/input/2021-ml-tp4/train/1843.avi\n",
      "/kaggle/input/2021-ml-tp4/train/1056.avi\n",
      "/kaggle/input/2021-ml-tp4/train/1418.avi\n",
      "/kaggle/input/2021-ml-tp4/train/0649.avi\n",
      "/kaggle/input/2021-ml-tp4/train/1810.avi\n",
      "/kaggle/input/2021-ml-tp4/train/0560.avi\n",
      "/kaggle/input/2021-ml-tp4/train/0326.avi\n",
      "/kaggle/input/2021-ml-tp4/train/1183.avi\n",
      "/kaggle/input/2021-ml-tp4/train/1511.avi\n",
      "/kaggle/input/2021-ml-tp4/train/1610.avi\n",
      "/kaggle/input/2021-ml-tp4/train/0056.avi\n",
      "/kaggle/input/2021-ml-tp4/train/0462.avi\n",
      "/kaggle/input/2021-ml-tp4/train/0815.avi\n",
      "/kaggle/input/2021-ml-tp4/train/1881.avi\n",
      "/kaggle/input/2021-ml-tp4/train/0130.avi\n",
      "/kaggle/input/2021-ml-tp4/train/1197.avi\n",
      "/kaggle/input/2021-ml-tp4/train/0993.avi\n",
      "/kaggle/input/2021-ml-tp4/train/1335.avi\n",
      "/kaggle/input/2021-ml-tp4/train/0630.avi\n",
      "/kaggle/input/2021-ml-tp4/train/0349.avi\n",
      "/kaggle/input/2021-ml-tp4/train/1950.avi\n",
      "/kaggle/input/2021-ml-tp4/train/1727.avi\n",
      "/kaggle/input/2021-ml-tp4/train/0240.avi\n",
      "/kaggle/input/2021-ml-tp4/train/1800.avi\n",
      "/kaggle/input/2021-ml-tp4/train/0727.avi\n",
      "/kaggle/input/2021-ml-tp4/train/1710.avi\n",
      "/kaggle/input/2021-ml-tp4/train/0831.avi\n",
      "/kaggle/input/2021-ml-tp4/train/1903.avi\n",
      "/kaggle/input/2021-ml-tp4/train/1231.avi\n",
      "/kaggle/input/2021-ml-tp4/train/0980.avi\n",
      "/kaggle/input/2021-ml-tp4/train/1155.avi\n",
      "/kaggle/input/2021-ml-tp4/train/1354.avi\n",
      "/kaggle/input/2021-ml-tp4/train/0037.avi\n",
      "/kaggle/input/2021-ml-tp4/train/0088.avi\n",
      "/kaggle/input/2021-ml-tp4/train/1687.avi\n",
      "/kaggle/input/2021-ml-tp4/train/0196.avi\n",
      "/kaggle/input/2021-ml-tp4/train/0730.avi\n",
      "/kaggle/input/2021-ml-tp4/train/0963.avi\n",
      "/kaggle/input/2021-ml-tp4/train/1909.avi\n",
      "/kaggle/input/2021-ml-tp4/train/0854.avi\n",
      "/kaggle/input/2021-ml-tp4/train/0953.avi\n",
      "/kaggle/input/2021-ml-tp4/train/1031.avi\n",
      "/kaggle/input/2021-ml-tp4/train/0208.avi\n",
      "/kaggle/input/2021-ml-tp4/train/0269.avi\n",
      "/kaggle/input/2021-ml-tp4/train/0496.avi\n",
      "/kaggle/input/2021-ml-tp4/train/0659.avi\n",
      "/kaggle/input/2021-ml-tp4/train/1960.avi\n",
      "/kaggle/input/2021-ml-tp4/train/0267.avi\n",
      "/kaggle/input/2021-ml-tp4/train/1427.avi\n",
      "/kaggle/input/2021-ml-tp4/train/1201.avi\n",
      "/kaggle/input/2021-ml-tp4/train/1376.avi\n",
      "/kaggle/input/2021-ml-tp4/train/0188.avi\n",
      "/kaggle/input/2021-ml-tp4/train/1776.avi\n",
      "/kaggle/input/2021-ml-tp4/train/1276.avi\n",
      "/kaggle/input/2021-ml-tp4/train/0798.avi\n",
      "/kaggle/input/2021-ml-tp4/train/0680.avi\n",
      "/kaggle/input/2021-ml-tp4/train/0824.avi\n",
      "/kaggle/input/2021-ml-tp4/train/0275.avi\n",
      "/kaggle/input/2021-ml-tp4/train/0690.avi\n",
      "/kaggle/input/2021-ml-tp4/train/0359.avi\n",
      "/kaggle/input/2021-ml-tp4/train/0074.avi\n",
      "/kaggle/input/2021-ml-tp4/train/1414.avi\n",
      "/kaggle/input/2021-ml-tp4/train/1971.avi\n",
      "/kaggle/input/2021-ml-tp4/train/1922.avi\n",
      "/kaggle/input/2021-ml-tp4/train/1422.avi\n",
      "/kaggle/input/2021-ml-tp4/train/0936.avi\n",
      "/kaggle/input/2021-ml-tp4/train/0968.avi\n",
      "/kaggle/input/2021-ml-tp4/train/1336.avi\n",
      "/kaggle/input/2021-ml-tp4/train/0362.avi\n",
      "/kaggle/input/2021-ml-tp4/train/0243.avi\n",
      "/kaggle/input/2021-ml-tp4/train/1564.avi\n",
      "/kaggle/input/2021-ml-tp4/train/0530.avi\n",
      "/kaggle/input/2021-ml-tp4/train/0506.avi\n",
      "/kaggle/input/2021-ml-tp4/train/0413.avi\n",
      "/kaggle/input/2021-ml-tp4/train/0499.avi\n",
      "/kaggle/input/2021-ml-tp4/train/1738.avi\n",
      "/kaggle/input/2021-ml-tp4/train/1579.avi\n",
      "/kaggle/input/2021-ml-tp4/train/0177.avi\n",
      "/kaggle/input/2021-ml-tp4/train/1325.avi\n",
      "/kaggle/input/2021-ml-tp4/train/1447.avi\n",
      "/kaggle/input/2021-ml-tp4/train/1920.avi\n",
      "/kaggle/input/2021-ml-tp4/train/1762.avi\n",
      "/kaggle/input/2021-ml-tp4/train/1590.avi\n",
      "/kaggle/input/2021-ml-tp4/train/0790.avi\n",
      "/kaggle/input/2021-ml-tp4/train/0250.avi\n",
      "/kaggle/input/2021-ml-tp4/train/0093.avi\n",
      "/kaggle/input/2021-ml-tp4/train/1112.avi\n",
      "/kaggle/input/2021-ml-tp4/train/1345.avi\n",
      "/kaggle/input/2021-ml-tp4/train/1682.avi\n",
      "/kaggle/input/2021-ml-tp4/train/0591.avi\n",
      "/kaggle/input/2021-ml-tp4/train/1032.avi\n",
      "/kaggle/input/2021-ml-tp4/train/0759.avi\n",
      "/kaggle/input/2021-ml-tp4/train/0465.avi\n",
      "/kaggle/input/2021-ml-tp4/train/1310.avi\n",
      "/kaggle/input/2021-ml-tp4/train/1164.avi\n",
      "/kaggle/input/2021-ml-tp4/train/0098.avi\n",
      "/kaggle/input/2021-ml-tp4/train/1676.avi\n",
      "/kaggle/input/2021-ml-tp4/train/1570.avi\n",
      "/kaggle/input/2021-ml-tp4/train/0057.avi\n",
      "/kaggle/input/2021-ml-tp4/train/1443.avi\n",
      "/kaggle/input/2021-ml-tp4/train/0574.avi\n",
      "/kaggle/input/2021-ml-tp4/train/0114.avi\n",
      "/kaggle/input/2021-ml-tp4/train/0895.avi\n",
      "/kaggle/input/2021-ml-tp4/train/0755.avi\n",
      "/kaggle/input/2021-ml-tp4/train/1020.avi\n",
      "/kaggle/input/2021-ml-tp4/train/0210.avi\n",
      "/kaggle/input/2021-ml-tp4/train/1238.avi\n",
      "/kaggle/input/2021-ml-tp4/train/0433.avi\n",
      "/kaggle/input/2021-ml-tp4/train/0378.avi\n",
      "/kaggle/input/2021-ml-tp4/train/1929.avi\n",
      "/kaggle/input/2021-ml-tp4/train/1246.avi\n",
      "/kaggle/input/2021-ml-tp4/train/0405.avi\n",
      "/kaggle/input/2021-ml-tp4/train/1137.avi\n",
      "/kaggle/input/2021-ml-tp4/train/1052.avi\n",
      "/kaggle/input/2021-ml-tp4/train/0763.avi\n",
      "/kaggle/input/2021-ml-tp4/train/0946.avi\n",
      "/kaggle/input/2021-ml-tp4/train/0872.avi\n",
      "/kaggle/input/2021-ml-tp4/train/0373.avi\n",
      "/kaggle/input/2021-ml-tp4/train/1295.avi\n",
      "/kaggle/input/2021-ml-tp4/train/1864.avi\n",
      "/kaggle/input/2021-ml-tp4/train/0324.avi\n",
      "/kaggle/input/2021-ml-tp4/train/0514.avi\n",
      "/kaggle/input/2021-ml-tp4/train/0375.avi\n",
      "/kaggle/input/2021-ml-tp4/train/0097.avi\n",
      "/kaggle/input/2021-ml-tp4/train/1879.avi\n",
      "/kaggle/input/2021-ml-tp4/train/0972.avi\n",
      "/kaggle/input/2021-ml-tp4/train/1441.avi\n",
      "/kaggle/input/2021-ml-tp4/train/1943.avi\n",
      "/kaggle/input/2021-ml-tp4/train/0623.avi\n",
      "/kaggle/input/2021-ml-tp4/train/0067.avi\n",
      "/kaggle/input/2021-ml-tp4/train/0628.avi\n",
      "/kaggle/input/2021-ml-tp4/train/1555.avi\n",
      "/kaggle/input/2021-ml-tp4/train/1778.avi\n",
      "/kaggle/input/2021-ml-tp4/train/1589.avi\n",
      "/kaggle/input/2021-ml-tp4/train/0118.avi\n",
      "/kaggle/input/2021-ml-tp4/train/1307.avi\n",
      "/kaggle/input/2021-ml-tp4/train/0608.avi\n",
      "/kaggle/input/2021-ml-tp4/train/1254.avi\n",
      "/kaggle/input/2021-ml-tp4/train/1789.avi\n",
      "/kaggle/input/2021-ml-tp4/train/1007.avi\n",
      "/kaggle/input/2021-ml-tp4/train/0751.avi\n",
      "/kaggle/input/2021-ml-tp4/train/0708.avi\n",
      "/kaggle/input/2021-ml-tp4/train/1148.avi\n",
      "/kaggle/input/2021-ml-tp4/train/1856.avi\n",
      "/kaggle/input/2021-ml-tp4/train/0383.avi\n",
      "/kaggle/input/2021-ml-tp4/train/1332.avi\n",
      "/kaggle/input/2021-ml-tp4/train/0091.avi\n",
      "/kaggle/input/2021-ml-tp4/train/0879.avi\n",
      "/kaggle/input/2021-ml-tp4/train/1548.avi\n",
      "/kaggle/input/2021-ml-tp4/train/0080.avi\n",
      "/kaggle/input/2021-ml-tp4/train/1062.avi\n",
      "/kaggle/input/2021-ml-tp4/train/1167.avi\n",
      "/kaggle/input/2021-ml-tp4/train/1121.avi\n",
      "/kaggle/input/2021-ml-tp4/train/0090.avi\n",
      "/kaggle/input/2021-ml-tp4/train/0717.avi\n",
      "/kaggle/input/2021-ml-tp4/train/0859.avi\n",
      "/kaggle/input/2021-ml-tp4/train/1820.avi\n",
      "/kaggle/input/2021-ml-tp4/train/0436.avi\n",
      "/kaggle/input/2021-ml-tp4/train/0857.avi\n",
      "/kaggle/input/2021-ml-tp4/train/0047.avi\n",
      "/kaggle/input/2021-ml-tp4/train/1064.avi\n",
      "/kaggle/input/2021-ml-tp4/train/1421.avi\n",
      "/kaggle/input/2021-ml-tp4/train/1504.avi\n",
      "/kaggle/input/2021-ml-tp4/train/0860.avi\n",
      "/kaggle/input/2021-ml-tp4/train/0132.avi\n",
      "/kaggle/input/2021-ml-tp4/train/1263.avi\n",
      "/kaggle/input/2021-ml-tp4/train/0957.avi\n",
      "/kaggle/input/2021-ml-tp4/train/1534.avi\n",
      "/kaggle/input/2021-ml-tp4/train/1686.avi\n",
      "/kaggle/input/2021-ml-tp4/train/0814.avi\n",
      "/kaggle/input/2021-ml-tp4/train/0449.avi\n",
      "/kaggle/input/2021-ml-tp4/train/1262.avi\n",
      "/kaggle/input/2021-ml-tp4/train/1510.avi\n",
      "/kaggle/input/2021-ml-tp4/train/1657.avi\n",
      "/kaggle/input/2021-ml-tp4/train/0621.avi\n",
      "/kaggle/input/2021-ml-tp4/train/0122.avi\n",
      "/kaggle/input/2021-ml-tp4/train/1108.avi\n",
      "/kaggle/input/2021-ml-tp4/train/1134.avi\n",
      "/kaggle/input/2021-ml-tp4/train/1145.avi\n",
      "/kaggle/input/2021-ml-tp4/train/1213.avi\n",
      "/kaggle/input/2021-ml-tp4/train/0503.avi\n",
      "/kaggle/input/2021-ml-tp4/train/1095.avi\n",
      "/kaggle/input/2021-ml-tp4/train/1328.avi\n",
      "/kaggle/input/2021-ml-tp4/train/1559.avi\n",
      "/kaggle/input/2021-ml-tp4/train/0888.avi\n",
      "/kaggle/input/2021-ml-tp4/train/1488.avi\n",
      "/kaggle/input/2021-ml-tp4/train/1623.avi\n",
      "/kaggle/input/2021-ml-tp4/train/0524.avi\n",
      "/kaggle/input/2021-ml-tp4/train/1857.avi\n",
      "/kaggle/input/2021-ml-tp4/train/1273.avi\n",
      "/kaggle/input/2021-ml-tp4/train/0585.avi\n",
      "/kaggle/input/2021-ml-tp4/train/1935.avi\n",
      "/kaggle/input/2021-ml-tp4/train/0096.avi\n",
      "/kaggle/input/2021-ml-tp4/train/0238.avi\n",
      "/kaggle/input/2021-ml-tp4/train/1470.avi\n",
      "/kaggle/input/2021-ml-tp4/train/1693.avi\n",
      "/kaggle/input/2021-ml-tp4/train/1081.avi\n",
      "/kaggle/input/2021-ml-tp4/train/1514.avi\n",
      "/kaggle/input/2021-ml-tp4/train/0912.avi\n",
      "/kaggle/input/2021-ml-tp4/train/0225.avi\n",
      "/kaggle/input/2021-ml-tp4/train/1182.avi\n",
      "/kaggle/input/2021-ml-tp4/train/0185.avi\n",
      "/kaggle/input/2021-ml-tp4/train/0969.avi\n",
      "/kaggle/input/2021-ml-tp4/train/1053.avi\n",
      "/kaggle/input/2021-ml-tp4/train/1371.avi\n",
      "/kaggle/input/2021-ml-tp4/train/1428.avi\n",
      "/kaggle/input/2021-ml-tp4/train/1311.avi\n",
      "/kaggle/input/2021-ml-tp4/train/0588.avi\n",
      "/kaggle/input/2021-ml-tp4/train/0726.avi\n",
      "/kaggle/input/2021-ml-tp4/train/1080.avi\n",
      "/kaggle/input/2021-ml-tp4/train/0819.avi\n",
      "/kaggle/input/2021-ml-tp4/train/1114.avi\n",
      "/kaggle/input/2021-ml-tp4/train/1225.avi\n",
      "/kaggle/input/2021-ml-tp4/train/0477.avi\n",
      "/kaggle/input/2021-ml-tp4/train/1572.avi\n",
      "/kaggle/input/2021-ml-tp4/train/1093.avi\n",
      "/kaggle/input/2021-ml-tp4/train/0139.avi\n",
      "/kaggle/input/2021-ml-tp4/train/1536.avi\n",
      "/kaggle/input/2021-ml-tp4/train/0575.avi\n",
      "/kaggle/input/2021-ml-tp4/train/1533.avi\n",
      "/kaggle/input/2021-ml-tp4/train/1159.avi\n",
      "/kaggle/input/2021-ml-tp4/train/0785.avi\n",
      "/kaggle/input/2021-ml-tp4/train/1024.avi\n",
      "/kaggle/input/2021-ml-tp4/train/1274.avi\n",
      "/kaggle/input/2021-ml-tp4/train/0505.avi\n",
      "/kaggle/input/2021-ml-tp4/train/1692.avi\n",
      "/kaggle/input/2021-ml-tp4/train/1853.avi\n",
      "/kaggle/input/2021-ml-tp4/train/0222.avi\n",
      "/kaggle/input/2021-ml-tp4/train/0294.avi\n",
      "/kaggle/input/2021-ml-tp4/train/1918.avi\n",
      "/kaggle/input/2021-ml-tp4/train/0742.avi\n",
      "/kaggle/input/2021-ml-tp4/train/0257.avi\n",
      "/kaggle/input/2021-ml-tp4/train/0123.avi\n",
      "/kaggle/input/2021-ml-tp4/train/1575.avi\n",
      "/kaggle/input/2021-ml-tp4/train/0828.avi\n",
      "/kaggle/input/2021-ml-tp4/train/1837.avi\n",
      "/kaggle/input/2021-ml-tp4/train/0181.avi\n",
      "/kaggle/input/2021-ml-tp4/train/1860.avi\n",
      "/kaggle/input/2021-ml-tp4/train/0611.avi\n",
      "/kaggle/input/2021-ml-tp4/train/1925.avi\n",
      "/kaggle/input/2021-ml-tp4/train/1317.avi\n",
      "/kaggle/input/2021-ml-tp4/train/1900.avi\n",
      "/kaggle/input/2021-ml-tp4/train/0915.avi\n",
      "/kaggle/input/2021-ml-tp4/train/1389.avi\n",
      "/kaggle/input/2021-ml-tp4/train/1096.avi\n",
      "/kaggle/input/2021-ml-tp4/train/0806.avi\n",
      "/kaggle/input/2021-ml-tp4/train/1023.avi\n",
      "/kaggle/input/2021-ml-tp4/train/0616.avi\n",
      "/kaggle/input/2021-ml-tp4/train/0200.avi\n",
      "/kaggle/input/2021-ml-tp4/train/1119.avi\n",
      "/kaggle/input/2021-ml-tp4/train/1411.avi\n",
      "/kaggle/input/2021-ml-tp4/train/0494.avi\n",
      "/kaggle/input/2021-ml-tp4/train/0095.avi\n",
      "/kaggle/input/2021-ml-tp4/train/0498.avi\n",
      "/kaggle/input/2021-ml-tp4/train/1296.avi\n",
      "/kaggle/input/2021-ml-tp4/train/1883.avi\n",
      "/kaggle/input/2021-ml-tp4/train/1659.avi\n",
      "/kaggle/input/2021-ml-tp4/train/0904.avi\n",
      "/kaggle/input/2021-ml-tp4/train/0382.avi\n",
      "/kaggle/input/2021-ml-tp4/train/0947.avi\n",
      "/kaggle/input/2021-ml-tp4/train/0108.avi\n",
      "/kaggle/input/2021-ml-tp4/train/0869.avi\n",
      "/kaggle/input/2021-ml-tp4/train/0799.avi\n",
      "/kaggle/input/2021-ml-tp4/train/0194.avi\n",
      "/kaggle/input/2021-ml-tp4/train/1036.avi\n",
      "/kaggle/input/2021-ml-tp4/train/1399.avi\n",
      "/kaggle/input/2021-ml-tp4/train/0901.avi\n",
      "/kaggle/input/2021-ml-tp4/train/0046.avi\n",
      "/kaggle/input/2021-ml-tp4/train/1100.avi\n",
      "/kaggle/input/2021-ml-tp4/train/0217.avi\n",
      "/kaggle/input/2021-ml-tp4/train/1665.avi\n",
      "/kaggle/input/2021-ml-tp4/train/1357.avi\n",
      "/kaggle/input/2021-ml-tp4/train/1002.avi\n",
      "/kaggle/input/2021-ml-tp4/train/0941.avi\n",
      "/kaggle/input/2021-ml-tp4/train/0374.avi\n",
      "/kaggle/input/2021-ml-tp4/train/1558.avi\n",
      "/kaggle/input/2021-ml-tp4/train/0010.avi\n",
      "/kaggle/input/2021-ml-tp4/train/1468.avi\n",
      "/kaggle/input/2021-ml-tp4/train/1374.avi\n",
      "/kaggle/input/2021-ml-tp4/train/0335.avi\n",
      "/kaggle/input/2021-ml-tp4/train/1685.avi\n",
      "/kaggle/input/2021-ml-tp4/train/1400.avi\n",
      "/kaggle/input/2021-ml-tp4/train/1211.avi\n",
      "/kaggle/input/2021-ml-tp4/train/1887.avi\n",
      "/kaggle/input/2021-ml-tp4/train/0696.avi\n",
      "/kaggle/input/2021-ml-tp4/train/0392.avi\n",
      "/kaggle/input/2021-ml-tp4/train/1249.avi\n",
      "/kaggle/input/2021-ml-tp4/train/1941.avi\n",
      "/kaggle/input/2021-ml-tp4/train/0463.avi\n",
      "/kaggle/input/2021-ml-tp4/train/0735.avi\n",
      "/kaggle/input/2021-ml-tp4/train/1602.avi\n",
      "/kaggle/input/2021-ml-tp4/train/1493.avi\n",
      "/kaggle/input/2021-ml-tp4/train/0062.avi\n",
      "/kaggle/input/2021-ml-tp4/train/0385.avi\n",
      "/kaggle/input/2021-ml-tp4/train/0684.avi\n",
      "/kaggle/input/2021-ml-tp4/train/1113.avi\n",
      "/kaggle/input/2021-ml-tp4/train/0801.avi\n",
      "/kaggle/input/2021-ml-tp4/train/0171.avi\n",
      "/kaggle/input/2021-ml-tp4/train/1320.avi\n",
      "/kaggle/input/2021-ml-tp4/train/0952.avi\n",
      "/kaggle/input/2021-ml-tp4/train/0935.avi\n",
      "/kaggle/input/2021-ml-tp4/train/0124.avi\n",
      "/kaggle/input/2021-ml-tp4/train/0389.avi\n",
      "/kaggle/input/2021-ml-tp4/train/1719.avi\n",
      "/kaggle/input/2021-ml-tp4/train/1091.avi\n",
      "/kaggle/input/2021-ml-tp4/train/0148.avi\n",
      "/kaggle/input/2021-ml-tp4/train/1075.avi\n",
      "/kaggle/input/2021-ml-tp4/train/0906.avi\n",
      "/kaggle/input/2021-ml-tp4/train/0893.avi\n",
      "/kaggle/input/2021-ml-tp4/train/0415.avi\n",
      "/kaggle/input/2021-ml-tp4/train/1791.avi\n",
      "/kaggle/input/2021-ml-tp4/train/0537.avi\n",
      "/kaggle/input/2021-ml-tp4/train/1933.avi\n",
      "/kaggle/input/2021-ml-tp4/train/0903.avi\n",
      "/kaggle/input/2021-ml-tp4/train/0271.avi\n",
      "/kaggle/input/2021-ml-tp4/train/1822.avi\n",
      "/kaggle/input/2021-ml-tp4/train/0981.avi\n",
      "/kaggle/input/2021-ml-tp4/train/1131.avi\n",
      "/kaggle/input/2021-ml-tp4/train/1919.avi\n",
      "/kaggle/input/2021-ml-tp4/train/0664.avi\n",
      "/kaggle/input/2021-ml-tp4/train/1725.avi\n",
      "/kaggle/input/2021-ml-tp4/train/0495.avi\n",
      "/kaggle/input/2021-ml-tp4/train/1370.avi\n",
      "/kaggle/input/2021-ml-tp4/train/1156.avi\n",
      "/kaggle/input/2021-ml-tp4/train/0527.avi\n",
      "/kaggle/input/2021-ml-tp4/train/1458.avi\n",
      "/kaggle/input/2021-ml-tp4/train/0393.avi\n",
      "/kaggle/input/2021-ml-tp4/train/1880.avi\n",
      "/kaggle/input/2021-ml-tp4/train/1446.avi\n",
      "/kaggle/input/2021-ml-tp4/train/0356.avi\n",
      "/kaggle/input/2021-ml-tp4/train/0780.avi\n",
      "/kaggle/input/2021-ml-tp4/train/1050.avi\n",
      "/kaggle/input/2021-ml-tp4/train/1768.avi\n",
      "/kaggle/input/2021-ml-tp4/train/0823.avi\n",
      "/kaggle/input/2021-ml-tp4/train/0024.avi\n",
      "/kaggle/input/2021-ml-tp4/train/0691.avi\n",
      "/kaggle/input/2021-ml-tp4/train/1471.avi\n",
      "/kaggle/input/2021-ml-tp4/train/0228.avi\n",
      "/kaggle/input/2021-ml-tp4/train/1006.avi\n",
      "/kaggle/input/2021-ml-tp4/train/1492.avi\n",
      "/kaggle/input/2021-ml-tp4/train/0478.avi\n",
      "/kaggle/input/2021-ml-tp4/train/0409.avi\n",
      "/kaggle/input/2021-ml-tp4/train/0282.avi\n",
      "/kaggle/input/2021-ml-tp4/train/0802.avi\n",
      "/kaggle/input/2021-ml-tp4/train/1171.avi\n",
      "/kaggle/input/2021-ml-tp4/train/0376.avi\n",
      "/kaggle/input/2021-ml-tp4/train/1565.avi\n",
      "/kaggle/input/2021-ml-tp4/train/1520.avi\n",
      "/kaggle/input/2021-ml-tp4/train/0418.avi\n",
      "/kaggle/input/2021-ml-tp4/train/0134.avi\n",
      "/kaggle/input/2021-ml-tp4/train/0855.avi\n",
      "/kaggle/input/2021-ml-tp4/train/1016.avi\n",
      "/kaggle/input/2021-ml-tp4/train/1699.avi\n",
      "/kaggle/input/2021-ml-tp4/train/0234.avi\n",
      "/kaggle/input/2021-ml-tp4/train/0094.avi\n",
      "/kaggle/input/2021-ml-tp4/train/1664.avi\n",
      "/kaggle/input/2021-ml-tp4/train/0187.avi\n",
      "/kaggle/input/2021-ml-tp4/train/1382.avi\n",
      "/kaggle/input/2021-ml-tp4/train/0580.avi\n",
      "/kaggle/input/2021-ml-tp4/train/2019.avi\n",
      "/kaggle/input/2021-ml-tp4/train/1502.avi\n",
      "/kaggle/input/2021-ml-tp4/train/1938.avi\n",
      "/kaggle/input/2021-ml-tp4/train/1946.avi\n",
      "/kaggle/input/2021-ml-tp4/train/0520.avi\n",
      "/kaggle/input/2021-ml-tp4/train/0821.avi\n",
      "/kaggle/input/2021-ml-tp4/train/0847.avi\n",
      "/kaggle/input/2021-ml-tp4/train/0322.avi\n",
      "/kaggle/input/2021-ml-tp4/train/0914.avi\n",
      "/kaggle/input/2021-ml-tp4/train/0565.avi\n",
      "/kaggle/input/2021-ml-tp4/train/1878.avi\n",
      "/kaggle/input/2021-ml-tp4/train/1814.avi\n",
      "/kaggle/input/2021-ml-tp4/train/1783.avi\n",
      "/kaggle/input/2021-ml-tp4/train/1035.avi\n",
      "/kaggle/input/2021-ml-tp4/train/0165.avi\n",
      "/kaggle/input/2021-ml-tp4/train/0388.avi\n",
      "/kaggle/input/2021-ml-tp4/train/1718.avi\n",
      "/kaggle/input/2021-ml-tp4/train/1256.avi\n",
      "/kaggle/input/2021-ml-tp4/train/1285.avi\n",
      "/kaggle/input/2021-ml-tp4/train/1601.avi\n",
      "/kaggle/input/2021-ml-tp4/train/1122.avi\n",
      "/kaggle/input/2021-ml-tp4/train/0703.avi\n",
      "/kaggle/input/2021-ml-tp4/train/1758.avi\n",
      "/kaggle/input/2021-ml-tp4/train/0141.avi\n",
      "/kaggle/input/2021-ml-tp4/train/1339.avi\n",
      "/kaggle/input/2021-ml-tp4/train/1232.avi\n",
      "/kaggle/input/2021-ml-tp4/train/0076.avi\n",
      "/kaggle/input/2021-ml-tp4/train/0635.avi\n",
      "/kaggle/input/2021-ml-tp4/train/0922.avi\n",
      "/kaggle/input/2021-ml-tp4/train/0602.avi\n",
      "/kaggle/input/2021-ml-tp4/train/1130.avi\n",
      "/kaggle/input/2021-ml-tp4/train/1517.avi\n",
      "/kaggle/input/2021-ml-tp4/train/0453.avi\n",
      "/kaggle/input/2021-ml-tp4/train/0302.avi\n",
      "/kaggle/input/2021-ml-tp4/train/0958.avi\n",
      "/kaggle/input/2021-ml-tp4/train/0773.avi\n",
      "/kaggle/input/2021-ml-tp4/train/0381.avi\n",
      "/kaggle/input/2021-ml-tp4/train/1111.avi\n",
      "/kaggle/input/2021-ml-tp4/train/0549.avi\n",
      "/kaggle/input/2021-ml-tp4/train/0667.avi\n",
      "/kaggle/input/2021-ml-tp4/train/1609.avi\n",
      "/kaggle/input/2021-ml-tp4/train/0983.avi\n",
      "/kaggle/input/2021-ml-tp4/train/0367.avi\n",
      "/kaggle/input/2021-ml-tp4/train/0191.avi\n",
      "/kaggle/input/2021-ml-tp4/train/0338.avi\n",
      "/kaggle/input/2021-ml-tp4/train/0031.avi\n",
      "/kaggle/input/2021-ml-tp4/train/0125.avi\n",
      "/kaggle/input/2021-ml-tp4/train/0396.avi\n",
      "/kaggle/input/2021-ml-tp4/train/0321.avi\n",
      "/kaggle/input/2021-ml-tp4/train/0626.avi\n",
      "/kaggle/input/2021-ml-tp4/train/0281.avi\n",
      "/kaggle/input/2021-ml-tp4/train/1478.avi\n",
      "/kaggle/input/2021-ml-tp4/train/0353.avi\n",
      "/kaggle/input/2021-ml-tp4/train/0757.avi\n",
      "/kaggle/input/2021-ml-tp4/train/1677.avi\n",
      "/kaggle/input/2021-ml-tp4/train/1862.avi\n",
      "/kaggle/input/2021-ml-tp4/train/0241.avi\n",
      "/kaggle/input/2021-ml-tp4/train/1037.avi\n",
      "/kaggle/input/2021-ml-tp4/train/1544.avi\n",
      "/kaggle/input/2021-ml-tp4/train/1747.avi\n",
      "/kaggle/input/2021-ml-tp4/train/2010.avi\n",
      "/kaggle/input/2021-ml-tp4/train/0685.avi\n",
      "/kaggle/input/2021-ml-tp4/train/1869.avi\n",
      "/kaggle/input/2021-ml-tp4/train/1116.avi\n",
      "/kaggle/input/2021-ml-tp4/train/0810.avi\n",
      "/kaggle/input/2021-ml-tp4/train/1369.avi\n",
      "/kaggle/input/2021-ml-tp4/train/0874.avi\n",
      "/kaggle/input/2021-ml-tp4/train/1607.avi\n",
      "/kaggle/input/2021-ml-tp4/train/1519.avi\n",
      "/kaggle/input/2021-ml-tp4/train/0488.avi\n",
      "/kaggle/input/2021-ml-tp4/train/0518.avi\n",
      "/kaggle/input/2021-ml-tp4/train/0161.avi\n",
      "/kaggle/input/2021-ml-tp4/train/0129.avi\n",
      "/kaggle/input/2021-ml-tp4/train/0982.avi\n",
      "/kaggle/input/2021-ml-tp4/train/1185.avi\n",
      "/kaggle/input/2021-ml-tp4/train/0259.avi\n",
      "/kaggle/input/2021-ml-tp4/train/2007.avi\n",
      "/kaggle/input/2021-ml-tp4/train/0842.avi\n",
      "/kaggle/input/2021-ml-tp4/train/1505.avi\n",
      "/kaggle/input/2021-ml-tp4/train/1305.avi\n",
      "/kaggle/input/2021-ml-tp4/train/1691.avi\n",
      "/kaggle/input/2021-ml-tp4/train/1060.avi\n",
      "/kaggle/input/2021-ml-tp4/train/1153.avi\n",
      "/kaggle/input/2021-ml-tp4/train/0260.avi\n",
      "/kaggle/input/2021-ml-tp4/train/1952.avi\n",
      "/kaggle/input/2021-ml-tp4/train/1567.avi\n",
      "/kaggle/input/2021-ml-tp4/train/1581.avi\n",
      "/kaggle/input/2021-ml-tp4/train/1598.avi\n",
      "/kaggle/input/2021-ml-tp4/train/0695.avi\n",
      "/kaggle/input/2021-ml-tp4/train/0115.avi\n",
      "/kaggle/input/2021-ml-tp4/train/0931.avi\n",
      "/kaggle/input/2021-ml-tp4/train/0485.avi\n",
      "/kaggle/input/2021-ml-tp4/train/0811.avi\n",
      "/kaggle/input/2021-ml-tp4/train/0563.avi\n",
      "/kaggle/input/2021-ml-tp4/train/1761.avi\n",
      "/kaggle/input/2021-ml-tp4/train/1043.avi\n",
      "/kaggle/input/2021-ml-tp4/train/1746.avi\n",
      "/kaggle/input/2021-ml-tp4/train/1698.avi\n",
      "/kaggle/input/2021-ml-tp4/train/0054.avi\n",
      "/kaggle/input/2021-ml-tp4/train/0792.avi\n",
      "/kaggle/input/2021-ml-tp4/train/1884.avi\n",
      "/kaggle/input/2021-ml-tp4/train/1206.avi\n",
      "/kaggle/input/2021-ml-tp4/train/0011.avi\n",
      "/kaggle/input/2021-ml-tp4/train/1321.avi\n",
      "/kaggle/input/2021-ml-tp4/train/0143.avi\n",
      "/kaggle/input/2021-ml-tp4/train/1681.avi\n",
      "/kaggle/input/2021-ml-tp4/train/1979.avi\n",
      "/kaggle/input/2021-ml-tp4/train/0384.avi\n",
      "/kaggle/input/2021-ml-tp4/train/0159.avi\n",
      "/kaggle/input/2021-ml-tp4/train/0517.avi\n",
      "/kaggle/input/2021-ml-tp4/train/0154.avi\n",
      "/kaggle/input/2021-ml-tp4/train/1631.avi\n",
      "/kaggle/input/2021-ml-tp4/train/1992.avi\n",
      "/kaggle/input/2021-ml-tp4/train/1593.avi\n",
      "/kaggle/input/2021-ml-tp4/train/0800.avi\n",
      "/kaggle/input/2021-ml-tp4/train/0600.avi\n",
      "/kaggle/input/2021-ml-tp4/train/0040.avi\n",
      "/kaggle/input/2021-ml-tp4/train/1580.avi\n",
      "/kaggle/input/2021-ml-tp4/train/0778.avi\n",
      "/kaggle/input/2021-ml-tp4/train/1475.avi\n",
      "/kaggle/input/2021-ml-tp4/train/1583.avi\n",
      "/kaggle/input/2021-ml-tp4/train/1875.avi\n",
      "/kaggle/input/2021-ml-tp4/train/0025.avi\n",
      "/kaggle/input/2021-ml-tp4/train/0648.avi\n",
      "/kaggle/input/2021-ml-tp4/train/1241.avi\n",
      "/kaggle/input/2021-ml-tp4/train/0723.avi\n",
      "/kaggle/input/2021-ml-tp4/train/0522.avi\n",
      "/kaggle/input/2021-ml-tp4/train/1267.avi\n",
      "/kaggle/input/2021-ml-tp4/train/0372.avi\n",
      "/kaggle/input/2021-ml-tp4/train/1955.avi\n",
      "/kaggle/input/2021-ml-tp4/train/1271.avi\n",
      "/kaggle/input/2021-ml-tp4/train/0364.avi\n",
      "/kaggle/input/2021-ml-tp4/train/0950.avi\n",
      "/kaggle/input/2021-ml-tp4/train/1293.avi\n",
      "/kaggle/input/2021-ml-tp4/train/0729.avi\n",
      "/kaggle/input/2021-ml-tp4/train/1082.avi\n",
      "/kaggle/input/2021-ml-tp4/train/1365.avi\n",
      "/kaggle/input/2021-ml-tp4/train/1184.avi\n",
      "/kaggle/input/2021-ml-tp4/train/1807.avi\n",
      "/kaggle/input/2021-ml-tp4/train/1688.avi\n",
      "/kaggle/input/2021-ml-tp4/train/1818.avi\n",
      "/kaggle/input/2021-ml-tp4/train/0543.avi\n",
      "/kaggle/input/2021-ml-tp4/train/0366.avi\n",
      "/kaggle/input/2021-ml-tp4/train/1497.avi\n",
      "/kaggle/input/2021-ml-tp4/train/1303.avi\n",
      "/kaggle/input/2021-ml-tp4/train/1430.avi\n",
      "/kaggle/input/2021-ml-tp4/train/1147.avi\n",
      "/kaggle/input/2021-ml-tp4/train/1849.avi\n",
      "/kaggle/input/2021-ml-tp4/train/1905.avi\n",
      "/kaggle/input/2021-ml-tp4/train/1022.avi\n",
      "/kaggle/input/2021-ml-tp4/train/1836.avi\n",
      "/kaggle/input/2021-ml-tp4/train/1203.avi\n",
      "/kaggle/input/2021-ml-tp4/train/1951.avi\n",
      "/kaggle/input/2021-ml-tp4/train/0677.avi\n",
      "/kaggle/input/2021-ml-tp4/train/1063.avi\n",
      "/kaggle/input/2021-ml-tp4/train/0597.avi\n",
      "/kaggle/input/2021-ml-tp4/train/1069.avi\n",
      "/kaggle/input/2021-ml-tp4/train/1670.avi\n",
      "/kaggle/input/2021-ml-tp4/train/1854.avi\n",
      "/kaggle/input/2021-ml-tp4/train/0710.avi\n",
      "/kaggle/input/2021-ml-tp4/train/0900.avi\n",
      "/kaggle/input/2021-ml-tp4/train/0902.avi\n",
      "/kaggle/input/2021-ml-tp4/train/1963.avi\n",
      "/kaggle/input/2021-ml-tp4/train/1152.avi\n",
      "/kaggle/input/2021-ml-tp4/train/0509.avi\n",
      "/kaggle/input/2021-ml-tp4/train/1057.avi\n",
      "/kaggle/input/2021-ml-tp4/train/1174.avi\n",
      "/kaggle/input/2021-ml-tp4/train/1207.avi\n",
      "/kaggle/input/2021-ml-tp4/train/0100.avi\n",
      "/kaggle/input/2021-ml-tp4/train/0268.avi\n",
      "/kaggle/input/2021-ml-tp4/train/0369.avi\n",
      "/kaggle/input/2021-ml-tp4/train/1160.avi\n",
      "/kaggle/input/2021-ml-tp4/train/0480.avi\n",
      "/kaggle/input/2021-ml-tp4/train/0781.avi\n",
      "/kaggle/input/2021-ml-tp4/train/0655.avi\n",
      "/kaggle/input/2021-ml-tp4/train/0052.avi\n",
      "/kaggle/input/2021-ml-tp4/train/1660.avi\n",
      "/kaggle/input/2021-ml-tp4/train/1675.avi\n",
      "/kaggle/input/2021-ml-tp4/train/1223.avi\n",
      "/kaggle/input/2021-ml-tp4/train/0455.avi\n",
      "/kaggle/input/2021-ml-tp4/train/0865.avi\n",
      "/kaggle/input/2021-ml-tp4/train/1013.avi\n",
      "/kaggle/input/2021-ml-tp4/train/0003.avi\n",
      "/kaggle/input/2021-ml-tp4/train/0298.avi\n",
      "/kaggle/input/2021-ml-tp4/train/0027.avi\n",
      "/kaggle/input/2021-ml-tp4/train/0434.avi\n",
      "/kaggle/input/2021-ml-tp4/train/1355.avi\n",
      "/kaggle/input/2021-ml-tp4/train/0555.avi\n",
      "/kaggle/input/2021-ml-tp4/train/1703.avi\n",
      "/kaggle/input/2021-ml-tp4/train/0167.avi\n",
      "/kaggle/input/2021-ml-tp4/train/1243.avi\n",
      "/kaggle/input/2021-ml-tp4/train/1193.avi\n",
      "/kaggle/input/2021-ml-tp4/train/0008.avi\n",
      "/kaggle/input/2021-ml-tp4/train/0142.avi\n",
      "/kaggle/input/2021-ml-tp4/train/0417.avi\n",
      "/kaggle/input/2021-ml-tp4/train/0145.avi\n",
      "/kaggle/input/2021-ml-tp4/train/0348.avi\n",
      "/kaggle/input/2021-ml-tp4/train/1188.avi\n",
      "/kaggle/input/2021-ml-tp4/train/0694.avi\n",
      "/kaggle/input/2021-ml-tp4/train/0783.avi\n",
      "/kaggle/input/2021-ml-tp4/train/1038.avi\n",
      "/kaggle/input/2021-ml-tp4/train/0618.avi\n",
      "/kaggle/input/2021-ml-tp4/train/1966.avi\n",
      "/kaggle/input/2021-ml-tp4/train/1666.avi\n",
      "/kaggle/input/2021-ml-tp4/train/0414.avi\n",
      "/kaggle/input/2021-ml-tp4/train/0336.avi\n",
      "/kaggle/input/2021-ml-tp4/train/1388.avi\n",
      "/kaggle/input/2021-ml-tp4/train/0531.avi\n",
      "/kaggle/input/2021-ml-tp4/train/0163.avi\n",
      "/kaggle/input/2021-ml-tp4/train/1712.avi\n",
      "/kaggle/input/2021-ml-tp4/train/0796.avi\n",
      "/kaggle/input/2021-ml-tp4/train/1757.avi\n",
      "/kaggle/input/2021-ml-tp4/train/1179.avi\n",
      "/kaggle/input/2021-ml-tp4/train/1562.avi\n",
      "/kaggle/input/2021-ml-tp4/train/1584.avi\n",
      "/kaggle/input/2021-ml-tp4/train/0595.avi\n",
      "/kaggle/input/2021-ml-tp4/train/0452.avi\n",
      "/kaggle/input/2021-ml-tp4/train/1146.avi\n",
      "/kaggle/input/2021-ml-tp4/train/1219.avi\n",
      "/kaggle/input/2021-ml-tp4/train/1105.avi\n",
      "/kaggle/input/2021-ml-tp4/train/1033.avi\n",
      "/kaggle/input/2021-ml-tp4/train/1787.avi\n",
      "/kaggle/input/2021-ml-tp4/train/0157.avi\n",
      "/kaggle/input/2021-ml-tp4/train/1634.avi\n",
      "/kaggle/input/2021-ml-tp4/train/1985.avi\n",
      "/kaggle/input/2021-ml-tp4/train/0838.avi\n",
      "/kaggle/input/2021-ml-tp4/train/0551.avi\n",
      "/kaggle/input/2021-ml-tp4/train/1168.avi\n",
      "/kaggle/input/2021-ml-tp4/train/0909.avi\n",
      "/kaggle/input/2021-ml-tp4/train/1215.avi\n",
      "/kaggle/input/2021-ml-tp4/train/0886.avi\n",
      "/kaggle/input/2021-ml-tp4/train/1330.avi\n",
      "/kaggle/input/2021-ml-tp4/train/1222.avi\n",
      "/kaggle/input/2021-ml-tp4/train/0883.avi\n",
      "/kaggle/input/2021-ml-tp4/train/0877.avi\n",
      "/kaggle/input/2021-ml-tp4/train/0001.avi\n",
      "/kaggle/input/2021-ml-tp4/train/1314.avi\n",
      "/kaggle/input/2021-ml-tp4/train/1556.avi\n",
      "/kaggle/input/2021-ml-tp4/train/1794.avi\n",
      "/kaggle/input/2021-ml-tp4/train/1821.avi\n",
      "/kaggle/input/2021-ml-tp4/train/0155.avi\n",
      "/kaggle/input/2021-ml-tp4/train/0907.avi\n",
      "/kaggle/input/2021-ml-tp4/train/0233.avi\n",
      "/kaggle/input/2021-ml-tp4/train/0223.avi\n",
      "/kaggle/input/2021-ml-tp4/train/0300.avi\n",
      "/kaggle/input/2021-ml-tp4/train/1115.avi\n",
      "/kaggle/input/2021-ml-tp4/train/0146.avi\n",
      "/kaggle/input/2021-ml-tp4/train/0658.avi\n",
      "/kaggle/input/2021-ml-tp4/train/0966.avi\n",
      "/kaggle/input/2021-ml-tp4/train/0776.avi\n",
      "/kaggle/input/2021-ml-tp4/train/1695.avi\n",
      "/kaggle/input/2021-ml-tp4/train/0521.avi\n",
      "/kaggle/input/2021-ml-tp4/train/0570.avi\n",
      "/kaggle/input/2021-ml-tp4/train/1717.avi\n",
      "/kaggle/input/2021-ml-tp4/train/0678.avi\n",
      "/kaggle/input/2021-ml-tp4/train/1574.avi\n",
      "/kaggle/input/2021-ml-tp4/train/1028.avi\n",
      "/kaggle/input/2021-ml-tp4/train/0447.avi\n",
      "/kaggle/input/2021-ml-tp4/train/1386.avi\n",
      "/kaggle/input/2021-ml-tp4/train/0012.avi\n",
      "/kaggle/input/2021-ml-tp4/train/0606.avi\n",
      "/kaggle/input/2021-ml-tp4/train/0519.avi\n",
      "/kaggle/input/2021-ml-tp4/train/0702.avi\n",
      "/kaggle/input/2021-ml-tp4/train/0605.avi\n",
      "/kaggle/input/2021-ml-tp4/train/1460.avi\n",
      "/kaggle/input/2021-ml-tp4/train/1732.avi\n",
      "/kaggle/input/2021-ml-tp4/train/1656.avi\n",
      "/kaggle/input/2021-ml-tp4/train/1508.avi\n",
      "/kaggle/input/2021-ml-tp4/train/1542.avi\n",
      "/kaggle/input/2021-ml-tp4/train/1767.avi\n",
      "/kaggle/input/2021-ml-tp4/train/1652.avi\n",
      "/kaggle/input/2021-ml-tp4/train/0713.avi\n",
      "/kaggle/input/2021-ml-tp4/train/1176.avi\n",
      "/kaggle/input/2021-ml-tp4/train/1272.avi\n",
      "/kaggle/input/2021-ml-tp4/train/1008.avi\n",
      "/kaggle/input/2021-ml-tp4/train/2008.avi\n",
      "/kaggle/input/2021-ml-tp4/train/0184.avi\n",
      "/kaggle/input/2021-ml-tp4/train/1312.avi\n",
      "/kaggle/input/2021-ml-tp4/train/0256.avi\n",
      "/kaggle/input/2021-ml-tp4/train/0862.avi\n",
      "/kaggle/input/2021-ml-tp4/train/1485.avi\n",
      "/kaggle/input/2021-ml-tp4/train/0128.avi\n",
      "/kaggle/input/2021-ml-tp4/train/1085.avi\n",
      "/kaggle/input/2021-ml-tp4/train/1927.avi\n",
      "/kaggle/input/2021-ml-tp4/train/1089.avi\n",
      "/kaggle/input/2021-ml-tp4/train/0808.avi\n",
      "/kaggle/input/2021-ml-tp4/train/0832.avi\n",
      "/kaggle/input/2021-ml-tp4/train/0445.avi\n",
      "/kaggle/input/2021-ml-tp4/train/0448.avi\n",
      "/kaggle/input/2021-ml-tp4/train/1739.avi\n",
      "/kaggle/input/2021-ml-tp4/train/1553.avi\n",
      "/kaggle/input/2021-ml-tp4/train/1940.avi\n",
      "/kaggle/input/2021-ml-tp4/train/0397.avi\n",
      "/kaggle/input/2021-ml-tp4/train/0891.avi\n",
      "/kaggle/input/2021-ml-tp4/train/1253.avi\n",
      "/kaggle/input/2021-ml-tp4/train/1622.avi\n",
      "/kaggle/input/2021-ml-tp4/train/0214.avi\n",
      "/kaggle/input/2021-ml-tp4/train/1196.avi\n",
      "/kaggle/input/2021-ml-tp4/train/1755.avi\n",
      "/kaggle/input/2021-ml-tp4/train/1866.avi\n",
      "/kaggle/input/2021-ml-tp4/train/0399.avi\n",
      "/kaggle/input/2021-ml-tp4/train/0984.avi\n",
      "/kaggle/input/2021-ml-tp4/train/1436.avi\n",
      "/kaggle/input/2021-ml-tp4/train/0614.avi\n",
      "/kaggle/input/2021-ml-tp4/train/1751.avi\n",
      "/kaggle/input/2021-ml-tp4/train/0787.avi\n",
      "/kaggle/input/2021-ml-tp4/train/1958.avi\n",
      "/kaggle/input/2021-ml-tp4/train/1358.avi\n",
      "/kaggle/input/2021-ml-tp4/train/1680.avi\n",
      "/kaggle/input/2021-ml-tp4/train/0361.avi\n",
      "/kaggle/input/2021-ml-tp4/train/0816.avi\n",
      "/kaggle/input/2021-ml-tp4/train/0215.avi\n",
      "/kaggle/input/2021-ml-tp4/train/1444.avi\n",
      "/kaggle/input/2021-ml-tp4/train/0771.avi\n",
      "/kaggle/input/2021-ml-tp4/train/0440.avi\n",
      "/kaggle/input/2021-ml-tp4/train/1507.avi\n",
      "/kaggle/input/2021-ml-tp4/train/0581.avi\n",
      "/kaggle/input/2021-ml-tp4/train/1366.avi\n",
      "/kaggle/input/2021-ml-tp4/train/1986.avi\n",
      "/kaggle/input/2021-ml-tp4/train/1065.avi\n",
      "/kaggle/input/2021-ml-tp4/train/0571.avi\n",
      "/kaggle/input/2021-ml-tp4/train/0472.avi\n",
      "/kaggle/input/2021-ml-tp4/train/0066.avi\n",
      "/kaggle/input/2021-ml-tp4/train/0812.avi\n",
      "/kaggle/input/2021-ml-tp4/train/0924.avi\n",
      "/kaggle/input/2021-ml-tp4/train/0921.avi\n",
      "/kaggle/input/2021-ml-tp4/train/1942.avi\n",
      "/kaggle/input/2021-ml-tp4/train/0673.avi\n",
      "/kaggle/input/2021-ml-tp4/train/0544.avi\n",
      "/kaggle/input/2021-ml-tp4/train/1456.avi\n",
      "/kaggle/input/2021-ml-tp4/train/1735.avi\n",
      "/kaggle/input/2021-ml-tp4/train/1893.avi\n",
      "/kaggle/input/2021-ml-tp4/train/1815.avi\n",
      "/kaggle/input/2021-ml-tp4/train/1786.avi\n",
      "/kaggle/input/2021-ml-tp4/train/0943.avi\n",
      "/kaggle/input/2021-ml-tp4/train/0104.avi\n",
      "/kaggle/input/2021-ml-tp4/train/0398.avi\n",
      "/kaggle/input/2021-ml-tp4/train/1210.avi\n",
      "/kaggle/input/2021-ml-tp4/train/0769.avi\n",
      "/kaggle/input/2021-ml-tp4/train/0016.avi\n",
      "/kaggle/input/2021-ml-tp4/train/1294.avi\n",
      "/kaggle/input/2021-ml-tp4/train/1142.avi\n",
      "/kaggle/input/2021-ml-tp4/train/1384.avi\n",
      "/kaggle/input/2021-ml-tp4/train/0263.avi\n",
      "/kaggle/input/2021-ml-tp4/train/1515.avi\n",
      "/kaggle/input/2021-ml-tp4/train/1877.avi\n",
      "/kaggle/input/2021-ml-tp4/train/0174.avi\n",
      "/kaggle/input/2021-ml-tp4/train/0979.avi\n",
      "/kaggle/input/2021-ml-tp4/train/1019.avi\n",
      "/kaggle/input/2021-ml-tp4/train/1932.avi\n",
      "/kaggle/input/2021-ml-tp4/train/0748.avi\n",
      "/kaggle/input/2021-ml-tp4/train/1040.avi\n",
      "/kaggle/input/2021-ml-tp4/train/1679.avi\n",
      "/kaggle/input/2021-ml-tp4/train/0567.avi\n",
      "/kaggle/input/2021-ml-tp4/train/1690.avi\n",
      "/kaggle/input/2021-ml-tp4/train/1827.avi\n",
      "/kaggle/input/2021-ml-tp4/train/1917.avi\n",
      "/kaggle/input/2021-ml-tp4/train/1482.avi\n",
      "/kaggle/input/2021-ml-tp4/train/1306.avi\n",
      "/kaggle/input/2021-ml-tp4/train/0347.avi\n",
      "/kaggle/input/2021-ml-tp4/train/0961.avi\n",
      "/kaggle/input/2021-ml-tp4/train/1286.avi\n",
      "/kaggle/input/2021-ml-tp4/train/0967.avi\n",
      "/kaggle/input/2021-ml-tp4/train/0325.avi\n",
      "/kaggle/input/2021-ml-tp4/train/1361.avi\n",
      "/kaggle/input/2021-ml-tp4/train/1283.avi\n",
      "/kaggle/input/2021-ml-tp4/train/0077.avi\n",
      "/kaggle/input/2021-ml-tp4/train/0481.avi\n",
      "/kaggle/input/2021-ml-tp4/train/1149.avi\n",
      "/kaggle/input/2021-ml-tp4/train/0135.avi\n",
      "/kaggle/input/2021-ml-tp4/train/1554.avi\n",
      "/kaggle/input/2021-ml-tp4/train/0599.avi\n",
      "/kaggle/input/2021-ml-tp4/train/1644.avi\n",
      "/kaggle/input/2021-ml-tp4/train/1924.avi\n",
      "/kaggle/input/2021-ml-tp4/train/0169.avi\n",
      "/kaggle/input/2021-ml-tp4/train/1595.avi\n",
      "/kaggle/input/2021-ml-tp4/train/1292.avi\n",
      "/kaggle/input/2021-ml-tp4/train/1597.avi\n",
      "/kaggle/input/2021-ml-tp4/train/1431.avi\n",
      "/kaggle/input/2021-ml-tp4/train/0211.avi\n",
      "/kaggle/input/2021-ml-tp4/train/1959.avi\n",
      "/kaggle/input/2021-ml-tp4/train/1808.avi\n",
      "/kaggle/input/2021-ml-tp4/train/1745.avi\n",
      "/kaggle/input/2021-ml-tp4/train/0736.avi\n",
      "/kaggle/input/2021-ml-tp4/train/2016.avi\n",
      "/kaggle/input/2021-ml-tp4/train/1452.avi\n",
      "/kaggle/input/2021-ml-tp4/train/0841.avi\n",
      "/kaggle/input/2021-ml-tp4/train/1991.avi\n",
      "/kaggle/input/2021-ml-tp4/train/0954.avi\n",
      "/kaggle/input/2021-ml-tp4/train/1318.avi\n",
      "/kaggle/input/2021-ml-tp4/train/0197.avi\n",
      "/kaggle/input/2021-ml-tp4/train/0949.avi\n",
      "/kaggle/input/2021-ml-tp4/train/0825.avi\n",
      "/kaggle/input/2021-ml-tp4/train/0333.avi\n",
      "/kaggle/input/2021-ml-tp4/train/0662.avi\n",
      "/kaggle/input/2021-ml-tp4/train/0007.avi\n",
      "/kaggle/input/2021-ml-tp4/train/0513.avi\n",
      "/kaggle/input/2021-ml-tp4/train/1524.avi\n",
      "/kaggle/input/2021-ml-tp4/train/1419.avi\n",
      "/kaggle/input/2021-ml-tp4/train/1068.avi\n",
      "/kaggle/input/2021-ml-tp4/train/1550.avi\n",
      "/kaggle/input/2021-ml-tp4/train/1871.avi\n",
      "/kaggle/input/2021-ml-tp4/train/1833.avi\n",
      "/kaggle/input/2021-ml-tp4/train/1961.avi\n",
      "/kaggle/input/2021-ml-tp4/train/0770.avi\n",
      "/kaggle/input/2021-ml-tp4/train/1845.avi\n",
      "/kaggle/input/2021-ml-tp4/train/0301.avi\n",
      "/kaggle/input/2021-ml-tp4/train/1049.avi\n",
      "/kaggle/input/2021-ml-tp4/train/1270.avi\n",
      "/kaggle/input/2021-ml-tp4/train/0803.avi\n",
      "/kaggle/input/2021-ml-tp4/train/1811.avi\n",
      "/kaggle/input/2021-ml-tp4/train/1348.avi\n",
      "/kaggle/input/2021-ml-tp4/train/1701.avi\n",
      "/kaggle/input/2021-ml-tp4/train/0689.avi\n",
      "/kaggle/input/2021-ml-tp4/train/0818.avi\n",
      "/kaggle/input/2021-ml-tp4/train/0429.avi\n",
      "/kaggle/input/2021-ml-tp4/train/1799.avi\n",
      "/kaggle/input/2021-ml-tp4/train/0307.avi\n",
      "/kaggle/input/2021-ml-tp4/train/1079.avi\n",
      "/kaggle/input/2021-ml-tp4/train/0741.avi\n",
      "/kaggle/input/2021-ml-tp4/train/1461.avi\n",
      "/kaggle/input/2021-ml-tp4/train/1798.avi\n",
      "/kaggle/input/2021-ml-tp4/train/0116.avi\n",
      "/kaggle/input/2021-ml-tp4/train/1939.avi\n",
      "/kaggle/input/2021-ml-tp4/train/1233.avi\n",
      "/kaggle/input/2021-ml-tp4/train/1870.avi\n",
      "/kaggle/input/2021-ml-tp4/train/0839.avi\n",
      "/kaggle/input/2021-ml-tp4/train/1136.avi\n",
      "/kaggle/input/2021-ml-tp4/train/0887.avi\n",
      "/kaggle/input/2021-ml-tp4/train/0170.avi\n",
      "/kaggle/input/2021-ml-tp4/train/1737.avi\n",
      "/kaggle/input/2021-ml-tp4/train/0444.avi\n",
      "/kaggle/input/2021-ml-tp4/train/0075.avi\n",
      "/kaggle/input/2021-ml-tp4/train/0552.avi\n",
      "/kaggle/input/2021-ml-tp4/train/0643.avi\n",
      "/kaggle/input/2021-ml-tp4/train/0013.avi\n",
      "/kaggle/input/2021-ml-tp4/train/0923.avi\n",
      "/kaggle/input/2021-ml-tp4/train/0479.avi\n",
      "/kaggle/input/2021-ml-tp4/train/1671.avi\n",
      "/kaggle/input/2021-ml-tp4/train/1599.avi\n",
      "/kaggle/input/2021-ml-tp4/train/1576.avi\n",
      "/kaggle/input/2021-ml-tp4/train/0525.avi\n",
      "/kaggle/input/2021-ml-tp4/train/1282.avi\n",
      "/kaggle/input/2021-ml-tp4/train/0313.avi\n",
      "/kaggle/input/2021-ml-tp4/train/0232.avi\n",
      "/kaggle/input/2021-ml-tp4/train/0534.avi\n",
      "/kaggle/input/2021-ml-tp4/train/0420.avi\n",
      "/kaggle/input/2021-ml-tp4/train/1237.avi\n",
      "/kaggle/input/2021-ml-tp4/train/0638.avi\n",
      "/kaggle/input/2021-ml-tp4/train/1301.avi\n",
      "/kaggle/input/2021-ml-tp4/train/0387.avi\n",
      "/kaggle/input/2021-ml-tp4/train/0286.avi\n",
      "/kaggle/input/2021-ml-tp4/train/0176.avi\n",
      "/kaggle/input/2021-ml-tp4/train/0578.avi\n",
      "/kaggle/input/2021-ml-tp4/train/1704.avi\n",
      "/kaggle/input/2021-ml-tp4/train/1506.avi\n",
      "/kaggle/input/2021-ml-tp4/train/1172.avi\n",
      "/kaggle/input/2021-ml-tp4/train/0368.avi\n",
      "/kaggle/input/2021-ml-tp4/train/0036.avi\n",
      "/kaggle/input/2021-ml-tp4/train/0868.avi\n",
      "/kaggle/input/2021-ml-tp4/train/0846.avi\n",
      "/kaggle/input/2021-ml-tp4/train/0244.avi\n",
      "/kaggle/input/2021-ml-tp4/train/0454.avi\n",
      "/kaggle/input/2021-ml-tp4/train/1728.avi\n",
      "/kaggle/input/2021-ml-tp4/train/1750.avi\n",
      "/kaggle/input/2021-ml-tp4/train/0732.avi\n",
      "/kaggle/input/2021-ml-tp4/train/0219.avi\n",
      "/kaggle/input/2021-ml-tp4/train/1465.avi\n",
      "/kaggle/input/2021-ml-tp4/train/0804.avi\n",
      "/kaggle/input/2021-ml-tp4/train/0026.avi\n",
      "/kaggle/input/2021-ml-tp4/train/1341.avi\n",
      "/kaggle/input/2021-ml-tp4/train/0483.avi\n",
      "/kaggle/input/2021-ml-tp4/train/0430.avi\n",
      "/kaggle/input/2021-ml-tp4/train/0647.avi\n",
      "/kaggle/input/2021-ml-tp4/train/1099.avi\n",
      "/kaggle/input/2021-ml-tp4/train/1756.avi\n",
      "/kaggle/input/2021-ml-tp4/train/1846.avi\n",
      "/kaggle/input/2021-ml-tp4/train/0610.avi\n",
      "/kaggle/input/2021-ml-tp4/train/1326.avi\n",
      "/kaggle/input/2021-ml-tp4/train/1890.avi\n",
      "/kaggle/input/2021-ml-tp4/train/1356.avi\n",
      "/kaggle/input/2021-ml-tp4/train/0640.avi\n",
      "/kaggle/input/2021-ml-tp4/train/1462.avi\n",
      "/kaggle/input/2021-ml-tp4/train/1165.avi\n",
      "/kaggle/input/2021-ml-tp4/train/1094.avi\n",
      "/kaggle/input/2021-ml-tp4/train/1947.avi\n",
      "/kaggle/input/2021-ml-tp4/train/1144.avi\n",
      "/kaggle/input/2021-ml-tp4/train/0890.avi\n",
      "/kaggle/input/2021-ml-tp4/train/0670.avi\n",
      "/kaggle/input/2021-ml-tp4/train/0774.avi\n",
      "/kaggle/input/2021-ml-tp4/train/0248.avi\n",
      "/kaggle/input/2021-ml-tp4/train/1632.avi\n",
      "/kaggle/input/2021-ml-tp4/train/0639.avi\n",
      "/kaggle/input/2021-ml-tp4/train/1412.avi\n",
      "/kaggle/input/2021-ml-tp4/train/1135.avi\n",
      "/kaggle/input/2021-ml-tp4/train/0150.avi\n",
      "/kaggle/input/2021-ml-tp4/train/0446.avi\n",
      "/kaggle/input/2021-ml-tp4/train/1221.avi\n",
      "/kaggle/input/2021-ml-tp4/train/0603.avi\n",
      "/kaggle/input/2021-ml-tp4/train/1426.avi\n",
      "/kaggle/input/2021-ml-tp4/train/1522.avi\n",
      "/kaggle/input/2021-ml-tp4/train/0971.avi\n",
      "/kaggle/input/2021-ml-tp4/train/0786.avi\n",
      "/kaggle/input/2021-ml-tp4/train/1954.avi\n",
      "/kaggle/input/2021-ml-tp4/train/0285.avi\n",
      "/kaggle/input/2021-ml-tp4/train/1501.avi\n",
      "/kaggle/input/2021-ml-tp4/train/0189.avi\n",
      "/kaggle/input/2021-ml-tp4/train/0239.avi\n",
      "/kaggle/input/2021-ml-tp4/train/1780.avi\n",
      "/kaggle/input/2021-ml-tp4/train/0693.avi\n",
      "/kaggle/input/2021-ml-tp4/train/1313.avi\n",
      "/kaggle/input/2021-ml-tp4/train/0706.avi\n",
      "/kaggle/input/2021-ml-tp4/train/1503.avi\n",
      "/kaggle/input/2021-ml-tp4/train/1297.avi\n",
      "/kaggle/input/2021-ml-tp4/train/0105.avi\n",
      "/kaggle/input/2021-ml-tp4/train/1674.avi\n",
      "/kaggle/input/2021-ml-tp4/train/1613.avi\n",
      "/kaggle/input/2021-ml-tp4/train/0068.avi\n",
      "/kaggle/input/2021-ml-tp4/train/1792.avi\n",
      "/kaggle/input/2021-ml-tp4/train/0863.avi\n",
      "/kaggle/input/2021-ml-tp4/train/0330.avi\n",
      "/kaggle/input/2021-ml-tp4/train/0762.avi\n",
      "/kaggle/input/2021-ml-tp4/train/0930.avi\n",
      "/kaggle/input/2021-ml-tp4/train/0700.avi\n",
      "/kaggle/input/2021-ml-tp4/train/1457.avi\n",
      "/kaggle/input/2021-ml-tp4/train/0833.avi\n",
      "/kaggle/input/2021-ml-tp4/train/1227.avi\n",
      "/kaggle/input/2021-ml-tp4/train/1899.avi\n",
      "/kaggle/input/2021-ml-tp4/train/1895.avi\n",
      "/kaggle/input/2021-ml-tp4/train/1150.avi\n",
      "/kaggle/input/2021-ml-tp4/train/0937.avi\n",
      "/kaggle/input/2021-ml-tp4/train/1775.avi\n",
      "/kaggle/input/2021-ml-tp4/train/0439.avi\n",
      "/kaggle/input/2021-ml-tp4/train/0183.avi\n",
      "/kaggle/input/2021-ml-tp4/train/1151.avi\n",
      "/kaggle/input/2021-ml-tp4/train/0782.avi\n",
      "/kaggle/input/2021-ml-tp4/train/2009.avi\n",
      "/kaggle/input/2021-ml-tp4/train/0965.avi\n",
      "/kaggle/input/2021-ml-tp4/train/0740.avi\n",
      "/kaggle/input/2021-ml-tp4/train/1157.avi\n",
      "/kaggle/input/2021-ml-tp4/train/0663.avi\n",
      "/kaggle/input/2021-ml-tp4/train/1526.avi\n",
      "/kaggle/input/2021-ml-tp4/train/0195.avi\n",
      "/kaggle/input/2021-ml-tp4/train/0613.avi\n",
      "/kaggle/input/2021-ml-tp4/train/1483.avi\n",
      "/kaggle/input/2021-ml-tp4/train/0081.avi\n",
      "/kaggle/input/2021-ml-tp4/train/0306.avi\n",
      "/kaggle/input/2021-ml-tp4/train/1123.avi\n",
      "/kaggle/input/2021-ml-tp4/train/0523.avi\n",
      "/kaggle/input/2021-ml-tp4/train/1518.avi\n",
      "/kaggle/input/2021-ml-tp4/train/1847.avi\n",
      "/kaggle/input/2021-ml-tp4/train/1823.avi\n",
      "/kaggle/input/2021-ml-tp4/train/1198.avi\n",
      "/kaggle/input/2021-ml-tp4/train/0131.avi\n",
      "/kaggle/input/2021-ml-tp4/train/1832.avi\n",
      "/kaggle/input/2021-ml-tp4/train/1742.avi\n",
      "/kaggle/input/2021-ml-tp4/train/1839.avi\n",
      "/kaggle/input/2021-ml-tp4/train/1260.avi\n",
      "/kaggle/input/2021-ml-tp4/train/0226.avi\n",
      "/kaggle/input/2021-ml-tp4/train/0441.avi\n",
      "/kaggle/input/2021-ml-tp4/train/1885.avi\n",
      "/kaggle/input/2021-ml-tp4/train/0539.avi\n",
      "/kaggle/input/2021-ml-tp4/train/0866.avi\n",
      "/kaggle/input/2021-ml-tp4/train/0102.avi\n",
      "/kaggle/input/2021-ml-tp4/train/0050.avi\n",
      "/kaggle/input/2021-ml-tp4/train/1265.avi\n",
      "/kaggle/input/2021-ml-tp4/train/0875.avi\n",
      "/kaggle/input/2021-ml-tp4/train/1603.avi\n",
      "/kaggle/input/2021-ml-tp4/train/1816.avi\n",
      "/kaggle/input/2021-ml-tp4/train/0043.avi\n",
      "/kaggle/input/2021-ml-tp4/train/1120.avi\n",
      "/kaggle/input/2021-ml-tp4/train/1863.avi\n",
      "/kaggle/input/2021-ml-tp4/train/0996.avi\n",
      "/kaggle/input/2021-ml-tp4/train/1469.avi\n",
      "/kaggle/input/2021-ml-tp4/train/0316.avi\n",
      "/kaggle/input/2021-ml-tp4/train/0410.avi\n",
      "/kaggle/input/2021-ml-tp4/train/1578.avi\n",
      "/kaggle/input/2021-ml-tp4/train/0793.avi\n",
      "/kaggle/input/2021-ml-tp4/train/0593.avi\n",
      "/kaggle/input/2021-ml-tp4/train/1012.avi\n",
      "/kaggle/input/2021-ml-tp4/train/0822.avi\n",
      "/kaggle/input/2021-ml-tp4/train/1982.avi\n",
      "/kaggle/input/2021-ml-tp4/train/0422.avi\n",
      "/kaggle/input/2021-ml-tp4/train/0867.avi\n",
      "/kaggle/input/2021-ml-tp4/train/0617.avi\n",
      "/kaggle/input/2021-ml-tp4/train/1748.avi\n",
      "/kaggle/input/2021-ml-tp4/train/1158.avi\n",
      "/kaggle/input/2021-ml-tp4/train/0084.avi\n",
      "/kaggle/input/2021-ml-tp4/train/1592.avi\n",
      "/kaggle/input/2021-ml-tp4/train/0718.avi\n",
      "/kaggle/input/2021-ml-tp4/train/1417.avi\n",
      "/kaggle/input/2021-ml-tp4/train/0951.avi\n",
      "/kaggle/input/2021-ml-tp4/train/1208.avi\n",
      "/kaggle/input/2021-ml-tp4/train/0427.avi\n",
      "/kaggle/input/2021-ml-tp4/train/1987.avi\n",
      "/kaggle/input/2021-ml-tp4/train/0458.avi\n",
      "/kaggle/input/2021-ml-tp4/train/1486.avi\n",
      "/kaggle/input/2021-ml-tp4/train/0265.avi\n",
      "/kaggle/input/2021-ml-tp4/train/0809.avi\n",
      "/kaggle/input/2021-ml-tp4/train/0252.avi\n",
      "/kaggle/input/2021-ml-tp4/train/0672.avi\n",
      "/kaggle/input/2021-ml-tp4/train/0569.avi\n",
      "/kaggle/input/2021-ml-tp4/train/0978.avi\n",
      "/kaggle/input/2021-ml-tp4/train/0206.avi\n",
      "/kaggle/input/2021-ml-tp4/train/1472.avi\n",
      "/kaggle/input/2021-ml-tp4/train/1788.avi\n",
      "/kaggle/input/2021-ml-tp4/train/0002.avi\n",
      "/kaggle/input/2021-ml-tp4/train/1753.avi\n",
      "/kaggle/input/2021-ml-tp4/train/0363.avi\n",
      "/kaggle/input/2021-ml-tp4/train/1627.avi\n",
      "/kaggle/input/2021-ml-tp4/train/0502.avi\n",
      "/kaggle/input/2021-ml-tp4/train/1667.avi\n",
      "/kaggle/input/2021-ml-tp4/train/0071.avi\n",
      "/kaggle/input/2021-ml-tp4/train/1439.avi\n",
      "/kaggle/input/2021-ml-tp4/train/0880.avi\n",
      "/kaggle/input/2021-ml-tp4/train/0212.avi\n",
      "/kaggle/input/2021-ml-tp4/train/1194.avi\n",
      "/kaggle/input/2021-ml-tp4/train/1342.avi\n",
      "/kaggle/input/2021-ml-tp4/train/1424.avi\n",
      "/kaggle/input/2021-ml-tp4/train/0548.avi\n",
      "/kaggle/input/2021-ml-tp4/train/1873.avi\n",
      "/kaggle/input/2021-ml-tp4/train/1647.avi\n",
      "/kaggle/input/2021-ml-tp4/train/1694.avi\n",
      "/kaggle/input/2021-ml-tp4/train/1097.avi\n",
      "/kaggle/input/2021-ml-tp4/train/1377.avi\n",
      "/kaggle/input/2021-ml-tp4/train/1668.avi\n",
      "/kaggle/input/2021-ml-tp4/train/0843.avi\n",
      "/kaggle/input/2021-ml-tp4/train/1474.avi\n",
      "/kaggle/input/2021-ml-tp4/train/1969.avi\n",
      "/kaggle/input/2021-ml-tp4/train/0788.avi\n",
      "/kaggle/input/2021-ml-tp4/train/0584.avi\n",
      "/kaggle/input/2021-ml-tp4/train/1181.avi\n",
      "/kaggle/input/2021-ml-tp4/train/1070.avi\n",
      "/kaggle/input/2021-ml-tp4/train/0876.avi\n",
      "/kaggle/input/2021-ml-tp4/train/1372.avi\n",
      "/kaggle/input/2021-ml-tp4/train/0264.avi\n",
      "/kaggle/input/2021-ml-tp4/train/0018.avi\n",
      "/kaggle/input/2021-ml-tp4/train/1204.avi\n",
      "/kaggle/input/2021-ml-tp4/train/0910.avi\n",
      "/kaggle/input/2021-ml-tp4/train/1349.avi\n",
      "/kaggle/input/2021-ml-tp4/train/1573.avi\n",
      "/kaggle/input/2021-ml-tp4/train/0826.avi\n",
      "/kaggle/input/2021-ml-tp4/train/1763.avi\n",
      "/kaggle/input/2021-ml-tp4/train/1697.avi\n",
      "/kaggle/input/2021-ml-tp4/train/0395.avi\n",
      "/kaggle/input/2021-ml-tp4/train/0467.avi\n",
      "/kaggle/input/2021-ml-tp4/train/0590.avi\n",
      "/kaggle/input/2021-ml-tp4/train/1217.avi\n",
      "/kaggle/input/2021-ml-tp4/train/1334.avi\n",
      "/kaggle/input/2021-ml-tp4/train/0048.avi\n",
      "/kaggle/input/2021-ml-tp4/train/0466.avi\n",
      "/kaggle/input/2021-ml-tp4/train/1931.avi\n",
      "/kaggle/input/2021-ml-tp4/train/0042.avi\n",
      "/kaggle/input/2021-ml-tp4/train/0049.avi\n",
      "/kaggle/input/2021-ml-tp4/train/0768.avi\n",
      "/kaggle/input/2021-ml-tp4/train/0087.avi\n",
      "/kaggle/input/2021-ml-tp4/train/1118.avi\n",
      "/kaggle/input/2021-ml-tp4/train/0173.avi\n",
      "/kaggle/input/2021-ml-tp4/train/0668.avi\n",
      "/kaggle/input/2021-ml-tp4/train/0896.avi\n",
      "/kaggle/input/2021-ml-tp4/train/1132.avi\n",
      "/kaggle/input/2021-ml-tp4/train/1338.avi\n",
      "/kaggle/input/2021-ml-tp4/train/0107.avi\n",
      "/kaggle/input/2021-ml-tp4/train/0205.avi\n",
      "/kaggle/input/2021-ml-tp4/train/1463.avi\n",
      "/kaggle/input/2021-ml-tp4/train/1716.avi\n",
      "/kaggle/input/2021-ml-tp4/train/0041.avi\n",
      "/kaggle/input/2021-ml-tp4/train/0072.avi\n",
      "/kaggle/input/2021-ml-tp4/train/1978.avi\n",
      "/kaggle/input/2021-ml-tp4/train/1109.avi\n",
      "/kaggle/input/2021-ml-tp4/train/1888.avi\n",
      "/kaggle/input/2021-ml-tp4/train/1454.avi\n",
      "/kaggle/input/2021-ml-tp4/train/1190.avi\n",
      "/kaggle/input/2021-ml-tp4/train/1061.avi\n",
      "/kaggle/input/2021-ml-tp4/train/1619.avi\n",
      "/kaggle/input/2021-ml-tp4/train/1284.avi\n",
      "/kaggle/input/2021-ml-tp4/train/1769.avi\n",
      "/kaggle/input/2021-ml-tp4/train/1876.avi\n",
      "/kaggle/input/2021-ml-tp4/train/0932.avi\n",
      "/kaggle/input/2021-ml-tp4/train/0576.avi\n",
      "/kaggle/input/2021-ml-tp4/train/0083.avi\n",
      "/kaggle/input/2021-ml-tp4/train/1765.avi\n",
      "/kaggle/input/2021-ml-tp4/train/0596.avi\n",
      "/kaggle/input/2021-ml-tp4/train/0777.avi\n",
      "/kaggle/input/2021-ml-tp4/train/1795.avi\n",
      "/kaggle/input/2021-ml-tp4/train/0573.avi\n",
      "/kaggle/input/2021-ml-tp4/train/0491.avi\n",
      "/kaggle/input/2021-ml-tp4/train/0654.avi\n",
      "/kaggle/input/2021-ml-tp4/train/0357.avi\n",
      "/kaggle/input/2021-ml-tp4/train/1606.avi\n",
      "/kaggle/input/2021-ml-tp4/train/0905.avi\n",
      "/kaggle/input/2021-ml-tp4/train/1464.avi\n",
      "/kaggle/input/2021-ml-tp4/train/1967.avi\n",
      "/kaggle/input/2021-ml-tp4/train/1653.avi\n",
      "/kaggle/input/2021-ml-tp4/train/1302.avi\n",
      "/kaggle/input/2021-ml-tp4/train/0304.avi\n",
      "/kaggle/input/2021-ml-tp4/train/0911.avi\n",
      "/kaggle/input/2021-ml-tp4/train/1343.avi\n",
      "/kaggle/input/2021-ml-tp4/train/0064.avi\n",
      "/kaggle/input/2021-ml-tp4/train/0852.avi\n",
      "/kaggle/input/2021-ml-tp4/train/1268.avi\n",
      "/kaggle/input/2021-ml-tp4/train/0419.avi\n",
      "/kaggle/input/2021-ml-tp4/train/1170.avi\n",
      "/kaggle/input/2021-ml-tp4/train/0750.avi\n",
      "/kaggle/input/2021-ml-tp4/train/1257.avi\n",
      "/kaggle/input/2021-ml-tp4/train/1588.avi\n",
      "/kaggle/input/2021-ml-tp4/train/0707.avi\n",
      "/kaggle/input/2021-ml-tp4/train/1770.avi\n",
      "/kaggle/input/2021-ml-tp4/train/0504.avi\n",
      "/kaggle/input/2021-ml-tp4/train/2015.avi\n",
      "/kaggle/input/2021-ml-tp4/train/0342.avi\n",
      "/kaggle/input/2021-ml-tp4/train/0319.avi\n",
      "/kaggle/input/2021-ml-tp4/train/1406.avi\n",
      "/kaggle/input/2021-ml-tp4/train/0660.avi\n",
      "/kaggle/input/2021-ml-tp4/train/0028.avi\n",
      "/kaggle/input/2021-ml-tp4/train/1180.avi\n",
      "/kaggle/input/2021-ml-tp4/train/1707.avi\n",
      "/kaggle/input/2021-ml-tp4/train/1275.avi\n",
      "/kaggle/input/2021-ml-tp4/train/1287.avi\n",
      "/kaggle/input/2021-ml-tp4/train/0631.avi\n",
      "/kaggle/input/2021-ml-tp4/train/0834.avi\n",
      "/kaggle/input/2021-ml-tp4/train/0246.avi\n",
      "/kaggle/input/2021-ml-tp4/train/0653.avi\n",
      "/kaggle/input/2021-ml-tp4/train/0266.avi\n",
      "/kaggle/input/2021-ml-tp4/train/0229.avi\n",
      "/kaggle/input/2021-ml-tp4/train/0885.avi\n",
      "/kaggle/input/2021-ml-tp4/train/0848.avi\n",
      "/kaggle/input/2021-ml-tp4/train/0190.avi\n",
      "/kaggle/input/2021-ml-tp4/train/1741.avi\n",
      "/kaggle/input/2021-ml-tp4/train/0795.avi\n",
      "/kaggle/input/2021-ml-tp4/train/1898.avi\n",
      "/kaggle/input/2021-ml-tp4/train/0500.avi\n",
      "/kaggle/input/2021-ml-tp4/train/1740.avi\n",
      "/kaggle/input/2021-ml-tp4/train/0149.avi\n",
      "/kaggle/input/2021-ml-tp4/train/1448.avi\n",
      "/kaggle/input/2021-ml-tp4/train/1362.avi\n",
      "/kaggle/input/2021-ml-tp4/train/0738.avi\n",
      "/kaggle/input/2021-ml-tp4/train/0380.avi\n",
      "/kaggle/input/2021-ml-tp4/train/1689.avi\n",
      "/kaggle/input/2021-ml-tp4/train/0686.avi\n",
      "/kaggle/input/2021-ml-tp4/train/0133.avi\n",
      "/kaggle/input/2021-ml-tp4/train/1984.avi\n",
      "/kaggle/input/2021-ml-tp4/train/1473.avi\n",
      "/kaggle/input/2021-ml-tp4/train/0055.avi\n",
      "/kaggle/input/2021-ml-tp4/train/1585.avi\n",
      "/kaggle/input/2021-ml-tp4/train/0343.avi\n",
      "/kaggle/input/2021-ml-tp4/train/1071.avi\n",
      "/kaggle/input/2021-ml-tp4/train/0572.avi\n",
      "/kaggle/input/2021-ml-tp4/train/1531.avi\n",
      "/kaggle/input/2021-ml-tp4/train/1661.avi\n",
      "/kaggle/input/2021-ml-tp4/train/0722.avi\n",
      "/kaggle/input/2021-ml-tp4/train/1058.avi\n",
      "/kaggle/input/2021-ml-tp4/train/0956.avi\n",
      "/kaggle/input/2021-ml-tp4/train/0428.avi\n",
      "/kaggle/input/2021-ml-tp4/train/1628.avi\n",
      "/kaggle/input/2021-ml-tp4/train/0351.avi\n",
      "/kaggle/input/2021-ml-tp4/train/0280.avi\n",
      "/kaggle/input/2021-ml-tp4/train/1017.avi\n",
      "/kaggle/input/2021-ml-tp4/train/1552.avi\n",
      "/kaggle/input/2021-ml-tp4/train/0475.avi\n",
      "/kaggle/input/2021-ml-tp4/train/0006.avi\n",
      "/kaggle/input/2021-ml-tp4/train/2004.avi\n",
      "/kaggle/input/2021-ml-tp4/train/1990.avi\n",
      "/kaggle/input/2021-ml-tp4/train/1169.avi\n",
      "/kaggle/input/2021-ml-tp4/train/0844.avi\n",
      "/kaggle/input/2021-ml-tp4/train/0450.avi\n",
      "/kaggle/input/2021-ml-tp4/train/0724.avi\n",
      "/kaggle/input/2021-ml-tp4/train/0964.avi\n",
      "/kaggle/input/2021-ml-tp4/train/0986.avi\n",
      "/kaggle/input/2021-ml-tp4/train/1997.avi\n",
      "/kaggle/input/2021-ml-tp4/train/1626.avi\n",
      "/kaggle/input/2021-ml-tp4/train/0151.avi\n",
      "/kaggle/input/2021-ml-tp4/train/2001.avi\n",
      "/kaggle/input/2021-ml-tp4/train/1018.avi\n",
      "/kaggle/input/2021-ml-tp4/train/0179.avi\n",
      "/kaggle/input/2021-ml-tp4/train/1496.avi\n",
      "/kaggle/input/2021-ml-tp4/train/0005.avi\n",
      "/kaggle/input/2021-ml-tp4/train/1177.avi\n",
      "/kaggle/input/2021-ml-tp4/train/1731.avi\n",
      "/kaggle/input/2021-ml-tp4/train/1527.avi\n",
      "/kaggle/input/2021-ml-tp4/train/1289.avi\n",
      "/kaggle/input/2021-ml-tp4/train/1139.avi\n",
      "/kaggle/input/2021-ml-tp4/train/0022.avi\n",
      "/kaggle/input/2021-ml-tp4/train/0784.avi\n",
      "/kaggle/input/2021-ml-tp4/train/1975.avi\n",
      "/kaggle/input/2021-ml-tp4/train/0474.avi\n",
      "/kaggle/input/2021-ml-tp4/train/0089.avi\n",
      "/kaggle/input/2021-ml-tp4/train/0908.avi\n",
      "/kaggle/input/2021-ml-tp4/train/0178.avi\n",
      "/kaggle/input/2021-ml-tp4/train/0526.avi\n",
      "/kaggle/input/2021-ml-tp4/train/1999.avi\n",
      "/kaggle/input/2021-ml-tp4/train/1084.avi\n",
      "/kaggle/input/2021-ml-tp4/train/1489.avi\n",
      "/kaggle/input/2021-ml-tp4/train/1030.avi\n",
      "/kaggle/input/2021-ml-tp4/train/0144.avi\n",
      "/kaggle/input/2021-ml-tp4/train/2000.avi\n",
      "/kaggle/input/2021-ml-tp4/train/0262.avi\n",
      "/kaggle/input/2021-ml-tp4/train/0482.avi\n",
      "/kaggle/input/2021-ml-tp4/train/0512.avi\n",
      "/kaggle/input/2021-ml-tp4/train/0764.avi\n",
      "/kaggle/input/2021-ml-tp4/train/1398.avi\n",
      "/kaggle/input/2021-ml-tp4/train/0791.avi\n",
      "/kaggle/input/2021-ml-tp4/train/1239.avi\n",
      "/kaggle/input/2021-ml-tp4/train/0394.avi\n",
      "/kaggle/input/2021-ml-tp4/train/0468.avi\n",
      "/kaggle/input/2021-ml-tp4/train/0995.avi\n",
      "/kaggle/input/2021-ml-tp4/train/0497.avi\n",
      "/kaggle/input/2021-ml-tp4/train/1764.avi\n",
      "/kaggle/input/2021-ml-tp4/train/0594.avi\n",
      "/kaggle/input/2021-ml-tp4/train/1403.avi\n",
      "/kaggle/input/2021-ml-tp4/train/0112.avi\n",
      "/kaggle/input/2021-ml-tp4/train/1535.avi\n",
      "/kaggle/input/2021-ml-tp4/train/1956.avi\n",
      "/kaggle/input/2021-ml-tp4/train/0035.avi\n",
      "/kaggle/input/2021-ml-tp4/train/0317.avi\n",
      "/kaggle/input/2021-ml-tp4/train/1229.avi\n",
      "/kaggle/input/2021-ml-tp4/train/1340.avi\n",
      "/kaggle/input/2021-ml-tp4/train/1842.avi\n",
      "/kaggle/input/2021-ml-tp4/train/1277.avi\n",
      "/kaggle/input/2021-ml-tp4/train/0856.avi\n",
      "/kaggle/input/2021-ml-tp4/train/0045.avi\n",
      "/kaggle/input/2021-ml-tp4/train/0919.avi\n",
      "/kaggle/input/2021-ml-tp4/train/0622.avi\n",
      "/kaggle/input/2021-ml-tp4/train/0426.avi\n",
      "/kaggle/input/2021-ml-tp4/train/0126.avi\n",
      "/kaggle/input/2021-ml-tp4/train/1840.avi\n",
      "/kaggle/input/2021-ml-tp4/train/1806.avi\n",
      "/kaggle/input/2021-ml-tp4/train/1077.avi\n",
      "/kaggle/input/2021-ml-tp4/train/0408.avi\n",
      "/kaggle/input/2021-ml-tp4/train/0992.avi\n",
      "/kaggle/input/2021-ml-tp4/train/1540.avi\n",
      "/kaggle/input/2021-ml-tp4/train/1495.avi\n",
      "/kaggle/input/2021-ml-tp4/train/1639.avi\n",
      "/kaggle/input/2021-ml-tp4/train/1906.avi\n",
      "/kaggle/input/2021-ml-tp4/train/1886.avi\n",
      "/kaggle/input/2021-ml-tp4/train/0624.avi\n",
      "/kaggle/input/2021-ml-tp4/train/1586.avi\n",
      "/kaggle/input/2021-ml-tp4/train/1044.avi\n",
      "/kaggle/input/2021-ml-tp4/train/0152.avi\n",
      "/kaggle/input/2021-ml-tp4/train/0270.avi\n",
      "/kaggle/input/2021-ml-tp4/train/0352.avi\n",
      "/kaggle/input/2021-ml-tp4/train/0272.avi\n",
      "/kaggle/input/2021-ml-tp4/train/0489.avi\n",
      "/kaggle/input/2021-ml-tp4/train/0987.avi\n",
      "/kaggle/input/2021-ml-tp4/train/1654.avi\n",
      "/kaggle/input/2021-ml-tp4/train/0345.avi\n",
      "/kaggle/input/2021-ml-tp4/train/1512.avi\n",
      "/kaggle/input/2021-ml-tp4/train/1537.avi\n",
      "/kaggle/input/2021-ml-tp4/train/0545.avi\n",
      "/kaggle/input/2021-ml-tp4/train/0438.avi\n",
      "/kaggle/input/2021-ml-tp4/train/0598.avi\n",
      "/kaggle/input/2021-ml-tp4/train/1785.avi\n",
      "/kaggle/input/2021-ml-tp4/train/0671.avi\n",
      "/kaggle/input/2021-ml-tp4/train/0213.avi\n",
      "/kaggle/input/2021-ml-tp4/train/1897.avi\n",
      "/kaggle/input/2021-ml-tp4/train/0103.avi\n",
      "/kaggle/input/2021-ml-tp4/train/1928.avi\n",
      "/kaggle/input/2021-ml-tp4/train/0827.avi\n",
      "/kaggle/input/2021-ml-tp4/train/1752.avi\n",
      "/kaggle/input/2021-ml-tp4/train/1563.avi\n",
      "/kaggle/input/2021-ml-tp4/train/0646.avi\n",
      "/kaggle/input/2021-ml-tp4/train/0253.avi\n",
      "/kaggle/input/2021-ml-tp4/train/0117.avi\n",
      "/kaggle/input/2021-ml-tp4/train/0484.avi\n",
      "/kaggle/input/2021-ml-tp4/train/1996.avi\n",
      "/kaggle/input/2021-ml-tp4/train/0557.avi\n",
      "/kaggle/input/2021-ml-tp4/train/0147.avi\n",
      "/kaggle/input/2021-ml-tp4/train/0473.avi\n",
      "/kaggle/input/2021-ml-tp4/train/1611.avi\n",
      "/kaggle/input/2021-ml-tp4/train/0017.avi\n",
      "/kaggle/input/2021-ml-tp4/train/1529.avi\n",
      "/kaggle/input/2021-ml-tp4/train/1434.avi\n",
      "/kaggle/input/2021-ml-tp4/train/2003.avi\n",
      "/kaggle/input/2021-ml-tp4/train/0140.avi\n",
      "/kaggle/input/2021-ml-tp4/train/1726.avi\n",
      "/kaggle/input/2021-ml-tp4/train/0705.avi\n",
      "/kaggle/input/2021-ml-tp4/train/0109.avi\n",
      "/kaggle/input/2021-ml-tp4/train/0004.avi\n",
      "/kaggle/input/2021-ml-tp4/train/1192.avi\n",
      "/kaggle/input/2021-ml-tp4/train/1813.avi\n",
      "/kaggle/input/2021-ml-tp4/train/1817.avi\n",
      "/kaggle/input/2021-ml-tp4/train/0401.avi\n",
      "/kaggle/input/2021-ml-tp4/train/0583.avi\n",
      "/kaggle/input/2021-ml-tp4/train/1600.avi\n",
      "/kaggle/input/2021-ml-tp4/train/0516.avi\n",
      "/kaggle/input/2021-ml-tp4/train/1723.avi\n",
      "/kaggle/input/2021-ml-tp4/train/0939.avi\n",
      "/kaggle/input/2021-ml-tp4/train/1280.avi\n",
      "/kaggle/input/2021-ml-tp4/train/1216.avi\n",
      "/kaggle/input/2021-ml-tp4/train/0339.avi\n",
      "/kaggle/input/2021-ml-tp4/train/1481.avi\n",
      "/kaggle/input/2021-ml-tp4/train/1347.avi\n",
      "/kaggle/input/2021-ml-tp4/train/0962.avi\n",
      "/kaggle/input/2021-ml-tp4/train/1324.avi\n",
      "/kaggle/input/2021-ml-tp4/train/1859.avi\n",
      "/kaggle/input/2021-ml-tp4/train/1087.avi\n",
      "/kaggle/input/2021-ml-tp4/train/0651.avi\n",
      "/kaggle/input/2021-ml-tp4/train/1774.avi\n",
      "/kaggle/input/2021-ml-tp4/train/1724.avi\n",
      "/kaggle/input/2021-ml-tp4/train/1914.avi\n",
      "/kaggle/input/2021-ml-tp4/train/0564.avi\n",
      "/kaggle/input/2021-ml-tp4/train/1385.avi\n",
      "/kaggle/input/2021-ml-tp4/train/0236.avi\n",
      "/kaggle/input/2021-ml-tp4/train/0119.avi\n",
      "/kaggle/input/2021-ml-tp4/train/1858.avi\n",
      "/kaggle/input/2021-ml-tp4/train/1281.avi\n",
      "/kaggle/input/2021-ml-tp4/train/0754.avi\n",
      "/kaggle/input/2021-ml-tp4/train/1915.avi\n",
      "/kaggle/input/2021-ml-tp4/train/0166.avi\n",
      "/kaggle/input/2021-ml-tp4/train/2011.avi\n",
      "/kaggle/input/2021-ml-tp4/train/1420.avi\n",
      "/kaggle/input/2021-ml-tp4/train/0665.avi\n",
      "/kaggle/input/2021-ml-tp4/train/0279.avi\n",
      "/kaggle/input/2021-ml-tp4/train/1304.avi\n",
      "/kaggle/input/2021-ml-tp4/train/1226.avi\n",
      "/kaggle/input/2021-ml-tp4/train/0917.avi\n",
      "/kaggle/input/2021-ml-tp4/train/0379.avi\n",
      "/kaggle/input/2021-ml-tp4/train/1405.avi\n",
      "/kaggle/input/2021-ml-tp4/train/1995.avi\n",
      "/kaggle/input/2021-ml-tp4/train/1812.avi\n",
      "/kaggle/input/2021-ml-tp4/train/0065.avi\n",
      "/kaggle/input/2021-ml-tp4/train/1252.avi\n",
      "/kaggle/input/2021-ml-tp4/train/1098.avi\n",
      "/kaggle/input/2021-ml-tp4/train/1637.avi\n",
      "/kaggle/input/2021-ml-tp4/train/0274.avi\n",
      "/kaggle/input/2021-ml-tp4/train/1027.avi\n",
      "/kaggle/input/2021-ml-tp4/train/1129.avi\n",
      "/kaggle/input/2021-ml-tp4/train/0058.avi\n",
      "/kaggle/input/2021-ml-tp4/train/0032.avi\n",
      "/kaggle/input/2021-ml-tp4/train/0278.avi\n",
      "/kaggle/input/2021-ml-tp4/train/0021.avi\n",
      "/kaggle/input/2021-ml-tp4/train/0051.avi\n",
      "/kaggle/input/2021-ml-tp4/train/0258.avi\n",
      "/kaggle/input/2021-ml-tp4/train/0998.avi\n",
      "/kaggle/input/2021-ml-tp4/train/1066.avi\n",
      "/kaggle/input/2021-ml-tp4/train/1797.avi\n",
      "/kaggle/input/2021-ml-tp4/train/1173.avi\n",
      "/kaggle/input/2021-ml-tp4/train/1714.avi\n",
      "/kaggle/input/2021-ml-tp4/train/0370.avi\n",
      "/kaggle/input/2021-ml-tp4/train/1205.avi\n",
      "/kaggle/input/2021-ml-tp4/train/0490.avi\n",
      "/kaggle/input/2021-ml-tp4/train/0023.avi\n",
      "/kaggle/input/2021-ml-tp4/train/1212.avi\n",
      "/kaggle/input/2021-ml-tp4/train/0461.avi\n",
      "/kaggle/input/2021-ml-tp4/train/1327.avi\n",
      "/kaggle/input/2021-ml-tp4/train/0845.avi\n",
      "/kaggle/input/2021-ml-tp4/train/1773.avi\n",
      "/kaggle/input/2021-ml-tp4/train/1715.avi\n",
      "/kaggle/input/2021-ml-tp4/train/0566.avi\n",
      "/kaggle/input/2021-ml-tp4/train/1865.avi\n",
      "/kaggle/input/2021-ml-tp4/train/1011.avi\n",
      "/kaggle/input/2021-ml-tp4/train/0431.avi\n",
      "/kaggle/input/2021-ml-tp4/train/1541.avi\n",
      "/kaggle/input/2021-ml-tp4/train/1199.avi\n",
      "/kaggle/input/2021-ml-tp4/train/1549.avi\n",
      "/kaggle/input/2021-ml-tp4/train/0443.avi\n",
      "/kaggle/input/2021-ml-tp4/train/1891.avi\n",
      "/kaggle/input/2021-ml-tp4/train/1001.avi\n",
      "/kaggle/input/2021-ml-tp4/train/0086.avi\n",
      "/kaggle/input/2021-ml-tp4/train/0120.avi\n",
      "/kaggle/input/2021-ml-tp4/train/1513.avi\n",
      "/kaggle/input/2021-ml-tp4/train/0652.avi\n",
      "/kaggle/input/2021-ml-tp4/train/0645.avi\n",
      "/kaggle/input/2021-ml-tp4/train/0137.avi\n",
      "/kaggle/input/2021-ml-tp4/train/1648.avi\n",
      "/kaggle/input/2021-ml-tp4/train/0323.avi\n",
      "/kaggle/input/2021-ml-tp4/train/1509.avi\n",
      "/kaggle/input/2021-ml-tp4/train/0772.avi\n",
      "/kaggle/input/2021-ml-tp4/train/0015.avi\n",
      "/kaggle/input/2021-ml-tp4/train/0360.avi\n",
      "/kaggle/input/2021-ml-tp4/train/0099.avi\n",
      "/kaggle/input/2021-ml-tp4/train/1912.avi\n",
      "/kaggle/input/2021-ml-tp4/train/0725.avi\n",
      "/kaggle/input/2021-ml-tp4/train/1604.avi\n",
      "/kaggle/input/2021-ml-tp4/train/0404.avi\n",
      "/kaggle/input/2021-ml-tp4/train/0283.avi\n",
      "/kaggle/input/2021-ml-tp4/train/0715.avi\n",
      "/kaggle/input/2021-ml-tp4/train/0198.avi\n",
      "/kaggle/input/2021-ml-tp4/train/0318.avi\n",
      "/kaggle/input/2021-ml-tp4/train/1413.avi\n",
      "/kaggle/input/2021-ml-tp4/train/0679.avi\n",
      "/kaggle/input/2021-ml-tp4/train/0940.avi\n",
      "/kaggle/input/2021-ml-tp4/train/1733.avi\n",
      "/kaggle/input/2021-ml-tp4/train/1777.avi\n",
      "/kaggle/input/2021-ml-tp4/train/1078.avi\n",
      "/kaggle/input/2021-ml-tp4/train/0199.avi\n",
      "/kaggle/input/2021-ml-tp4/train/0558.avi\n",
      "/kaggle/input/2021-ml-tp4/train/1279.avi\n",
      "/kaggle/input/2021-ml-tp4/train/0230.avi\n",
      "/kaggle/input/2021-ml-tp4/train/0892.avi\n",
      "/kaggle/input/2021-ml-tp4/train/1841.avi\n",
      "/kaggle/input/2021-ml-tp4/train/0733.avi\n",
      "/kaggle/input/2021-ml-tp4/train/1673.avi\n",
      "/kaggle/input/2021-ml-tp4/train/1161.avi\n",
      "/kaggle/input/2021-ml-tp4/train/0299.avi\n",
      "/kaggle/input/2021-ml-tp4/train/0295.avi\n",
      "/kaggle/input/2021-ml-tp4/train/0997.avi\n",
      "/kaggle/input/2021-ml-tp4/train/0331.avi\n",
      "/kaggle/input/2021-ml-tp4/train/1902.avi\n",
      "/kaggle/input/2021-ml-tp4/train/1557.avi\n",
      "/kaggle/input/2021-ml-tp4/train/0391.avi\n",
      "/kaggle/input/2021-ml-tp4/train/0813.avi\n",
      "/kaggle/input/2021-ml-tp4/train/0999.avi\n",
      "/kaggle/input/2021-ml-tp4/train/0642.avi\n",
      "/kaggle/input/2021-ml-tp4/train/1826.avi\n",
      "/kaggle/input/2021-ml-tp4/train/1957.avi\n",
      "/kaggle/input/2021-ml-tp4/train/0975.avi\n",
      "/kaggle/input/2021-ml-tp4/train/0765.avi\n",
      "/kaggle/input/2021-ml-tp4/train/1754.avi\n",
      "/kaggle/input/2021-ml-tp4/train/0358.avi\n",
      "/kaggle/input/2021-ml-tp4/train/1500.avi\n",
      "/kaggle/input/2021-ml-tp4/train/1494.avi\n",
      "/kaggle/input/2021-ml-tp4/train/0592.avi\n",
      "/kaggle/input/2021-ml-tp4/train/0582.avi\n",
      "/kaggle/input/2021-ml-tp4/train/1067.avi\n",
      "/kaggle/input/2021-ml-tp4/train/0224.avi\n",
      "/kaggle/input/2021-ml-tp4/train/0749.avi\n",
      "/kaggle/input/2021-ml-tp4/train/1248.avi\n",
      "/kaggle/input/2021-ml-tp4/train/1346.avi\n",
      "/kaggle/input/2021-ml-tp4/train/0510.avi\n",
      "/kaggle/input/2021-ml-tp4/train/0535.avi\n",
      "/kaggle/input/2021-ml-tp4/train/1378.avi\n",
      "/kaggle/input/2021-ml-tp4/train/0507.avi\n",
      "/kaggle/input/2021-ml-tp4/train/1442.avi\n",
      "/kaggle/input/2021-ml-tp4/train/0601.avi\n",
      "/kaggle/input/2021-ml-tp4/train/1616.avi\n",
      "/kaggle/input/2021-ml-tp4/train/0457.avi\n",
      "/kaggle/input/2021-ml-tp4/train/0493.avi\n",
      "/kaggle/input/2021-ml-tp4/train/1143.avi\n",
      "/kaggle/input/2021-ml-tp4/train/0650.avi\n",
      "/kaggle/input/2021-ml-tp4/train/0587.avi\n",
      "/kaggle/input/2021-ml-tp4/train/1187.avi\n",
      "/kaggle/input/2021-ml-tp4/train/1760.avi\n",
      "/kaggle/input/2021-ml-tp4/train/0400.avi\n",
      "/kaggle/input/2021-ml-tp4/train/0314.avi\n",
      "/kaggle/input/2021-ml-tp4/train/1083.avi\n",
      "/kaggle/input/2021-ml-tp4/train/0657.avi\n",
      "/kaggle/input/2021-ml-tp4/train/0692.avi\n",
      "/kaggle/input/2021-ml-tp4/train/1702.avi\n",
      "/kaggle/input/2021-ml-tp4/train/0320.avi\n",
      "/kaggle/input/2021-ml-tp4/train/1200.avi\n",
      "/kaggle/input/2021-ml-tp4/train/0536.avi\n",
      "/kaggle/input/2021-ml-tp4/train/0959.avi\n",
      "/kaggle/input/2021-ml-tp4/train/1364.avi\n",
      "/kaggle/input/2021-ml-tp4/train/1359.avi\n",
      "/kaggle/input/2021-ml-tp4/train/1705.avi\n",
      "/kaggle/input/2021-ml-tp4/train/0556.avi\n",
      "/kaggle/input/2021-ml-tp4/train/0805.avi\n",
      "/kaggle/input/2021-ml-tp4/train/1649.avi\n",
      "/kaggle/input/2021-ml-tp4/train/0160.avi\n",
      "/kaggle/input/2021-ml-tp4/train/1072.avi\n",
      "/kaggle/input/2021-ml-tp4/train/1175.avi\n",
      "/kaggle/input/2021-ml-tp4/train/0836.avi\n",
      "/kaggle/input/2021-ml-tp4/train/1290.avi\n",
      "/kaggle/input/2021-ml-tp4/train/0851.avi\n",
      "/kaggle/input/2021-ml-tp4/train/0000.avi\n",
      "/kaggle/input/2021-ml-tp4/train/1972.avi\n",
      "/kaggle/input/2021-ml-tp4/train/1191.avi\n",
      "/kaggle/input/2021-ml-tp4/train/0168.avi\n",
      "/kaggle/input/2021-ml-tp4/train/2017.avi\n",
      "/kaggle/input/2021-ml-tp4/train/0683.avi\n",
      "/kaggle/input/2021-ml-tp4/train/1195.avi\n",
      "/kaggle/input/2021-ml-tp4/train/0202.avi\n",
      "/kaggle/input/2021-ml-tp4/train/1244.avi\n",
      "/kaggle/input/2021-ml-tp4/train/1620.avi\n",
      "/kaggle/input/2021-ml-tp4/train/1678.avi\n",
      "/kaggle/input/2021-ml-tp4/train/1288.avi\n",
      "/kaggle/input/2021-ml-tp4/train/0916.avi\n",
      "/kaggle/input/2021-ml-tp4/train/0991.avi\n",
      "/kaggle/input/2021-ml-tp4/train/2006.avi\n",
      "/kaggle/input/2021-ml-tp4/train/0328.avi\n",
      "/kaggle/input/2021-ml-tp4/train/1867.avi\n",
      "/kaggle/input/2021-ml-tp4/train/0704.avi\n",
      "/kaggle/input/2021-ml-tp4/train/0469.avi\n",
      "/kaggle/input/2021-ml-tp4/train/1916.avi\n",
      "/kaggle/input/2021-ml-tp4/train/0633.avi\n",
      "/kaggle/input/2021-ml-tp4/train/0533.avi\n",
      "/kaggle/input/2021-ml-tp4/train/0615.avi\n",
      "/kaggle/input/2021-ml-tp4/train/1437.avi\n",
      "/kaggle/input/2021-ml-tp4/train/1993.avi\n",
      "/kaggle/input/2021-ml-tp4/train/1569.avi\n",
      "/kaggle/input/2021-ml-tp4/train/1236.avi\n",
      "/kaggle/input/2021-ml-tp4/train/0899.avi\n",
      "/kaggle/input/2021-ml-tp4/train/1730.avi\n",
      "/kaggle/input/2021-ml-tp4/train/1516.avi\n",
      "/kaggle/input/2021-ml-tp4/train/0403.avi\n",
      "/kaggle/input/2021-ml-tp4/train/1110.avi\n",
      "/kaggle/input/2021-ml-tp4/train/1539.avi\n",
      "/kaggle/input/2021-ml-tp4/train/0078.avi\n",
      "/kaggle/input/2021-ml-tp4/train/1528.avi\n",
      "/kaggle/input/2021-ml-tp4/train/1766.avi\n",
      "/kaggle/input/2021-ml-tp4/train/1861.avi\n",
      "/kaggle/input/2021-ml-tp4/train/1587.avi\n",
      "/kaggle/input/2021-ml-tp4/train/1819.avi\n",
      "/kaggle/input/2021-ml-tp4/train/1908.avi\n",
      "/kaggle/input/2021-ml-tp4/train/0009.avi\n",
      "/kaggle/input/2021-ml-tp4/train/1477.avi\n",
      "/kaggle/input/2021-ml-tp4/train/1230.avi\n",
      "/kaggle/input/2021-ml-tp4/train/1014.avi\n",
      "/kaggle/input/2021-ml-tp4/train/1298.avi\n",
      "/kaggle/input/2021-ml-tp4/train/0289.avi\n",
      "/kaggle/input/2021-ml-tp4/train/1353.avi\n",
      "/kaggle/input/2021-ml-tp4/train/0312.avi\n",
      "/kaggle/input/2021-ml-tp4/train/0675.avi\n",
      "/kaggle/input/2021-ml-tp4/train/0870.avi\n",
      "/kaggle/input/2021-ml-tp4/train/0053.avi\n",
      "/kaggle/input/2021-ml-tp4/train/1051.avi\n",
      "/kaggle/input/2021-ml-tp4/train/0203.avi\n",
      "/kaggle/input/2021-ml-tp4/train/1921.avi\n",
      "/kaggle/input/2021-ml-tp4/train/0371.avi\n",
      "/kaggle/input/2021-ml-tp4/train/1771.avi\n",
      "/kaggle/input/2021-ml-tp4/train/0508.avi\n",
      "/kaggle/input/2021-ml-tp4/train/0974.avi\n",
      "/kaggle/input/2021-ml-tp4/train/1000.avi\n",
      "/kaggle/input/2021-ml-tp4/train/0977.avi\n",
      "/kaggle/input/2021-ml-tp4/train/1126.avi\n",
      "/kaggle/input/2021-ml-tp4/train/1074.avi\n",
      "/kaggle/input/2021-ml-tp4/train/1278.avi\n",
      "/kaggle/input/2021-ml-tp4/train/0365.avi\n",
      "/kaggle/input/2021-ml-tp4/train/1166.avi\n",
      "/kaggle/input/2021-ml-tp4/train/0273.avi\n",
      "/kaggle/input/2021-ml-tp4/train/1743.avi\n",
      "/kaggle/input/2021-ml-tp4/train/0327.avi\n",
      "/kaggle/input/2021-ml-tp4/train/0745.avi\n",
      "/kaggle/input/2021-ml-tp4/train/0459.avi\n",
      "/kaggle/input/2021-ml-tp4/train/1977.avi\n",
      "/kaggle/input/2021-ml-tp4/train/1650.avi\n",
      "/kaggle/input/2021-ml-tp4/train/0340.avi\n",
      "/kaggle/input/2021-ml-tp4/train/1178.avi\n",
      "/kaggle/input/2021-ml-tp4/train/0634.avi\n",
      "/kaggle/input/2021-ml-tp4/train/0218.avi\n",
      "/kaggle/input/2021-ml-tp4/train/1779.avi\n",
      "/kaggle/input/2021-ml-tp4/train/0682.avi\n",
      "/kaggle/input/2021-ml-tp4/train/0687.avi\n",
      "/kaggle/input/2021-ml-tp4/train/1640.avi\n",
      "/kaggle/input/2021-ml-tp4/train/1831.avi\n",
      "/kaggle/input/2021-ml-tp4/train/0425.avi\n",
      "/kaggle/input/2021-ml-tp4/train/1247.avi\n",
      "/kaggle/input/2021-ml-tp4/train/1642.avi\n",
      "/kaggle/input/2021-ml-tp4/train/0254.avi\n",
      "/kaggle/input/2021-ml-tp4/train/1189.avi\n",
      "/kaggle/input/2021-ml-tp4/train/1781.avi\n",
      "/kaggle/input/2021-ml-tp4/train/0830.avi\n",
      "/kaggle/input/2021-ml-tp4/train/0994.avi\n",
      "/kaggle/input/2021-ml-tp4/train/0296.avi\n",
      "/kaggle/input/2021-ml-tp4/train/0714.avi\n",
      "/kaggle/input/2021-ml-tp4/train/0063.avi\n",
      "/kaggle/input/2021-ml-tp4/train/0061.avi\n",
      "/kaggle/input/2021-ml-tp4/train/0487.avi\n",
      "/kaggle/input/2021-ml-tp4/train/0835.avi\n",
      "/kaggle/input/2021-ml-tp4/train/1162.avi\n",
      "/kaggle/input/2021-ml-tp4/train/1913.avi\n",
      "/kaggle/input/2021-ml-tp4/train/1333.avi\n",
      "/kaggle/input/2021-ml-tp4/train/0928.avi\n",
      "/kaggle/input/2021-ml-tp4/train/0609.avi\n",
      "/kaggle/input/2021-ml-tp4/train/0127.avi\n",
      "/kaggle/input/2021-ml-tp4/train/1696.avi\n",
      "/kaggle/input/2021-ml-tp4/train/1450.avi\n",
      "/kaggle/input/2021-ml-tp4/train/1844.avi\n",
      "/kaggle/input/2021-ml-tp4/train/0625.avi\n",
      "/kaggle/input/2021-ml-tp4/train/0666.avi\n",
      "/kaggle/input/2021-ml-tp4/train/0029.avi\n",
      "/kaggle/input/2021-ml-tp4/train/1046.avi\n",
      "/kaggle/input/2021-ml-tp4/train/0927.avi\n",
      "/kaggle/input/2021-ml-tp4/train/0492.avi\n",
      "/kaggle/input/2021-ml-tp4/train/1976.avi\n",
      "/kaggle/input/2021-ml-tp4/train/1801.avi\n",
      "/kaggle/input/2021-ml-tp4/train/0182.avi\n",
      "/kaggle/input/2021-ml-tp4/train/0515.avi\n",
      "/kaggle/input/2021-ml-tp4/train/1003.avi\n",
      "/kaggle/input/2021-ml-tp4/train/1790.avi\n",
      "/kaggle/input/2021-ml-tp4/train/1392.avi\n",
      "/kaggle/input/2021-ml-tp4/train/1102.avi\n",
      "/kaggle/input/2021-ml-tp4/train/0697.avi\n",
      "/kaggle/input/2021-ml-tp4/train/0341.avi\n",
      "/kaggle/input/2021-ml-tp4/train/0350.avi\n",
      "/kaggle/input/2021-ml-tp4/train/0734.avi\n",
      "/kaggle/input/2021-ml-tp4/train/1258.avi\n",
      "/kaggle/input/2021-ml-tp4/train/0553.avi\n",
      "/kaggle/input/2021-ml-tp4/train/1711.avi\n",
      "/kaggle/input/2021-ml-tp4/train/1829.avi\n",
      "/kaggle/input/2021-ml-tp4/train/1235.avi\n",
      "/kaggle/input/2021-ml-tp4/train/0637.avi\n",
      "/kaggle/input/2021-ml-tp4/train/1625.avi\n",
      "/kaggle/input/2021-ml-tp4/train/0561.avi\n",
      "/kaggle/input/2021-ml-tp4/train/1395.avi\n",
      "/kaggle/input/2021-ml-tp4/train/0079.avi\n",
      "/kaggle/input/2021-ml-tp4/train/1638.avi\n",
      "/kaggle/input/2021-ml-tp4/train/1029.avi\n",
      "/kaggle/input/2021-ml-tp4/train/1319.avi\n",
      "/kaggle/input/2021-ml-tp4/train/0577.avi\n",
      "/kaggle/input/2021-ml-tp4/train/1643.avi\n",
      "/kaggle/input/2021-ml-tp4/train/0840.avi\n",
      "/kaggle/input/2021-ml-tp4/train/0288.avi\n",
      "/kaggle/input/2021-ml-tp4/train/1948.avi\n",
      "/kaggle/input/2021-ml-tp4/train/1451.avi\n",
      "/kaggle/input/2021-ml-tp4/train/1415.avi\n",
      "/kaggle/input/2021-ml-tp4/train/1852.avi\n",
      "/kaggle/input/2021-ml-tp4/train/0898.avi\n",
      "/kaggle/input/2021-ml-tp4/train/1480.avi\n",
      "/kaggle/input/2021-ml-tp4/train/1224.avi\n",
      "/kaggle/input/2021-ml-tp4/train/1945.avi\n",
      "/kaggle/input/2021-ml-tp4/train/1209.avi\n",
      "/kaggle/input/2021-ml-tp4/train/0511.avi\n",
      "/kaggle/input/2021-ml-tp4/train/1163.avi\n",
      "/kaggle/input/2021-ml-tp4/train/0882.avi\n",
      "/kaggle/input/2021-ml-tp4/train/0688.avi\n",
      "/kaggle/input/2021-ml-tp4/train/1393.avi\n",
      "/kaggle/input/2021-ml-tp4/train/0277.avi\n",
      "/kaggle/input/2021-ml-tp4/train/0180.avi\n",
      "/kaggle/input/2021-ml-tp4/train/1624.avi\n",
      "/kaggle/input/2021-ml-tp4/train/0739.avi\n",
      "/kaggle/input/2021-ml-tp4/train/0284.avi\n",
      "/kaggle/input/2021-ml-tp4/train/1498.avi\n",
      "/kaggle/input/2021-ml-tp4/train/0110.avi\n",
      "/kaggle/input/2021-ml-tp4/train/1251.avi\n",
      "/kaggle/input/2021-ml-tp4/train/1907.avi\n",
      "/kaggle/input/2021-ml-tp4/train/1851.avi\n",
      "/kaggle/input/2021-ml-tp4/train/1368.avi\n",
      "/kaggle/input/2021-ml-tp4/train/1218.avi\n",
      "/kaggle/input/2021-ml-tp4/train/0242.avi\n",
      "/kaggle/input/2021-ml-tp4/train/1351.avi\n",
      "/kaggle/input/2021-ml-tp4/train/1855.avi\n",
      "/kaggle/input/2021-ml-tp4/train/1782.avi\n",
      "/kaggle/input/2021-ml-tp4/train/0849.avi\n",
      "/kaggle/input/2021-ml-tp4/train/0305.avi\n",
      "/kaggle/input/2021-ml-tp4/train/1323.avi\n",
      "/kaggle/input/2021-ml-tp4/train/0797.avi\n",
      "/kaggle/input/2021-ml-tp4/train/0540.avi\n",
      "/kaggle/input/2021-ml-tp4/train/0470.avi\n",
      "/kaggle/input/2021-ml-tp4/train/0227.avi\n",
      "/kaggle/input/2021-ml-tp4/train/1521.avi\n",
      "/kaggle/input/2021-ml-tp4/train/1449.avi\n",
      "/kaggle/input/2021-ml-tp4/train/0315.avi\n",
      "/kaggle/input/2021-ml-tp4/train/0456.avi\n",
      "/kaggle/input/2021-ml-tp4/train/1722.avi\n",
      "/kaggle/input/2021-ml-tp4/train/1344.avi\n",
      "/kaggle/input/2021-ml-tp4/train/0172.avi\n",
      "/kaggle/input/2021-ml-tp4/train/1255.avi\n",
      "/kaggle/input/2021-ml-tp4/train/1629.avi\n",
      "/kaggle/input/2021-ml-tp4/train/0604.avi\n",
      "/kaggle/input/2021-ml-tp4/train/1803.avi\n",
      "/kaggle/input/2021-ml-tp4/train/0858.avi\n",
      "/kaggle/input/2021-ml-tp4/train/0175.avi\n",
      "/kaggle/input/2021-ml-tp4/train/0766.avi\n",
      "/kaggle/input/2021-ml-tp4/train/1566.avi\n",
      "/kaggle/input/2021-ml-tp4/train/1998.avi\n",
      "/kaggle/input/2021-ml-tp4/train/0251.avi\n",
      "/kaggle/input/2021-ml-tp4/train/0758.avi\n",
      "/kaggle/input/2021-ml-tp4/train/0955.avi\n",
      "/kaggle/input/2021-ml-tp4/train/0034.avi\n",
      "/kaggle/input/2021-ml-tp4/train/1269.avi\n",
      "/kaggle/input/2021-ml-tp4/train/1968.avi\n",
      "/kaggle/input/2021-ml-tp4/train/1721.avi\n",
      "/kaggle/input/2021-ml-tp4/train/0701.avi\n",
      "/kaggle/input/2021-ml-tp4/train/1684.avi\n",
      "/kaggle/input/2021-ml-tp4/train/1571.avi\n",
      "/kaggle/input/2021-ml-tp4/train/1073.avi\n",
      "/kaggle/input/2021-ml-tp4/train/0559.avi\n",
      "/kaggle/input/2021-ml-tp4/train/1551.avi\n",
      "/kaggle/input/2021-ml-tp4/train/0918.avi\n",
      "/kaggle/input/2021-ml-tp4/train/0864.avi\n",
      "/kaggle/input/2021-ml-tp4/train/1901.avi\n",
      "/kaggle/input/2021-ml-tp4/train/1127.avi\n",
      "/kaggle/input/2021-ml-tp4/train/1944.avi\n",
      "/kaggle/input/2021-ml-tp4/train/1445.avi\n",
      "/kaggle/input/2021-ml-tp4/train/0542.avi\n",
      "/kaggle/input/2021-ml-tp4/train/0424.avi\n",
      "/kaggle/input/2021-ml-tp4/train/1874.avi\n",
      "/kaggle/input/2021-ml-tp4/train/0881.avi\n",
      "/kaggle/input/2021-ml-tp4/train/1124.avi\n",
      "/kaggle/input/2021-ml-tp4/train/1042.avi\n",
      "/kaggle/input/2021-ml-tp4/train/1059.avi\n",
      "/kaggle/input/2021-ml-tp4/train/0085.avi\n",
      "/kaggle/input/2021-ml-tp4/train/1315.avi\n",
      "/kaggle/input/2021-ml-tp4/train/1104.avi\n",
      "/kaggle/input/2021-ml-tp4/train/0101.avi\n",
      "/kaggle/input/2021-ml-tp4/train/2014.avi\n",
      "/kaggle/input/2021-ml-tp4/train/1010.avi\n",
      "/kaggle/input/2021-ml-tp4/train/1923.avi\n",
      "/kaggle/input/2021-ml-tp4/train/0308.avi\n",
      "/kaggle/input/2021-ml-tp4/train/1054.avi\n",
      "/kaggle/input/2021-ml-tp4/train/0249.avi\n",
      "/kaggle/input/2021-ml-tp4/train/0412.avi\n",
      "/kaggle/input/2021-ml-tp4/train/1214.avi\n",
      "/kaggle/input/2021-ml-tp4/train/1594.avi\n",
      "/kaggle/input/2021-ml-tp4/train/1228.avi\n",
      "/kaggle/input/2021-ml-tp4/train/1796.avi\n",
      "/kaggle/input/2021-ml-tp4/train/1240.avi\n",
      "/kaggle/input/2021-ml-tp4/train/1805.avi\n",
      "/kaggle/input/2021-ml-tp4/train/0547.avi\n",
      "/kaggle/input/2021-ml-tp4/train/1615.avi\n",
      "/kaggle/input/2021-ml-tp4/train/0070.avi\n",
      "/kaggle/input/2021-ml-tp4/train/1086.avi\n",
      "/kaggle/input/2021-ml-tp4/train/1259.avi\n",
      "/kaggle/input/2021-ml-tp4/train/1655.avi\n",
      "/kaggle/input/2021-ml-tp4/train/1646.avi\n",
      "/kaggle/input/2021-ml-tp4/train/1202.avi\n",
      "/kaggle/input/2021-ml-tp4/train/1596.avi\n",
      "/kaggle/input/2021-ml-tp4/train/0934.avi\n",
      "/kaggle/input/2021-ml-tp4/train/0411.avi\n",
      "/kaggle/input/2021-ml-tp4/train/2002.avi\n",
      "/kaggle/input/2021-ml-tp4/train/0674.avi\n",
      "/kaggle/input/2021-ml-tp4/train/1409.avi\n",
      "/kaggle/input/2021-ml-tp4/train/0817.avi\n",
      "/kaggle/input/2021-ml-tp4/train/0829.avi\n",
      "/kaggle/input/2021-ml-tp4/train/0698.avi\n",
      "/kaggle/input/2021-ml-tp4/train/1848.avi\n",
      "/kaggle/input/2021-ml-tp4/train/1373.avi\n",
      "/kaggle/input/2021-ml-tp4/train/0720.avi\n",
      "/kaggle/input/2021-ml-tp4/train/1658.avi\n",
      "/kaggle/input/2021-ml-tp4/train/0073.avi\n",
      "/kaggle/input/2021-ml-tp4/train/0988.avi\n",
      "/kaggle/input/2021-ml-tp4/train/1479.avi\n",
      "/kaggle/input/2021-ml-tp4/train/1380.avi\n",
      "/kaggle/input/2021-ml-tp4/train/0192.avi\n",
      "/kaggle/input/2021-ml-tp4/train/1337.avi\n",
      "/kaggle/input/2021-ml-tp4/train/1894.avi\n",
      "/kaggle/input/2021-ml-tp4/train/1331.avi\n",
      "/kaggle/input/2021-ml-tp4/train/0794.avi\n",
      "/kaggle/input/2021-ml-tp4/train/1423.avi\n",
      "/kaggle/input/2021-ml-tp4/train/0562.avi\n",
      "/kaggle/input/2021-ml-tp4/train/0276.avi\n",
      "/kaggle/input/2021-ml-tp4/train/1621.avi\n",
      "/kaggle/input/2021-ml-tp4/train/1983.avi\n",
      "/kaggle/input/2021-ml-tp4/train/1140.avi\n",
      "/kaggle/input/2021-ml-tp4/train/1973.avi\n",
      "/kaggle/input/2021-ml-tp4/train/1949.avi\n",
      "/kaggle/input/2021-ml-tp4/train/1720.avi\n",
      "/kaggle/input/2021-ml-tp4/train/0437.avi\n",
      "/kaggle/input/2021-ml-tp4/train/0661.avi\n",
      "/kaggle/input/2021-ml-tp4/train/0209.avi\n",
      "/kaggle/input/2021-ml-tp4/train/1772.avi\n",
      "/kaggle/input/2021-ml-tp4/train/1009.avi\n",
      "/kaggle/input/2021-ml-tp4/train/1641.avi\n",
      "/kaggle/input/2021-ml-tp4/train/0850.avi\n",
      "/kaggle/input/2021-ml-tp4/train/1734.avi\n",
      "/kaggle/input/2021-ml-tp4/train/0297.avi\n",
      "/kaggle/input/2021-ml-tp4/train/1387.avi\n",
      "/kaggle/input/2021-ml-tp4/train/1962.avi\n",
      "/kaggle/input/2021-ml-tp4/train/1106.avi\n",
      "/kaggle/input/2021-ml-tp4/train/1543.avi\n",
      "/kaggle/input/2021-ml-tp4/train/0501.avi\n",
      "/kaggle/input/2021-ml-tp4/train/0699.avi\n",
      "/kaggle/input/2021-ml-tp4/train/1047.avi\n",
      "/kaggle/input/2021-ml-tp4/train/1964.avi\n",
      "/kaggle/input/2021-ml-tp4/train/1759.avi\n",
      "/kaggle/input/2021-ml-tp4/train/1491.avi\n",
      "/kaggle/input/2021-ml-tp4/train/0837.avi\n",
      "/kaggle/input/2021-ml-tp4/train/0334.avi\n",
      "/kaggle/input/2021-ml-tp4/train/0985.avi\n",
      "/kaggle/input/2021-ml-tp4/train/0153.avi\n",
      "/kaggle/input/2021-ml-tp4/train/0421.avi\n",
      "/kaggle/input/2021-ml-tp4/train/0030.avi\n",
      "/kaggle/input/2021-ml-tp4/train/0337.avi\n",
      "/kaggle/input/2021-ml-tp4/train/0293.avi\n",
      "/kaggle/input/2021-ml-tp4/train/0746.avi\n",
      "/kaggle/input/2021-ml-tp4/train/0201.avi\n",
      "/kaggle/input/2021-ml-tp4/train/0220.avi\n",
      "/kaggle/input/2021-ml-tp4/train/1538.avi\n",
      "/kaggle/input/2021-ml-tp4/train/0231.avi\n",
      "/kaggle/input/2021-ml-tp4/train/0767.avi\n",
      "/kaggle/input/2021-ml-tp4/train/1561.avi\n",
      "/kaggle/input/2021-ml-tp4/train/1965.avi\n",
      "/kaggle/input/2021-ml-tp4/train/1375.avi\n",
      "/kaggle/input/2021-ml-tp4/train/1352.avi\n",
      "/kaggle/input/2021-ml-tp4/train/1039.avi\n",
      "/kaggle/input/2021-ml-tp4/train/0779.avi\n",
      "/kaggle/input/2021-ml-tp4/train/1291.avi\n",
      "/kaggle/input/2021-ml-tp4/train/0292.avi\n",
      "/kaggle/input/2021-ml-tp4/train/0641.avi\n",
      "/kaggle/input/2021-ml-tp4/train/0820.avi\n",
      "/kaggle/input/2021-ml-tp4/train/1138.avi\n",
      "/kaggle/input/2021-ml-tp4/train/1937.avi\n",
      "/kaggle/input/2021-ml-tp4/train/1299.avi\n",
      "/kaggle/input/2021-ml-tp4/train/0164.avi\n",
      "/kaggle/input/2021-ml-tp4/train/1499.avi\n",
      "/kaggle/input/2021-ml-tp4/train/1429.avi\n",
      "/kaggle/input/2021-ml-tp4/train/0681.avi\n",
      "/kaggle/input/2021-ml-tp4/train/1391.avi\n",
      "/kaggle/input/2021-ml-tp4/train/0221.avi\n",
      "/kaggle/input/2021-ml-tp4/train/1904.avi\n",
      "/kaggle/input/2021-ml-tp4/train/0945.avi\n",
      "/kaggle/input/2021-ml-tp4/train/1636.avi\n",
      "/kaggle/input/2021-ml-tp4/train/1186.avi\n",
      "/kaggle/input/2021-ml-tp4/train/1545.avi\n",
      "/kaggle/input/2021-ml-tp4/train/1390.avi\n",
      "/kaggle/input/2021-ml-tp4/train/1416.avi\n",
      "/kaggle/input/2021-ml-tp4/train/1141.avi\n",
      "/kaggle/input/2021-ml-tp4/train/0871.avi\n",
      "/kaggle/input/2021-ml-tp4/train/0925.avi\n",
      "/kaggle/input/2021-ml-tp4/train/1425.avi\n",
      "/kaggle/input/2021-ml-tp4/train/1128.avi\n",
      "/kaggle/input/2021-ml-tp4/train/1107.avi\n",
      "/kaggle/input/2021-ml-tp4/train/0743.avi\n",
      "/kaggle/input/2021-ml-tp4/train/0060.avi\n",
      "/kaggle/input/2021-ml-tp4/train/1467.avi\n",
      "/kaggle/input/2021-ml-tp4/train/1974.avi\n",
      "/kaggle/input/2021-ml-tp4/train/0038.avi\n",
      "/kaggle/input/2021-ml-tp4/train/1435.avi\n",
      "/kaggle/input/2021-ml-tp4/train/0111.avi\n",
      "/kaggle/input/2021-ml-tp4/train/0069.avi\n",
      "/kaggle/input/2021-ml-tp4/train/0207.avi\n",
      "/kaggle/input/2021-ml-tp4/train/0287.avi\n",
      "/kaggle/input/2021-ml-tp4/train/0290.avi\n",
      "/kaggle/input/2021-ml-tp4/train/1363.avi\n",
      "/kaggle/input/2021-ml-tp4/train/0092.avi\n",
      "/kaggle/input/2021-ml-tp4/train/1440.avi\n",
      "/kaggle/input/2021-ml-tp4/train/0942.avi\n",
      "/kaggle/input/2021-ml-tp4/train/0756.avi\n",
      "/kaggle/input/2021-ml-tp4/train/0807.avi\n",
      "/kaggle/input/2021-ml-tp4/train/0989.avi\n",
      "/kaggle/input/2021-ml-tp4/train/0235.avi\n",
      "/kaggle/input/2021-ml-tp4/train/1117.avi\n",
      "/kaggle/input/2021-ml-tp4/train/1025.avi\n",
      "/kaggle/input/2021-ml-tp4/train/0878.avi\n",
      "/kaggle/input/2021-ml-tp4/train/1487.avi\n",
      "/kaggle/input/2021-ml-tp4/train/0619.avi\n",
      "/kaggle/input/2021-ml-tp4/train/0460.avi\n",
      "/kaggle/input/2021-ml-tp4/train/1936.avi\n",
      "/kaggle/input/2021-ml-tp4/train/0709.avi\n",
      "/kaggle/input/2021-ml-tp4/train/0938.avi\n",
      "/kaggle/input/2021-ml-tp4/train/0731.avi\n",
      "/kaggle/input/2021-ml-tp4/train/1835.avi\n",
      "/kaggle/input/2021-ml-tp4/train/1125.avi\n",
      "/kaggle/input/2021-ml-tp4/train/0059.avi\n",
      "/kaggle/input/2021-ml-tp4/train/1618.avi\n",
      "/kaggle/input/2021-ml-tp4/train/0656.avi\n",
      "/kaggle/input/2021-ml-tp4/train/1309.avi\n",
      "/kaggle/input/2021-ml-tp4/train/1242.avi\n",
      "/kaggle/input/2021-ml-tp4/train/0711.avi\n",
      "/kaggle/input/2021-ml-tp4/train/0926.avi\n",
      "/kaggle/input/2021-ml-tp4/train/1005.avi\n",
      "/kaggle/input/2021-ml-tp4/train/1749.avi\n",
      "/kaggle/input/2021-ml-tp4/train/1981.avi\n",
      "/kaggle/input/2021-ml-tp4/train/0747.avi\n",
      "/kaggle/input/2021-ml-tp4/train/1402.avi\n",
      "/kaggle/input/2021-ml-tp4/train/0861.avi\n",
      "/kaggle/input/2021-ml-tp4/train/1397.avi\n",
      "/kaggle/input/2021-ml-tp4/train/1090.avi\n",
      "/kaggle/input/2021-ml-tp4/train/1455.avi\n",
      "/kaggle/input/2021-ml-tp4/train/0973.avi\n",
      "/kaggle/input/2021-ml-tp4/train/1868.avi\n",
      "/kaggle/input/2021-ml-tp4/train/0669.avi\n",
      "/kaggle/input/2021-ml-tp4/train/0532.avi\n",
      "/kaggle/input/2021-ml-tp4/train/1525.avi\n",
      "/kaggle/input/2021-ml-tp4/train/0929.avi\n",
      "/kaggle/input/2021-ml-tp4/train/1988.avi\n",
      "/kaggle/input/2021-ml-tp4/train/0158.avi\n",
      "/kaggle/input/2021-ml-tp4/train/0897.avi\n",
      "/kaggle/input/2021-ml-tp4/train/1804.avi\n",
      "/kaggle/input/2021-ml-tp4/train/0607.avi\n",
      "/kaggle/input/2021-ml-tp4/train/0014.avi\n",
      "/kaggle/input/2021-ml-tp4/train/0451.avi\n",
      "/kaggle/input/2021-ml-tp4/train/1045.avi\n",
      "/kaggle/input/2021-ml-tp4/train/1683.avi\n",
      "/kaggle/input/2021-ml-tp4/train/1360.avi\n",
      "/kaggle/input/2021-ml-tp4/train/1633.avi\n",
      "/kaggle/input/2021-ml-tp4/train/1350.avi\n",
      "/kaggle/input/2021-ml-tp4/train/0884.avi\n",
      "/kaggle/input/2021-ml-tp4/train/1034.avi\n",
      "/kaggle/input/2021-ml-tp4/train/0629.avi\n",
      "/kaggle/input/2021-ml-tp4/train/1910.avi\n",
      "/kaggle/input/2021-ml-tp4/train/1838.avi\n",
      "/kaggle/input/2021-ml-tp4/train/0541.avi\n",
      "/kaggle/input/2021-ml-tp4/train/1101.avi\n",
      "/kaggle/input/2021-ml-tp4/train/1706.avi\n",
      "/kaggle/input/2021-ml-tp4/train/2012.avi\n",
      "/kaggle/input/2021-ml-tp4/train/0612.avi\n",
      "/kaggle/input/2021-ml-tp4/train/0990.avi\n",
      "/kaggle/input/2021-ml-tp4/train/1630.avi\n",
      "/kaggle/input/2021-ml-tp4/train/1892.avi\n",
      "/kaggle/input/2021-ml-tp4/train/0528.avi\n",
      "/kaggle/input/2021-ml-tp4/train/0529.avi\n",
      "/kaggle/input/2021-ml-tp4/train/1546.avi\n",
      "/kaggle/input/2021-ml-tp4/train/1662.avi\n",
      "/kaggle/input/2021-ml-tp4/train/1793.avi\n",
      "/kaggle/input/2021-ml-tp4/train/0760.avi\n",
      "/kaggle/input/2021-ml-tp4/train/2013.avi\n",
      "/kaggle/input/2021-ml-tp4/train/0245.avi\n",
      "/kaggle/input/2021-ml-tp4/train/1635.avi\n",
      "/kaggle/input/2021-ml-tp4/train/1308.avi\n",
      "/kaggle/input/2021-ml-tp4/train/0550.avi\n",
      "/kaggle/input/2021-ml-tp4/train/1264.avi\n",
      "/kaggle/input/2021-ml-tp4/train/1250.avi\n",
      "/kaggle/input/2021-ml-tp4/train/0355.avi\n",
      "/kaggle/input/2021-ml-tp4/train/1872.avi\n",
      "/kaggle/input/2021-ml-tp4/train/0156.avi\n",
      "/kaggle/input/2021-ml-tp4/train/1523.avi\n",
      "/kaggle/input/2021-ml-tp4/train/1088.avi\n",
      "/kaggle/input/2021-ml-tp4/train/1669.avi\n",
      "/kaggle/input/2021-ml-tp4/train/0976.avi\n",
      "/kaggle/input/2021-ml-tp4/train/0471.avi\n",
      "/kaggle/input/2021-ml-tp4/train/0186.avi\n",
      "/kaggle/input/2021-ml-tp4/train/0329.avi\n",
      "/kaggle/input/2021-ml-tp4/train/1433.avi\n",
      "/kaggle/input/2021-ml-tp4/train/0920.avi\n",
      "/kaggle/input/2021-ml-tp4/train/1410.avi\n",
      "/kaggle/input/2021-ml-tp4/train/0237.avi\n",
      "/kaggle/input/2021-ml-tp4/train/0579.avi\n",
      "/kaggle/input/2021-ml-tp4/train/2018.avi\n",
      "/kaggle/input/2021-ml-tp4/train/1432.avi\n",
      "/kaggle/input/2021-ml-tp4/train/1663.avi\n",
      "/kaggle/input/2021-ml-tp4/train/0716.avi\n",
      "/kaggle/input/2021-ml-tp4/train/1048.avi\n",
      "/kaggle/input/2021-ml-tp4/train/1484.avi\n",
      "/kaggle/input/2021-ml-tp4/train/0423.avi\n",
      "/kaggle/input/2021-ml-tp4/train/0432.avi\n",
      "/kaggle/input/2021-ml-tp4/train/0033.avi\n",
      "/kaggle/input/2021-ml-tp4/train/1407.avi\n",
      "/kaggle/input/2021-ml-tp4/train/0344.avi\n",
      "/kaggle/input/2021-ml-tp4/train/1729.avi\n",
      "/kaggle/input/2021-ml-tp4/train/1154.avi\n",
      "/kaggle/input/2021-ml-tp4/train/1092.avi\n",
      "/kaggle/input/2021-ml-tp4/train/1605.avi\n",
      "/kaggle/input/2021-ml-tp4/train/1708.avi\n",
      "/kaggle/input/2021-ml-tp4/train/0789.avi\n",
      "/kaggle/input/2021-ml-tp4/train/1784.avi\n",
      "/kaggle/input/2021-ml-tp4/train/1408.avi\n",
      "/kaggle/input/2021-ml-tp4/train/1568.avi\n",
      "/kaggle/input/2021-ml-tp4/train/1404.avi\n",
      "/kaggle/input/2021-ml-tp4/train/0138.avi\n",
      "/kaggle/input/2021-ml-tp4/train/0721.avi\n",
      "/kaggle/input/2021-ml-tp4/train/0712.avi\n",
      "/kaggle/input/2021-ml-tp4/train/0082.avi\n",
      "/kaggle/input/2021-ml-tp4/train/1026.avi\n",
      "/kaggle/input/2021-ml-tp4/train/0216.avi\n",
      "/kaggle/input/2021-ml-tp4/train/0970.avi\n",
      "/kaggle/input/2021-ml-tp4/train/0121.avi\n",
      "/kaggle/input/2021-ml-tp4/train/0377.avi\n",
      "/kaggle/input/2021-ml-tp4/train/0636.avi\n",
      "/kaggle/input/2021-ml-tp4/train/0627.avi\n",
      "/kaggle/input/2021-ml-tp4/train/0873.avi\n",
      "/kaggle/input/2021-ml-tp4/train/1041.avi\n",
      "/kaggle/input/2021-ml-tp4/train/0960.avi\n",
      "/kaggle/input/2021-ml-tp4/train/1953.avi\n",
      "/kaggle/input/2021-ml-tp4/train/1896.avi\n",
      "/kaggle/input/2021-ml-tp4/train/1322.avi\n",
      "/kaggle/input/2021-ml-tp4/train/1736.avi\n",
      "/kaggle/input/2021-ml-tp4/train/1466.avi\n",
      "/kaggle/input/2021-ml-tp4/train/0406.avi\n",
      "/kaggle/input/2021-ml-tp4/train/1459.avi\n",
      "/kaggle/input/2021-ml-tp4/train/1911.avi\n",
      "/kaggle/input/2021-ml-tp4/train/1394.avi\n",
      "/kaggle/input/2021-ml-tp4/train/1591.avi\n",
      "/kaggle/input/2021-ml-tp4/train/1396.avi\n",
      "/kaggle/input/2021-ml-tp4/train/0019.avi\n",
      "/kaggle/input/2021-ml-tp4/train/0761.avi\n",
      "/kaggle/input/2021-ml-tp4/train/1970.avi\n",
      "/kaggle/input/2021-ml-tp4/train/0676.avi\n",
      "/kaggle/input/2021-ml-tp4/train/1713.avi\n",
      "/kaggle/input/2021-ml-tp4/train/0020.avi\n",
      "/kaggle/input/2021-ml-tp4/train/1055.avi\n",
      "/kaggle/input/2021-ml-tp4/train/0752.avi\n",
      "/kaggle/input/2021-ml-tp4/train/1381.avi\n",
      "/kaggle/input/2021-ml-tp4/train/1453.avi\n",
      "/kaggle/input/2021-ml-tp4/train/0889.avi\n",
      "/kaggle/input/2021-ml-tp4/train/0390.avi\n",
      "/kaggle/input/2021-ml-tp4/train/1989.avi\n",
      "/kaggle/input/2021-ml-tp4/train/1383.avi\n",
      "/kaggle/input/2021-ml-tp4/train/0554.avi\n",
      "/kaggle/input/2021-ml-tp4/train/1608.avi\n",
      "/kaggle/input/2021-ml-tp4/train/0913.avi\n",
      "/kaggle/input/2021-ml-tp4/train/0744.avi\n",
      "/kaggle/input/2021-ml-tp4/train/0719.avi\n",
      "/kaggle/input/2021-ml-tp4/train/0303.avi\n",
      "/kaggle/input/2021-ml-tp4/train/2005.avi\n",
      "/kaggle/input/2021-ml-tp4/train/0310.avi\n",
      "/kaggle/input/2021-ml-tp4/train/1004.avi\n",
      "/kaggle/input/2021-ml-tp4/train/1379.avi\n",
      "/kaggle/input/2021-ml-tp4/train/0620.avi\n",
      "/kaggle/input/2021-ml-tp4/train/1133.avi\n"
     ]
    }
   ],
   "source": [
    "# This Python 3 environment comes with many helpful analytics libraries installed\n",
    "# It is defined by the kaggle/python Docker image: https://github.com/kaggle/docker-python\n",
    "# For example, here's several helpful packages to load\n",
    "\n",
    "import numpy as np # linear algebra\n",
    "import pandas as pd # data processing, CSV file I/O (e.g. pd.read_csv)\n",
    "\n",
    "# Input data files are available in the read-only \"../input/\" directory\n",
    "# For example, running this (by clicking run or pressing Shift+Enter) will list all files under the input directory\n",
    "\n",
    "import os\n",
    "for dirname, _, filenames in os.walk('/kaggle/input'):\n",
    "    for filename in filenames:\n",
    "        print(os.path.join(dirname, filename))\n",
    "\n",
    "# You can write up to 20GB to the current directory (/kaggle/working/) that gets preserved as output when you create a version using \"Save & Run All\" \n",
    "# You can also write temporary files to /kaggle/temp/, but they won't be saved outside of the current session"
   ]
  },
  {
   "cell_type": "code",
   "execution_count": 2,
   "id": "organic-observer",
   "metadata": {
    "execution": {
     "iopub.execute_input": "2021-06-05T22:30:19.758373Z",
     "iopub.status.busy": "2021-06-05T22:30:19.757616Z",
     "iopub.status.idle": "2021-06-05T22:30:22.484855Z",
     "shell.execute_reply": "2021-06-05T22:30:22.484224Z",
     "shell.execute_reply.started": "2021-06-05T04:53:28.497864Z"
    },
    "papermill": {
     "duration": 2.753961,
     "end_time": "2021-06-05T22:30:22.485037",
     "exception": false,
     "start_time": "2021-06-05T22:30:19.731076",
     "status": "completed"
    },
    "tags": []
   },
   "outputs": [],
   "source": [
    "import os\n",
    "import numpy as np\n",
    "import pandas as pd\n",
    "import tqdm\n",
    "import time\n",
    "import cv2\n",
    "import pickle\n",
    "import torch\n",
    "\n",
    "from sklearn.cluster import KMeans\n",
    "from sklearn.cluster import MiniBatchKMeans\n",
    "from sklearn.svm import SVC\n",
    "from scipy.stats import mode\n",
    "from sklearn.decomposition import PCA\n"
   ]
  },
  {
   "cell_type": "code",
   "execution_count": 3,
   "id": "permanent-syndication",
   "metadata": {
    "execution": {
     "iopub.execute_input": "2021-06-05T22:30:22.531706Z",
     "iopub.status.busy": "2021-06-05T22:30:22.531059Z",
     "iopub.status.idle": "2021-06-05T22:30:22.532997Z",
     "shell.execute_reply": "2021-06-05T22:30:22.533430Z",
     "shell.execute_reply.started": "2021-06-05T04:53:30.886712Z"
    },
    "papermill": {
     "duration": 0.028108,
     "end_time": "2021-06-05T22:30:22.533625",
     "exception": false,
     "start_time": "2021-06-05T22:30:22.505517",
     "status": "completed"
    },
    "tags": []
   },
   "outputs": [],
   "source": [
    "# 베이스라인 달성을 위한 파라미터 제공\n",
    "arg_img_size = (128, 128)\n",
    "arg_dense_sift = True\n",
    "args_local_cluster = 200\n",
    "args_global_cluster = 200\n",
    "num_frame = 5\n",
    "args_aggr = \"vlad\" # or \"bow\"\n",
    "pca_vlad = 128"
   ]
  },
  {
   "cell_type": "markdown",
   "id": "strong-citation",
   "metadata": {
    "papermill": {
     "duration": 0.019452,
     "end_time": "2021-06-05T22:30:22.573017",
     "exception": false,
     "start_time": "2021-06-05T22:30:22.553565",
     "status": "completed"
    },
    "tags": []
   },
   "source": [
    "# 비디오 전처리 및 프레임 별 특징점(visual word) 추출 (Empty Module 1)"
   ]
  },
  {
   "cell_type": "code",
   "execution_count": 4,
   "id": "medieval-harvest",
   "metadata": {
    "execution": {
     "iopub.execute_input": "2021-06-05T22:30:22.618110Z",
     "iopub.status.busy": "2021-06-05T22:30:22.617449Z",
     "iopub.status.idle": "2021-06-05T22:30:22.653573Z",
     "shell.execute_reply": "2021-06-05T22:30:22.652998Z",
     "shell.execute_reply.started": "2021-06-05T04:53:30.895276Z"
    },
    "papermill": {
     "duration": 0.058929,
     "end_time": "2021-06-05T22:30:22.653720",
     "exception": false,
     "start_time": "2021-06-05T22:30:22.594791",
     "status": "completed"
    },
    "tags": []
   },
   "outputs": [],
   "source": [
    "# train 비디오의 행동 분류 label read\n",
    "root = \"/kaggle/input/2021-ml-tp4/\"\n",
    "train_csv = os.path.join(root, \"train_label.csv\")\n",
    "train_csv = pd.read_csv(train_csv)\n",
    "train_csv_arr = np.asarray(train_csv)\n",
    "\n",
    "# 데이터 셋에 존재하는 행동 분류 정보 read\n",
    "classinfo = os.path.join(root, \"class_info.csv\")\n",
    "classinfo = pd.read_csv(classinfo)\n",
    "classinfo_arr = np.asarray(classinfo)\n",
    "\n",
    "\n",
    "train_path = os.path.join(root, \"train\")\n",
    "test_path = os.path.join(root, \"test\")\n",
    "\n",
    "# train 비디오 경로\n",
    "train_list = os.listdir(train_path)\n",
    "train_list.sort()\n",
    "train_list = [os.path.join(train_path, i) for i in train_list]\n",
    "\n",
    "# test 비디오 경로\n",
    "test_list = os.listdir(test_path)\n",
    "test_list.sort()\n",
    "test_list = [os.path.join(test_path, i) for i in test_list]"
   ]
  },
  {
   "cell_type": "code",
   "execution_count": 5,
   "id": "psychological-proof",
   "metadata": {
    "execution": {
     "iopub.execute_input": "2021-06-05T22:30:22.702780Z",
     "iopub.status.busy": "2021-06-05T22:30:22.702064Z",
     "iopub.status.idle": "2021-06-05T22:30:22.705364Z",
     "shell.execute_reply": "2021-06-05T22:30:22.704863Z",
     "shell.execute_reply.started": "2021-06-05T04:53:30.949996Z"
    },
    "papermill": {
     "duration": 0.031143,
     "end_time": "2021-06-05T22:30:22.705527",
     "exception": false,
     "start_time": "2021-06-05T22:30:22.674384",
     "status": "completed"
    },
    "tags": []
   },
   "outputs": [],
   "source": [
    "def video_to_frame(video_path, size, num_frame):\n",
    "    \n",
    "    #########################################################\n",
    "    ## 비디오에서 프레임을 추출해주는 함수\n",
    "    ## \n",
    "    ## Input \n",
    "    ##     video_path : 한 비디오의 경로\n",
    "    ##     size : 비디오 내의 프레임을 읽을 때, 원하는 해상도 크기\n",
    "    ##     num_frames : 한 비디오 내에서 읽을 프레임의 수\n",
    "    ##\n",
    "    ## Output\n",
    "    ##     frames : 읽고 저장한 총 프레임\n",
    "    #########################################################\n",
    "    cap = cv2.VideoCapture(video_path)\n",
    "    \n",
    "    # 한 비디오의 총 프레임 수 반환 및 원하는 프레임 수 많큼 읽기 위해 읽을 프레임의 인덱스 설정\n",
    "    total_frame = int(cap.get(cv2.CAP_PROP_FRAME_COUNT))\n",
    "    sel_ind = np.linspace(0, total_frame-1, num_frame).astype(\"int\")\n",
    "    \n",
    "    \n",
    "    num=0\n",
    "    frames = []\n",
    "    for i in range(total_frame):\n",
    "        \n",
    "        # 읽을 프레임 인덱스의 경우 프레임 읽어 메모리에 저장, 아닐 경우 지나감\n",
    "        if i in sel_ind:\n",
    "            res, frame = cap.read()\n",
    "            # 원하는 해상도로 조절 및 grayscale로 변환\n",
    "            frame = cv2.resize(frame, size, interpolation = cv2.INTER_CUBIC)\n",
    "            frame = cv2.cvtColor(frame, cv2.COLOR_BGR2GRAY)\n",
    "            frames.append(frame)\n",
    "        else:\n",
    "            res = cap.grab()        \n",
    "    cap.release()\n",
    "    frames = np.asarray(frames)\n",
    "\n",
    "    return frames"
   ]
  },
  {
   "cell_type": "code",
   "execution_count": 6,
   "id": "everyday-jordan",
   "metadata": {
    "execution": {
     "iopub.execute_input": "2021-06-05T22:30:22.750737Z",
     "iopub.status.busy": "2021-06-05T22:30:22.749959Z",
     "iopub.status.idle": "2021-06-05T22:30:22.756893Z",
     "shell.execute_reply": "2021-06-05T22:30:22.757383Z",
     "shell.execute_reply.started": "2021-06-05T04:53:30.959994Z"
    },
    "papermill": {
     "duration": 0.031464,
     "end_time": "2021-06-05T22:30:22.757579",
     "exception": false,
     "start_time": "2021-06-05T22:30:22.726115",
     "status": "completed"
    },
    "tags": []
   },
   "outputs": [],
   "source": [
    "def computeSIFT(data, dense=False):\n",
    "    \n",
    "    #########################################################\n",
    "    ## 비디오 내의 프레임에서 특징점(visual word)을 SIFT or DenseSIFT로 추출해주는 함수\n",
    "    ## \n",
    "    ## Input \n",
    "    ##     data : 한 비디오에서 읽고 저장한 프레임\n",
    "    ##     dense : SIFT or DenseSIFT 사용 여부\n",
    "    ##\n",
    "    ## Output\n",
    "    ##     x : 프레임에 대해 추출된 특징점(visual word), dict 형태 -> x[0]이면 0번째 인덱스 프레임의 특징점(visual word) [n,128] 확인 가능\n",
    "    #########################################################\n",
    "    \n",
    "    x = {}\n",
    "    for i in range(0, len(data)):\n",
    "        if dense:\n",
    "            img = data[i]\n",
    "            step_size = 8\n",
    "            print(\"!\")\n",
    "            kp = [cv2.KeyPoint(x, y, step_size) for x in range(0, img.shape[0], step_size) for y in range(0, img.shape[1], step_size)]\n",
    "            \n",
    "            ####### Empty Module 1 : DenseSIFT ########\n",
    "            # 기본 SIFT 와 동일하게 정의 \n",
    "            # 기본 SIFT 에서는 detectAndCompute를 사용했지만 \n",
    "            # Dense SIFT는 위에서 생성한 keypoint를 사용해 compute 만을 진행 \n",
    "            ###########################################\n",
    "            \n",
    "            #sift 생성은 아래 기본 sift일때와 동일하게 구성하였다.\n",
    "            sift = cv2.SIFT_create()\n",
    "            #img를 data[i]로 추출했기에 그 과정은 건너뛰고 sift.compute를 바로 적용한다.\n",
    "            _, desc = sift.compute(img, kp)\n",
    "            \n",
    "            \n",
    "        else:\n",
    "            sift = cv2.SIFT_create()\n",
    "            img = data[i]\n",
    "            kp, desc = sift.detectAndCompute(img, None)\n",
    "        x.update({i : desc})\n",
    "\n",
    "    return x"
   ]
  },
  {
   "cell_type": "code",
   "execution_count": 7,
   "id": "failing-weekend",
   "metadata": {
    "execution": {
     "iopub.execute_input": "2021-06-05T22:30:22.801786Z",
     "iopub.status.busy": "2021-06-05T22:30:22.801135Z",
     "iopub.status.idle": "2021-06-05T22:33:04.971861Z",
     "shell.execute_reply": "2021-06-05T22:33:04.971168Z",
     "shell.execute_reply.started": "2021-06-05T04:53:30.97393Z"
    },
    "papermill": {
     "duration": 162.194222,
     "end_time": "2021-06-05T22:33:04.972075",
     "exception": false,
     "start_time": "2021-06-05T22:30:22.777853",
     "status": "completed"
    },
    "tags": []
   },
   "outputs": [
    {
     "name": "stderr",
     "output_type": "stream",
     "text": [
      "Extract dsift in train data:   0%|          | 3/2020 [00:00<03:17, 10.22it/s]"
     ]
    },
    {
     "name": "stdout",
     "output_type": "stream",
     "text": [
      "!\n",
      "!\n",
      "!\n",
      "!\n",
      "!\n",
      "!\n",
      "!\n",
      "!\n",
      "!\n",
      "!\n",
      "!\n",
      "!\n",
      "!\n",
      "!\n",
      "!\n"
     ]
    },
    {
     "name": "stderr",
     "output_type": "stream",
     "text": [
      "Extract dsift in train data:   0%|          | 5/2020 [00:00<02:40, 12.59it/s]"
     ]
    },
    {
     "name": "stdout",
     "output_type": "stream",
     "text": [
      "!\n",
      "!\n",
      "!\n",
      "!\n",
      "!\n",
      "!\n",
      "!\n",
      "!\n",
      "!\n",
      "!\n",
      "!\n",
      "!\n",
      "!\n",
      "!\n",
      "!\n",
      "!\n",
      "!\n"
     ]
    },
    {
     "name": "stderr",
     "output_type": "stream",
     "text": [
      "Extract dsift in train data:   0%|          | 9/2020 [00:00<02:20, 14.34it/s]"
     ]
    },
    {
     "name": "stdout",
     "output_type": "stream",
     "text": [
      "!\n",
      "!\n",
      "!\n",
      "!\n",
      "!\n",
      "!\n",
      "!\n",
      "!\n",
      "!\n",
      "!\n",
      "!\n",
      "!\n",
      "!\n",
      "!\n",
      "!\n",
      "!\n"
     ]
    },
    {
     "name": "stderr",
     "output_type": "stream",
     "text": [
      "Extract dsift in train data:   1%|          | 11/2020 [00:00<02:16, 14.71it/s]"
     ]
    },
    {
     "name": "stdout",
     "output_type": "stream",
     "text": [
      "!\n",
      "!\n",
      "!\n",
      "!\n",
      "!\n",
      "!\n",
      "!\n",
      "!\n",
      "!\n",
      "!\n",
      "!\n",
      "!\n",
      "!\n",
      "!\n",
      "!\n",
      "!\n"
     ]
    },
    {
     "name": "stderr",
     "output_type": "stream",
     "text": [
      "Extract dsift in train data:   1%|          | 15/2020 [00:01<02:12, 15.18it/s]"
     ]
    },
    {
     "name": "stdout",
     "output_type": "stream",
     "text": [
      "!\n",
      "!\n",
      "!\n",
      "!\n",
      "!\n",
      "!\n",
      "!\n",
      "!\n",
      "!\n",
      "!\n",
      "!\n",
      "!\n",
      "!\n",
      "!\n",
      "!\n",
      "!\n"
     ]
    },
    {
     "name": "stderr",
     "output_type": "stream",
     "text": [
      "Extract dsift in train data:   1%|          | 19/2020 [00:01<02:08, 15.58it/s]"
     ]
    },
    {
     "name": "stdout",
     "output_type": "stream",
     "text": [
      "!\n",
      "!\n",
      "!\n",
      "!\n",
      "!\n",
      "!\n",
      "!\n",
      "!\n",
      "!\n",
      "!\n",
      "!\n",
      "!\n",
      "!\n",
      "!\n",
      "!\n",
      "!\n",
      "!\n"
     ]
    },
    {
     "name": "stderr",
     "output_type": "stream",
     "text": [
      "Extract dsift in train data:   1%|          | 21/2020 [00:01<02:07, 15.67it/s]"
     ]
    },
    {
     "name": "stdout",
     "output_type": "stream",
     "text": [
      "!\n",
      "!\n",
      "!\n",
      "!\n",
      "!\n",
      "!\n",
      "!\n",
      "!\n",
      "!\n",
      "!\n",
      "!\n",
      "!\n",
      "!\n",
      "!\n",
      "!\n",
      "!\n",
      "!\n"
     ]
    },
    {
     "name": "stderr",
     "output_type": "stream",
     "text": [
      "Extract dsift in train data:   1%|          | 25/2020 [00:01<02:07, 15.70it/s]"
     ]
    },
    {
     "name": "stdout",
     "output_type": "stream",
     "text": [
      "!\n",
      "!\n",
      "!\n",
      "!\n",
      "!\n",
      "!\n",
      "!\n",
      "!\n",
      "!\n",
      "!\n",
      "!\n",
      "!\n",
      "!\n",
      "!\n",
      "!\n",
      "!\n"
     ]
    },
    {
     "name": "stderr",
     "output_type": "stream",
     "text": [
      "Extract dsift in train data:   1%|▏         | 29/2020 [00:01<02:04, 15.98it/s]"
     ]
    },
    {
     "name": "stdout",
     "output_type": "stream",
     "text": [
      "!\n",
      "!\n",
      "!\n",
      "!\n",
      "!\n",
      "!\n",
      "!\n",
      "!\n",
      "!\n",
      "!\n",
      "!\n",
      "!\n",
      "!\n",
      "!\n",
      "!\n",
      "!\n",
      "!\n"
     ]
    },
    {
     "name": "stderr",
     "output_type": "stream",
     "text": [
      "Extract dsift in train data:   2%|▏         | 31/2020 [00:02<02:05, 15.79it/s]"
     ]
    },
    {
     "name": "stdout",
     "output_type": "stream",
     "text": [
      "!\n",
      "!\n",
      "!\n",
      "!\n",
      "!\n",
      "!\n",
      "!\n",
      "!\n",
      "!\n",
      "!\n",
      "!\n",
      "!\n",
      "!\n",
      "!\n",
      "!\n",
      "!\n",
      "!\n"
     ]
    },
    {
     "name": "stderr",
     "output_type": "stream",
     "text": [
      "Extract dsift in train data:   2%|▏         | 35/2020 [00:02<02:05, 15.83it/s]"
     ]
    },
    {
     "name": "stdout",
     "output_type": "stream",
     "text": [
      "!\n",
      "!\n",
      "!\n",
      "!\n",
      "!\n",
      "!\n",
      "!\n",
      "!\n",
      "!\n",
      "!\n",
      "!\n",
      "!\n",
      "!\n",
      "!\n",
      "!\n",
      "!\n"
     ]
    },
    {
     "name": "stderr",
     "output_type": "stream",
     "text": [
      "Extract dsift in train data:   2%|▏         | 39/2020 [00:02<02:02, 16.21it/s]"
     ]
    },
    {
     "name": "stdout",
     "output_type": "stream",
     "text": [
      "!\n",
      "!\n",
      "!\n",
      "!\n",
      "!\n",
      "!\n",
      "!\n",
      "!\n",
      "!\n",
      "!\n",
      "!\n",
      "!\n",
      "!\n",
      "!\n",
      "!\n",
      "!\n",
      "!\n",
      "!\n"
     ]
    },
    {
     "name": "stderr",
     "output_type": "stream",
     "text": [
      "Extract dsift in train data:   2%|▏         | 43/2020 [00:02<02:00, 16.38it/s]"
     ]
    },
    {
     "name": "stdout",
     "output_type": "stream",
     "text": [
      "!\n",
      "!\n",
      "!\n",
      "!\n",
      "!\n",
      "!\n",
      "!\n",
      "!\n",
      "!\n",
      "!\n",
      "!\n",
      "!\n",
      "!\n",
      "!\n",
      "!\n",
      "!\n",
      "!\n"
     ]
    },
    {
     "name": "stderr",
     "output_type": "stream",
     "text": [
      "Extract dsift in train data:   2%|▏         | 45/2020 [00:02<02:02, 16.15it/s]"
     ]
    },
    {
     "name": "stdout",
     "output_type": "stream",
     "text": [
      "!\n",
      "!\n",
      "!\n",
      "!\n",
      "!\n",
      "!\n",
      "!\n",
      "!\n",
      "!\n",
      "!\n",
      "!\n",
      "!\n",
      "!\n",
      "!\n",
      "!\n",
      "!\n",
      "!\n"
     ]
    },
    {
     "name": "stderr",
     "output_type": "stream",
     "text": [
      "Extract dsift in train data:   2%|▏         | 49/2020 [00:03<02:02, 16.08it/s]"
     ]
    },
    {
     "name": "stdout",
     "output_type": "stream",
     "text": [
      "!\n",
      "!\n",
      "!\n",
      "!\n",
      "!\n",
      "!\n",
      "!\n",
      "!\n",
      "!\n",
      "!\n",
      "!\n",
      "!\n",
      "!\n",
      "!\n",
      "!\n",
      "!\n",
      "!\n"
     ]
    },
    {
     "name": "stderr",
     "output_type": "stream",
     "text": [
      "Extract dsift in train data:   3%|▎         | 53/2020 [00:03<02:01, 16.15it/s]"
     ]
    },
    {
     "name": "stdout",
     "output_type": "stream",
     "text": [
      "!\n",
      "!\n",
      "!\n",
      "!\n",
      "!\n",
      "!\n",
      "!\n",
      "!\n",
      "!\n",
      "!\n",
      "!\n",
      "!\n",
      "!\n",
      "!\n",
      "!\n",
      "!\n"
     ]
    },
    {
     "name": "stderr",
     "output_type": "stream",
     "text": [
      "Extract dsift in train data:   3%|▎         | 55/2020 [00:03<02:00, 16.32it/s]"
     ]
    },
    {
     "name": "stdout",
     "output_type": "stream",
     "text": [
      "!\n",
      "!\n",
      "!\n",
      "!\n",
      "!\n",
      "!\n",
      "!\n",
      "!\n",
      "!\n",
      "!\n",
      "!\n",
      "!\n",
      "!\n",
      "!\n",
      "!\n",
      "!\n",
      "!\n",
      "!\n"
     ]
    },
    {
     "name": "stderr",
     "output_type": "stream",
     "text": [
      "Extract dsift in train data:   3%|▎         | 59/2020 [00:03<02:01, 16.19it/s]"
     ]
    },
    {
     "name": "stdout",
     "output_type": "stream",
     "text": [
      "!\n",
      "!\n",
      "!\n",
      "!\n",
      "!\n",
      "!\n",
      "!\n",
      "!\n",
      "!\n",
      "!\n",
      "!\n",
      "!\n",
      "!\n",
      "!\n",
      "!\n",
      "!\n",
      "!\n"
     ]
    },
    {
     "name": "stderr",
     "output_type": "stream",
     "text": [
      "Extract dsift in train data:   3%|▎         | 63/2020 [00:04<02:01, 16.05it/s]"
     ]
    },
    {
     "name": "stdout",
     "output_type": "stream",
     "text": [
      "!\n",
      "!\n",
      "!\n",
      "!\n",
      "!\n",
      "!\n",
      "!\n",
      "!\n",
      "!\n",
      "!\n",
      "!\n",
      "!\n",
      "!\n",
      "!\n",
      "!\n",
      "!\n"
     ]
    },
    {
     "name": "stderr",
     "output_type": "stream",
     "text": [
      "Extract dsift in train data:   3%|▎         | 65/2020 [00:04<02:03, 15.87it/s]"
     ]
    },
    {
     "name": "stdout",
     "output_type": "stream",
     "text": [
      "!\n",
      "!\n",
      "!\n",
      "!\n",
      "!\n",
      "!\n",
      "!\n",
      "!\n",
      "!\n",
      "!\n",
      "!\n",
      "!\n",
      "!\n",
      "!\n",
      "!\n",
      "!\n"
     ]
    },
    {
     "name": "stderr",
     "output_type": "stream",
     "text": [
      "Extract dsift in train data:   3%|▎         | 69/2020 [00:04<02:03, 15.79it/s]"
     ]
    },
    {
     "name": "stdout",
     "output_type": "stream",
     "text": [
      "!\n",
      "!\n",
      "!\n",
      "!\n",
      "!\n",
      "!\n",
      "!\n",
      "!\n",
      "!\n",
      "!\n",
      "!\n",
      "!\n",
      "!\n",
      "!\n",
      "!\n",
      "!\n",
      "!\n"
     ]
    },
    {
     "name": "stderr",
     "output_type": "stream",
     "text": [
      "Extract dsift in train data:   4%|▎         | 73/2020 [00:04<02:02, 15.87it/s]"
     ]
    },
    {
     "name": "stdout",
     "output_type": "stream",
     "text": [
      "!\n",
      "!\n",
      "!\n",
      "!\n",
      "!\n",
      "!\n",
      "!\n",
      "!\n",
      "!\n",
      "!\n",
      "!\n",
      "!\n",
      "!\n",
      "!\n",
      "!\n",
      "!\n"
     ]
    },
    {
     "name": "stderr",
     "output_type": "stream",
     "text": [
      "Extract dsift in train data:   4%|▎         | 75/2020 [00:04<02:01, 16.06it/s]"
     ]
    },
    {
     "name": "stdout",
     "output_type": "stream",
     "text": [
      "!\n",
      "!\n",
      "!\n",
      "!\n",
      "!\n",
      "!\n",
      "!\n",
      "!\n",
      "!\n",
      "!\n",
      "!\n",
      "!\n",
      "!\n",
      "!\n",
      "!\n",
      "!\n",
      "!\n",
      "!"
     ]
    },
    {
     "name": "stderr",
     "output_type": "stream",
     "text": [
      "Extract dsift in train data:   4%|▍         | 79/2020 [00:05<02:00, 16.08it/s]"
     ]
    },
    {
     "name": "stdout",
     "output_type": "stream",
     "text": [
      "\n",
      "!\n",
      "!\n",
      "!\n",
      "!\n",
      "!\n",
      "!\n",
      "!\n",
      "!\n",
      "!\n",
      "!\n",
      "!\n",
      "!\n",
      "!\n",
      "!\n",
      "!\n",
      "!\n"
     ]
    },
    {
     "name": "stderr",
     "output_type": "stream",
     "text": [
      "Extract dsift in train data:   4%|▍         | 83/2020 [00:05<02:00, 16.14it/s]"
     ]
    },
    {
     "name": "stdout",
     "output_type": "stream",
     "text": [
      "!\n",
      "!\n",
      "!\n",
      "!\n",
      "!\n",
      "!\n",
      "!\n",
      "!\n",
      "!\n",
      "!\n",
      "!\n",
      "!\n",
      "!\n",
      "!\n",
      "!\n",
      "!\n"
     ]
    },
    {
     "name": "stderr",
     "output_type": "stream",
     "text": [
      "Extract dsift in train data:   4%|▍         | 85/2020 [00:05<02:00, 16.09it/s]"
     ]
    },
    {
     "name": "stdout",
     "output_type": "stream",
     "text": [
      "!\n",
      "!\n",
      "!\n",
      "!\n",
      "!\n",
      "!\n",
      "!\n",
      "!\n",
      "!\n",
      "!\n",
      "!\n",
      "!\n",
      "!\n",
      "!\n",
      "!\n",
      "!\n",
      "!\n",
      "!\n"
     ]
    },
    {
     "name": "stderr",
     "output_type": "stream",
     "text": [
      "Extract dsift in train data:   4%|▍         | 89/2020 [00:05<02:00, 15.96it/s]"
     ]
    },
    {
     "name": "stdout",
     "output_type": "stream",
     "text": [
      "!\n",
      "!\n",
      "!\n",
      "!\n",
      "!\n",
      "!\n",
      "!\n",
      "!\n",
      "!\n",
      "!\n",
      "!\n",
      "!\n",
      "!\n",
      "!\n",
      "!\n",
      "!\n"
     ]
    },
    {
     "name": "stderr",
     "output_type": "stream",
     "text": [
      "Extract dsift in train data:   5%|▍         | 91/2020 [00:05<02:01, 15.94it/s]"
     ]
    },
    {
     "name": "stdout",
     "output_type": "stream",
     "text": [
      "!\n",
      "!\n",
      "!\n",
      "!\n",
      "!\n",
      "!\n",
      "!\n",
      "!\n",
      "!\n",
      "!\n",
      "!\n",
      "!\n",
      "!\n",
      "!\n",
      "!\n",
      "!\n"
     ]
    },
    {
     "name": "stderr",
     "output_type": "stream",
     "text": [
      "Extract dsift in train data:   5%|▍         | 95/2020 [00:06<02:04, 15.51it/s]"
     ]
    },
    {
     "name": "stdout",
     "output_type": "stream",
     "text": [
      "!\n",
      "!\n",
      "!\n",
      "!\n",
      "!\n",
      "!\n",
      "!\n",
      "!\n",
      "!\n",
      "!\n",
      "!\n",
      "!\n",
      "!\n",
      "!\n",
      "!\n",
      "!\n",
      "!\n"
     ]
    },
    {
     "name": "stderr",
     "output_type": "stream",
     "text": [
      "Extract dsift in train data:   5%|▍         | 99/2020 [00:06<02:00, 15.88it/s]"
     ]
    },
    {
     "name": "stdout",
     "output_type": "stream",
     "text": [
      "!\n",
      "!\n",
      "!\n",
      "!\n",
      "!\n",
      "!\n",
      "!\n",
      "!\n",
      "!\n",
      "!\n",
      "!\n",
      "!\n",
      "!\n",
      "!\n",
      "!\n",
      "!\n",
      "!\n"
     ]
    },
    {
     "name": "stderr",
     "output_type": "stream",
     "text": [
      "Extract dsift in train data:   5%|▌         | 103/2020 [00:06<02:00, 15.91it/s]"
     ]
    },
    {
     "name": "stdout",
     "output_type": "stream",
     "text": [
      "!\n",
      "!\n",
      "!\n",
      "!\n",
      "!\n",
      "!\n",
      "!\n",
      "!\n",
      "!\n",
      "!\n",
      "!\n",
      "!\n",
      "!\n",
      "!\n",
      "!\n",
      "!\n"
     ]
    },
    {
     "name": "stderr",
     "output_type": "stream",
     "text": [
      "Extract dsift in train data:   5%|▌         | 105/2020 [00:06<02:00, 15.85it/s]"
     ]
    },
    {
     "name": "stdout",
     "output_type": "stream",
     "text": [
      "!\n",
      "!\n",
      "!\n",
      "!\n",
      "!\n",
      "!\n",
      "!\n",
      "!\n",
      "!\n",
      "!\n",
      "!\n",
      "!\n",
      "!\n",
      "!\n",
      "!\n",
      "!\n",
      "!\n"
     ]
    },
    {
     "name": "stderr",
     "output_type": "stream",
     "text": [
      "Extract dsift in train data:   5%|▌         | 109/2020 [00:06<01:58, 16.08it/s]"
     ]
    },
    {
     "name": "stdout",
     "output_type": "stream",
     "text": [
      "!\n",
      "!\n",
      "!\n",
      "!\n",
      "!\n",
      "!\n",
      "!\n",
      "!\n",
      "!\n",
      "!\n",
      "!\n",
      "!\n",
      "!\n",
      "!\n",
      "!\n",
      "!\n",
      "!\n"
     ]
    },
    {
     "name": "stderr",
     "output_type": "stream",
     "text": [
      "Extract dsift in train data:   6%|▌         | 113/2020 [00:07<01:59, 15.98it/s]"
     ]
    },
    {
     "name": "stdout",
     "output_type": "stream",
     "text": [
      "!\n",
      "!\n",
      "!\n",
      "!\n",
      "!\n",
      "!\n",
      "!\n",
      "!\n",
      "!\n",
      "!\n",
      "!\n",
      "!\n",
      "!\n",
      "!\n",
      "!\n",
      "!\n"
     ]
    },
    {
     "name": "stderr",
     "output_type": "stream",
     "text": [
      "Extract dsift in train data:   6%|▌         | 115/2020 [00:07<02:01, 15.68it/s]"
     ]
    },
    {
     "name": "stdout",
     "output_type": "stream",
     "text": [
      "!\n",
      "!\n",
      "!\n",
      "!\n",
      "!\n",
      "!\n",
      "!\n",
      "!\n",
      "!\n",
      "!\n",
      "!\n",
      "!\n",
      "!\n",
      "!\n",
      "!\n",
      "!\n",
      "!\n"
     ]
    },
    {
     "name": "stderr",
     "output_type": "stream",
     "text": [
      "Extract dsift in train data:   6%|▌         | 119/2020 [00:07<01:58, 15.99it/s]"
     ]
    },
    {
     "name": "stdout",
     "output_type": "stream",
     "text": [
      "!\n",
      "!\n",
      "!\n",
      "!\n",
      "!\n",
      "!\n",
      "!\n",
      "!\n",
      "!\n",
      "!\n",
      "!\n",
      "!\n",
      "!\n",
      "!\n",
      "!\n",
      "!\n",
      "!\n"
     ]
    },
    {
     "name": "stderr",
     "output_type": "stream",
     "text": [
      "Extract dsift in train data:   6%|▌         | 123/2020 [00:07<01:58, 16.03it/s]"
     ]
    },
    {
     "name": "stdout",
     "output_type": "stream",
     "text": [
      "!\n",
      "!\n",
      "!\n",
      "!\n",
      "!\n",
      "!\n",
      "!\n",
      "!\n",
      "!\n",
      "!\n",
      "!\n",
      "!\n",
      "!\n",
      "!\n",
      "!\n",
      "!\n"
     ]
    },
    {
     "name": "stderr",
     "output_type": "stream",
     "text": [
      "Extract dsift in train data:   6%|▌         | 125/2020 [00:07<01:59, 15.82it/s]"
     ]
    },
    {
     "name": "stdout",
     "output_type": "stream",
     "text": [
      "!\n",
      "!\n",
      "!\n",
      "!\n",
      "!\n",
      "!\n",
      "!\n",
      "!\n",
      "!\n",
      "!\n",
      "!\n",
      "!\n",
      "!\n",
      "!\n",
      "!\n",
      "!\n",
      "!\n"
     ]
    },
    {
     "name": "stderr",
     "output_type": "stream",
     "text": [
      "Extract dsift in train data:   6%|▋         | 129/2020 [00:08<01:59, 15.81it/s]"
     ]
    },
    {
     "name": "stdout",
     "output_type": "stream",
     "text": [
      "!\n",
      "!\n",
      "!\n",
      "!\n",
      "!\n",
      "!\n",
      "!\n",
      "!\n",
      "!\n",
      "!\n",
      "!\n",
      "!\n",
      "!\n",
      "!\n",
      "!\n",
      "!\n",
      "!\n"
     ]
    },
    {
     "name": "stderr",
     "output_type": "stream",
     "text": [
      "Extract dsift in train data:   6%|▋         | 131/2020 [00:08<01:59, 15.75it/s]"
     ]
    },
    {
     "name": "stdout",
     "output_type": "stream",
     "text": [
      "!\n",
      "!\n",
      "!\n",
      "!\n",
      "!\n",
      "!\n",
      "!\n",
      "!\n",
      "!\n",
      "!\n",
      "!\n",
      "!\n",
      "!\n",
      "!\n",
      "!\n",
      "!\n"
     ]
    },
    {
     "name": "stderr",
     "output_type": "stream",
     "text": [
      "Extract dsift in train data:   7%|▋         | 135/2020 [00:08<02:00, 15.65it/s]"
     ]
    },
    {
     "name": "stdout",
     "output_type": "stream",
     "text": [
      "!\n",
      "!\n",
      "!\n",
      "!\n",
      "!\n",
      "!\n",
      "!\n",
      "!\n",
      "!\n",
      "!\n",
      "!\n",
      "!\n",
      "!\n",
      "!\n",
      "!\n",
      "!\n",
      "!\n"
     ]
    },
    {
     "name": "stderr",
     "output_type": "stream",
     "text": [
      "Extract dsift in train data:   7%|▋         | 139/2020 [00:08<01:58, 15.83it/s]"
     ]
    },
    {
     "name": "stdout",
     "output_type": "stream",
     "text": [
      "!\n",
      "!\n",
      "!\n",
      "!\n",
      "!\n",
      "!\n",
      "!\n",
      "!\n",
      "!\n",
      "!\n",
      "!\n",
      "!\n",
      "!\n",
      "!\n",
      "!\n",
      "!\n",
      "!\n"
     ]
    },
    {
     "name": "stderr",
     "output_type": "stream",
     "text": [
      "Extract dsift in train data:   7%|▋         | 141/2020 [00:09<02:01, 15.51it/s]"
     ]
    },
    {
     "name": "stdout",
     "output_type": "stream",
     "text": [
      "!\n",
      "!\n",
      "!\n",
      "!\n",
      "!\n",
      "!\n",
      "!\n",
      "!\n",
      "!\n",
      "!\n",
      "!\n",
      "!\n",
      "!\n"
     ]
    },
    {
     "name": "stderr",
     "output_type": "stream",
     "text": [
      "Extract dsift in train data:   7%|▋         | 145/2020 [00:09<02:05, 14.95it/s]"
     ]
    },
    {
     "name": "stdout",
     "output_type": "stream",
     "text": [
      "!\n",
      "!\n",
      "!\n",
      "!\n",
      "!\n",
      "!\n",
      "!\n",
      "!\n",
      "!\n",
      "!\n",
      "!\n",
      "!\n",
      "!\n",
      "!\n",
      "!\n",
      "!\n"
     ]
    },
    {
     "name": "stderr",
     "output_type": "stream",
     "text": [
      "Extract dsift in train data:   7%|▋         | 147/2020 [00:09<02:03, 15.21it/s]"
     ]
    },
    {
     "name": "stdout",
     "output_type": "stream",
     "text": [
      "!\n",
      "!\n",
      "!\n",
      "!\n",
      "!\n",
      "!\n",
      "!\n",
      "!\n",
      "!\n",
      "!\n",
      "!\n",
      "!\n",
      "!\n",
      "!\n",
      "!\n",
      "!\n",
      "!\n"
     ]
    },
    {
     "name": "stderr",
     "output_type": "stream",
     "text": [
      "Extract dsift in train data:   7%|▋         | 151/2020 [00:09<01:58, 15.76it/s]"
     ]
    },
    {
     "name": "stdout",
     "output_type": "stream",
     "text": [
      "!\n",
      "!\n",
      "!\n",
      "!\n",
      "!\n",
      "!\n",
      "!\n",
      "!\n",
      "!\n",
      "!\n",
      "!\n",
      "!\n",
      "!\n",
      "!\n",
      "!\n",
      "!\n",
      "!\n",
      "!"
     ]
    },
    {
     "name": "stderr",
     "output_type": "stream",
     "text": [
      "Extract dsift in train data:   8%|▊         | 155/2020 [00:09<01:57, 15.89it/s]"
     ]
    },
    {
     "name": "stdout",
     "output_type": "stream",
     "text": [
      "\n",
      "!\n",
      "!\n",
      "!\n",
      "!\n",
      "!\n",
      "!\n",
      "!\n",
      "!\n",
      "!\n",
      "!\n",
      "!\n",
      "!\n",
      "!\n",
      "!\n",
      "!\n",
      "!\n"
     ]
    },
    {
     "name": "stderr",
     "output_type": "stream",
     "text": [
      "Extract dsift in train data:   8%|▊         | 159/2020 [00:10<01:56, 15.99it/s]"
     ]
    },
    {
     "name": "stdout",
     "output_type": "stream",
     "text": [
      "!\n",
      "!\n",
      "!\n",
      "!\n",
      "!\n",
      "!\n",
      "!\n",
      "!\n",
      "!\n",
      "!\n",
      "!\n",
      "!\n",
      "!\n",
      "!\n",
      "!\n",
      "!\n"
     ]
    },
    {
     "name": "stderr",
     "output_type": "stream",
     "text": [
      "Extract dsift in train data:   8%|▊         | 161/2020 [00:10<01:56, 15.90it/s]"
     ]
    },
    {
     "name": "stdout",
     "output_type": "stream",
     "text": [
      "!\n",
      "!\n",
      "!\n",
      "!\n",
      "!\n",
      "!\n",
      "!\n",
      "!\n",
      "!\n",
      "!\n",
      "!\n",
      "!\n",
      "!\n",
      "!\n",
      "!\n"
     ]
    },
    {
     "name": "stderr",
     "output_type": "stream",
     "text": [
      "Extract dsift in train data:   8%|▊         | 165/2020 [00:10<02:00, 15.39it/s]"
     ]
    },
    {
     "name": "stdout",
     "output_type": "stream",
     "text": [
      "!\n",
      "!\n",
      "!\n",
      "!\n",
      "!\n",
      "!\n",
      "!\n",
      "!\n",
      "!\n",
      "!\n",
      "!\n",
      "!\n",
      "!\n",
      "!\n",
      "!\n",
      "!\n"
     ]
    },
    {
     "name": "stderr",
     "output_type": "stream",
     "text": [
      "Extract dsift in train data:   8%|▊         | 167/2020 [00:10<01:59, 15.48it/s]"
     ]
    },
    {
     "name": "stdout",
     "output_type": "stream",
     "text": [
      "!\n",
      "!\n",
      "!\n",
      "!\n",
      "!\n",
      "!\n",
      "!\n",
      "!\n",
      "!\n",
      "!\n",
      "!\n",
      "!\n",
      "!\n",
      "!\n",
      "!\n",
      "!\n",
      "!\n"
     ]
    },
    {
     "name": "stderr",
     "output_type": "stream",
     "text": [
      "Extract dsift in train data:   8%|▊         | 171/2020 [00:10<02:00, 15.37it/s]"
     ]
    },
    {
     "name": "stdout",
     "output_type": "stream",
     "text": [
      "!\n",
      "!\n",
      "!\n",
      "!\n",
      "!\n",
      "!\n",
      "!\n",
      "!\n",
      "!\n",
      "!\n",
      "!\n",
      "!\n",
      "!\n",
      "!\n",
      "!\n",
      "!\n"
     ]
    },
    {
     "name": "stderr",
     "output_type": "stream",
     "text": [
      "Extract dsift in train data:   9%|▊         | 175/2020 [00:11<01:58, 15.52it/s]"
     ]
    },
    {
     "name": "stdout",
     "output_type": "stream",
     "text": [
      "!\n",
      "!\n",
      "!\n",
      "!\n",
      "!\n",
      "!\n",
      "!\n",
      "!\n",
      "!\n",
      "!\n",
      "!\n",
      "!\n",
      "!\n",
      "!\n",
      "!\n",
      "!\n"
     ]
    },
    {
     "name": "stderr",
     "output_type": "stream",
     "text": [
      "Extract dsift in train data:   9%|▉         | 177/2020 [00:11<01:59, 15.42it/s]"
     ]
    },
    {
     "name": "stdout",
     "output_type": "stream",
     "text": [
      "!\n",
      "!\n",
      "!\n",
      "!\n",
      "!\n",
      "!\n",
      "!\n",
      "!\n",
      "!\n",
      "!\n",
      "!\n",
      "!\n",
      "!\n",
      "!\n",
      "!\n",
      "!\n"
     ]
    },
    {
     "name": "stderr",
     "output_type": "stream",
     "text": [
      "Extract dsift in train data:   9%|▉         | 181/2020 [00:11<01:57, 15.61it/s]"
     ]
    },
    {
     "name": "stdout",
     "output_type": "stream",
     "text": [
      "!\n",
      "!\n",
      "!\n",
      "!\n",
      "!\n",
      "!\n",
      "!\n",
      "!\n",
      "!\n",
      "!\n",
      "!\n",
      "!\n",
      "!\n",
      "!\n",
      "!\n",
      "!\n"
     ]
    },
    {
     "name": "stderr",
     "output_type": "stream",
     "text": [
      "Extract dsift in train data:   9%|▉         | 183/2020 [00:11<01:58, 15.48it/s]"
     ]
    },
    {
     "name": "stdout",
     "output_type": "stream",
     "text": [
      "!\n",
      "!\n",
      "!\n",
      "!\n",
      "!\n",
      "!\n",
      "!\n",
      "!\n",
      "!\n",
      "!\n",
      "!\n",
      "!\n",
      "!\n",
      "!\n",
      "!\n",
      "!\n",
      "!\n"
     ]
    },
    {
     "name": "stderr",
     "output_type": "stream",
     "text": [
      "Extract dsift in train data:   9%|▉         | 187/2020 [00:11<01:56, 15.69it/s]"
     ]
    },
    {
     "name": "stdout",
     "output_type": "stream",
     "text": [
      "!\n",
      "!\n",
      "!\n",
      "!\n",
      "!\n",
      "!\n",
      "!\n",
      "!\n",
      "!\n",
      "!\n",
      "!\n",
      "!\n",
      "!\n",
      "!\n",
      "!\n",
      "!\n"
     ]
    },
    {
     "name": "stderr",
     "output_type": "stream",
     "text": [
      "Extract dsift in train data:   9%|▉         | 191/2020 [00:12<01:57, 15.55it/s]"
     ]
    },
    {
     "name": "stdout",
     "output_type": "stream",
     "text": [
      "!\n",
      "!\n",
      "!\n",
      "!\n",
      "!\n",
      "!\n",
      "!\n",
      "!\n",
      "!\n",
      "!\n",
      "!\n",
      "!\n",
      "!\n",
      "!\n",
      "!\n",
      "!\n"
     ]
    },
    {
     "name": "stderr",
     "output_type": "stream",
     "text": [
      "Extract dsift in train data:  10%|▉         | 193/2020 [00:12<01:56, 15.70it/s]"
     ]
    },
    {
     "name": "stdout",
     "output_type": "stream",
     "text": [
      "!\n",
      "!\n",
      "!\n",
      "!\n",
      "!\n",
      "!\n",
      "!\n",
      "!\n",
      "!\n",
      "!\n",
      "!\n",
      "!\n",
      "!\n",
      "!\n",
      "!\n",
      "!\n",
      "!\n",
      "!\n"
     ]
    },
    {
     "name": "stderr",
     "output_type": "stream",
     "text": [
      "Extract dsift in train data:  10%|▉         | 197/2020 [00:12<01:54, 15.89it/s]"
     ]
    },
    {
     "name": "stdout",
     "output_type": "stream",
     "text": [
      "!\n",
      "!\n",
      "!\n",
      "!\n",
      "!\n",
      "!\n",
      "!\n",
      "!\n",
      "!\n",
      "!\n",
      "!\n",
      "!\n",
      "!\n",
      "!\n",
      "!\n",
      "!\n"
     ]
    },
    {
     "name": "stderr",
     "output_type": "stream",
     "text": [
      "Extract dsift in train data:  10%|▉         | 201/2020 [00:12<01:53, 16.01it/s]"
     ]
    },
    {
     "name": "stdout",
     "output_type": "stream",
     "text": [
      "!\n",
      "!\n",
      "!\n",
      "!\n",
      "!\n",
      "!\n",
      "!\n",
      "!\n",
      "!\n",
      "!\n",
      "!\n",
      "!\n",
      "!\n",
      "!\n",
      "!\n",
      "!\n",
      "!\n"
     ]
    },
    {
     "name": "stderr",
     "output_type": "stream",
     "text": [
      "Extract dsift in train data:  10%|█         | 203/2020 [00:12<01:53, 16.05it/s]"
     ]
    },
    {
     "name": "stdout",
     "output_type": "stream",
     "text": [
      "!\n",
      "!\n",
      "!\n",
      "!\n",
      "!\n",
      "!\n",
      "!\n",
      "!\n",
      "!\n",
      "!\n",
      "!\n",
      "!\n",
      "!\n",
      "!\n",
      "!\n",
      "!\n",
      "!\n",
      "!\n"
     ]
    },
    {
     "name": "stderr",
     "output_type": "stream",
     "text": [
      "Extract dsift in train data:  10%|█         | 207/2020 [00:13<01:52, 16.08it/s]"
     ]
    },
    {
     "name": "stdout",
     "output_type": "stream",
     "text": [
      "!\n",
      "!\n",
      "!\n",
      "!\n",
      "!\n",
      "!\n",
      "!\n",
      "!\n",
      "!\n",
      "!\n",
      "!\n",
      "!\n",
      "!\n",
      "!\n",
      "!\n",
      "!\n",
      "!\n"
     ]
    },
    {
     "name": "stderr",
     "output_type": "stream",
     "text": [
      "Extract dsift in train data:  10%|█         | 211/2020 [00:13<01:52, 16.04it/s]"
     ]
    },
    {
     "name": "stdout",
     "output_type": "stream",
     "text": [
      "!\n",
      "!\n",
      "!\n",
      "!\n",
      "!\n",
      "!\n",
      "!\n",
      "!\n",
      "!\n",
      "!\n",
      "!\n",
      "!\n",
      "!\n",
      "!\n",
      "!\n",
      "!\n",
      "!\n"
     ]
    },
    {
     "name": "stderr",
     "output_type": "stream",
     "text": [
      "Extract dsift in train data:  11%|█         | 215/2020 [00:13<01:52, 16.07it/s]"
     ]
    },
    {
     "name": "stdout",
     "output_type": "stream",
     "text": [
      "!\n",
      "!\n",
      "!\n",
      "!\n",
      "!\n",
      "!\n",
      "!\n",
      "!\n",
      "!\n",
      "!\n",
      "!\n",
      "!\n",
      "!\n",
      "!\n",
      "!\n",
      "!\n"
     ]
    },
    {
     "name": "stderr",
     "output_type": "stream",
     "text": [
      "Extract dsift in train data:  11%|█         | 217/2020 [00:13<01:52, 16.06it/s]"
     ]
    },
    {
     "name": "stdout",
     "output_type": "stream",
     "text": [
      "!\n",
      "!\n",
      "!\n",
      "!\n",
      "!\n",
      "!\n",
      "!\n",
      "!\n",
      "!\n",
      "!\n",
      "!\n",
      "!\n",
      "!\n",
      "!\n",
      "!\n",
      "!\n",
      "!\n"
     ]
    },
    {
     "name": "stderr",
     "output_type": "stream",
     "text": [
      "Extract dsift in train data:  11%|█         | 221/2020 [00:14<01:53, 15.88it/s]"
     ]
    },
    {
     "name": "stdout",
     "output_type": "stream",
     "text": [
      "!\n",
      "!\n",
      "!\n",
      "!\n",
      "!\n",
      "!\n",
      "!\n",
      "!\n",
      "!\n",
      "!\n",
      "!\n",
      "!\n",
      "!\n",
      "!\n",
      "!\n",
      "!\n"
     ]
    },
    {
     "name": "stderr",
     "output_type": "stream",
     "text": [
      "Extract dsift in train data:  11%|█         | 223/2020 [00:14<01:54, 15.71it/s]"
     ]
    },
    {
     "name": "stdout",
     "output_type": "stream",
     "text": [
      "!\n",
      "!\n",
      "!\n",
      "!\n",
      "!\n",
      "!\n",
      "!\n",
      "!\n",
      "!\n",
      "!\n",
      "!\n",
      "!\n",
      "!\n",
      "!\n",
      "!\n",
      "!\n",
      "!\n"
     ]
    },
    {
     "name": "stderr",
     "output_type": "stream",
     "text": [
      "Extract dsift in train data:  11%|█         | 227/2020 [00:14<01:55, 15.55it/s]"
     ]
    },
    {
     "name": "stdout",
     "output_type": "stream",
     "text": [
      "!\n",
      "!\n",
      "!\n",
      "!\n",
      "!\n",
      "!\n",
      "!\n",
      "!\n",
      "!\n",
      "!\n",
      "!\n",
      "!\n",
      "!\n",
      "!\n",
      "!\n",
      "!\n"
     ]
    },
    {
     "name": "stderr",
     "output_type": "stream",
     "text": [
      "Extract dsift in train data:  11%|█▏        | 231/2020 [00:14<01:53, 15.70it/s]"
     ]
    },
    {
     "name": "stdout",
     "output_type": "stream",
     "text": [
      "!\n",
      "!\n",
      "!\n",
      "!\n",
      "!\n",
      "!\n",
      "!\n",
      "!\n",
      "!\n",
      "!\n",
      "!\n",
      "!\n",
      "!\n",
      "!\n",
      "!\n",
      "!\n",
      "!\n"
     ]
    },
    {
     "name": "stderr",
     "output_type": "stream",
     "text": [
      "Extract dsift in train data:  12%|█▏        | 233/2020 [00:14<01:54, 15.66it/s]"
     ]
    },
    {
     "name": "stdout",
     "output_type": "stream",
     "text": [
      "!\n",
      "!\n",
      "!\n",
      "!\n",
      "!\n",
      "!\n",
      "!\n",
      "!\n",
      "!\n",
      "!\n",
      "!\n",
      "!\n",
      "!\n",
      "!\n",
      "!\n",
      "!\n",
      "!\n"
     ]
    },
    {
     "name": "stderr",
     "output_type": "stream",
     "text": [
      "Extract dsift in train data:  12%|█▏        | 237/2020 [00:15<01:52, 15.89it/s]"
     ]
    },
    {
     "name": "stdout",
     "output_type": "stream",
     "text": [
      "!\n",
      "!\n",
      "!\n",
      "!\n",
      "!\n",
      "!\n",
      "!\n",
      "!\n",
      "!\n",
      "!\n",
      "!\n",
      "!\n",
      "!\n",
      "!\n",
      "!\n",
      "!\n",
      "!\n",
      "!\n"
     ]
    },
    {
     "name": "stderr",
     "output_type": "stream",
     "text": [
      "Extract dsift in train data:  12%|█▏        | 241/2020 [00:15<01:50, 16.13it/s]"
     ]
    },
    {
     "name": "stdout",
     "output_type": "stream",
     "text": [
      "!\n",
      "!\n",
      "!\n",
      "!\n",
      "!\n",
      "!\n",
      "!\n",
      "!\n",
      "!\n",
      "!\n",
      "!\n",
      "!\n",
      "!\n",
      "!\n",
      "!\n",
      "!\n"
     ]
    },
    {
     "name": "stderr",
     "output_type": "stream",
     "text": [
      "Extract dsift in train data:  12%|█▏        | 245/2020 [00:15<01:49, 16.16it/s]"
     ]
    },
    {
     "name": "stdout",
     "output_type": "stream",
     "text": [
      "!\n",
      "!\n",
      "!\n",
      "!\n",
      "!\n",
      "!\n",
      "!\n",
      "!\n",
      "!\n",
      "!\n",
      "!\n",
      "!\n",
      "!\n",
      "!\n",
      "!\n",
      "!\n"
     ]
    },
    {
     "name": "stderr",
     "output_type": "stream",
     "text": [
      "Extract dsift in train data:  12%|█▏        | 247/2020 [00:15<01:49, 16.17it/s]"
     ]
    },
    {
     "name": "stdout",
     "output_type": "stream",
     "text": [
      "!\n",
      "!\n",
      "!\n",
      "!\n",
      "!\n",
      "!\n",
      "!\n",
      "!\n",
      "!\n",
      "!\n",
      "!\n",
      "!\n",
      "!\n",
      "!\n",
      "!\n",
      "!\n",
      "!\n"
     ]
    },
    {
     "name": "stderr",
     "output_type": "stream",
     "text": [
      "Extract dsift in train data:  12%|█▏        | 251/2020 [00:15<01:51, 15.92it/s]"
     ]
    },
    {
     "name": "stdout",
     "output_type": "stream",
     "text": [
      "!\n",
      "!\n",
      "!\n",
      "!\n",
      "!\n",
      "!\n",
      "!\n",
      "!\n",
      "!\n",
      "!\n",
      "!\n",
      "!\n",
      "!\n",
      "!\n",
      "!\n",
      "!\n",
      "!\n"
     ]
    },
    {
     "name": "stderr",
     "output_type": "stream",
     "text": [
      "Extract dsift in train data:  13%|█▎        | 255/2020 [00:16<01:50, 15.92it/s]"
     ]
    },
    {
     "name": "stdout",
     "output_type": "stream",
     "text": [
      "!\n",
      "!\n",
      "!\n",
      "!\n",
      "!\n",
      "!\n",
      "!\n",
      "!\n",
      "!\n",
      "!\n",
      "!\n",
      "!\n",
      "!\n",
      "!\n",
      "!\n",
      "!\n"
     ]
    },
    {
     "name": "stderr",
     "output_type": "stream",
     "text": [
      "Extract dsift in train data:  13%|█▎        | 257/2020 [00:16<01:51, 15.88it/s]"
     ]
    },
    {
     "name": "stdout",
     "output_type": "stream",
     "text": [
      "!\n",
      "!\n",
      "!\n",
      "!\n",
      "!\n",
      "!\n",
      "!\n",
      "!\n",
      "!\n",
      "!\n",
      "!\n",
      "!\n",
      "!\n",
      "!\n",
      "!\n",
      "!\n",
      "!\n"
     ]
    },
    {
     "name": "stderr",
     "output_type": "stream",
     "text": [
      "Extract dsift in train data:  13%|█▎        | 261/2020 [00:16<01:51, 15.81it/s]"
     ]
    },
    {
     "name": "stdout",
     "output_type": "stream",
     "text": [
      "!\n",
      "!\n",
      "!\n",
      "!\n",
      "!\n",
      "!\n",
      "!\n",
      "!\n",
      "!\n",
      "!\n",
      "!\n",
      "!\n",
      "!\n",
      "!\n",
      "!\n",
      "!\n"
     ]
    },
    {
     "name": "stderr",
     "output_type": "stream",
     "text": [
      "Extract dsift in train data:  13%|█▎        | 263/2020 [00:16<01:50, 15.87it/s]"
     ]
    },
    {
     "name": "stdout",
     "output_type": "stream",
     "text": [
      "!\n",
      "!\n",
      "!\n",
      "!\n",
      "!\n",
      "!\n",
      "!\n",
      "!\n",
      "!\n",
      "!\n",
      "!\n",
      "!\n",
      "!\n",
      "!\n",
      "!\n",
      "!\n",
      "!\n"
     ]
    },
    {
     "name": "stderr",
     "output_type": "stream",
     "text": [
      "Extract dsift in train data:  13%|█▎        | 267/2020 [00:16<01:50, 15.87it/s]"
     ]
    },
    {
     "name": "stdout",
     "output_type": "stream",
     "text": [
      "!\n",
      "!\n",
      "!\n",
      "!\n",
      "!\n",
      "!\n",
      "!\n",
      "!\n",
      "!\n",
      "!\n",
      "!\n",
      "!\n",
      "!\n",
      "!\n",
      "!\n",
      "!\n",
      "!\n"
     ]
    },
    {
     "name": "stderr",
     "output_type": "stream",
     "text": [
      "Extract dsift in train data:  13%|█▎        | 271/2020 [00:17<01:51, 15.68it/s]"
     ]
    },
    {
     "name": "stdout",
     "output_type": "stream",
     "text": [
      "!\n",
      "!\n",
      "!\n",
      "!\n",
      "!\n",
      "!\n",
      "!\n",
      "!\n",
      "!\n",
      "!\n",
      "!\n",
      "!\n",
      "!\n",
      "!\n",
      "!\n",
      "!\n",
      "!\n"
     ]
    },
    {
     "name": "stderr",
     "output_type": "stream",
     "text": [
      "Extract dsift in train data:  14%|█▎        | 273/2020 [00:17<01:50, 15.78it/s]"
     ]
    },
    {
     "name": "stdout",
     "output_type": "stream",
     "text": [
      "!\n",
      "!\n",
      "!\n",
      "!\n",
      "!\n",
      "!\n",
      "!\n",
      "!\n",
      "!\n",
      "!\n",
      "!\n",
      "!\n",
      "!\n",
      "!\n",
      "!\n",
      "!\n"
     ]
    },
    {
     "name": "stderr",
     "output_type": "stream",
     "text": [
      "Extract dsift in train data:  14%|█▎        | 277/2020 [00:17<01:49, 15.95it/s]"
     ]
    },
    {
     "name": "stdout",
     "output_type": "stream",
     "text": [
      "!\n",
      "!\n",
      "!\n",
      "!\n",
      "!\n",
      "!\n",
      "!\n",
      "!\n",
      "!\n",
      "!\n",
      "!\n",
      "!\n",
      "!\n",
      "!\n",
      "!\n",
      "!\n",
      "!\n"
     ]
    },
    {
     "name": "stderr",
     "output_type": "stream",
     "text": [
      "Extract dsift in train data:  14%|█▍        | 281/2020 [00:17<01:49, 15.85it/s]"
     ]
    },
    {
     "name": "stdout",
     "output_type": "stream",
     "text": [
      "!\n",
      "!\n",
      "!\n",
      "!\n",
      "!\n",
      "!\n",
      "!\n",
      "!\n",
      "!\n",
      "!\n",
      "!\n",
      "!\n",
      "!\n",
      "!\n",
      "!\n",
      "!\n",
      "!\n"
     ]
    },
    {
     "name": "stderr",
     "output_type": "stream",
     "text": [
      "Extract dsift in train data:  14%|█▍        | 285/2020 [00:18<01:50, 15.77it/s]"
     ]
    },
    {
     "name": "stdout",
     "output_type": "stream",
     "text": [
      "!\n",
      "!\n",
      "!\n",
      "!\n",
      "!\n",
      "!\n",
      "!\n",
      "!\n",
      "!\n",
      "!\n",
      "!\n",
      "!\n",
      "!\n",
      "!\n",
      "!\n",
      "!\n"
     ]
    },
    {
     "name": "stderr",
     "output_type": "stream",
     "text": [
      "Extract dsift in train data:  14%|█▍        | 287/2020 [00:18<01:49, 15.89it/s]"
     ]
    },
    {
     "name": "stdout",
     "output_type": "stream",
     "text": [
      "!\n",
      "!\n",
      "!\n",
      "!\n",
      "!\n",
      "!\n",
      "!\n",
      "!\n",
      "!\n",
      "!\n",
      "!\n",
      "!\n",
      "!\n",
      "!\n",
      "!\n",
      "!\n",
      "!\n"
     ]
    },
    {
     "name": "stderr",
     "output_type": "stream",
     "text": [
      "Extract dsift in train data:  14%|█▍        | 291/2020 [00:18<01:47, 16.01it/s]"
     ]
    },
    {
     "name": "stdout",
     "output_type": "stream",
     "text": [
      "!\n",
      "!\n",
      "!\n",
      "!\n",
      "!\n",
      "!\n",
      "!\n",
      "!\n",
      "!\n",
      "!\n",
      "!\n",
      "!\n",
      "!\n",
      "!\n",
      "!\n",
      "!\n",
      "!\n",
      "!\n"
     ]
    },
    {
     "name": "stderr",
     "output_type": "stream",
     "text": [
      "Extract dsift in train data:  15%|█▍        | 295/2020 [00:18<01:46, 16.24it/s]"
     ]
    },
    {
     "name": "stdout",
     "output_type": "stream",
     "text": [
      "!\n",
      "!\n",
      "!\n",
      "!\n",
      "!\n",
      "!\n",
      "!\n",
      "!\n",
      "!\n",
      "!\n",
      "!\n",
      "!\n",
      "!\n",
      "!\n",
      "!\n",
      "!\n",
      "!\n"
     ]
    },
    {
     "name": "stderr",
     "output_type": "stream",
     "text": [
      "Extract dsift in train data:  15%|█▍        | 297/2020 [00:18<01:45, 16.31it/s]"
     ]
    },
    {
     "name": "stdout",
     "output_type": "stream",
     "text": [
      "!\n",
      "!\n",
      "!\n",
      "!\n",
      "!\n",
      "!\n",
      "!\n",
      "!\n",
      "!\n",
      "!\n",
      "!\n",
      "!\n",
      "!\n",
      "!\n",
      "!\n",
      "!\n",
      "!\n"
     ]
    },
    {
     "name": "stderr",
     "output_type": "stream",
     "text": [
      "Extract dsift in train data:  15%|█▍        | 301/2020 [00:19<01:45, 16.25it/s]"
     ]
    },
    {
     "name": "stdout",
     "output_type": "stream",
     "text": [
      "!\n",
      "!\n",
      "!\n",
      "!\n",
      "!\n",
      "!\n",
      "!\n",
      "!\n",
      "!\n",
      "!\n",
      "!\n",
      "!\n",
      "!\n",
      "!\n",
      "!\n",
      "!\n"
     ]
    },
    {
     "name": "stderr",
     "output_type": "stream",
     "text": [
      "Extract dsift in train data:  15%|█▌        | 305/2020 [00:19<01:47, 15.96it/s]"
     ]
    },
    {
     "name": "stdout",
     "output_type": "stream",
     "text": [
      "!\n",
      "!\n",
      "!\n",
      "!\n",
      "!\n",
      "!\n",
      "!\n",
      "!\n",
      "!\n",
      "!\n",
      "!\n",
      "!\n",
      "!\n",
      "!\n",
      "!\n",
      "!\n",
      "!\n"
     ]
    },
    {
     "name": "stderr",
     "output_type": "stream",
     "text": [
      "Extract dsift in train data:  15%|█▌        | 307/2020 [00:19<01:47, 15.89it/s]"
     ]
    },
    {
     "name": "stdout",
     "output_type": "stream",
     "text": [
      "!\n",
      "!\n",
      "!\n",
      "!\n",
      "!\n",
      "!\n",
      "!\n",
      "!\n",
      "!\n",
      "!\n",
      "!\n",
      "!\n",
      "!\n",
      "!\n",
      "!\n",
      "!\n",
      "!\n"
     ]
    },
    {
     "name": "stderr",
     "output_type": "stream",
     "text": [
      "Extract dsift in train data:  15%|█▌        | 311/2020 [00:19<01:47, 15.88it/s]"
     ]
    },
    {
     "name": "stdout",
     "output_type": "stream",
     "text": [
      "!\n",
      "!\n",
      "!\n",
      "!\n",
      "!\n",
      "!\n",
      "!\n",
      "!\n",
      "!\n",
      "!\n",
      "!\n",
      "!\n",
      "!\n",
      "!\n",
      "!\n",
      "!\n"
     ]
    },
    {
     "name": "stderr",
     "output_type": "stream",
     "text": [
      "Extract dsift in train data:  15%|█▌        | 313/2020 [00:19<01:46, 15.99it/s]"
     ]
    },
    {
     "name": "stdout",
     "output_type": "stream",
     "text": [
      "!\n",
      "!\n",
      "!\n",
      "!\n",
      "!\n",
      "!\n",
      "!\n",
      "!\n",
      "!\n",
      "!\n",
      "!\n",
      "!\n",
      "!\n",
      "!\n",
      "!\n"
     ]
    },
    {
     "name": "stderr",
     "output_type": "stream",
     "text": [
      "Extract dsift in train data:  16%|█▌        | 317/2020 [00:20<01:56, 14.65it/s]"
     ]
    },
    {
     "name": "stdout",
     "output_type": "stream",
     "text": [
      "!\n",
      "!\n",
      "!\n",
      "!\n",
      "!\n",
      "!\n",
      "!\n",
      "!\n",
      "!\n",
      "!\n",
      "!\n",
      "!\n",
      "!\n",
      "!\n",
      "!\n",
      "!\n"
     ]
    },
    {
     "name": "stderr",
     "output_type": "stream",
     "text": [
      "Extract dsift in train data:  16%|█▌        | 321/2020 [00:20<01:52, 15.08it/s]"
     ]
    },
    {
     "name": "stdout",
     "output_type": "stream",
     "text": [
      "!\n",
      "!\n",
      "!\n",
      "!\n",
      "!\n",
      "!\n",
      "!\n",
      "!\n",
      "!\n",
      "!\n",
      "!\n",
      "!\n",
      "!\n",
      "!\n",
      "!\n",
      "!\n"
     ]
    },
    {
     "name": "stderr",
     "output_type": "stream",
     "text": [
      "Extract dsift in train data:  16%|█▌        | 323/2020 [00:20<01:51, 15.28it/s]"
     ]
    },
    {
     "name": "stdout",
     "output_type": "stream",
     "text": [
      "!\n",
      "!\n",
      "!\n",
      "!\n",
      "!\n",
      "!\n",
      "!\n",
      "!\n",
      "!\n",
      "!\n",
      "!\n",
      "!\n",
      "!\n",
      "!\n",
      "!\n",
      "!\n",
      "!\n",
      "!\n"
     ]
    },
    {
     "name": "stderr",
     "output_type": "stream",
     "text": [
      "Extract dsift in train data:  16%|█▌        | 327/2020 [00:20<01:48, 15.58it/s]"
     ]
    },
    {
     "name": "stdout",
     "output_type": "stream",
     "text": [
      "!\n",
      "!\n",
      "!\n",
      "!\n",
      "!\n",
      "!\n",
      "!\n",
      "!\n",
      "!\n",
      "!\n",
      "!\n",
      "!\n",
      "!\n",
      "!\n",
      "!\n",
      "!\n",
      "!\n"
     ]
    },
    {
     "name": "stderr",
     "output_type": "stream",
     "text": [
      "Extract dsift in train data:  16%|█▋        | 331/2020 [00:21<01:46, 15.83it/s]"
     ]
    },
    {
     "name": "stdout",
     "output_type": "stream",
     "text": [
      "!\n",
      "!\n",
      "!\n",
      "!\n",
      "!\n",
      "!\n",
      "!\n",
      "!\n",
      "!\n",
      "!\n",
      "!\n",
      "!\n",
      "!\n",
      "!\n",
      "!\n",
      "!\n",
      "!\n"
     ]
    },
    {
     "name": "stderr",
     "output_type": "stream",
     "text": [
      "Extract dsift in train data:  17%|█▋        | 335/2020 [00:21<01:45, 15.94it/s]"
     ]
    },
    {
     "name": "stdout",
     "output_type": "stream",
     "text": [
      "!\n",
      "!\n",
      "!\n",
      "!\n",
      "!\n",
      "!\n",
      "!\n",
      "!\n",
      "!\n",
      "!\n",
      "!\n",
      "!\n",
      "!\n",
      "!\n",
      "!\n",
      "!\n"
     ]
    },
    {
     "name": "stderr",
     "output_type": "stream",
     "text": [
      "Extract dsift in train data:  17%|█▋        | 337/2020 [00:21<01:45, 15.96it/s]"
     ]
    },
    {
     "name": "stdout",
     "output_type": "stream",
     "text": [
      "!\n",
      "!\n",
      "!\n",
      "!\n",
      "!\n",
      "!\n",
      "!\n",
      "!\n",
      "!\n",
      "!\n",
      "!\n",
      "!\n",
      "!\n",
      "!\n",
      "!\n",
      "!\n",
      "!\n"
     ]
    },
    {
     "name": "stderr",
     "output_type": "stream",
     "text": [
      "Extract dsift in train data:  17%|█▋        | 341/2020 [00:21<01:44, 16.09it/s]"
     ]
    },
    {
     "name": "stdout",
     "output_type": "stream",
     "text": [
      "!\n",
      "!\n",
      "!\n",
      "!\n",
      "!\n",
      "!\n",
      "!\n",
      "!\n",
      "!\n",
      "!\n",
      "!\n",
      "!\n",
      "!\n",
      "!\n",
      "!\n",
      "!\n",
      "!\n"
     ]
    },
    {
     "name": "stderr",
     "output_type": "stream",
     "text": [
      "Extract dsift in train data:  17%|█▋        | 343/2020 [00:21<01:45, 15.85it/s]"
     ]
    },
    {
     "name": "stdout",
     "output_type": "stream",
     "text": [
      "!\n",
      "!\n",
      "!\n",
      "!\n",
      "!\n",
      "!\n",
      "!\n",
      "!\n",
      "!\n",
      "!\n",
      "!\n",
      "!\n",
      "!\n",
      "!\n",
      "!\n",
      "!\n"
     ]
    },
    {
     "name": "stderr",
     "output_type": "stream",
     "text": [
      "Extract dsift in train data:  17%|█▋        | 347/2020 [00:22<01:46, 15.66it/s]"
     ]
    },
    {
     "name": "stdout",
     "output_type": "stream",
     "text": [
      "!\n",
      "!\n",
      "!\n",
      "!\n",
      "!\n",
      "!\n",
      "!\n",
      "!\n",
      "!\n",
      "!\n",
      "!\n",
      "!\n",
      "!\n",
      "!\n",
      "!\n",
      "!\n",
      "!\n"
     ]
    },
    {
     "name": "stderr",
     "output_type": "stream",
     "text": [
      "Extract dsift in train data:  17%|█▋        | 351/2020 [00:22<01:52, 14.82it/s]"
     ]
    },
    {
     "name": "stdout",
     "output_type": "stream",
     "text": [
      "!\n",
      "!\n",
      "!\n",
      "!\n",
      "!\n",
      "!\n",
      "!\n",
      "!\n",
      "!\n",
      "!\n",
      "!\n",
      "!\n",
      "!\n"
     ]
    },
    {
     "name": "stderr",
     "output_type": "stream",
     "text": [
      "Extract dsift in train data:  17%|█▋        | 353/2020 [00:22<02:02, 13.57it/s]"
     ]
    },
    {
     "name": "stdout",
     "output_type": "stream",
     "text": [
      "!\n",
      "!\n",
      "!\n",
      "!\n",
      "!\n",
      "!\n",
      "!\n",
      "!\n",
      "!\n",
      "!\n",
      "!\n",
      "!\n",
      "!\n",
      "!\n"
     ]
    },
    {
     "name": "stderr",
     "output_type": "stream",
     "text": [
      "Extract dsift in train data:  18%|█▊        | 355/2020 [00:22<02:06, 13.17it/s]"
     ]
    },
    {
     "name": "stdout",
     "output_type": "stream",
     "text": [
      "!\n",
      "!\n",
      "!\n",
      "!\n",
      "!\n",
      "!\n",
      "!\n",
      "!\n",
      "!\n",
      "!\n",
      "!\n"
     ]
    },
    {
     "name": "stderr",
     "output_type": "stream",
     "text": [
      "Extract dsift in train data:  18%|█▊        | 357/2020 [00:22<02:12, 12.55it/s]"
     ]
    },
    {
     "name": "stdout",
     "output_type": "stream",
     "text": [
      "!\n",
      "!\n",
      "!\n",
      "!\n",
      "!\n",
      "!\n",
      "!\n",
      "!\n",
      "!\n",
      "!\n",
      "!\n",
      "!\n",
      "!\n",
      "!\n"
     ]
    },
    {
     "name": "stderr",
     "output_type": "stream",
     "text": [
      "Extract dsift in train data:  18%|█▊        | 361/2020 [00:23<02:12, 12.51it/s]"
     ]
    },
    {
     "name": "stdout",
     "output_type": "stream",
     "text": [
      "!\n",
      "!\n",
      "!\n",
      "!\n",
      "!\n",
      "!\n",
      "!\n",
      "!\n",
      "!\n",
      "!\n",
      "!\n",
      "!\n"
     ]
    },
    {
     "name": "stderr",
     "output_type": "stream",
     "text": [
      "Extract dsift in train data:  18%|█▊        | 363/2020 [00:23<02:13, 12.43it/s]"
     ]
    },
    {
     "name": "stdout",
     "output_type": "stream",
     "text": [
      "!\n",
      "!\n",
      "!\n",
      "!\n",
      "!\n",
      "!\n",
      "!\n",
      "!\n",
      "!\n",
      "!\n",
      "!\n",
      "!\n",
      "!\n",
      "!\n"
     ]
    },
    {
     "name": "stderr",
     "output_type": "stream",
     "text": [
      "Extract dsift in train data:  18%|█▊        | 367/2020 [00:23<01:58, 13.99it/s]"
     ]
    },
    {
     "name": "stdout",
     "output_type": "stream",
     "text": [
      "!\n",
      "!\n",
      "!\n",
      "!\n",
      "!\n",
      "!\n",
      "!\n",
      "!\n",
      "!\n",
      "!\n",
      "!\n",
      "!\n",
      "!\n",
      "!\n",
      "!\n",
      "!\n",
      "!\n"
     ]
    },
    {
     "name": "stderr",
     "output_type": "stream",
     "text": [
      "Extract dsift in train data:  18%|█▊        | 369/2020 [00:23<01:53, 14.50it/s]"
     ]
    },
    {
     "name": "stdout",
     "output_type": "stream",
     "text": [
      "!\n",
      "!\n",
      "!\n",
      "!\n",
      "!\n",
      "!\n",
      "!\n",
      "!\n",
      "!\n",
      "!\n",
      "!\n",
      "!\n",
      "!\n",
      "!\n",
      "!\n",
      "!\n",
      "!\n"
     ]
    },
    {
     "name": "stderr",
     "output_type": "stream",
     "text": [
      "Extract dsift in train data:  18%|█▊        | 373/2020 [00:23<01:46, 15.47it/s]"
     ]
    },
    {
     "name": "stdout",
     "output_type": "stream",
     "text": [
      "!\n",
      "!\n",
      "!\n",
      "!\n",
      "!\n",
      "!\n",
      "!\n",
      "!\n",
      "!\n",
      "!\n",
      "!\n",
      "!\n",
      "!\n",
      "!\n",
      "!\n",
      "!\n",
      "!\n"
     ]
    },
    {
     "name": "stderr",
     "output_type": "stream",
     "text": [
      "Extract dsift in train data:  19%|█▊        | 377/2020 [00:24<01:42, 16.07it/s]"
     ]
    },
    {
     "name": "stdout",
     "output_type": "stream",
     "text": [
      "!\n",
      "!\n",
      "!\n",
      "!\n",
      "!\n",
      "!\n",
      "!\n",
      "!\n",
      "!\n",
      "!\n",
      "!\n",
      "!\n",
      "!\n",
      "!\n",
      "!\n",
      "!\n",
      "!\n"
     ]
    },
    {
     "name": "stderr",
     "output_type": "stream",
     "text": [
      "Extract dsift in train data:  19%|█▉        | 381/2020 [00:24<01:41, 16.15it/s]"
     ]
    },
    {
     "name": "stdout",
     "output_type": "stream",
     "text": [
      "!\n",
      "!\n",
      "!\n",
      "!\n",
      "!\n",
      "!\n",
      "!\n",
      "!\n",
      "!\n",
      "!\n",
      "!\n",
      "!\n",
      "!\n",
      "!\n",
      "!\n",
      "!\n",
      "!\n"
     ]
    },
    {
     "name": "stderr",
     "output_type": "stream",
     "text": [
      "Extract dsift in train data:  19%|█▉        | 383/2020 [00:24<01:41, 16.14it/s]"
     ]
    },
    {
     "name": "stdout",
     "output_type": "stream",
     "text": [
      "!\n",
      "!\n",
      "!\n",
      "!\n",
      "!\n",
      "!\n",
      "!\n",
      "!\n",
      "!\n",
      "!\n",
      "!\n",
      "!\n",
      "!\n",
      "!\n",
      "!\n",
      "!\n",
      "!\n",
      "!\n"
     ]
    },
    {
     "name": "stderr",
     "output_type": "stream",
     "text": [
      "Extract dsift in train data:  19%|█▉        | 387/2020 [00:24<01:41, 16.14it/s]"
     ]
    },
    {
     "name": "stdout",
     "output_type": "stream",
     "text": [
      "!\n",
      "!\n",
      "!\n",
      "!\n",
      "!\n",
      "!\n",
      "!\n",
      "!\n",
      "!\n",
      "!\n",
      "!\n",
      "!\n",
      "!\n",
      "!\n",
      "!\n",
      "!\n",
      "!\n"
     ]
    },
    {
     "name": "stderr",
     "output_type": "stream",
     "text": [
      "Extract dsift in train data:  19%|█▉        | 391/2020 [00:25<01:41, 16.06it/s]"
     ]
    },
    {
     "name": "stdout",
     "output_type": "stream",
     "text": [
      "!\n",
      "!\n",
      "!\n",
      "!\n",
      "!\n",
      "!\n",
      "!\n",
      "!\n",
      "!\n",
      "!\n",
      "!\n",
      "!\n",
      "!\n",
      "!\n",
      "!\n",
      "!\n",
      "!\n"
     ]
    },
    {
     "name": "stderr",
     "output_type": "stream",
     "text": [
      "Extract dsift in train data:  19%|█▉        | 393/2020 [00:25<01:41, 16.02it/s]"
     ]
    },
    {
     "name": "stdout",
     "output_type": "stream",
     "text": [
      "!\n",
      "!\n",
      "!\n",
      "!\n",
      "!\n",
      "!\n",
      "!\n",
      "!\n",
      "!\n",
      "!\n",
      "!\n",
      "!\n",
      "!\n",
      "!\n",
      "!\n",
      "!\n",
      "!\n"
     ]
    },
    {
     "name": "stderr",
     "output_type": "stream",
     "text": [
      "Extract dsift in train data:  20%|█▉        | 397/2020 [00:25<01:41, 15.99it/s]"
     ]
    },
    {
     "name": "stdout",
     "output_type": "stream",
     "text": [
      "!\n",
      "!\n",
      "!\n",
      "!\n",
      "!\n",
      "!\n",
      "!\n",
      "!\n",
      "!\n",
      "!\n",
      "!\n",
      "!\n",
      "!\n",
      "!\n",
      "!\n",
      "!\n"
     ]
    },
    {
     "name": "stderr",
     "output_type": "stream",
     "text": [
      "Extract dsift in train data:  20%|█▉        | 401/2020 [00:25<01:40, 16.08it/s]"
     ]
    },
    {
     "name": "stdout",
     "output_type": "stream",
     "text": [
      "!\n",
      "!\n",
      "!\n",
      "!\n",
      "!\n",
      "!\n",
      "!\n",
      "!\n",
      "!\n",
      "!\n",
      "!\n",
      "!\n",
      "!\n",
      "!\n",
      "!\n",
      "!\n",
      "!\n"
     ]
    },
    {
     "name": "stderr",
     "output_type": "stream",
     "text": [
      "Extract dsift in train data:  20%|█▉        | 403/2020 [00:25<01:43, 15.58it/s]"
     ]
    },
    {
     "name": "stdout",
     "output_type": "stream",
     "text": [
      "!\n",
      "!\n",
      "!\n",
      "!\n",
      "!\n",
      "!\n",
      "!\n",
      "!\n",
      "!\n",
      "!\n",
      "!\n",
      "!\n",
      "!\n",
      "!\n",
      "!\n"
     ]
    },
    {
     "name": "stderr",
     "output_type": "stream",
     "text": [
      "Extract dsift in train data:  20%|██        | 407/2020 [00:26<01:43, 15.64it/s]"
     ]
    },
    {
     "name": "stdout",
     "output_type": "stream",
     "text": [
      "!\n",
      "!\n",
      "!\n",
      "!\n",
      "!\n",
      "!\n",
      "!\n",
      "!\n",
      "!\n",
      "!\n",
      "!\n",
      "!\n",
      "!\n",
      "!\n",
      "!\n",
      "!\n"
     ]
    },
    {
     "name": "stderr",
     "output_type": "stream",
     "text": [
      "Extract dsift in train data:  20%|██        | 409/2020 [00:26<01:44, 15.47it/s]"
     ]
    },
    {
     "name": "stdout",
     "output_type": "stream",
     "text": [
      "!\n",
      "!\n",
      "!\n",
      "!\n",
      "!\n",
      "!\n",
      "!\n",
      "!\n",
      "!\n",
      "!\n",
      "!\n",
      "!\n",
      "!\n",
      "!\n",
      "!\n",
      "!\n",
      "!\n"
     ]
    },
    {
     "name": "stderr",
     "output_type": "stream",
     "text": [
      "Extract dsift in train data:  20%|██        | 413/2020 [00:26<01:42, 15.71it/s]"
     ]
    },
    {
     "name": "stdout",
     "output_type": "stream",
     "text": [
      "!\n",
      "!\n",
      "!\n",
      "!\n",
      "!\n",
      "!\n",
      "!\n",
      "!\n",
      "!\n",
      "!\n",
      "!\n",
      "!\n",
      "!\n",
      "!\n",
      "!\n",
      "!\n",
      "!\n"
     ]
    },
    {
     "name": "stderr",
     "output_type": "stream",
     "text": [
      "Extract dsift in train data:  21%|██        | 417/2020 [00:26<01:40, 15.92it/s]"
     ]
    },
    {
     "name": "stdout",
     "output_type": "stream",
     "text": [
      "!\n",
      "!\n",
      "!\n",
      "!\n",
      "!\n",
      "!\n",
      "!\n",
      "!\n",
      "!\n",
      "!\n",
      "!\n",
      "!\n",
      "!\n",
      "!\n",
      "!\n",
      "!\n",
      "!\n"
     ]
    },
    {
     "name": "stderr",
     "output_type": "stream",
     "text": [
      "Extract dsift in train data:  21%|██        | 421/2020 [00:26<01:39, 16.09it/s]"
     ]
    },
    {
     "name": "stdout",
     "output_type": "stream",
     "text": [
      "!\n",
      "!\n",
      "!\n",
      "!\n",
      "!\n",
      "!\n",
      "!\n",
      "!\n",
      "!\n",
      "!\n",
      "!\n",
      "!\n",
      "!\n",
      "!\n",
      "!\n",
      "!\n"
     ]
    },
    {
     "name": "stderr",
     "output_type": "stream",
     "text": [
      "Extract dsift in train data:  21%|██        | 423/2020 [00:27<01:39, 16.09it/s]"
     ]
    },
    {
     "name": "stdout",
     "output_type": "stream",
     "text": [
      "!\n",
      "!\n",
      "!\n",
      "!\n",
      "!\n",
      "!\n",
      "!\n",
      "!\n",
      "!\n",
      "!\n",
      "!\n",
      "!\n",
      "!\n",
      "!\n",
      "!\n",
      "!\n",
      "!\n"
     ]
    },
    {
     "name": "stderr",
     "output_type": "stream",
     "text": [
      "Extract dsift in train data:  21%|██        | 427/2020 [00:27<01:39, 16.09it/s]"
     ]
    },
    {
     "name": "stdout",
     "output_type": "stream",
     "text": [
      "!\n",
      "!\n",
      "!\n",
      "!\n",
      "!\n",
      "!\n",
      "!\n",
      "!\n",
      "!\n",
      "!\n",
      "!\n",
      "!\n",
      "!\n",
      "!\n",
      "!\n",
      "!\n",
      "!\n"
     ]
    },
    {
     "name": "stderr",
     "output_type": "stream",
     "text": [
      "Extract dsift in train data:  21%|██▏       | 431/2020 [00:27<01:38, 16.08it/s]"
     ]
    },
    {
     "name": "stdout",
     "output_type": "stream",
     "text": [
      "!\n",
      "!\n",
      "!\n",
      "!\n",
      "!\n",
      "!\n",
      "!\n",
      "!\n",
      "!\n",
      "!\n",
      "!\n",
      "!\n",
      "!\n",
      "!\n",
      "!\n",
      "!\n"
     ]
    },
    {
     "name": "stderr",
     "output_type": "stream",
     "text": [
      "Extract dsift in train data:  21%|██▏       | 433/2020 [00:27<01:40, 15.75it/s]"
     ]
    },
    {
     "name": "stdout",
     "output_type": "stream",
     "text": [
      "!\n",
      "!\n",
      "!\n",
      "!\n",
      "!\n",
      "!\n",
      "!\n",
      "!\n",
      "!\n",
      "!\n",
      "!\n",
      "!\n",
      "!\n",
      "!\n",
      "!\n",
      "!\n",
      "!"
     ]
    },
    {
     "name": "stderr",
     "output_type": "stream",
     "text": [
      "Extract dsift in train data:  22%|██▏       | 437/2020 [00:28<01:41, 15.63it/s]"
     ]
    },
    {
     "name": "stdout",
     "output_type": "stream",
     "text": [
      "\n",
      "!\n",
      "!\n",
      "!\n",
      "!\n",
      "!\n",
      "!\n",
      "!\n",
      "!\n",
      "!\n",
      "!\n",
      "!\n",
      "!\n",
      "!\n",
      "!\n",
      "!\n"
     ]
    },
    {
     "name": "stderr",
     "output_type": "stream",
     "text": [
      "Extract dsift in train data:  22%|██▏       | 439/2020 [00:28<01:41, 15.61it/s]"
     ]
    },
    {
     "name": "stdout",
     "output_type": "stream",
     "text": [
      "!\n",
      "!\n",
      "!\n",
      "!\n",
      "!\n",
      "!\n",
      "!\n",
      "!\n",
      "!\n",
      "!\n",
      "!\n",
      "!\n",
      "!\n",
      "!\n",
      "!\n",
      "!\n",
      "!\n"
     ]
    },
    {
     "name": "stderr",
     "output_type": "stream",
     "text": [
      "Extract dsift in train data:  22%|██▏       | 443/2020 [00:28<01:39, 15.91it/s]"
     ]
    },
    {
     "name": "stdout",
     "output_type": "stream",
     "text": [
      "!\n",
      "!\n",
      "!\n",
      "!\n",
      "!\n",
      "!\n",
      "!\n",
      "!\n",
      "!\n",
      "!\n",
      "!\n",
      "!\n",
      "!\n",
      "!\n",
      "!\n",
      "!\n"
     ]
    },
    {
     "name": "stderr",
     "output_type": "stream",
     "text": [
      "Extract dsift in train data:  22%|██▏       | 447/2020 [00:28<01:37, 16.07it/s]"
     ]
    },
    {
     "name": "stdout",
     "output_type": "stream",
     "text": [
      "!\n",
      "!\n",
      "!\n",
      "!\n",
      "!\n",
      "!\n",
      "!\n",
      "!\n",
      "!\n",
      "!\n",
      "!\n",
      "!\n",
      "!\n",
      "!\n",
      "!\n",
      "!\n",
      "!\n"
     ]
    },
    {
     "name": "stderr",
     "output_type": "stream",
     "text": [
      "Extract dsift in train data:  22%|██▏       | 449/2020 [00:28<01:37, 16.03it/s]"
     ]
    },
    {
     "name": "stdout",
     "output_type": "stream",
     "text": [
      "!\n",
      "!\n",
      "!\n",
      "!\n",
      "!\n",
      "!\n",
      "!\n",
      "!\n",
      "!\n",
      "!\n",
      "!\n",
      "!\n",
      "!\n",
      "!\n",
      "!\n",
      "!\n",
      "!\n",
      "!\n"
     ]
    },
    {
     "name": "stderr",
     "output_type": "stream",
     "text": [
      "Extract dsift in train data:  22%|██▏       | 453/2020 [00:28<01:36, 16.21it/s]"
     ]
    },
    {
     "name": "stdout",
     "output_type": "stream",
     "text": [
      "!\n",
      "!\n",
      "!\n",
      "!\n",
      "!\n",
      "!\n",
      "!\n",
      "!\n",
      "!\n",
      "!\n",
      "!\n",
      "!\n",
      "!\n",
      "!\n",
      "!\n",
      "!\n",
      "!\n",
      "!\n"
     ]
    },
    {
     "name": "stderr",
     "output_type": "stream",
     "text": [
      "Extract dsift in train data:  23%|██▎       | 457/2020 [00:29<01:35, 16.37it/s]"
     ]
    },
    {
     "name": "stdout",
     "output_type": "stream",
     "text": [
      "!\n",
      "!\n",
      "!\n",
      "!\n",
      "!\n",
      "!\n",
      "!\n",
      "!\n",
      "!\n",
      "!\n",
      "!\n",
      "!\n",
      "!\n",
      "!\n",
      "!\n",
      "!\n",
      "!\n"
     ]
    },
    {
     "name": "stderr",
     "output_type": "stream",
     "text": [
      "Extract dsift in train data:  23%|██▎       | 461/2020 [00:29<01:35, 16.25it/s]"
     ]
    },
    {
     "name": "stdout",
     "output_type": "stream",
     "text": [
      "!\n",
      "!\n",
      "!\n",
      "!\n",
      "!\n",
      "!\n",
      "!\n",
      "!\n",
      "!\n",
      "!\n",
      "!\n",
      "!\n",
      "!\n",
      "!\n",
      "!\n",
      "!\n",
      "!\n"
     ]
    },
    {
     "name": "stderr",
     "output_type": "stream",
     "text": [
      "Extract dsift in train data:  23%|██▎       | 463/2020 [00:29<01:36, 16.14it/s]"
     ]
    },
    {
     "name": "stdout",
     "output_type": "stream",
     "text": [
      "!\n",
      "!\n",
      "!\n",
      "!\n",
      "!\n",
      "!\n",
      "!\n",
      "!\n",
      "!\n",
      "!\n",
      "!\n",
      "!\n",
      "!\n",
      "!\n",
      "!\n",
      "!\n",
      "!\n"
     ]
    },
    {
     "name": "stderr",
     "output_type": "stream",
     "text": [
      "Extract dsift in train data:  23%|██▎       | 467/2020 [00:29<01:37, 15.86it/s]"
     ]
    },
    {
     "name": "stdout",
     "output_type": "stream",
     "text": [
      "!\n",
      "!\n",
      "!\n",
      "!\n",
      "!\n",
      "!\n",
      "!\n",
      "!\n",
      "!\n",
      "!\n",
      "!\n",
      "!\n",
      "!\n",
      "!\n",
      "!\n",
      "!\n"
     ]
    },
    {
     "name": "stderr",
     "output_type": "stream",
     "text": [
      "Extract dsift in train data:  23%|██▎       | 469/2020 [00:29<01:37, 15.84it/s]"
     ]
    },
    {
     "name": "stdout",
     "output_type": "stream",
     "text": [
      "!\n",
      "!\n",
      "!\n",
      "!\n",
      "!\n",
      "!\n",
      "!\n",
      "!\n",
      "!\n",
      "!\n",
      "!\n",
      "!\n",
      "!\n",
      "!\n",
      "!\n"
     ]
    },
    {
     "name": "stderr",
     "output_type": "stream",
     "text": [
      "Extract dsift in train data:  23%|██▎       | 473/2020 [00:30<01:42, 15.10it/s]"
     ]
    },
    {
     "name": "stdout",
     "output_type": "stream",
     "text": [
      "!\n",
      "!\n",
      "!\n",
      "!\n",
      "!\n",
      "!\n",
      "!\n",
      "!\n",
      "!\n",
      "!\n",
      "!\n",
      "!\n",
      "!\n",
      "!\n",
      "!\n",
      "!\n",
      "!\n",
      "!\n"
     ]
    },
    {
     "name": "stderr",
     "output_type": "stream",
     "text": [
      "Extract dsift in train data:  24%|██▎       | 477/2020 [00:30<01:38, 15.62it/s]"
     ]
    },
    {
     "name": "stdout",
     "output_type": "stream",
     "text": [
      "!\n",
      "!\n",
      "!\n",
      "!\n",
      "!\n",
      "!\n",
      "!\n",
      "!\n",
      "!\n",
      "!\n",
      "!\n",
      "!\n",
      "!\n",
      "!\n",
      "!\n",
      "!\n",
      "!\n"
     ]
    },
    {
     "name": "stderr",
     "output_type": "stream",
     "text": [
      "Extract dsift in train data:  24%|██▍       | 481/2020 [00:30<01:36, 15.93it/s]"
     ]
    },
    {
     "name": "stdout",
     "output_type": "stream",
     "text": [
      "!\n",
      "!\n",
      "!\n",
      "!\n",
      "!\n",
      "!\n",
      "!\n",
      "!\n",
      "!\n",
      "!\n",
      "!\n",
      "!\n",
      "!\n",
      "!\n",
      "!\n",
      "!\n",
      "!\n",
      "!"
     ]
    },
    {
     "name": "stderr",
     "output_type": "stream",
     "text": [
      "Extract dsift in train data:  24%|██▍       | 483/2020 [00:30<01:35, 16.04it/s]"
     ]
    },
    {
     "name": "stdout",
     "output_type": "stream",
     "text": [
      "\n",
      "!\n",
      "!\n",
      "!\n",
      "!\n",
      "!\n",
      "!\n",
      "!\n",
      "!\n",
      "!\n",
      "!\n",
      "!\n",
      "!\n",
      "!\n",
      "!\n"
     ]
    },
    {
     "name": "stderr",
     "output_type": "stream",
     "text": [
      "Extract dsift in train data:  24%|██▍       | 487/2020 [00:31<01:41, 15.14it/s]"
     ]
    },
    {
     "name": "stdout",
     "output_type": "stream",
     "text": [
      "!\n",
      "!\n",
      "!\n",
      "!\n",
      "!\n",
      "!\n",
      "!\n",
      "!\n",
      "!\n",
      "!\n",
      "!\n",
      "!\n",
      "!\n",
      "!\n",
      "!\n",
      "!\n"
     ]
    },
    {
     "name": "stderr",
     "output_type": "stream",
     "text": [
      "Extract dsift in train data:  24%|██▍       | 491/2020 [00:31<01:37, 15.63it/s]"
     ]
    },
    {
     "name": "stdout",
     "output_type": "stream",
     "text": [
      "!\n",
      "!\n",
      "!\n",
      "!\n",
      "!\n",
      "!\n",
      "!\n",
      "!\n",
      "!\n",
      "!\n",
      "!\n",
      "!\n",
      "!\n",
      "!\n",
      "!\n",
      "!\n",
      "!\n"
     ]
    },
    {
     "name": "stderr",
     "output_type": "stream",
     "text": [
      "Extract dsift in train data:  24%|██▍       | 493/2020 [00:31<01:38, 15.57it/s]"
     ]
    },
    {
     "name": "stdout",
     "output_type": "stream",
     "text": [
      "!\n",
      "!\n",
      "!\n",
      "!\n",
      "!\n",
      "!\n",
      "!\n",
      "!\n",
      "!\n",
      "!\n",
      "!\n",
      "!\n",
      "!\n",
      "!\n",
      "!\n",
      "!\n",
      "!\n"
     ]
    },
    {
     "name": "stderr",
     "output_type": "stream",
     "text": [
      "Extract dsift in train data:  25%|██▍       | 497/2020 [00:31<01:34, 16.08it/s]"
     ]
    },
    {
     "name": "stdout",
     "output_type": "stream",
     "text": [
      "!\n",
      "!\n",
      "!\n",
      "!\n",
      "!\n",
      "!\n",
      "!\n",
      "!\n",
      "!\n",
      "!\n",
      "!\n",
      "!\n",
      "!\n",
      "!\n",
      "!\n",
      "!\n",
      "!\n",
      "!\n"
     ]
    },
    {
     "name": "stderr",
     "output_type": "stream",
     "text": [
      "Extract dsift in train data:  25%|██▍       | 501/2020 [00:32<01:33, 16.22it/s]"
     ]
    },
    {
     "name": "stdout",
     "output_type": "stream",
     "text": [
      "!\n",
      "!\n",
      "!\n",
      "!\n",
      "!\n",
      "!\n",
      "!\n",
      "!\n",
      "!\n",
      "!\n",
      "!\n",
      "!\n",
      "!\n",
      "!\n",
      "!\n",
      "!\n",
      "!\n"
     ]
    },
    {
     "name": "stderr",
     "output_type": "stream",
     "text": [
      "Extract dsift in train data:  25%|██▍       | 503/2020 [00:32<01:34, 16.13it/s]"
     ]
    },
    {
     "name": "stdout",
     "output_type": "stream",
     "text": [
      "!\n",
      "!\n",
      "!\n",
      "!\n",
      "!\n",
      "!\n",
      "!\n",
      "!\n",
      "!\n",
      "!\n",
      "!\n",
      "!\n",
      "!\n",
      "!\n",
      "!\n",
      "!\n",
      "!\n"
     ]
    },
    {
     "name": "stderr",
     "output_type": "stream",
     "text": [
      "Extract dsift in train data:  25%|██▌       | 507/2020 [00:32<01:35, 15.84it/s]"
     ]
    },
    {
     "name": "stdout",
     "output_type": "stream",
     "text": [
      "!\n",
      "!\n",
      "!\n",
      "!\n",
      "!\n",
      "!\n",
      "!\n",
      "!\n",
      "!\n",
      "!\n",
      "!\n",
      "!\n",
      "!\n",
      "!\n",
      "!\n",
      "!\n"
     ]
    },
    {
     "name": "stderr",
     "output_type": "stream",
     "text": [
      "Extract dsift in train data:  25%|██▌       | 511/2020 [00:32<01:33, 16.08it/s]"
     ]
    },
    {
     "name": "stdout",
     "output_type": "stream",
     "text": [
      "!\n",
      "!\n",
      "!\n",
      "!\n",
      "!\n",
      "!\n",
      "!\n",
      "!\n",
      "!\n",
      "!\n",
      "!\n",
      "!\n",
      "!\n",
      "!\n",
      "!\n",
      "!\n",
      "!\n",
      "!\n"
     ]
    },
    {
     "name": "stderr",
     "output_type": "stream",
     "text": [
      "Extract dsift in train data:  25%|██▌       | 513/2020 [00:32<01:32, 16.28it/s]"
     ]
    },
    {
     "name": "stdout",
     "output_type": "stream",
     "text": [
      "!\n",
      "!\n",
      "!\n",
      "!\n",
      "!\n",
      "!\n",
      "!\n",
      "!\n",
      "!\n",
      "!\n",
      "!\n",
      "!\n",
      "!\n",
      "!\n",
      "!\n",
      "!\n",
      "!\n"
     ]
    },
    {
     "name": "stderr",
     "output_type": "stream",
     "text": [
      "Extract dsift in train data:  26%|██▌       | 517/2020 [00:33<01:32, 16.25it/s]"
     ]
    },
    {
     "name": "stdout",
     "output_type": "stream",
     "text": [
      "!\n",
      "!\n",
      "!\n",
      "!\n",
      "!\n",
      "!\n",
      "!\n",
      "!\n",
      "!\n",
      "!\n",
      "!\n",
      "!\n",
      "!\n",
      "!\n",
      "!\n",
      "!\n",
      "!\n"
     ]
    },
    {
     "name": "stderr",
     "output_type": "stream",
     "text": [
      "Extract dsift in train data:  26%|██▌       | 521/2020 [00:33<01:34, 15.93it/s]"
     ]
    },
    {
     "name": "stdout",
     "output_type": "stream",
     "text": [
      "!\n",
      "!\n",
      "!\n",
      "!\n",
      "!\n",
      "!\n",
      "!\n",
      "!\n",
      "!\n",
      "!\n",
      "!\n",
      "!\n",
      "!\n",
      "!\n",
      "!\n",
      "!\n",
      "!\n"
     ]
    },
    {
     "name": "stderr",
     "output_type": "stream",
     "text": [
      "Extract dsift in train data:  26%|██▌       | 525/2020 [00:33<01:33, 15.91it/s]"
     ]
    },
    {
     "name": "stdout",
     "output_type": "stream",
     "text": [
      "!\n",
      "!\n",
      "!\n",
      "!\n",
      "!\n",
      "!\n",
      "!\n",
      "!\n",
      "!\n",
      "!\n",
      "!\n",
      "!\n",
      "!\n",
      "!\n",
      "!\n",
      "!\n"
     ]
    },
    {
     "name": "stderr",
     "output_type": "stream",
     "text": [
      "Extract dsift in train data:  26%|██▌       | 527/2020 [00:33<01:32, 16.12it/s]"
     ]
    },
    {
     "name": "stdout",
     "output_type": "stream",
     "text": [
      "!\n",
      "!\n",
      "!\n",
      "!\n",
      "!\n",
      "!\n",
      "!\n",
      "!\n",
      "!\n",
      "!\n",
      "!\n",
      "!\n",
      "!\n",
      "!\n",
      "!\n",
      "!\n",
      "!\n",
      "!\n"
     ]
    },
    {
     "name": "stderr",
     "output_type": "stream",
     "text": [
      "Extract dsift in train data:  26%|██▋       | 531/2020 [00:33<01:32, 16.04it/s]"
     ]
    },
    {
     "name": "stdout",
     "output_type": "stream",
     "text": [
      "!\n",
      "!\n",
      "!\n",
      "!\n",
      "!\n",
      "!\n",
      "!\n",
      "!\n",
      "!\n",
      "!\n",
      "!\n",
      "!\n",
      "!\n",
      "!\n",
      "!\n",
      "!\n",
      "!\n"
     ]
    },
    {
     "name": "stderr",
     "output_type": "stream",
     "text": [
      "Extract dsift in train data:  26%|██▋       | 535/2020 [00:34<01:32, 16.10it/s]"
     ]
    },
    {
     "name": "stdout",
     "output_type": "stream",
     "text": [
      "!\n",
      "!\n",
      "!\n",
      "!\n",
      "!\n",
      "!\n",
      "!\n",
      "!\n",
      "!\n",
      "!\n",
      "!\n",
      "!\n",
      "!\n",
      "!\n",
      "!\n",
      "!\n",
      "!\n"
     ]
    },
    {
     "name": "stderr",
     "output_type": "stream",
     "text": [
      "Extract dsift in train data:  27%|██▋       | 537/2020 [00:34<01:32, 16.06it/s]"
     ]
    },
    {
     "name": "stdout",
     "output_type": "stream",
     "text": [
      "!\n",
      "!\n",
      "!\n",
      "!\n",
      "!\n",
      "!\n",
      "!\n",
      "!\n",
      "!\n",
      "!\n",
      "!\n",
      "!\n",
      "!\n",
      "!\n",
      "!\n",
      "!\n",
      "!\n"
     ]
    },
    {
     "name": "stderr",
     "output_type": "stream",
     "text": [
      "Extract dsift in train data:  27%|██▋       | 541/2020 [00:34<01:33, 15.89it/s]"
     ]
    },
    {
     "name": "stdout",
     "output_type": "stream",
     "text": [
      "!\n",
      "!\n",
      "!\n",
      "!\n",
      "!\n",
      "!\n",
      "!\n",
      "!\n",
      "!\n",
      "!\n",
      "!\n",
      "!\n",
      "!\n",
      "!\n",
      "!\n",
      "!\n"
     ]
    },
    {
     "name": "stderr",
     "output_type": "stream",
     "text": [
      "Extract dsift in train data:  27%|██▋       | 545/2020 [00:34<01:31, 16.05it/s]"
     ]
    },
    {
     "name": "stdout",
     "output_type": "stream",
     "text": [
      "!\n",
      "!\n",
      "!\n",
      "!\n",
      "!\n",
      "!\n",
      "!\n",
      "!\n",
      "!\n",
      "!\n",
      "!\n",
      "!\n",
      "!\n",
      "!\n",
      "!\n",
      "!\n",
      "!\n"
     ]
    },
    {
     "name": "stderr",
     "output_type": "stream",
     "text": [
      "Extract dsift in train data:  27%|██▋       | 547/2020 [00:34<01:31, 16.09it/s]"
     ]
    },
    {
     "name": "stdout",
     "output_type": "stream",
     "text": [
      "!\n",
      "!\n",
      "!\n",
      "!\n",
      "!\n",
      "!\n",
      "!\n",
      "!\n",
      "!\n",
      "!\n",
      "!\n",
      "!\n",
      "!\n",
      "!\n",
      "!\n",
      "!\n",
      "!\n",
      "!\n"
     ]
    },
    {
     "name": "stderr",
     "output_type": "stream",
     "text": [
      "Extract dsift in train data:  27%|██▋       | 551/2020 [00:35<01:30, 16.27it/s]"
     ]
    },
    {
     "name": "stdout",
     "output_type": "stream",
     "text": [
      "!\n",
      "!\n",
      "!\n",
      "!\n",
      "!\n",
      "!\n",
      "!\n",
      "!\n",
      "!\n",
      "!\n",
      "!\n",
      "!\n",
      "!\n",
      "!\n",
      "!\n",
      "!\n",
      "!\n"
     ]
    },
    {
     "name": "stderr",
     "output_type": "stream",
     "text": [
      "Extract dsift in train data:  27%|██▋       | 555/2020 [00:35<01:30, 16.26it/s]"
     ]
    },
    {
     "name": "stdout",
     "output_type": "stream",
     "text": [
      "!\n",
      "!\n",
      "!\n",
      "!\n",
      "!\n",
      "!\n",
      "!\n",
      "!\n",
      "!\n",
      "!\n",
      "!\n",
      "!\n",
      "!\n",
      "!\n",
      "!\n",
      "!\n",
      "!\n",
      "!\n"
     ]
    },
    {
     "name": "stderr",
     "output_type": "stream",
     "text": [
      "Extract dsift in train data:  28%|██▊       | 559/2020 [00:35<01:30, 16.20it/s]"
     ]
    },
    {
     "name": "stdout",
     "output_type": "stream",
     "text": [
      "!\n",
      "!\n",
      "!\n",
      "!\n",
      "!\n",
      "!\n",
      "!\n",
      "!\n",
      "!\n",
      "!\n",
      "!\n",
      "!\n",
      "!\n",
      "!\n",
      "!\n",
      "!\n",
      "!\n"
     ]
    },
    {
     "name": "stderr",
     "output_type": "stream",
     "text": [
      "Extract dsift in train data:  28%|██▊       | 561/2020 [00:35<01:30, 16.08it/s]"
     ]
    },
    {
     "name": "stdout",
     "output_type": "stream",
     "text": [
      "!\n",
      "!\n",
      "!\n",
      "!\n",
      "!\n",
      "!\n",
      "!\n",
      "!\n",
      "!\n",
      "!\n",
      "!\n",
      "!\n",
      "!\n",
      "!\n",
      "!\n",
      "!\n",
      "!\n"
     ]
    },
    {
     "name": "stderr",
     "output_type": "stream",
     "text": [
      "Extract dsift in train data:  28%|██▊       | 565/2020 [00:36<01:33, 15.62it/s]"
     ]
    },
    {
     "name": "stdout",
     "output_type": "stream",
     "text": [
      "!\n",
      "!\n",
      "!\n",
      "!\n",
      "!\n",
      "!\n",
      "!\n",
      "!\n",
      "!\n",
      "!\n",
      "!\n",
      "!\n",
      "!\n",
      "!\n",
      "!\n",
      "!\n"
     ]
    },
    {
     "name": "stderr",
     "output_type": "stream",
     "text": [
      "Extract dsift in train data:  28%|██▊       | 569/2020 [00:36<01:31, 15.91it/s]"
     ]
    },
    {
     "name": "stdout",
     "output_type": "stream",
     "text": [
      "!\n",
      "!\n",
      "!\n",
      "!\n",
      "!\n",
      "!\n",
      "!\n",
      "!\n",
      "!\n",
      "!\n",
      "!\n",
      "!\n",
      "!\n",
      "!\n",
      "!\n",
      "!\n",
      "!\n"
     ]
    },
    {
     "name": "stderr",
     "output_type": "stream",
     "text": [
      "Extract dsift in train data:  28%|██▊       | 571/2020 [00:36<01:31, 15.90it/s]"
     ]
    },
    {
     "name": "stdout",
     "output_type": "stream",
     "text": [
      "!\n",
      "!\n",
      "!\n",
      "!\n",
      "!\n",
      "!\n",
      "!\n",
      "!\n",
      "!\n",
      "!\n",
      "!\n",
      "!\n",
      "!\n",
      "!\n",
      "!\n",
      "!\n",
      "!\n"
     ]
    },
    {
     "name": "stderr",
     "output_type": "stream",
     "text": [
      "Extract dsift in train data:  28%|██▊       | 575/2020 [00:36<01:31, 15.83it/s]"
     ]
    },
    {
     "name": "stdout",
     "output_type": "stream",
     "text": [
      "!\n",
      "!\n",
      "!\n",
      "!\n",
      "!\n",
      "!\n",
      "!\n",
      "!\n",
      "!\n",
      "!\n",
      "!\n",
      "!\n",
      "!\n",
      "!\n",
      "!\n",
      "!\n"
     ]
    },
    {
     "name": "stderr",
     "output_type": "stream",
     "text": [
      "Extract dsift in train data:  29%|██▊       | 579/2020 [00:36<01:31, 15.71it/s]"
     ]
    },
    {
     "name": "stdout",
     "output_type": "stream",
     "text": [
      "!\n",
      "!\n",
      "!\n",
      "!\n",
      "!\n",
      "!\n",
      "!\n",
      "!\n",
      "!\n",
      "!\n",
      "!\n",
      "!\n",
      "!\n",
      "!\n",
      "!\n",
      "!\n"
     ]
    },
    {
     "name": "stderr",
     "output_type": "stream",
     "text": [
      "Extract dsift in train data:  29%|██▉       | 581/2020 [00:37<01:31, 15.69it/s]"
     ]
    },
    {
     "name": "stdout",
     "output_type": "stream",
     "text": [
      "!\n",
      "!\n",
      "!\n",
      "!\n",
      "!\n",
      "!\n",
      "!\n",
      "!\n",
      "!\n",
      "!\n",
      "!\n",
      "!\n",
      "!\n",
      "!\n",
      "!\n",
      "!\n",
      "!\n"
     ]
    },
    {
     "name": "stderr",
     "output_type": "stream",
     "text": [
      "Extract dsift in train data:  29%|██▉       | 585/2020 [00:37<01:31, 15.75it/s]"
     ]
    },
    {
     "name": "stdout",
     "output_type": "stream",
     "text": [
      "!\n",
      "!\n",
      "!\n",
      "!\n",
      "!\n",
      "!\n",
      "!\n",
      "!\n",
      "!\n",
      "!\n",
      "!\n",
      "!\n",
      "!\n",
      "!\n",
      "!\n",
      "!\n",
      "!\n"
     ]
    },
    {
     "name": "stderr",
     "output_type": "stream",
     "text": [
      "Extract dsift in train data:  29%|██▉       | 589/2020 [00:37<01:30, 15.88it/s]"
     ]
    },
    {
     "name": "stdout",
     "output_type": "stream",
     "text": [
      "!\n",
      "!\n",
      "!\n",
      "!\n",
      "!\n",
      "!\n",
      "!\n",
      "!\n",
      "!\n",
      "!\n",
      "!\n",
      "!\n",
      "!\n",
      "!\n",
      "!\n",
      "!\n",
      "!\n"
     ]
    },
    {
     "name": "stderr",
     "output_type": "stream",
     "text": [
      "Extract dsift in train data:  29%|██▉       | 591/2020 [00:37<01:29, 15.99it/s]"
     ]
    },
    {
     "name": "stdout",
     "output_type": "stream",
     "text": [
      "!\n",
      "!\n",
      "!\n",
      "!\n",
      "!\n",
      "!\n",
      "!\n",
      "!\n",
      "!\n",
      "!\n",
      "!\n",
      "!\n",
      "!\n",
      "!\n",
      "!\n",
      "!\n",
      "!\n",
      "!\n"
     ]
    },
    {
     "name": "stderr",
     "output_type": "stream",
     "text": [
      "Extract dsift in train data:  29%|██▉       | 595/2020 [00:37<01:27, 16.33it/s]"
     ]
    },
    {
     "name": "stdout",
     "output_type": "stream",
     "text": [
      "!\n",
      "!\n",
      "!\n",
      "!\n",
      "!\n",
      "!\n",
      "!\n",
      "!\n",
      "!\n",
      "!\n",
      "!\n",
      "!\n",
      "!\n",
      "!\n",
      "!\n",
      "!\n",
      "!\n"
     ]
    },
    {
     "name": "stderr",
     "output_type": "stream",
     "text": [
      "Extract dsift in train data:  30%|██▉       | 599/2020 [00:38<01:29, 15.89it/s]"
     ]
    },
    {
     "name": "stdout",
     "output_type": "stream",
     "text": [
      "!\n",
      "!\n",
      "!\n",
      "!\n",
      "!\n",
      "!\n",
      "!\n",
      "!\n",
      "!\n",
      "!\n",
      "!\n",
      "!\n",
      "!\n",
      "!\n",
      "!\n",
      "!\n"
     ]
    },
    {
     "name": "stderr",
     "output_type": "stream",
     "text": [
      "Extract dsift in train data:  30%|██▉       | 601/2020 [00:38<01:29, 15.77it/s]"
     ]
    },
    {
     "name": "stdout",
     "output_type": "stream",
     "text": [
      "!\n",
      "!\n",
      "!\n",
      "!\n",
      "!\n",
      "!\n",
      "!\n",
      "!\n",
      "!\n",
      "!\n",
      "!\n",
      "!\n",
      "!\n",
      "!\n",
      "!\n",
      "!\n",
      "!\n"
     ]
    },
    {
     "name": "stderr",
     "output_type": "stream",
     "text": [
      "Extract dsift in train data:  30%|██▉       | 605/2020 [00:38<01:29, 15.87it/s]"
     ]
    },
    {
     "name": "stdout",
     "output_type": "stream",
     "text": [
      "!\n",
      "!\n",
      "!\n",
      "!\n",
      "!\n",
      "!\n",
      "!\n",
      "!\n",
      "!\n",
      "!\n",
      "!\n",
      "!\n",
      "!\n",
      "!\n",
      "!\n",
      "!\n",
      "!\n"
     ]
    },
    {
     "name": "stderr",
     "output_type": "stream",
     "text": [
      "Extract dsift in train data:  30%|███       | 609/2020 [00:38<01:28, 15.86it/s]"
     ]
    },
    {
     "name": "stdout",
     "output_type": "stream",
     "text": [
      "!\n",
      "!\n",
      "!\n",
      "!\n",
      "!\n",
      "!\n",
      "!\n",
      "!\n",
      "!\n",
      "!\n",
      "!\n",
      "!\n",
      "!\n",
      "!\n",
      "!\n",
      "!\n"
     ]
    },
    {
     "name": "stderr",
     "output_type": "stream",
     "text": [
      "Extract dsift in train data:  30%|███       | 611/2020 [00:38<01:29, 15.74it/s]"
     ]
    },
    {
     "name": "stdout",
     "output_type": "stream",
     "text": [
      "!\n",
      "!\n",
      "!\n",
      "!\n",
      "!\n",
      "!\n",
      "!\n",
      "!\n",
      "!\n",
      "!\n",
      "!\n",
      "!\n",
      "!\n",
      "!\n",
      "!\n",
      "!\n",
      "!\n"
     ]
    },
    {
     "name": "stderr",
     "output_type": "stream",
     "text": [
      "Extract dsift in train data:  30%|███       | 615/2020 [00:39<01:29, 15.68it/s]"
     ]
    },
    {
     "name": "stdout",
     "output_type": "stream",
     "text": [
      "!\n",
      "!\n",
      "!\n",
      "!\n",
      "!\n",
      "!\n",
      "!\n",
      "!\n",
      "!\n",
      "!\n",
      "!\n",
      "!\n",
      "!\n",
      "!\n",
      "!\n",
      "!\n",
      "!\n"
     ]
    },
    {
     "name": "stderr",
     "output_type": "stream",
     "text": [
      "Extract dsift in train data:  31%|███       | 619/2020 [00:39<01:31, 15.29it/s]"
     ]
    },
    {
     "name": "stdout",
     "output_type": "stream",
     "text": [
      "!\n",
      "!\n",
      "!\n",
      "!\n",
      "!\n",
      "!\n",
      "!\n",
      "!\n",
      "!\n",
      "!\n",
      "!\n",
      "!\n",
      "!\n",
      "!\n",
      "!\n",
      "!\n"
     ]
    },
    {
     "name": "stderr",
     "output_type": "stream",
     "text": [
      "Extract dsift in train data:  31%|███       | 621/2020 [00:39<01:31, 15.32it/s]"
     ]
    },
    {
     "name": "stdout",
     "output_type": "stream",
     "text": [
      "!\n",
      "!\n",
      "!\n",
      "!\n",
      "!\n",
      "!\n",
      "!\n",
      "!\n",
      "!\n",
      "!\n",
      "!\n",
      "!\n",
      "!\n",
      "!\n",
      "!\n",
      "!\n",
      "!\n"
     ]
    },
    {
     "name": "stderr",
     "output_type": "stream",
     "text": [
      "Extract dsift in train data:  31%|███       | 625/2020 [00:39<01:29, 15.65it/s]"
     ]
    },
    {
     "name": "stdout",
     "output_type": "stream",
     "text": [
      "!\n",
      "!\n",
      "!\n",
      "!\n",
      "!\n",
      "!\n",
      "!\n",
      "!\n",
      "!\n",
      "!\n",
      "!\n",
      "!\n",
      "!\n",
      "!\n",
      "!\n",
      "!\n",
      "!\n"
     ]
    },
    {
     "name": "stderr",
     "output_type": "stream",
     "text": [
      "Extract dsift in train data:  31%|███       | 629/2020 [00:40<01:27, 15.83it/s]"
     ]
    },
    {
     "name": "stdout",
     "output_type": "stream",
     "text": [
      "!\n",
      "!\n",
      "!\n",
      "!\n",
      "!\n",
      "!\n",
      "!\n",
      "!\n",
      "!\n",
      "!\n",
      "!\n",
      "!\n",
      "!\n",
      "!\n",
      "!\n",
      "!\n",
      "!\n"
     ]
    },
    {
     "name": "stderr",
     "output_type": "stream",
     "text": [
      "Extract dsift in train data:  31%|███▏      | 633/2020 [00:40<01:26, 16.03it/s]"
     ]
    },
    {
     "name": "stdout",
     "output_type": "stream",
     "text": [
      "!\n",
      "!\n",
      "!\n",
      "!\n",
      "!\n",
      "!\n",
      "!\n",
      "!\n",
      "!\n",
      "!\n",
      "!\n",
      "!\n",
      "!\n",
      "!\n",
      "!\n",
      "!\n"
     ]
    },
    {
     "name": "stderr",
     "output_type": "stream",
     "text": [
      "Extract dsift in train data:  31%|███▏      | 635/2020 [00:40<01:26, 16.03it/s]"
     ]
    },
    {
     "name": "stdout",
     "output_type": "stream",
     "text": [
      "!\n",
      "!\n",
      "!\n",
      "!\n",
      "!\n",
      "!\n",
      "!\n",
      "!\n",
      "!\n",
      "!\n",
      "!\n",
      "!\n",
      "!\n",
      "!\n",
      "!\n",
      "!\n",
      "!\n"
     ]
    },
    {
     "name": "stderr",
     "output_type": "stream",
     "text": [
      "Extract dsift in train data:  32%|███▏      | 639/2020 [00:40<01:25, 16.11it/s]"
     ]
    },
    {
     "name": "stdout",
     "output_type": "stream",
     "text": [
      "!\n",
      "!\n",
      "!\n",
      "!\n",
      "!\n",
      "!\n",
      "!\n",
      "!\n",
      "!\n",
      "!\n",
      "!\n",
      "!\n",
      "!\n",
      "!\n",
      "!\n",
      "!\n",
      "!\n",
      "!\n"
     ]
    },
    {
     "name": "stderr",
     "output_type": "stream",
     "text": [
      "Extract dsift in train data:  32%|███▏      | 643/2020 [00:40<01:26, 15.99it/s]"
     ]
    },
    {
     "name": "stdout",
     "output_type": "stream",
     "text": [
      "!\n",
      "!\n",
      "!\n",
      "!\n",
      "!\n",
      "!\n",
      "!\n",
      "!\n",
      "!\n",
      "!\n",
      "!\n",
      "!\n",
      "!\n",
      "!\n",
      "!\n",
      "!\n",
      "!\n"
     ]
    },
    {
     "name": "stderr",
     "output_type": "stream",
     "text": [
      "Extract dsift in train data:  32%|███▏      | 645/2020 [00:41<01:26, 15.97it/s]"
     ]
    },
    {
     "name": "stdout",
     "output_type": "stream",
     "text": [
      "!\n",
      "!\n",
      "!\n",
      "!\n",
      "!\n",
      "!\n",
      "!\n",
      "!\n",
      "!\n",
      "!\n",
      "!\n",
      "!\n",
      "!\n",
      "!\n",
      "!\n",
      "!\n",
      "!\n",
      "!\n"
     ]
    },
    {
     "name": "stderr",
     "output_type": "stream",
     "text": [
      "Extract dsift in train data:  32%|███▏      | 649/2020 [00:41<01:24, 16.21it/s]"
     ]
    },
    {
     "name": "stdout",
     "output_type": "stream",
     "text": [
      "!\n",
      "!\n",
      "!\n",
      "!\n",
      "!\n",
      "!\n",
      "!\n",
      "!\n",
      "!\n",
      "!\n",
      "!\n",
      "!\n",
      "!\n",
      "!\n",
      "!\n",
      "!\n",
      "!\n",
      "!"
     ]
    },
    {
     "name": "stderr",
     "output_type": "stream",
     "text": [
      "Extract dsift in train data:  32%|███▏      | 653/2020 [00:41<01:24, 16.15it/s]"
     ]
    },
    {
     "name": "stdout",
     "output_type": "stream",
     "text": [
      "\n",
      "!\n",
      "!\n",
      "!\n",
      "!\n",
      "!\n",
      "!\n",
      "!\n",
      "!\n",
      "!\n",
      "!\n",
      "!\n",
      "!\n",
      "!\n",
      "!\n",
      "!\n",
      "!\n"
     ]
    },
    {
     "name": "stderr",
     "output_type": "stream",
     "text": [
      "Extract dsift in train data:  33%|███▎      | 657/2020 [00:41<01:24, 16.10it/s]"
     ]
    },
    {
     "name": "stdout",
     "output_type": "stream",
     "text": [
      "!\n",
      "!\n",
      "!\n",
      "!\n",
      "!\n",
      "!\n",
      "!\n",
      "!\n",
      "!\n",
      "!\n",
      "!\n",
      "!\n",
      "!\n",
      "!\n",
      "!\n",
      "!\n"
     ]
    },
    {
     "name": "stderr",
     "output_type": "stream",
     "text": [
      "Extract dsift in train data:  33%|███▎      | 659/2020 [00:41<01:26, 15.70it/s]"
     ]
    },
    {
     "name": "stdout",
     "output_type": "stream",
     "text": [
      "!\n",
      "!\n",
      "!\n",
      "!\n",
      "!\n",
      "!\n",
      "!\n",
      "!\n",
      "!\n",
      "!\n",
      "!\n",
      "!\n",
      "!\n",
      "!\n"
     ]
    },
    {
     "name": "stderr",
     "output_type": "stream",
     "text": [
      "Extract dsift in train data:  33%|███▎      | 663/2020 [00:42<01:31, 14.77it/s]"
     ]
    },
    {
     "name": "stdout",
     "output_type": "stream",
     "text": [
      "!\n",
      "!\n",
      "!\n",
      "!\n",
      "!\n",
      "!\n",
      "!\n",
      "!\n",
      "!\n",
      "!\n",
      "!\n",
      "!\n",
      "!\n",
      "!\n",
      "!\n",
      "!\n"
     ]
    },
    {
     "name": "stderr",
     "output_type": "stream",
     "text": [
      "Extract dsift in train data:  33%|███▎      | 665/2020 [00:42<01:30, 14.97it/s]"
     ]
    },
    {
     "name": "stdout",
     "output_type": "stream",
     "text": [
      "!\n",
      "!\n",
      "!\n",
      "!\n",
      "!\n",
      "!\n",
      "!\n",
      "!\n",
      "!\n",
      "!\n",
      "!\n",
      "!\n",
      "!\n",
      "!\n",
      "!\n",
      "!\n"
     ]
    },
    {
     "name": "stderr",
     "output_type": "stream",
     "text": [
      "Extract dsift in train data:  33%|███▎      | 669/2020 [00:42<01:27, 15.49it/s]"
     ]
    },
    {
     "name": "stdout",
     "output_type": "stream",
     "text": [
      "!\n",
      "!\n",
      "!\n",
      "!\n",
      "!\n",
      "!\n",
      "!\n",
      "!\n",
      "!\n",
      "!\n",
      "!\n",
      "!\n",
      "!\n",
      "!\n",
      "!\n",
      "!\n",
      "!\n"
     ]
    },
    {
     "name": "stderr",
     "output_type": "stream",
     "text": [
      "Extract dsift in train data:  33%|███▎      | 671/2020 [00:42<01:26, 15.62it/s]"
     ]
    },
    {
     "name": "stdout",
     "output_type": "stream",
     "text": [
      "!\n",
      "!\n",
      "!\n",
      "!\n",
      "!\n",
      "!\n",
      "!\n",
      "!\n",
      "!\n",
      "!\n",
      "!\n",
      "!\n",
      "!\n",
      "!\n",
      "!\n",
      "!\n"
     ]
    },
    {
     "name": "stderr",
     "output_type": "stream",
     "text": [
      "Extract dsift in train data:  33%|███▎      | 675/2020 [00:43<01:26, 15.57it/s]"
     ]
    },
    {
     "name": "stdout",
     "output_type": "stream",
     "text": [
      "!\n",
      "!\n",
      "!\n",
      "!\n",
      "!\n",
      "!\n",
      "!\n",
      "!\n",
      "!\n",
      "!\n",
      "!\n",
      "!\n",
      "!\n",
      "!\n",
      "!\n",
      "!\n"
     ]
    },
    {
     "name": "stderr",
     "output_type": "stream",
     "text": [
      "Extract dsift in train data:  34%|███▎      | 679/2020 [00:43<01:23, 16.02it/s]"
     ]
    },
    {
     "name": "stdout",
     "output_type": "stream",
     "text": [
      "!\n",
      "!\n",
      "!\n",
      "!\n",
      "!\n",
      "!\n",
      "!\n",
      "!\n",
      "!\n",
      "!\n",
      "!\n",
      "!\n",
      "!\n",
      "!\n",
      "!\n",
      "!\n",
      "!\n"
     ]
    },
    {
     "name": "stderr",
     "output_type": "stream",
     "text": [
      "Extract dsift in train data:  34%|███▎      | 681/2020 [00:43<01:24, 15.93it/s]"
     ]
    },
    {
     "name": "stdout",
     "output_type": "stream",
     "text": [
      "!\n",
      "!\n",
      "!\n",
      "!\n",
      "!\n",
      "!\n",
      "!\n",
      "!\n",
      "!\n",
      "!\n",
      "!\n",
      "!\n",
      "!\n",
      "!\n",
      "!\n",
      "!\n"
     ]
    },
    {
     "name": "stderr",
     "output_type": "stream",
     "text": [
      "Extract dsift in train data:  34%|███▍      | 685/2020 [00:43<01:25, 15.70it/s]"
     ]
    },
    {
     "name": "stdout",
     "output_type": "stream",
     "text": [
      "!\n",
      "!\n",
      "!\n",
      "!\n",
      "!\n",
      "!\n",
      "!\n",
      "!\n",
      "!\n",
      "!\n",
      "!\n",
      "!\n",
      "!\n",
      "!\n",
      "!\n",
      "!\n"
     ]
    },
    {
     "name": "stderr",
     "output_type": "stream",
     "text": [
      "Extract dsift in train data:  34%|███▍      | 687/2020 [00:43<01:26, 15.49it/s]"
     ]
    },
    {
     "name": "stdout",
     "output_type": "stream",
     "text": [
      "!\n",
      "!\n",
      "!\n",
      "!\n",
      "!\n",
      "!\n",
      "!\n",
      "!\n",
      "!\n",
      "!\n",
      "!\n",
      "!\n",
      "!\n",
      "!\n",
      "!\n",
      "!\n"
     ]
    },
    {
     "name": "stderr",
     "output_type": "stream",
     "text": [
      "Extract dsift in train data:  34%|███▍      | 691/2020 [00:44<01:26, 15.40it/s]"
     ]
    },
    {
     "name": "stdout",
     "output_type": "stream",
     "text": [
      "!\n",
      "!\n",
      "!\n",
      "!\n",
      "!\n",
      "!\n",
      "!\n",
      "!\n",
      "!\n",
      "!\n",
      "!\n",
      "!\n",
      "!\n",
      "!\n",
      "!\n",
      "!\n"
     ]
    },
    {
     "name": "stderr",
     "output_type": "stream",
     "text": [
      "Extract dsift in train data:  34%|███▍      | 695/2020 [00:44<01:24, 15.59it/s]"
     ]
    },
    {
     "name": "stdout",
     "output_type": "stream",
     "text": [
      "!\n",
      "!\n",
      "!\n",
      "!\n",
      "!\n",
      "!\n",
      "!\n",
      "!\n",
      "!\n",
      "!\n",
      "!\n",
      "!\n",
      "!\n",
      "!\n",
      "!\n",
      "!\n",
      "!\n"
     ]
    },
    {
     "name": "stderr",
     "output_type": "stream",
     "text": [
      "Extract dsift in train data:  35%|███▍      | 697/2020 [00:44<01:25, 15.53it/s]"
     ]
    },
    {
     "name": "stdout",
     "output_type": "stream",
     "text": [
      "!\n",
      "!\n",
      "!\n",
      "!\n",
      "!\n",
      "!\n",
      "!\n",
      "!\n",
      "!\n",
      "!\n",
      "!\n",
      "!\n",
      "!\n",
      "!\n",
      "!\n",
      "!\n",
      "!\n"
     ]
    },
    {
     "name": "stderr",
     "output_type": "stream",
     "text": [
      "Extract dsift in train data:  35%|███▍      | 701/2020 [00:44<01:25, 15.49it/s]"
     ]
    },
    {
     "name": "stdout",
     "output_type": "stream",
     "text": [
      "!\n",
      "!\n",
      "!\n",
      "!\n",
      "!\n",
      "!\n",
      "!\n",
      "!\n",
      "!\n",
      "!\n",
      "!\n",
      "!\n",
      "!\n",
      "!\n",
      "!\n",
      "!\n",
      "!\n"
     ]
    },
    {
     "name": "stderr",
     "output_type": "stream",
     "text": [
      "Extract dsift in train data:  35%|███▍      | 705/2020 [00:44<01:24, 15.55it/s]"
     ]
    },
    {
     "name": "stdout",
     "output_type": "stream",
     "text": [
      "!\n",
      "!\n",
      "!\n",
      "!\n",
      "!\n",
      "!\n",
      "!\n",
      "!\n",
      "!\n",
      "!\n",
      "!\n",
      "!\n",
      "!\n",
      "!\n",
      "!\n",
      "!\n",
      "!\n"
     ]
    },
    {
     "name": "stderr",
     "output_type": "stream",
     "text": [
      "Extract dsift in train data:  35%|███▌      | 709/2020 [00:45<01:23, 15.66it/s]"
     ]
    },
    {
     "name": "stdout",
     "output_type": "stream",
     "text": [
      "!\n",
      "!\n",
      "!\n",
      "!\n",
      "!\n",
      "!\n",
      "!\n",
      "!\n",
      "!\n",
      "!\n",
      "!\n",
      "!\n",
      "!\n",
      "!\n",
      "!\n",
      "!\n"
     ]
    },
    {
     "name": "stderr",
     "output_type": "stream",
     "text": [
      "Extract dsift in train data:  35%|███▌      | 711/2020 [00:45<01:23, 15.62it/s]"
     ]
    },
    {
     "name": "stdout",
     "output_type": "stream",
     "text": [
      "!\n",
      "!\n",
      "!\n",
      "!\n",
      "!\n",
      "!\n",
      "!\n",
      "!\n",
      "!\n",
      "!\n",
      "!\n",
      "!\n",
      "!\n",
      "!\n",
      "!\n",
      "!\n"
     ]
    },
    {
     "name": "stderr",
     "output_type": "stream",
     "text": [
      "Extract dsift in train data:  35%|███▌      | 715/2020 [00:45<01:23, 15.58it/s]"
     ]
    },
    {
     "name": "stdout",
     "output_type": "stream",
     "text": [
      "!\n",
      "!\n",
      "!\n",
      "!\n",
      "!\n",
      "!\n",
      "!\n",
      "!\n",
      "!\n",
      "!\n",
      "!\n",
      "!\n",
      "!\n",
      "!\n",
      "!\n",
      "!\n"
     ]
    },
    {
     "name": "stderr",
     "output_type": "stream",
     "text": [
      "Extract dsift in train data:  35%|███▌      | 717/2020 [00:45<01:24, 15.46it/s]"
     ]
    },
    {
     "name": "stdout",
     "output_type": "stream",
     "text": [
      "!\n",
      "!\n",
      "!\n",
      "!\n",
      "!\n",
      "!\n",
      "!\n",
      "!\n",
      "!\n",
      "!\n",
      "!\n",
      "!\n",
      "!\n",
      "!\n",
      "!\n",
      "!\n"
     ]
    },
    {
     "name": "stderr",
     "output_type": "stream",
     "text": [
      "Extract dsift in train data:  36%|███▌      | 721/2020 [00:45<01:24, 15.39it/s]"
     ]
    },
    {
     "name": "stdout",
     "output_type": "stream",
     "text": [
      "!\n",
      "!\n",
      "!\n",
      "!\n",
      "!\n",
      "!\n",
      "!\n",
      "!\n",
      "!\n",
      "!\n",
      "!\n",
      "!\n",
      "!\n",
      "!\n",
      "!\n",
      "!\n"
     ]
    },
    {
     "name": "stderr",
     "output_type": "stream",
     "text": [
      "Extract dsift in train data:  36%|███▌      | 723/2020 [00:46<01:24, 15.33it/s]"
     ]
    },
    {
     "name": "stdout",
     "output_type": "stream",
     "text": [
      "!\n",
      "!\n",
      "!\n",
      "!\n",
      "!\n",
      "!\n",
      "!\n",
      "!\n",
      "!\n",
      "!\n",
      "!\n",
      "!\n",
      "!\n",
      "!\n",
      "!\n",
      "!\n"
     ]
    },
    {
     "name": "stderr",
     "output_type": "stream",
     "text": [
      "Extract dsift in train data:  36%|███▌      | 727/2020 [00:46<01:23, 15.53it/s]"
     ]
    },
    {
     "name": "stdout",
     "output_type": "stream",
     "text": [
      "!\n",
      "!\n",
      "!\n",
      "!\n",
      "!\n",
      "!\n",
      "!\n",
      "!\n",
      "!\n",
      "!\n",
      "!\n",
      "!\n",
      "!\n",
      "!\n",
      "!\n",
      "!\n",
      "!\n"
     ]
    },
    {
     "name": "stderr",
     "output_type": "stream",
     "text": [
      "Extract dsift in train data:  36%|███▌      | 731/2020 [00:46<01:22, 15.68it/s]"
     ]
    },
    {
     "name": "stdout",
     "output_type": "stream",
     "text": [
      "!\n",
      "!\n",
      "!\n",
      "!\n",
      "!\n",
      "!\n",
      "!\n",
      "!\n",
      "!\n",
      "!\n",
      "!\n",
      "!\n",
      "!\n",
      "!\n",
      "!\n",
      "!\n",
      "!\n"
     ]
    },
    {
     "name": "stderr",
     "output_type": "stream",
     "text": [
      "Extract dsift in train data:  36%|███▋      | 735/2020 [00:46<01:21, 15.85it/s]"
     ]
    },
    {
     "name": "stdout",
     "output_type": "stream",
     "text": [
      "!\n",
      "!\n",
      "!\n",
      "!\n",
      "!\n",
      "!\n",
      "!\n",
      "!\n",
      "!\n",
      "!\n",
      "!\n",
      "!\n",
      "!\n",
      "!\n",
      "!\n",
      "!\n"
     ]
    },
    {
     "name": "stderr",
     "output_type": "stream",
     "text": [
      "Extract dsift in train data:  36%|███▋      | 737/2020 [00:46<01:21, 15.80it/s]"
     ]
    },
    {
     "name": "stdout",
     "output_type": "stream",
     "text": [
      "!\n",
      "!\n",
      "!\n",
      "!\n",
      "!\n",
      "!\n",
      "!\n",
      "!\n",
      "!\n",
      "!\n",
      "!\n",
      "!\n",
      "!\n",
      "!\n",
      "!\n",
      "!\n"
     ]
    },
    {
     "name": "stderr",
     "output_type": "stream",
     "text": [
      "Extract dsift in train data:  37%|███▋      | 741/2020 [00:47<01:21, 15.73it/s]"
     ]
    },
    {
     "name": "stdout",
     "output_type": "stream",
     "text": [
      "!\n",
      "!\n",
      "!\n",
      "!\n",
      "!\n",
      "!\n",
      "!\n",
      "!\n",
      "!\n",
      "!\n",
      "!\n",
      "!\n",
      "!\n",
      "!\n",
      "!\n",
      "!\n",
      "!\n"
     ]
    },
    {
     "name": "stderr",
     "output_type": "stream",
     "text": [
      "Extract dsift in train data:  37%|███▋      | 743/2020 [00:47<01:21, 15.60it/s]"
     ]
    },
    {
     "name": "stdout",
     "output_type": "stream",
     "text": [
      "!\n",
      "!\n",
      "!\n",
      "!\n",
      "!\n",
      "!\n",
      "!\n",
      "!\n",
      "!\n",
      "!\n",
      "!\n",
      "!\n",
      "!\n",
      "!\n",
      "!\n",
      "!\n",
      "!\n"
     ]
    },
    {
     "name": "stderr",
     "output_type": "stream",
     "text": [
      "Extract dsift in train data:  37%|███▋      | 747/2020 [00:47<01:20, 15.80it/s]"
     ]
    },
    {
     "name": "stdout",
     "output_type": "stream",
     "text": [
      "!\n",
      "!\n",
      "!\n",
      "!\n",
      "!\n",
      "!\n",
      "!\n",
      "!\n",
      "!\n",
      "!\n",
      "!\n",
      "!\n",
      "!\n",
      "!\n",
      "!\n",
      "!\n",
      "!\n"
     ]
    },
    {
     "name": "stderr",
     "output_type": "stream",
     "text": [
      "Extract dsift in train data:  37%|███▋      | 751/2020 [00:47<01:19, 16.04it/s]"
     ]
    },
    {
     "name": "stdout",
     "output_type": "stream",
     "text": [
      "!\n",
      "!\n",
      "!\n",
      "!\n",
      "!\n",
      "!\n",
      "!\n",
      "!\n",
      "!\n",
      "!\n",
      "!\n",
      "!\n",
      "!\n",
      "!\n",
      "!\n",
      "!\n",
      "!\n",
      "!"
     ]
    },
    {
     "name": "stderr",
     "output_type": "stream",
     "text": [
      "Extract dsift in train data:  37%|███▋      | 755/2020 [00:48<01:18, 16.06it/s]"
     ]
    },
    {
     "name": "stdout",
     "output_type": "stream",
     "text": [
      "\n",
      "!\n",
      "!\n",
      "!\n",
      "!\n",
      "!\n",
      "!\n",
      "!\n",
      "!\n",
      "!\n",
      "!\n",
      "!\n",
      "!\n",
      "!\n",
      "!\n",
      "!\n"
     ]
    },
    {
     "name": "stderr",
     "output_type": "stream",
     "text": [
      "Extract dsift in train data:  37%|███▋      | 757/2020 [00:48<01:18, 16.06it/s]"
     ]
    },
    {
     "name": "stdout",
     "output_type": "stream",
     "text": [
      "!\n",
      "!\n",
      "!\n",
      "!\n",
      "!\n",
      "!\n",
      "!\n",
      "!\n",
      "!\n",
      "!\n",
      "!\n",
      "!\n",
      "!\n",
      "!\n",
      "!\n",
      "!\n",
      "!\n"
     ]
    },
    {
     "name": "stderr",
     "output_type": "stream",
     "text": [
      "Extract dsift in train data:  38%|███▊      | 761/2020 [00:48<01:19, 15.90it/s]"
     ]
    },
    {
     "name": "stdout",
     "output_type": "stream",
     "text": [
      "!\n",
      "!\n",
      "!\n",
      "!\n",
      "!\n",
      "!\n",
      "!\n",
      "!\n",
      "!\n",
      "!\n",
      "!\n",
      "!\n",
      "!\n",
      "!\n",
      "!\n",
      "!\n",
      "!\n"
     ]
    },
    {
     "name": "stderr",
     "output_type": "stream",
     "text": [
      "Extract dsift in train data:  38%|███▊      | 765/2020 [00:48<01:18, 15.96it/s]"
     ]
    },
    {
     "name": "stdout",
     "output_type": "stream",
     "text": [
      "!\n",
      "!\n",
      "!\n",
      "!\n",
      "!\n",
      "!\n",
      "!\n",
      "!\n",
      "!\n",
      "!\n",
      "!\n",
      "!\n",
      "!\n",
      "!\n",
      "!\n",
      "!\n"
     ]
    },
    {
     "name": "stderr",
     "output_type": "stream",
     "text": [
      "Extract dsift in train data:  38%|███▊      | 767/2020 [00:48<01:19, 15.74it/s]"
     ]
    },
    {
     "name": "stdout",
     "output_type": "stream",
     "text": [
      "!\n",
      "!\n",
      "!\n",
      "!\n",
      "!\n",
      "!\n",
      "!\n",
      "!\n",
      "!\n",
      "!\n",
      "!\n",
      "!\n",
      "!\n",
      "!\n",
      "!\n",
      "!\n",
      "!\n"
     ]
    },
    {
     "name": "stderr",
     "output_type": "stream",
     "text": [
      "Extract dsift in train data:  38%|███▊      | 771/2020 [00:49<01:18, 15.84it/s]"
     ]
    },
    {
     "name": "stdout",
     "output_type": "stream",
     "text": [
      "!\n",
      "!\n",
      "!\n",
      "!\n",
      "!\n",
      "!\n",
      "!\n",
      "!\n",
      "!\n",
      "!\n",
      "!\n",
      "!\n",
      "!\n",
      "!\n",
      "!\n",
      "!\n",
      "!\n"
     ]
    },
    {
     "name": "stderr",
     "output_type": "stream",
     "text": [
      "Extract dsift in train data:  38%|███▊      | 775/2020 [00:49<01:18, 15.82it/s]"
     ]
    },
    {
     "name": "stdout",
     "output_type": "stream",
     "text": [
      "!\n",
      "!\n",
      "!\n",
      "!\n",
      "!\n",
      "!\n",
      "!\n",
      "!\n",
      "!\n",
      "!\n",
      "!\n",
      "!\n",
      "!\n",
      "!\n",
      "!\n",
      "!\n"
     ]
    },
    {
     "name": "stderr",
     "output_type": "stream",
     "text": [
      "Extract dsift in train data:  38%|███▊      | 777/2020 [00:49<01:18, 15.86it/s]"
     ]
    },
    {
     "name": "stdout",
     "output_type": "stream",
     "text": [
      "!\n",
      "!\n",
      "!\n",
      "!\n",
      "!\n",
      "!\n",
      "!\n",
      "!\n",
      "!\n",
      "!\n",
      "!\n",
      "!\n",
      "!\n",
      "!\n",
      "!\n",
      "!\n",
      "!\n"
     ]
    },
    {
     "name": "stderr",
     "output_type": "stream",
     "text": [
      "Extract dsift in train data:  39%|███▊      | 781/2020 [00:49<01:17, 15.90it/s]"
     ]
    },
    {
     "name": "stdout",
     "output_type": "stream",
     "text": [
      "!\n",
      "!\n",
      "!\n",
      "!\n",
      "!\n",
      "!\n",
      "!\n",
      "!\n",
      "!\n",
      "!\n",
      "!\n",
      "!\n",
      "!\n",
      "!\n",
      "!\n",
      "!\n",
      "!\n"
     ]
    },
    {
     "name": "stderr",
     "output_type": "stream",
     "text": [
      "Extract dsift in train data:  39%|███▉      | 785/2020 [00:50<01:18, 15.78it/s]"
     ]
    },
    {
     "name": "stdout",
     "output_type": "stream",
     "text": [
      "!\n",
      "!\n",
      "!\n",
      "!\n",
      "!\n",
      "!\n",
      "!\n",
      "!\n",
      "!\n",
      "!\n",
      "!\n",
      "!\n",
      "!\n",
      "!\n",
      "!\n",
      "!\n"
     ]
    },
    {
     "name": "stderr",
     "output_type": "stream",
     "text": [
      "Extract dsift in train data:  39%|███▉      | 787/2020 [00:50<01:17, 15.86it/s]"
     ]
    },
    {
     "name": "stdout",
     "output_type": "stream",
     "text": [
      "!\n",
      "!\n",
      "!\n",
      "!\n",
      "!\n",
      "!\n",
      "!\n",
      "!\n",
      "!\n",
      "!\n",
      "!\n",
      "!\n",
      "!\n",
      "!\n",
      "!\n",
      "!\n",
      "!\n"
     ]
    },
    {
     "name": "stderr",
     "output_type": "stream",
     "text": [
      "Extract dsift in train data:  39%|███▉      | 791/2020 [00:50<01:17, 15.78it/s]"
     ]
    },
    {
     "name": "stdout",
     "output_type": "stream",
     "text": [
      "!\n",
      "!\n",
      "!\n",
      "!\n",
      "!\n",
      "!\n",
      "!\n",
      "!\n",
      "!\n",
      "!\n",
      "!\n",
      "!\n",
      "!\n",
      "!\n",
      "!\n",
      "!\n"
     ]
    },
    {
     "name": "stderr",
     "output_type": "stream",
     "text": [
      "Extract dsift in train data:  39%|███▉      | 793/2020 [00:50<01:18, 15.73it/s]"
     ]
    },
    {
     "name": "stdout",
     "output_type": "stream",
     "text": [
      "!\n",
      "!\n",
      "!\n",
      "!\n",
      "!\n",
      "!\n",
      "!\n",
      "!\n",
      "!\n",
      "!\n",
      "!\n",
      "!\n",
      "!\n",
      "!\n",
      "!\n",
      "!\n",
      "!\n"
     ]
    },
    {
     "name": "stderr",
     "output_type": "stream",
     "text": [
      "Extract dsift in train data:  39%|███▉      | 797/2020 [00:50<01:17, 15.80it/s]"
     ]
    },
    {
     "name": "stdout",
     "output_type": "stream",
     "text": [
      "!\n",
      "!\n",
      "!\n",
      "!\n",
      "!\n",
      "!\n",
      "!\n",
      "!\n",
      "!\n",
      "!\n",
      "!\n",
      "!\n",
      "!\n",
      "!\n",
      "!\n",
      "!\n",
      "!\n"
     ]
    },
    {
     "name": "stderr",
     "output_type": "stream",
     "text": [
      "Extract dsift in train data:  40%|███▉      | 801/2020 [00:51<01:17, 15.82it/s]"
     ]
    },
    {
     "name": "stdout",
     "output_type": "stream",
     "text": [
      "!\n",
      "!\n",
      "!\n",
      "!\n",
      "!\n",
      "!\n",
      "!\n",
      "!\n",
      "!\n",
      "!\n",
      "!\n",
      "!\n",
      "!\n",
      "!\n",
      "!\n",
      "!\n",
      "!\n"
     ]
    },
    {
     "name": "stderr",
     "output_type": "stream",
     "text": [
      "Extract dsift in train data:  40%|███▉      | 805/2020 [00:51<01:16, 15.97it/s]"
     ]
    },
    {
     "name": "stdout",
     "output_type": "stream",
     "text": [
      "!\n",
      "!\n",
      "!\n",
      "!\n",
      "!\n",
      "!\n",
      "!\n",
      "!\n",
      "!\n",
      "!\n",
      "!\n",
      "!\n",
      "!\n",
      "!\n",
      "!\n",
      "!\n"
     ]
    },
    {
     "name": "stderr",
     "output_type": "stream",
     "text": [
      "Extract dsift in train data:  40%|███▉      | 807/2020 [00:51<01:16, 15.89it/s]"
     ]
    },
    {
     "name": "stdout",
     "output_type": "stream",
     "text": [
      "!\n",
      "!\n",
      "!\n",
      "!\n",
      "!\n",
      "!\n",
      "!\n",
      "!\n",
      "!\n",
      "!\n",
      "!\n",
      "!\n",
      "!\n",
      "!\n",
      "!\n",
      "!\n"
     ]
    },
    {
     "name": "stderr",
     "output_type": "stream",
     "text": [
      "Extract dsift in train data:  40%|████      | 811/2020 [00:51<01:16, 15.83it/s]"
     ]
    },
    {
     "name": "stdout",
     "output_type": "stream",
     "text": [
      "!\n",
      "!\n",
      "!\n",
      "!\n",
      "!\n",
      "!\n",
      "!\n",
      "!\n",
      "!\n",
      "!\n",
      "!\n",
      "!\n",
      "!\n",
      "!\n",
      "!\n",
      "!\n",
      "!\n"
     ]
    },
    {
     "name": "stderr",
     "output_type": "stream",
     "text": [
      "Extract dsift in train data:  40%|████      | 813/2020 [00:51<01:17, 15.66it/s]"
     ]
    },
    {
     "name": "stdout",
     "output_type": "stream",
     "text": [
      "!\n",
      "!\n",
      "!\n",
      "!\n",
      "!\n",
      "!\n",
      "!\n",
      "!\n",
      "!\n",
      "!\n",
      "!\n",
      "!\n",
      "!\n",
      "!\n",
      "!\n",
      "!\n",
      "!\n"
     ]
    },
    {
     "name": "stderr",
     "output_type": "stream",
     "text": [
      "Extract dsift in train data:  40%|████      | 817/2020 [00:52<01:17, 15.49it/s]"
     ]
    },
    {
     "name": "stdout",
     "output_type": "stream",
     "text": [
      "!\n",
      "!\n",
      "!\n",
      "!\n",
      "!\n",
      "!\n",
      "!\n",
      "!\n",
      "!\n",
      "!\n",
      "!\n",
      "!\n",
      "!\n",
      "!\n",
      "!\n",
      "!\n"
     ]
    },
    {
     "name": "stderr",
     "output_type": "stream",
     "text": [
      "Extract dsift in train data:  41%|████      | 821/2020 [00:52<01:17, 15.42it/s]"
     ]
    },
    {
     "name": "stdout",
     "output_type": "stream",
     "text": [
      "!\n",
      "!\n",
      "!\n",
      "!\n",
      "!\n",
      "!\n",
      "!\n",
      "!\n",
      "!\n",
      "!\n",
      "!\n",
      "!\n",
      "!\n",
      "!\n",
      "!\n",
      "!\n"
     ]
    },
    {
     "name": "stderr",
     "output_type": "stream",
     "text": [
      "Extract dsift in train data:  41%|████      | 823/2020 [00:52<01:17, 15.45it/s]"
     ]
    },
    {
     "name": "stdout",
     "output_type": "stream",
     "text": [
      "!\n",
      "!\n",
      "!\n",
      "!\n",
      "!\n",
      "!\n",
      "!\n",
      "!\n",
      "!\n",
      "!\n",
      "!\n",
      "!\n",
      "!\n",
      "!\n",
      "!\n",
      "!\n",
      "!\n"
     ]
    },
    {
     "name": "stderr",
     "output_type": "stream",
     "text": [
      "Extract dsift in train data:  41%|████      | 827/2020 [00:52<01:17, 15.44it/s]"
     ]
    },
    {
     "name": "stdout",
     "output_type": "stream",
     "text": [
      "!\n",
      "!\n",
      "!\n",
      "!\n",
      "!\n",
      "!\n",
      "!\n",
      "!\n",
      "!\n",
      "!\n",
      "!\n",
      "!\n",
      "!\n",
      "!\n",
      "!\n",
      "!\n"
     ]
    },
    {
     "name": "stderr",
     "output_type": "stream",
     "text": [
      "Extract dsift in train data:  41%|████      | 831/2020 [00:52<01:17, 15.33it/s]"
     ]
    },
    {
     "name": "stdout",
     "output_type": "stream",
     "text": [
      "!\n",
      "!\n",
      "!\n",
      "!\n",
      "!\n",
      "!\n",
      "!\n",
      "!\n",
      "!\n",
      "!\n",
      "!\n",
      "!\n",
      "!\n",
      "!\n",
      "!\n"
     ]
    },
    {
     "name": "stderr",
     "output_type": "stream",
     "text": [
      "Extract dsift in train data:  41%|████      | 833/2020 [00:53<01:22, 14.33it/s]"
     ]
    },
    {
     "name": "stdout",
     "output_type": "stream",
     "text": [
      "!\n",
      "!\n",
      "!\n",
      "!\n",
      "!\n",
      "!\n",
      "!\n",
      "!\n",
      "!\n",
      "!\n",
      "!\n",
      "!\n",
      "!\n",
      "!\n",
      "!\n"
     ]
    },
    {
     "name": "stderr",
     "output_type": "stream",
     "text": [
      "Extract dsift in train data:  41%|████▏     | 837/2020 [00:53<01:19, 14.96it/s]"
     ]
    },
    {
     "name": "stdout",
     "output_type": "stream",
     "text": [
      "!\n",
      "!\n",
      "!\n",
      "!\n",
      "!\n",
      "!\n",
      "!\n",
      "!\n",
      "!\n",
      "!\n",
      "!\n",
      "!\n",
      "!\n",
      "!\n",
      "!\n",
      "!\n",
      "!\n"
     ]
    },
    {
     "name": "stderr",
     "output_type": "stream",
     "text": [
      "Extract dsift in train data:  42%|████▏     | 839/2020 [00:53<01:17, 15.17it/s]"
     ]
    },
    {
     "name": "stdout",
     "output_type": "stream",
     "text": [
      "!\n",
      "!\n",
      "!\n",
      "!\n",
      "!\n",
      "!\n",
      "!\n",
      "!\n",
      "!\n",
      "!\n",
      "!\n",
      "!\n",
      "!\n",
      "!\n",
      "!\n",
      "!\n",
      "!\n"
     ]
    },
    {
     "name": "stderr",
     "output_type": "stream",
     "text": [
      "Extract dsift in train data:  42%|████▏     | 843/2020 [00:53<01:15, 15.55it/s]"
     ]
    },
    {
     "name": "stdout",
     "output_type": "stream",
     "text": [
      "!\n",
      "!\n",
      "!\n",
      "!\n",
      "!\n",
      "!\n",
      "!\n",
      "!\n",
      "!\n",
      "!\n",
      "!\n",
      "!\n",
      "!\n",
      "!\n",
      "!\n",
      "!\n"
     ]
    },
    {
     "name": "stderr",
     "output_type": "stream",
     "text": [
      "Extract dsift in train data:  42%|████▏     | 847/2020 [00:54<01:13, 15.95it/s]"
     ]
    },
    {
     "name": "stdout",
     "output_type": "stream",
     "text": [
      "!\n",
      "!\n",
      "!\n",
      "!\n",
      "!\n",
      "!\n",
      "!\n",
      "!\n",
      "!\n",
      "!\n",
      "!\n",
      "!\n",
      "!\n",
      "!\n",
      "!\n",
      "!\n",
      "!\n"
     ]
    },
    {
     "name": "stderr",
     "output_type": "stream",
     "text": [
      "Extract dsift in train data:  42%|████▏     | 849/2020 [00:54<01:13, 15.89it/s]"
     ]
    },
    {
     "name": "stdout",
     "output_type": "stream",
     "text": [
      "!\n",
      "!\n",
      "!\n",
      "!\n",
      "!\n",
      "!\n",
      "!\n",
      "!\n",
      "!\n",
      "!\n",
      "!\n",
      "!\n",
      "!\n",
      "!\n",
      "!\n",
      "!\n",
      "!\n"
     ]
    },
    {
     "name": "stderr",
     "output_type": "stream",
     "text": [
      "Extract dsift in train data:  42%|████▏     | 853/2020 [00:54<01:13, 15.98it/s]"
     ]
    },
    {
     "name": "stdout",
     "output_type": "stream",
     "text": [
      "!\n",
      "!\n",
      "!\n",
      "!\n",
      "!\n",
      "!\n",
      "!\n",
      "!\n",
      "!\n",
      "!\n",
      "!\n",
      "!\n",
      "!\n",
      "!\n",
      "!\n",
      "!\n"
     ]
    },
    {
     "name": "stderr",
     "output_type": "stream",
     "text": [
      "Extract dsift in train data:  42%|████▏     | 855/2020 [00:54<01:19, 14.74it/s]"
     ]
    },
    {
     "name": "stdout",
     "output_type": "stream",
     "text": [
      "!\n",
      "!\n",
      "!\n",
      "!\n",
      "!\n",
      "!\n",
      "!\n",
      "!\n",
      "!\n",
      "!\n",
      "!\n",
      "!\n",
      "!\n"
     ]
    },
    {
     "name": "stderr",
     "output_type": "stream",
     "text": [
      "Extract dsift in train data:  42%|████▏     | 857/2020 [00:54<01:25, 13.60it/s]"
     ]
    },
    {
     "name": "stdout",
     "output_type": "stream",
     "text": [
      "!\n",
      "!\n",
      "!\n",
      "!\n",
      "!\n",
      "!\n",
      "!\n",
      "!\n",
      "!\n",
      "!\n",
      "!\n",
      "!\n"
     ]
    },
    {
     "name": "stderr",
     "output_type": "stream",
     "text": [
      "Extract dsift in train data:  43%|████▎     | 861/2020 [00:55<01:32, 12.50it/s]"
     ]
    },
    {
     "name": "stdout",
     "output_type": "stream",
     "text": [
      "!\n",
      "!\n",
      "!\n",
      "!\n",
      "!\n",
      "!\n",
      "!\n",
      "!\n",
      "!\n",
      "!\n",
      "!\n",
      "!\n",
      "!\n",
      "!\n"
     ]
    },
    {
     "name": "stderr",
     "output_type": "stream",
     "text": [
      "Extract dsift in train data:  43%|████▎     | 863/2020 [00:55<01:32, 12.53it/s]"
     ]
    },
    {
     "name": "stdout",
     "output_type": "stream",
     "text": [
      "!\n",
      "!\n",
      "!\n",
      "!\n",
      "!\n",
      "!\n",
      "!\n",
      "!\n",
      "!\n",
      "!\n",
      "!\n",
      "!\n"
     ]
    },
    {
     "name": "stderr",
     "output_type": "stream",
     "text": [
      "Extract dsift in train data:  43%|████▎     | 867/2020 [00:55<01:29, 12.93it/s]"
     ]
    },
    {
     "name": "stdout",
     "output_type": "stream",
     "text": [
      "!\n",
      "!\n",
      "!\n",
      "!\n",
      "!\n",
      "!\n",
      "!\n",
      "!\n",
      "!\n",
      "!\n",
      "!\n",
      "!\n",
      "!\n",
      "!\n"
     ]
    },
    {
     "name": "stderr",
     "output_type": "stream",
     "text": [
      "Extract dsift in train data:  43%|████▎     | 869/2020 [00:55<01:23, 13.79it/s]"
     ]
    },
    {
     "name": "stdout",
     "output_type": "stream",
     "text": [
      "!\n",
      "!\n",
      "!\n",
      "!\n",
      "!\n",
      "!\n",
      "!\n",
      "!\n",
      "!\n",
      "!\n",
      "!\n",
      "!\n",
      "!\n",
      "!\n",
      "!\n",
      "!\n",
      "!\n"
     ]
    },
    {
     "name": "stderr",
     "output_type": "stream",
     "text": [
      "Extract dsift in train data:  43%|████▎     | 873/2020 [00:55<01:17, 14.81it/s]"
     ]
    },
    {
     "name": "stdout",
     "output_type": "stream",
     "text": [
      "!\n",
      "!\n",
      "!\n",
      "!\n",
      "!\n",
      "!\n",
      "!\n",
      "!\n",
      "!\n",
      "!\n",
      "!\n",
      "!\n",
      "!\n",
      "!\n",
      "!\n",
      "!\n",
      "!\n"
     ]
    },
    {
     "name": "stderr",
     "output_type": "stream",
     "text": [
      "Extract dsift in train data:  43%|████▎     | 877/2020 [00:56<01:14, 15.25it/s]"
     ]
    },
    {
     "name": "stdout",
     "output_type": "stream",
     "text": [
      "!\n",
      "!\n",
      "!\n",
      "!\n",
      "!\n",
      "!\n",
      "!\n",
      "!\n",
      "!\n",
      "!\n",
      "!\n",
      "!\n",
      "!\n",
      "!\n",
      "!\n",
      "!\n"
     ]
    },
    {
     "name": "stderr",
     "output_type": "stream",
     "text": [
      "Extract dsift in train data:  44%|████▎     | 879/2020 [00:56<01:13, 15.51it/s]"
     ]
    },
    {
     "name": "stdout",
     "output_type": "stream",
     "text": [
      "!\n",
      "!\n",
      "!\n",
      "!\n",
      "!\n",
      "!\n",
      "!\n",
      "!\n",
      "!\n",
      "!\n",
      "!\n",
      "!\n",
      "!\n",
      "!\n",
      "!\n",
      "!\n",
      "!\n"
     ]
    },
    {
     "name": "stderr",
     "output_type": "stream",
     "text": [
      "Extract dsift in train data:  44%|████▎     | 883/2020 [00:56<01:11, 15.87it/s]"
     ]
    },
    {
     "name": "stdout",
     "output_type": "stream",
     "text": [
      "!\n",
      "!\n",
      "!\n",
      "!\n",
      "!\n",
      "!\n",
      "!\n",
      "!\n",
      "!\n",
      "!\n",
      "!\n",
      "!\n",
      "!\n",
      "!\n",
      "!\n",
      "!\n",
      "!\n"
     ]
    },
    {
     "name": "stderr",
     "output_type": "stream",
     "text": [
      "Extract dsift in train data:  44%|████▍     | 887/2020 [00:56<01:10, 16.10it/s]"
     ]
    },
    {
     "name": "stdout",
     "output_type": "stream",
     "text": [
      "!\n",
      "!\n",
      "!\n",
      "!\n",
      "!\n",
      "!\n",
      "!\n",
      "!\n",
      "!\n",
      "!\n",
      "!\n",
      "!\n",
      "!\n",
      "!\n",
      "!\n",
      "!\n"
     ]
    },
    {
     "name": "stderr",
     "output_type": "stream",
     "text": [
      "Extract dsift in train data:  44%|████▍     | 889/2020 [00:56<01:10, 16.14it/s]"
     ]
    },
    {
     "name": "stdout",
     "output_type": "stream",
     "text": [
      "!\n",
      "!\n",
      "!\n",
      "!\n",
      "!\n",
      "!\n",
      "!\n",
      "!\n",
      "!\n",
      "!\n",
      "!\n",
      "!\n",
      "!\n",
      "!\n",
      "!\n",
      "!\n",
      "!\n",
      "!\n"
     ]
    },
    {
     "name": "stderr",
     "output_type": "stream",
     "text": [
      "Extract dsift in train data:  44%|████▍     | 893/2020 [00:57<01:09, 16.33it/s]"
     ]
    },
    {
     "name": "stdout",
     "output_type": "stream",
     "text": [
      "!\n",
      "!\n",
      "!\n",
      "!\n",
      "!\n",
      "!\n",
      "!\n",
      "!\n",
      "!\n",
      "!\n",
      "!\n",
      "!\n",
      "!\n",
      "!\n",
      "!\n",
      "!\n",
      "!\n"
     ]
    },
    {
     "name": "stderr",
     "output_type": "stream",
     "text": [
      "Extract dsift in train data:  44%|████▍     | 897/2020 [00:57<01:09, 16.23it/s]"
     ]
    },
    {
     "name": "stdout",
     "output_type": "stream",
     "text": [
      "!\n",
      "!\n",
      "!\n",
      "!\n",
      "!\n",
      "!\n",
      "!\n",
      "!\n",
      "!\n",
      "!\n",
      "!\n",
      "!\n",
      "!\n",
      "!\n",
      "!\n",
      "!\n"
     ]
    },
    {
     "name": "stderr",
     "output_type": "stream",
     "text": [
      "Extract dsift in train data:  45%|████▍     | 899/2020 [00:57<01:10, 15.93it/s]"
     ]
    },
    {
     "name": "stdout",
     "output_type": "stream",
     "text": [
      "!\n",
      "!\n",
      "!\n",
      "!\n",
      "!\n",
      "!\n",
      "!\n",
      "!\n",
      "!\n",
      "!\n",
      "!\n",
      "!\n",
      "!\n",
      "!\n",
      "!\n",
      "!\n",
      "!\n"
     ]
    },
    {
     "name": "stderr",
     "output_type": "stream",
     "text": [
      "Extract dsift in train data:  45%|████▍     | 903/2020 [00:57<01:09, 15.98it/s]"
     ]
    },
    {
     "name": "stdout",
     "output_type": "stream",
     "text": [
      "!\n",
      "!\n",
      "!\n",
      "!\n",
      "!\n",
      "!\n",
      "!\n",
      "!\n",
      "!\n",
      "!\n",
      "!\n",
      "!\n",
      "!\n",
      "!\n",
      "!\n",
      "!\n",
      "!\n"
     ]
    },
    {
     "name": "stderr",
     "output_type": "stream",
     "text": [
      "Extract dsift in train data:  45%|████▍     | 907/2020 [00:58<01:09, 16.12it/s]"
     ]
    },
    {
     "name": "stdout",
     "output_type": "stream",
     "text": [
      "!\n",
      "!\n",
      "!\n",
      "!\n",
      "!\n",
      "!\n",
      "!\n",
      "!\n",
      "!\n",
      "!\n",
      "!\n",
      "!\n",
      "!\n",
      "!\n",
      "!\n",
      "!\n",
      "!\n"
     ]
    },
    {
     "name": "stderr",
     "output_type": "stream",
     "text": [
      "Extract dsift in train data:  45%|████▌     | 909/2020 [00:58<01:09, 15.99it/s]"
     ]
    },
    {
     "name": "stdout",
     "output_type": "stream",
     "text": [
      "!\n",
      "!\n",
      "!\n",
      "!\n",
      "!\n",
      "!\n",
      "!\n",
      "!\n",
      "!\n",
      "!\n",
      "!\n",
      "!\n",
      "!\n",
      "!\n",
      "!\n",
      "!\n",
      "!\n"
     ]
    },
    {
     "name": "stderr",
     "output_type": "stream",
     "text": [
      "Extract dsift in train data:  45%|████▌     | 913/2020 [00:58<01:08, 16.06it/s]"
     ]
    },
    {
     "name": "stdout",
     "output_type": "stream",
     "text": [
      "!\n",
      "!\n",
      "!\n",
      "!\n",
      "!\n",
      "!\n",
      "!\n",
      "!\n",
      "!\n",
      "!\n",
      "!\n",
      "!\n",
      "!\n",
      "!\n",
      "!\n",
      "!\n"
     ]
    },
    {
     "name": "stderr",
     "output_type": "stream",
     "text": [
      "Extract dsift in train data:  45%|████▌     | 917/2020 [00:58<01:09, 15.84it/s]"
     ]
    },
    {
     "name": "stdout",
     "output_type": "stream",
     "text": [
      "!\n",
      "!\n",
      "!\n",
      "!\n",
      "!\n",
      "!\n",
      "!\n",
      "!\n",
      "!\n",
      "!\n",
      "!\n",
      "!\n",
      "!\n",
      "!\n",
      "!\n",
      "!\n",
      "!\n"
     ]
    },
    {
     "name": "stderr",
     "output_type": "stream",
     "text": [
      "Extract dsift in train data:  45%|████▌     | 919/2020 [00:58<01:09, 15.77it/s]"
     ]
    },
    {
     "name": "stdout",
     "output_type": "stream",
     "text": [
      "!\n",
      "!\n",
      "!\n",
      "!\n",
      "!\n",
      "!\n",
      "!\n",
      "!\n",
      "!\n",
      "!\n",
      "!\n",
      "!\n",
      "!\n",
      "!\n",
      "!\n",
      "!\n",
      "!\n"
     ]
    },
    {
     "name": "stderr",
     "output_type": "stream",
     "text": [
      "Extract dsift in train data:  46%|████▌     | 923/2020 [00:59<01:10, 15.63it/s]"
     ]
    },
    {
     "name": "stdout",
     "output_type": "stream",
     "text": [
      "!\n",
      "!\n",
      "!\n",
      "!\n",
      "!\n",
      "!\n",
      "!\n",
      "!\n",
      "!\n",
      "!\n",
      "!\n",
      "!\n",
      "!\n",
      "!\n",
      "!\n",
      "!\n"
     ]
    },
    {
     "name": "stderr",
     "output_type": "stream",
     "text": [
      "Extract dsift in train data:  46%|████▌     | 927/2020 [00:59<01:10, 15.57it/s]"
     ]
    },
    {
     "name": "stdout",
     "output_type": "stream",
     "text": [
      "!\n",
      "!\n",
      "!\n",
      "!\n",
      "!\n",
      "!\n",
      "!\n",
      "!\n",
      "!\n",
      "!\n",
      "!\n",
      "!\n",
      "!\n",
      "!\n",
      "!\n",
      "!\n"
     ]
    },
    {
     "name": "stderr",
     "output_type": "stream",
     "text": [
      "Extract dsift in train data:  46%|████▌     | 929/2020 [00:59<01:10, 15.55it/s]"
     ]
    },
    {
     "name": "stdout",
     "output_type": "stream",
     "text": [
      "!\n",
      "!\n",
      "!\n",
      "!\n",
      "!\n",
      "!\n",
      "!\n",
      "!\n",
      "!\n",
      "!\n",
      "!\n",
      "!\n",
      "!\n",
      "!\n",
      "!\n",
      "!\n",
      "!\n"
     ]
    },
    {
     "name": "stderr",
     "output_type": "stream",
     "text": [
      "Extract dsift in train data:  46%|████▌     | 933/2020 [00:59<01:08, 15.90it/s]"
     ]
    },
    {
     "name": "stdout",
     "output_type": "stream",
     "text": [
      "!\n",
      "!\n",
      "!\n",
      "!\n",
      "!\n",
      "!\n",
      "!\n",
      "!\n",
      "!\n",
      "!\n",
      "!\n",
      "!\n",
      "!\n",
      "!\n",
      "!\n",
      "!\n",
      "!\n"
     ]
    },
    {
     "name": "stderr",
     "output_type": "stream",
     "text": [
      "Extract dsift in train data:  46%|████▋     | 937/2020 [00:59<01:08, 15.86it/s]"
     ]
    },
    {
     "name": "stdout",
     "output_type": "stream",
     "text": [
      "!\n",
      "!\n",
      "!\n",
      "!\n",
      "!\n",
      "!\n",
      "!\n",
      "!\n",
      "!\n",
      "!\n",
      "!\n",
      "!\n",
      "!\n",
      "!\n",
      "!\n",
      "!\n",
      "!\n"
     ]
    },
    {
     "name": "stderr",
     "output_type": "stream",
     "text": [
      "Extract dsift in train data:  46%|████▋     | 939/2020 [01:00<01:08, 15.75it/s]"
     ]
    },
    {
     "name": "stdout",
     "output_type": "stream",
     "text": [
      "!\n",
      "!\n",
      "!\n",
      "!\n",
      "!\n",
      "!\n",
      "!\n",
      "!\n",
      "!\n",
      "!\n",
      "!\n",
      "!\n",
      "!\n",
      "!\n",
      "!\n",
      "!\n",
      "!\n"
     ]
    },
    {
     "name": "stderr",
     "output_type": "stream",
     "text": [
      "Extract dsift in train data:  47%|████▋     | 943/2020 [01:00<01:13, 14.60it/s]"
     ]
    },
    {
     "name": "stdout",
     "output_type": "stream",
     "text": [
      "!\n",
      "!\n",
      "!\n",
      "!\n",
      "!\n",
      "!\n",
      "!\n",
      "!\n",
      "!\n",
      "!\n",
      "!\n",
      "!\n",
      "!"
     ]
    },
    {
     "name": "stderr",
     "output_type": "stream",
     "text": [
      "Extract dsift in train data:  47%|████▋     | 945/2020 [01:00<01:16, 14.00it/s]"
     ]
    },
    {
     "name": "stdout",
     "output_type": "stream",
     "text": [
      "\n",
      "!\n",
      "!\n",
      "!\n",
      "!\n",
      "!\n",
      "!\n",
      "!\n",
      "!\n",
      "!\n",
      "!\n",
      "!\n",
      "!\n",
      "!\n"
     ]
    },
    {
     "name": "stderr",
     "output_type": "stream",
     "text": [
      "Extract dsift in train data:  47%|████▋     | 949/2020 [01:00<01:12, 14.78it/s]"
     ]
    },
    {
     "name": "stdout",
     "output_type": "stream",
     "text": [
      "!\n",
      "!\n",
      "!\n",
      "!\n",
      "!\n",
      "!\n",
      "!\n",
      "!\n",
      "!\n",
      "!\n",
      "!\n",
      "!\n",
      "!\n",
      "!\n",
      "!\n",
      "!\n"
     ]
    },
    {
     "name": "stderr",
     "output_type": "stream",
     "text": [
      "Extract dsift in train data:  47%|████▋     | 951/2020 [01:00<01:11, 15.04it/s]"
     ]
    },
    {
     "name": "stdout",
     "output_type": "stream",
     "text": [
      "!\n",
      "!\n",
      "!\n",
      "!\n",
      "!\n",
      "!\n",
      "!\n",
      "!\n",
      "!\n",
      "!\n",
      "!\n",
      "!\n",
      "!\n",
      "!\n",
      "!\n",
      "!\n",
      "!\n"
     ]
    },
    {
     "name": "stderr",
     "output_type": "stream",
     "text": [
      "Extract dsift in train data:  47%|████▋     | 955/2020 [01:01<01:08, 15.47it/s]"
     ]
    },
    {
     "name": "stdout",
     "output_type": "stream",
     "text": [
      "!\n",
      "!\n",
      "!\n",
      "!\n",
      "!\n",
      "!\n",
      "!\n",
      "!\n",
      "!\n",
      "!\n",
      "!\n",
      "!\n",
      "!\n",
      "!\n",
      "!\n",
      "!\n",
      "!\n"
     ]
    },
    {
     "name": "stderr",
     "output_type": "stream",
     "text": [
      "Extract dsift in train data:  47%|████▋     | 959/2020 [01:01<01:07, 15.75it/s]"
     ]
    },
    {
     "name": "stdout",
     "output_type": "stream",
     "text": [
      "!\n",
      "!\n",
      "!\n",
      "!\n",
      "!\n",
      "!\n",
      "!\n",
      "!\n",
      "!\n",
      "!\n",
      "!\n",
      "!\n",
      "!\n",
      "!\n",
      "!\n",
      "!\n",
      "!\n"
     ]
    },
    {
     "name": "stderr",
     "output_type": "stream",
     "text": [
      "Extract dsift in train data:  48%|████▊     | 961/2020 [01:01<01:06, 15.85it/s]"
     ]
    },
    {
     "name": "stdout",
     "output_type": "stream",
     "text": [
      "!\n",
      "!\n",
      "!\n",
      "!\n",
      "!\n",
      "!\n",
      "!\n",
      "!\n",
      "!\n",
      "!\n",
      "!\n",
      "!\n",
      "!\n",
      "!\n",
      "!\n",
      "!\n",
      "!\n"
     ]
    },
    {
     "name": "stderr",
     "output_type": "stream",
     "text": [
      "Extract dsift in train data:  48%|████▊     | 965/2020 [01:01<01:06, 15.84it/s]"
     ]
    },
    {
     "name": "stdout",
     "output_type": "stream",
     "text": [
      "!\n",
      "!\n",
      "!\n",
      "!\n",
      "!\n",
      "!\n",
      "!\n",
      "!\n",
      "!\n",
      "!\n",
      "!\n",
      "!\n",
      "!\n",
      "!\n",
      "!\n",
      "!\n"
     ]
    },
    {
     "name": "stderr",
     "output_type": "stream",
     "text": [
      "Extract dsift in train data:  48%|████▊     | 969/2020 [01:02<01:05, 15.94it/s]"
     ]
    },
    {
     "name": "stdout",
     "output_type": "stream",
     "text": [
      "!\n",
      "!\n",
      "!\n",
      "!\n",
      "!\n",
      "!\n",
      "!\n",
      "!\n",
      "!\n",
      "!\n",
      "!\n",
      "!\n",
      "!\n",
      "!\n",
      "!\n",
      "!\n",
      "!\n"
     ]
    },
    {
     "name": "stderr",
     "output_type": "stream",
     "text": [
      "Extract dsift in train data:  48%|████▊     | 971/2020 [01:02<01:05, 15.98it/s]"
     ]
    },
    {
     "name": "stdout",
     "output_type": "stream",
     "text": [
      "!\n",
      "!\n",
      "!\n",
      "!\n",
      "!\n",
      "!\n",
      "!\n",
      "!\n",
      "!\n",
      "!\n",
      "!\n",
      "!\n",
      "!\n",
      "!\n",
      "!\n",
      "!\n",
      "!\n"
     ]
    },
    {
     "name": "stderr",
     "output_type": "stream",
     "text": [
      "Extract dsift in train data:  48%|████▊     | 975/2020 [01:02<01:05, 16.01it/s]"
     ]
    },
    {
     "name": "stdout",
     "output_type": "stream",
     "text": [
      "!\n",
      "!\n",
      "!\n",
      "!\n",
      "!\n",
      "!\n",
      "!\n",
      "!\n",
      "!\n",
      "!\n",
      "!\n",
      "!\n",
      "!\n",
      "!\n",
      "!\n",
      "!\n"
     ]
    },
    {
     "name": "stderr",
     "output_type": "stream",
     "text": [
      "Extract dsift in train data:  48%|████▊     | 979/2020 [01:02<01:04, 16.02it/s]"
     ]
    },
    {
     "name": "stdout",
     "output_type": "stream",
     "text": [
      "!\n",
      "!\n",
      "!\n",
      "!\n",
      "!\n",
      "!\n",
      "!\n",
      "!\n",
      "!\n",
      "!\n",
      "!\n",
      "!\n",
      "!\n",
      "!\n",
      "!\n",
      "!\n",
      "!\n"
     ]
    },
    {
     "name": "stderr",
     "output_type": "stream",
     "text": [
      "Extract dsift in train data:  49%|████▊     | 981/2020 [01:02<01:04, 16.21it/s]"
     ]
    },
    {
     "name": "stdout",
     "output_type": "stream",
     "text": [
      "!\n",
      "!\n",
      "!\n",
      "!\n",
      "!\n",
      "!\n",
      "!\n",
      "!\n",
      "!\n",
      "!\n",
      "!\n",
      "!\n",
      "!\n",
      "!\n",
      "!\n",
      "!\n",
      "!\n",
      "!\n"
     ]
    },
    {
     "name": "stderr",
     "output_type": "stream",
     "text": [
      "Extract dsift in train data:  49%|████▉     | 985/2020 [01:02<01:04, 16.08it/s]"
     ]
    },
    {
     "name": "stdout",
     "output_type": "stream",
     "text": [
      "!\n",
      "!\n",
      "!\n",
      "!\n",
      "!\n",
      "!\n",
      "!\n",
      "!\n",
      "!\n",
      "!\n",
      "!\n",
      "!\n",
      "!\n",
      "!\n",
      "!\n",
      "!\n",
      "!\n"
     ]
    },
    {
     "name": "stderr",
     "output_type": "stream",
     "text": [
      "Extract dsift in train data:  49%|████▉     | 989/2020 [01:03<01:05, 15.84it/s]"
     ]
    },
    {
     "name": "stdout",
     "output_type": "stream",
     "text": [
      "!\n",
      "!\n",
      "!\n",
      "!\n",
      "!\n",
      "!\n",
      "!\n",
      "!\n",
      "!\n",
      "!\n",
      "!\n",
      "!\n",
      "!\n",
      "!\n",
      "!\n",
      "!\n"
     ]
    },
    {
     "name": "stderr",
     "output_type": "stream",
     "text": [
      "Extract dsift in train data:  49%|████▉     | 993/2020 [01:03<01:03, 16.06it/s]"
     ]
    },
    {
     "name": "stdout",
     "output_type": "stream",
     "text": [
      "!\n",
      "!\n",
      "!\n",
      "!\n",
      "!\n",
      "!\n",
      "!\n",
      "!\n",
      "!\n",
      "!\n",
      "!\n",
      "!\n",
      "!\n",
      "!\n",
      "!\n",
      "!\n",
      "!\n"
     ]
    },
    {
     "name": "stderr",
     "output_type": "stream",
     "text": [
      "Extract dsift in train data:  49%|████▉     | 995/2020 [01:03<01:04, 15.95it/s]"
     ]
    },
    {
     "name": "stdout",
     "output_type": "stream",
     "text": [
      "!\n",
      "!\n",
      "!\n",
      "!\n",
      "!\n",
      "!\n",
      "!\n",
      "!\n",
      "!\n",
      "!\n",
      "!\n",
      "!\n",
      "!\n",
      "!\n",
      "!\n",
      "!\n",
      "!\n"
     ]
    },
    {
     "name": "stderr",
     "output_type": "stream",
     "text": [
      "Extract dsift in train data:  49%|████▉     | 999/2020 [01:03<01:03, 16.01it/s]"
     ]
    },
    {
     "name": "stdout",
     "output_type": "stream",
     "text": [
      "!\n",
      "!\n",
      "!\n",
      "!\n",
      "!\n",
      "!\n",
      "!\n",
      "!\n",
      "!\n",
      "!\n",
      "!\n",
      "!\n",
      "!\n",
      "!\n",
      "!\n",
      "!\n",
      "!\n"
     ]
    },
    {
     "name": "stderr",
     "output_type": "stream",
     "text": [
      "Extract dsift in train data:  50%|████▉     | 1001/2020 [01:04<01:08, 14.92it/s]"
     ]
    },
    {
     "name": "stdout",
     "output_type": "stream",
     "text": [
      "!\n",
      "!\n",
      "!\n",
      "!\n",
      "!\n",
      "!\n",
      "!\n",
      "!\n",
      "!\n",
      "!\n",
      "!\n",
      "!\n",
      "!\n",
      "!\n"
     ]
    },
    {
     "name": "stderr",
     "output_type": "stream",
     "text": [
      "Extract dsift in train data:  50%|████▉     | 1005/2020 [01:04<01:07, 15.05it/s]"
     ]
    },
    {
     "name": "stdout",
     "output_type": "stream",
     "text": [
      "!\n",
      "!\n",
      "!\n",
      "!\n",
      "!\n",
      "!\n",
      "!\n",
      "!\n",
      "!\n",
      "!\n",
      "!\n",
      "!\n",
      "!\n",
      "!\n",
      "!\n",
      "!\n",
      "!\n"
     ]
    },
    {
     "name": "stderr",
     "output_type": "stream",
     "text": [
      "Extract dsift in train data:  50%|████▉     | 1009/2020 [01:04<01:05, 15.45it/s]"
     ]
    },
    {
     "name": "stdout",
     "output_type": "stream",
     "text": [
      "!\n",
      "!\n",
      "!\n",
      "!\n",
      "!\n",
      "!\n",
      "!\n",
      "!\n",
      "!\n",
      "!\n",
      "!\n",
      "!\n",
      "!\n",
      "!\n",
      "!\n",
      "!\n"
     ]
    },
    {
     "name": "stderr",
     "output_type": "stream",
     "text": [
      "Extract dsift in train data:  50%|█████     | 1011/2020 [01:04<01:05, 15.29it/s]"
     ]
    },
    {
     "name": "stdout",
     "output_type": "stream",
     "text": [
      "!\n",
      "!\n",
      "!\n",
      "!\n",
      "!\n",
      "!\n",
      "!\n",
      "!\n",
      "!\n",
      "!\n",
      "!\n",
      "!\n",
      "!\n",
      "!\n",
      "!\n",
      "!\n"
     ]
    },
    {
     "name": "stderr",
     "output_type": "stream",
     "text": [
      "Extract dsift in train data:  50%|█████     | 1015/2020 [01:04<01:05, 15.28it/s]"
     ]
    },
    {
     "name": "stdout",
     "output_type": "stream",
     "text": [
      "!\n",
      "!\n",
      "!\n",
      "!\n",
      "!\n",
      "!\n",
      "!\n",
      "!\n",
      "!\n",
      "!\n",
      "!\n",
      "!\n",
      "!\n",
      "!\n",
      "!\n",
      "!\n"
     ]
    },
    {
     "name": "stderr",
     "output_type": "stream",
     "text": [
      "Extract dsift in train data:  50%|█████     | 1017/2020 [01:05<01:04, 15.48it/s]"
     ]
    },
    {
     "name": "stdout",
     "output_type": "stream",
     "text": [
      "!\n",
      "!\n",
      "!\n",
      "!\n",
      "!\n",
      "!\n",
      "!\n",
      "!\n",
      "!\n",
      "!\n",
      "!\n",
      "!\n",
      "!\n",
      "!\n",
      "!\n",
      "!\n",
      "!\n"
     ]
    },
    {
     "name": "stderr",
     "output_type": "stream",
     "text": [
      "Extract dsift in train data:  51%|█████     | 1021/2020 [01:05<01:03, 15.77it/s]"
     ]
    },
    {
     "name": "stdout",
     "output_type": "stream",
     "text": [
      "!\n",
      "!\n",
      "!\n",
      "!\n",
      "!\n",
      "!\n",
      "!\n",
      "!\n",
      "!\n",
      "!\n",
      "!\n",
      "!\n",
      "!\n",
      "!\n",
      "!\n",
      "!\n",
      "!\n",
      "!\n"
     ]
    },
    {
     "name": "stderr",
     "output_type": "stream",
     "text": [
      "Extract dsift in train data:  51%|█████     | 1025/2020 [01:05<01:02, 15.85it/s]"
     ]
    },
    {
     "name": "stdout",
     "output_type": "stream",
     "text": [
      "!\n",
      "!\n",
      "!\n",
      "!\n",
      "!\n",
      "!\n",
      "!\n",
      "!\n",
      "!\n",
      "!\n",
      "!\n",
      "!\n",
      "!\n",
      "!\n",
      "!\n",
      "!\n",
      "!\n"
     ]
    },
    {
     "name": "stderr",
     "output_type": "stream",
     "text": [
      "Extract dsift in train data:  51%|█████     | 1029/2020 [01:05<01:02, 15.74it/s]"
     ]
    },
    {
     "name": "stdout",
     "output_type": "stream",
     "text": [
      "!\n",
      "!\n",
      "!\n",
      "!\n",
      "!\n",
      "!\n",
      "!\n",
      "!\n",
      "!\n",
      "!\n",
      "!\n",
      "!\n",
      "!\n",
      "!\n",
      "!\n",
      "!\n",
      "!\n"
     ]
    },
    {
     "name": "stderr",
     "output_type": "stream",
     "text": [
      "Extract dsift in train data:  51%|█████     | 1031/2020 [01:05<01:03, 15.54it/s]"
     ]
    },
    {
     "name": "stdout",
     "output_type": "stream",
     "text": [
      "!\n",
      "!\n",
      "!\n",
      "!\n",
      "!\n",
      "!\n",
      "!\n",
      "!\n",
      "!\n",
      "!\n",
      "!\n",
      "!\n",
      "!\n",
      "!\n",
      "!\n",
      "!\n"
     ]
    },
    {
     "name": "stderr",
     "output_type": "stream",
     "text": [
      "Extract dsift in train data:  51%|█████     | 1035/2020 [01:06<01:02, 15.70it/s]"
     ]
    },
    {
     "name": "stdout",
     "output_type": "stream",
     "text": [
      "!\n",
      "!\n",
      "!\n",
      "!\n",
      "!\n",
      "!\n",
      "!\n",
      "!\n",
      "!\n",
      "!\n",
      "!\n",
      "!\n",
      "!\n",
      "!\n",
      "!\n",
      "!\n",
      "!\n"
     ]
    },
    {
     "name": "stderr",
     "output_type": "stream",
     "text": [
      "Extract dsift in train data:  51%|█████▏    | 1039/2020 [01:06<01:02, 15.69it/s]"
     ]
    },
    {
     "name": "stdout",
     "output_type": "stream",
     "text": [
      "!\n",
      "!\n",
      "!\n",
      "!\n",
      "!\n",
      "!\n",
      "!\n",
      "!\n",
      "!\n",
      "!\n",
      "!\n",
      "!\n",
      "!\n",
      "!\n",
      "!\n",
      "!\n",
      "!\n"
     ]
    },
    {
     "name": "stderr",
     "output_type": "stream",
     "text": [
      "Extract dsift in train data:  52%|█████▏    | 1041/2020 [01:06<01:01, 15.85it/s]"
     ]
    },
    {
     "name": "stdout",
     "output_type": "stream",
     "text": [
      "!\n",
      "!\n",
      "!\n",
      "!\n",
      "!\n",
      "!\n",
      "!\n",
      "!\n",
      "!\n",
      "!\n",
      "!\n",
      "!\n",
      "!\n",
      "!\n",
      "!\n",
      "!\n",
      "!\n"
     ]
    },
    {
     "name": "stderr",
     "output_type": "stream",
     "text": [
      "Extract dsift in train data:  52%|█████▏    | 1045/2020 [01:06<01:02, 15.67it/s]"
     ]
    },
    {
     "name": "stdout",
     "output_type": "stream",
     "text": [
      "!\n",
      "!\n",
      "!\n",
      "!\n",
      "!\n",
      "!\n",
      "!\n",
      "!\n",
      "!\n",
      "!\n",
      "!\n",
      "!\n",
      "!\n",
      "!\n",
      "!\n",
      "!\n"
     ]
    },
    {
     "name": "stderr",
     "output_type": "stream",
     "text": [
      "Extract dsift in train data:  52%|█████▏    | 1049/2020 [01:07<01:00, 15.99it/s]"
     ]
    },
    {
     "name": "stdout",
     "output_type": "stream",
     "text": [
      "!\n",
      "!\n",
      "!\n",
      "!\n",
      "!\n",
      "!\n",
      "!\n",
      "!\n",
      "!\n",
      "!\n",
      "!\n",
      "!\n",
      "!\n",
      "!\n",
      "!\n",
      "!\n",
      "!\n"
     ]
    },
    {
     "name": "stderr",
     "output_type": "stream",
     "text": [
      "Extract dsift in train data:  52%|█████▏    | 1051/2020 [01:07<01:01, 15.88it/s]"
     ]
    },
    {
     "name": "stdout",
     "output_type": "stream",
     "text": [
      "!\n",
      "!\n",
      "!\n",
      "!\n",
      "!\n",
      "!\n",
      "!\n",
      "!\n",
      "!\n",
      "!\n",
      "!\n",
      "!\n",
      "!\n",
      "!\n",
      "!\n",
      "!\n",
      "!\n"
     ]
    },
    {
     "name": "stderr",
     "output_type": "stream",
     "text": [
      "Extract dsift in train data:  52%|█████▏    | 1055/2020 [01:07<01:01, 15.80it/s]"
     ]
    },
    {
     "name": "stdout",
     "output_type": "stream",
     "text": [
      "!\n",
      "!\n",
      "!\n",
      "!\n",
      "!\n",
      "!\n",
      "!\n",
      "!\n",
      "!\n",
      "!\n",
      "!\n",
      "!\n",
      "!\n",
      "!\n",
      "!\n",
      "!\n"
     ]
    },
    {
     "name": "stderr",
     "output_type": "stream",
     "text": [
      "Extract dsift in train data:  52%|█████▏    | 1059/2020 [01:07<00:59, 16.05it/s]"
     ]
    },
    {
     "name": "stdout",
     "output_type": "stream",
     "text": [
      "!\n",
      "!\n",
      "!\n",
      "!\n",
      "!\n",
      "!\n",
      "!\n",
      "!\n",
      "!\n",
      "!\n",
      "!\n",
      "!\n",
      "!\n",
      "!\n",
      "!\n",
      "!\n",
      "!\n"
     ]
    },
    {
     "name": "stderr",
     "output_type": "stream",
     "text": [
      "Extract dsift in train data:  53%|█████▎    | 1061/2020 [01:07<00:59, 16.02it/s]"
     ]
    },
    {
     "name": "stdout",
     "output_type": "stream",
     "text": [
      "!\n",
      "!\n",
      "!\n",
      "!\n",
      "!\n",
      "!\n",
      "!\n",
      "!\n",
      "!\n",
      "!\n",
      "!\n",
      "!\n",
      "!\n",
      "!\n",
      "!\n",
      "!\n",
      "!\n"
     ]
    },
    {
     "name": "stderr",
     "output_type": "stream",
     "text": [
      "Extract dsift in train data:  53%|█████▎    | 1065/2020 [01:08<01:01, 15.61it/s]"
     ]
    },
    {
     "name": "stdout",
     "output_type": "stream",
     "text": [
      "!\n",
      "!\n",
      "!\n",
      "!\n",
      "!\n",
      "!\n",
      "!\n",
      "!\n",
      "!\n",
      "!\n",
      "!\n",
      "!\n",
      "!\n",
      "!\n",
      "!\n",
      "!\n"
     ]
    },
    {
     "name": "stderr",
     "output_type": "stream",
     "text": [
      "Extract dsift in train data:  53%|█████▎    | 1069/2020 [01:08<01:00, 15.69it/s]"
     ]
    },
    {
     "name": "stdout",
     "output_type": "stream",
     "text": [
      "!\n",
      "!\n",
      "!\n",
      "!\n",
      "!\n",
      "!\n",
      "!\n",
      "!\n",
      "!\n",
      "!\n",
      "!\n",
      "!\n",
      "!\n",
      "!\n",
      "!\n",
      "!\n",
      "!\n"
     ]
    },
    {
     "name": "stderr",
     "output_type": "stream",
     "text": [
      "Extract dsift in train data:  53%|█████▎    | 1071/2020 [01:08<00:59, 15.91it/s]"
     ]
    },
    {
     "name": "stdout",
     "output_type": "stream",
     "text": [
      "!\n",
      "!\n",
      "!\n",
      "!\n",
      "!\n",
      "!\n",
      "!\n",
      "!\n",
      "!\n",
      "!\n",
      "!\n",
      "!\n",
      "!\n",
      "!\n",
      "!\n",
      "!\n",
      "!\n"
     ]
    },
    {
     "name": "stderr",
     "output_type": "stream",
     "text": [
      "Extract dsift in train data:  53%|█████▎    | 1075/2020 [01:08<00:59, 15.90it/s]"
     ]
    },
    {
     "name": "stdout",
     "output_type": "stream",
     "text": [
      "!\n",
      "!\n",
      "!\n",
      "!\n",
      "!\n",
      "!\n",
      "!\n",
      "!\n",
      "!\n",
      "!\n",
      "!\n",
      "!\n",
      "!\n",
      "!\n",
      "!\n",
      "!\n"
     ]
    },
    {
     "name": "stderr",
     "output_type": "stream",
     "text": [
      "Extract dsift in train data:  53%|█████▎    | 1079/2020 [01:08<00:58, 15.95it/s]"
     ]
    },
    {
     "name": "stdout",
     "output_type": "stream",
     "text": [
      "!\n",
      "!\n",
      "!\n",
      "!\n",
      "!\n",
      "!\n",
      "!\n",
      "!\n",
      "!\n",
      "!\n",
      "!\n",
      "!\n",
      "!\n",
      "!\n",
      "!\n",
      "!\n",
      "!\n"
     ]
    },
    {
     "name": "stderr",
     "output_type": "stream",
     "text": [
      "Extract dsift in train data:  54%|█████▎    | 1081/2020 [01:09<00:58, 15.96it/s]"
     ]
    },
    {
     "name": "stdout",
     "output_type": "stream",
     "text": [
      "!\n",
      "!\n",
      "!\n",
      "!\n",
      "!\n",
      "!\n",
      "!\n",
      "!\n",
      "!\n",
      "!\n",
      "!\n",
      "!\n",
      "!\n",
      "!\n",
      "!\n",
      "!\n",
      "!\n"
     ]
    },
    {
     "name": "stderr",
     "output_type": "stream",
     "text": [
      "Extract dsift in train data:  54%|█████▎    | 1085/2020 [01:09<00:58, 16.06it/s]"
     ]
    },
    {
     "name": "stdout",
     "output_type": "stream",
     "text": [
      "!\n",
      "!\n",
      "!\n",
      "!\n",
      "!\n",
      "!\n",
      "!\n",
      "!\n",
      "!\n",
      "!\n",
      "!\n",
      "!\n",
      "!\n",
      "!\n",
      "!\n",
      "!\n"
     ]
    },
    {
     "name": "stderr",
     "output_type": "stream",
     "text": [
      "Extract dsift in train data:  54%|█████▍    | 1089/2020 [01:09<00:57, 16.10it/s]"
     ]
    },
    {
     "name": "stdout",
     "output_type": "stream",
     "text": [
      "!\n",
      "!\n",
      "!\n",
      "!\n",
      "!\n",
      "!\n",
      "!\n",
      "!\n",
      "!\n",
      "!\n",
      "!\n",
      "!\n",
      "!\n",
      "!\n",
      "!\n",
      "!\n",
      "!\n"
     ]
    },
    {
     "name": "stderr",
     "output_type": "stream",
     "text": [
      "Extract dsift in train data:  54%|█████▍    | 1091/2020 [01:09<00:58, 15.97it/s]"
     ]
    },
    {
     "name": "stdout",
     "output_type": "stream",
     "text": [
      "!\n",
      "!\n",
      "!\n",
      "!\n",
      "!\n",
      "!\n",
      "!\n",
      "!\n",
      "!\n",
      "!\n",
      "!\n",
      "!\n",
      "!\n",
      "!\n",
      "!\n",
      "!\n",
      "!\n"
     ]
    },
    {
     "name": "stderr",
     "output_type": "stream",
     "text": [
      "Extract dsift in train data:  54%|█████▍    | 1095/2020 [01:09<00:58, 15.78it/s]"
     ]
    },
    {
     "name": "stdout",
     "output_type": "stream",
     "text": [
      "!\n",
      "!\n",
      "!\n",
      "!\n",
      "!\n",
      "!\n",
      "!\n",
      "!\n",
      "!\n",
      "!\n",
      "!\n",
      "!\n",
      "!\n",
      "!\n",
      "!\n",
      "!\n"
     ]
    },
    {
     "name": "stderr",
     "output_type": "stream",
     "text": [
      "Extract dsift in train data:  54%|█████▍    | 1099/2020 [01:10<00:58, 15.85it/s]"
     ]
    },
    {
     "name": "stdout",
     "output_type": "stream",
     "text": [
      "!\n",
      "!\n",
      "!\n",
      "!\n",
      "!\n",
      "!\n",
      "!\n",
      "!\n",
      "!\n",
      "!\n",
      "!\n",
      "!\n",
      "!\n",
      "!\n",
      "!\n",
      "!\n",
      "!\n"
     ]
    },
    {
     "name": "stderr",
     "output_type": "stream",
     "text": [
      "Extract dsift in train data:  55%|█████▍    | 1101/2020 [01:10<00:58, 15.80it/s]"
     ]
    },
    {
     "name": "stdout",
     "output_type": "stream",
     "text": [
      "!\n",
      "!\n",
      "!\n",
      "!\n",
      "!\n",
      "!\n",
      "!\n",
      "!\n",
      "!\n",
      "!\n",
      "!\n",
      "!\n",
      "!\n",
      "!\n",
      "!\n",
      "!\n",
      "!\n"
     ]
    },
    {
     "name": "stderr",
     "output_type": "stream",
     "text": [
      "Extract dsift in train data:  55%|█████▍    | 1105/2020 [01:10<00:57, 15.90it/s]"
     ]
    },
    {
     "name": "stdout",
     "output_type": "stream",
     "text": [
      "!\n",
      "!\n",
      "!\n",
      "!\n",
      "!\n",
      "!\n",
      "!\n",
      "!\n",
      "!\n",
      "!\n",
      "!\n",
      "!\n",
      "!\n",
      "!\n",
      "!\n",
      "!\n"
     ]
    },
    {
     "name": "stderr",
     "output_type": "stream",
     "text": [
      "Extract dsift in train data:  55%|█████▍    | 1109/2020 [01:10<00:57, 15.96it/s]"
     ]
    },
    {
     "name": "stdout",
     "output_type": "stream",
     "text": [
      "!\n",
      "!\n",
      "!\n",
      "!\n",
      "!\n",
      "!\n",
      "!\n",
      "!\n",
      "!\n",
      "!\n",
      "!\n",
      "!\n",
      "!\n",
      "!\n",
      "!\n",
      "!\n",
      "!\n"
     ]
    },
    {
     "name": "stderr",
     "output_type": "stream",
     "text": [
      "Extract dsift in train data:  55%|█████▌    | 1111/2020 [01:11<00:57, 15.89it/s]"
     ]
    },
    {
     "name": "stdout",
     "output_type": "stream",
     "text": [
      "!\n",
      "!\n",
      "!\n",
      "!\n",
      "!\n",
      "!\n",
      "!\n",
      "!\n",
      "!\n",
      "!\n",
      "!\n",
      "!\n",
      "!\n",
      "!\n",
      "!\n",
      "!\n",
      "!\n"
     ]
    },
    {
     "name": "stderr",
     "output_type": "stream",
     "text": [
      "Extract dsift in train data:  55%|█████▌    | 1115/2020 [01:11<00:55, 16.27it/s]"
     ]
    },
    {
     "name": "stdout",
     "output_type": "stream",
     "text": [
      "!\n",
      "!\n",
      "!\n",
      "!\n",
      "!\n",
      "!\n",
      "!\n",
      "!\n",
      "!\n",
      "!\n",
      "!\n",
      "!\n",
      "!\n",
      "!\n",
      "!\n",
      "!\n"
     ]
    },
    {
     "name": "stderr",
     "output_type": "stream",
     "text": [
      "Extract dsift in train data:  55%|█████▌    | 1119/2020 [01:11<00:55, 16.16it/s]"
     ]
    },
    {
     "name": "stdout",
     "output_type": "stream",
     "text": [
      "!\n",
      "!\n",
      "!\n",
      "!\n",
      "!\n",
      "!\n",
      "!\n",
      "!\n",
      "!\n",
      "!\n",
      "!\n",
      "!\n",
      "!\n",
      "!\n",
      "!\n",
      "!\n",
      "!\n"
     ]
    },
    {
     "name": "stderr",
     "output_type": "stream",
     "text": [
      "Extract dsift in train data:  55%|█████▌    | 1121/2020 [01:11<00:55, 16.22it/s]"
     ]
    },
    {
     "name": "stdout",
     "output_type": "stream",
     "text": [
      "!\n",
      "!\n",
      "!\n",
      "!\n",
      "!\n",
      "!\n",
      "!\n",
      "!\n",
      "!\n",
      "!\n",
      "!\n",
      "!\n",
      "!\n",
      "!\n",
      "!\n",
      "!\n",
      "!\n",
      "!\n"
     ]
    },
    {
     "name": "stderr",
     "output_type": "stream",
     "text": [
      "Extract dsift in train data:  56%|█████▌    | 1125/2020 [01:11<00:55, 16.11it/s]"
     ]
    },
    {
     "name": "stdout",
     "output_type": "stream",
     "text": [
      "!\n",
      "!\n",
      "!\n",
      "!\n",
      "!\n",
      "!\n",
      "!\n",
      "!\n",
      "!\n",
      "!\n",
      "!\n",
      "!\n",
      "!\n",
      "!\n",
      "!\n",
      "!\n",
      "!\n"
     ]
    },
    {
     "name": "stderr",
     "output_type": "stream",
     "text": [
      "Extract dsift in train data:  56%|█████▌    | 1129/2020 [01:12<00:56, 15.90it/s]"
     ]
    },
    {
     "name": "stdout",
     "output_type": "stream",
     "text": [
      "!\n",
      "!\n",
      "!\n",
      "!\n",
      "!\n",
      "!\n",
      "!\n",
      "!\n",
      "!\n",
      "!\n",
      "!\n",
      "!\n",
      "!\n",
      "!\n",
      "!\n",
      "!\n"
     ]
    },
    {
     "name": "stderr",
     "output_type": "stream",
     "text": [
      "Extract dsift in train data:  56%|█████▌    | 1131/2020 [01:12<00:56, 15.70it/s]"
     ]
    },
    {
     "name": "stdout",
     "output_type": "stream",
     "text": [
      "!\n",
      "!\n",
      "!\n",
      "!\n",
      "!\n",
      "!\n",
      "!\n",
      "!\n",
      "!\n",
      "!\n",
      "!\n",
      "!\n",
      "!\n",
      "!\n",
      "!\n",
      "!\n",
      "!\n"
     ]
    },
    {
     "name": "stderr",
     "output_type": "stream",
     "text": [
      "Extract dsift in train data:  56%|█████▌    | 1135/2020 [01:12<00:55, 15.94it/s]"
     ]
    },
    {
     "name": "stdout",
     "output_type": "stream",
     "text": [
      "!\n",
      "!\n",
      "!\n",
      "!\n",
      "!\n",
      "!\n",
      "!\n",
      "!\n",
      "!\n",
      "!\n",
      "!\n",
      "!\n",
      "!\n",
      "!\n",
      "!\n",
      "!\n",
      "!\n"
     ]
    },
    {
     "name": "stderr",
     "output_type": "stream",
     "text": [
      "Extract dsift in train data:  56%|█████▋    | 1139/2020 [01:12<00:54, 16.11it/s]"
     ]
    },
    {
     "name": "stdout",
     "output_type": "stream",
     "text": [
      "!\n",
      "!\n",
      "!\n",
      "!\n",
      "!\n",
      "!\n",
      "!\n",
      "!\n",
      "!\n",
      "!\n",
      "!\n",
      "!\n",
      "!\n",
      "!\n",
      "!\n",
      "!\n",
      "!\n"
     ]
    },
    {
     "name": "stderr",
     "output_type": "stream",
     "text": [
      "Extract dsift in train data:  57%|█████▋    | 1143/2020 [01:12<00:53, 16.27it/s]"
     ]
    },
    {
     "name": "stdout",
     "output_type": "stream",
     "text": [
      "!\n",
      "!\n",
      "!\n",
      "!\n",
      "!\n",
      "!\n",
      "!\n",
      "!\n",
      "!\n",
      "!\n",
      "!\n",
      "!\n",
      "!\n",
      "!\n",
      "!\n",
      "!\n"
     ]
    },
    {
     "name": "stderr",
     "output_type": "stream",
     "text": [
      "Extract dsift in train data:  57%|█████▋    | 1145/2020 [01:13<00:53, 16.25it/s]"
     ]
    },
    {
     "name": "stdout",
     "output_type": "stream",
     "text": [
      "!\n",
      "!\n",
      "!\n",
      "!\n",
      "!\n",
      "!\n",
      "!\n",
      "!\n",
      "!\n",
      "!\n",
      "!\n",
      "!\n",
      "!\n",
      "!\n",
      "!\n",
      "!\n",
      "!\n"
     ]
    },
    {
     "name": "stderr",
     "output_type": "stream",
     "text": [
      "Extract dsift in train data:  57%|█████▋    | 1149/2020 [01:13<00:54, 16.06it/s]"
     ]
    },
    {
     "name": "stdout",
     "output_type": "stream",
     "text": [
      "!\n",
      "!\n",
      "!\n",
      "!\n",
      "!\n",
      "!\n",
      "!\n",
      "!\n",
      "!\n",
      "!\n",
      "!\n",
      "!\n",
      "!\n",
      "!\n",
      "!\n",
      "!\n"
     ]
    },
    {
     "name": "stderr",
     "output_type": "stream",
     "text": [
      "Extract dsift in train data:  57%|█████▋    | 1151/2020 [01:13<00:55, 15.77it/s]"
     ]
    },
    {
     "name": "stdout",
     "output_type": "stream",
     "text": [
      "!\n",
      "!\n",
      "!\n",
      "!\n",
      "!\n",
      "!\n",
      "!\n",
      "!\n",
      "!\n",
      "!\n",
      "!\n",
      "!\n",
      "!\n",
      "!\n",
      "!\n",
      "!\n",
      "!\n"
     ]
    },
    {
     "name": "stderr",
     "output_type": "stream",
     "text": [
      "Extract dsift in train data:  57%|█████▋    | 1155/2020 [01:13<00:54, 15.92it/s]"
     ]
    },
    {
     "name": "stdout",
     "output_type": "stream",
     "text": [
      "!\n",
      "!\n",
      "!\n",
      "!\n",
      "!\n",
      "!\n",
      "!\n",
      "!\n",
      "!\n",
      "!\n",
      "!\n",
      "!\n",
      "!\n",
      "!\n",
      "!\n",
      "!\n",
      "!\n"
     ]
    },
    {
     "name": "stderr",
     "output_type": "stream",
     "text": [
      "Extract dsift in train data:  57%|█████▋    | 1159/2020 [01:14<00:55, 15.59it/s]"
     ]
    },
    {
     "name": "stdout",
     "output_type": "stream",
     "text": [
      "!\n",
      "!\n",
      "!\n",
      "!\n",
      "!\n",
      "!\n",
      "!\n",
      "!\n",
      "!\n",
      "!\n",
      "!\n",
      "!\n",
      "!\n",
      "!\n",
      "!\n"
     ]
    },
    {
     "name": "stderr",
     "output_type": "stream",
     "text": [
      "Extract dsift in train data:  57%|█████▋    | 1161/2020 [01:14<00:55, 15.59it/s]"
     ]
    },
    {
     "name": "stdout",
     "output_type": "stream",
     "text": [
      "!\n",
      "!\n",
      "!\n",
      "!\n",
      "!\n",
      "!\n",
      "!\n",
      "!\n",
      "!\n",
      "!\n",
      "!\n",
      "!\n",
      "!\n",
      "!\n",
      "!\n",
      "!\n",
      "!\n"
     ]
    },
    {
     "name": "stderr",
     "output_type": "stream",
     "text": [
      "Extract dsift in train data:  58%|█████▊    | 1165/2020 [01:14<00:54, 15.60it/s]"
     ]
    },
    {
     "name": "stdout",
     "output_type": "stream",
     "text": [
      "!\n",
      "!\n",
      "!\n",
      "!\n",
      "!\n",
      "!\n",
      "!\n",
      "!\n",
      "!\n",
      "!\n",
      "!\n",
      "!\n",
      "!\n",
      "!\n",
      "!\n",
      "!\n"
     ]
    },
    {
     "name": "stderr",
     "output_type": "stream",
     "text": [
      "Extract dsift in train data:  58%|█████▊    | 1169/2020 [01:14<00:53, 15.80it/s]"
     ]
    },
    {
     "name": "stdout",
     "output_type": "stream",
     "text": [
      "!\n",
      "!\n",
      "!\n",
      "!\n",
      "!\n",
      "!\n",
      "!\n",
      "!\n",
      "!\n",
      "!\n",
      "!\n",
      "!\n",
      "!\n",
      "!\n",
      "!\n",
      "!\n",
      "!\n"
     ]
    },
    {
     "name": "stderr",
     "output_type": "stream",
     "text": [
      "Extract dsift in train data:  58%|█████▊    | 1171/2020 [01:14<00:53, 15.74it/s]"
     ]
    },
    {
     "name": "stdout",
     "output_type": "stream",
     "text": [
      "!\n",
      "!\n",
      "!\n",
      "!\n",
      "!\n",
      "!\n",
      "!\n",
      "!\n",
      "!\n",
      "!\n",
      "!\n",
      "!\n",
      "!\n",
      "!\n",
      "!\n",
      "!\n",
      "!\n"
     ]
    },
    {
     "name": "stderr",
     "output_type": "stream",
     "text": [
      "Extract dsift in train data:  58%|█████▊    | 1175/2020 [01:15<00:57, 14.59it/s]"
     ]
    },
    {
     "name": "stdout",
     "output_type": "stream",
     "text": [
      "!\n",
      "!\n",
      "!\n",
      "!\n",
      "!\n",
      "!\n",
      "!\n",
      "!\n",
      "!\n",
      "!\n",
      "!\n",
      "!\n"
     ]
    },
    {
     "name": "stderr",
     "output_type": "stream",
     "text": [
      "Extract dsift in train data:  58%|█████▊    | 1177/2020 [01:15<00:57, 14.69it/s]"
     ]
    },
    {
     "name": "stdout",
     "output_type": "stream",
     "text": [
      "!\n",
      "!\n",
      "!\n",
      "!\n",
      "!\n",
      "!\n",
      "!\n",
      "!\n",
      "!\n",
      "!\n",
      "!\n",
      "!\n",
      "!\n",
      "!\n",
      "!\n",
      "!\n"
     ]
    },
    {
     "name": "stderr",
     "output_type": "stream",
     "text": [
      "Extract dsift in train data:  58%|█████▊    | 1181/2020 [01:15<00:55, 15.14it/s]"
     ]
    },
    {
     "name": "stdout",
     "output_type": "stream",
     "text": [
      "!\n",
      "!\n",
      "!\n",
      "!\n",
      "!\n",
      "!\n",
      "!\n",
      "!\n",
      "!\n",
      "!\n",
      "!\n",
      "!\n",
      "!\n",
      "!\n",
      "!\n",
      "!\n",
      "!\n"
     ]
    },
    {
     "name": "stderr",
     "output_type": "stream",
     "text": [
      "Extract dsift in train data:  59%|█████▊    | 1185/2020 [01:15<00:54, 15.46it/s]"
     ]
    },
    {
     "name": "stdout",
     "output_type": "stream",
     "text": [
      "!\n",
      "!\n",
      "!\n",
      "!\n",
      "!\n",
      "!\n",
      "!\n",
      "!\n",
      "!\n",
      "!\n",
      "!\n",
      "!\n",
      "!\n",
      "!\n",
      "!\n",
      "!\n"
     ]
    },
    {
     "name": "stderr",
     "output_type": "stream",
     "text": [
      "Extract dsift in train data:  59%|█████▉    | 1187/2020 [01:15<00:53, 15.61it/s]"
     ]
    },
    {
     "name": "stdout",
     "output_type": "stream",
     "text": [
      "!\n",
      "!\n",
      "!\n",
      "!\n",
      "!\n",
      "!\n",
      "!\n",
      "!\n",
      "!\n",
      "!\n",
      "!\n",
      "!\n",
      "!\n",
      "!\n",
      "!\n",
      "!\n",
      "!\n"
     ]
    },
    {
     "name": "stderr",
     "output_type": "stream",
     "text": [
      "Extract dsift in train data:  59%|█████▉    | 1191/2020 [01:16<00:52, 15.65it/s]"
     ]
    },
    {
     "name": "stdout",
     "output_type": "stream",
     "text": [
      "!\n",
      "!\n",
      "!\n",
      "!\n",
      "!\n",
      "!\n",
      "!\n",
      "!\n",
      "!\n",
      "!\n",
      "!\n",
      "!\n",
      "!\n",
      "!\n",
      "!\n",
      "!\n",
      "!\n"
     ]
    },
    {
     "name": "stderr",
     "output_type": "stream",
     "text": [
      "Extract dsift in train data:  59%|█████▉    | 1195/2020 [01:16<00:52, 15.62it/s]"
     ]
    },
    {
     "name": "stdout",
     "output_type": "stream",
     "text": [
      "!\n",
      "!\n",
      "!\n",
      "!\n",
      "!\n",
      "!\n",
      "!\n",
      "!\n",
      "!\n",
      "!\n",
      "!\n",
      "!\n",
      "!\n",
      "!\n",
      "!\n",
      "!\n"
     ]
    },
    {
     "name": "stderr",
     "output_type": "stream",
     "text": [
      "Extract dsift in train data:  59%|█████▉    | 1197/2020 [01:16<00:51, 15.86it/s]"
     ]
    },
    {
     "name": "stdout",
     "output_type": "stream",
     "text": [
      "!\n",
      "!\n",
      "!\n",
      "!\n",
      "!\n",
      "!\n",
      "!\n",
      "!\n",
      "!\n",
      "!\n",
      "!\n",
      "!\n",
      "!\n",
      "!\n",
      "!\n",
      "!\n",
      "!\n"
     ]
    },
    {
     "name": "stderr",
     "output_type": "stream",
     "text": [
      "Extract dsift in train data:  59%|█████▉    | 1201/2020 [01:16<00:51, 15.77it/s]"
     ]
    },
    {
     "name": "stdout",
     "output_type": "stream",
     "text": [
      "!\n",
      "!\n",
      "!\n",
      "!\n",
      "!\n",
      "!\n",
      "!\n",
      "!\n",
      "!\n",
      "!\n",
      "!\n",
      "!\n",
      "!\n"
     ]
    },
    {
     "name": "stderr",
     "output_type": "stream",
     "text": [
      "Extract dsift in train data:  60%|█████▉    | 1203/2020 [01:16<00:58, 14.05it/s]"
     ]
    },
    {
     "name": "stdout",
     "output_type": "stream",
     "text": [
      "!\n",
      "!\n",
      "!\n",
      "!\n",
      "!\n",
      "!\n",
      "!\n",
      "!\n",
      "!\n",
      "!\n",
      "!\n",
      "!\n",
      "!\n",
      "!\n",
      "!\n",
      "!\n",
      "!\n"
     ]
    },
    {
     "name": "stderr",
     "output_type": "stream",
     "text": [
      "Extract dsift in train data:  60%|█████▉    | 1207/2020 [01:17<00:54, 14.94it/s]"
     ]
    },
    {
     "name": "stdout",
     "output_type": "stream",
     "text": [
      "!\n",
      "!\n",
      "!\n",
      "!\n",
      "!\n",
      "!\n",
      "!\n",
      "!\n",
      "!\n",
      "!\n",
      "!\n",
      "!\n",
      "!\n",
      "!\n",
      "!\n",
      "!\n",
      "!\n"
     ]
    },
    {
     "name": "stderr",
     "output_type": "stream",
     "text": [
      "Extract dsift in train data:  60%|█████▉    | 1209/2020 [01:17<00:53, 15.17it/s]"
     ]
    },
    {
     "name": "stdout",
     "output_type": "stream",
     "text": [
      "!\n",
      "!\n",
      "!\n",
      "!\n",
      "!\n",
      "!\n",
      "!\n",
      "!\n",
      "!\n",
      "!\n",
      "!\n",
      "!\n",
      "!\n",
      "!\n",
      "!\n",
      "!\n"
     ]
    },
    {
     "name": "stderr",
     "output_type": "stream",
     "text": [
      "Extract dsift in train data:  60%|██████    | 1213/2020 [01:17<00:52, 15.30it/s]"
     ]
    },
    {
     "name": "stdout",
     "output_type": "stream",
     "text": [
      "!\n",
      "!\n",
      "!\n",
      "!\n",
      "!\n",
      "!\n",
      "!\n",
      "!\n",
      "!\n",
      "!\n",
      "!\n",
      "!\n",
      "!\n",
      "!\n",
      "!\n",
      "!\n",
      "!\n"
     ]
    },
    {
     "name": "stderr",
     "output_type": "stream",
     "text": [
      "Extract dsift in train data:  60%|██████    | 1217/2020 [01:17<00:50, 15.83it/s]"
     ]
    },
    {
     "name": "stdout",
     "output_type": "stream",
     "text": [
      "!\n",
      "!\n",
      "!\n",
      "!\n",
      "!\n",
      "!\n",
      "!\n",
      "!\n",
      "!\n",
      "!\n",
      "!\n",
      "!\n",
      "!\n",
      "!\n",
      "!\n",
      "!\n",
      "!\n"
     ]
    },
    {
     "name": "stderr",
     "output_type": "stream",
     "text": [
      "Extract dsift in train data:  60%|██████    | 1219/2020 [01:17<00:50, 15.79it/s]"
     ]
    },
    {
     "name": "stdout",
     "output_type": "stream",
     "text": [
      "!\n",
      "!\n",
      "!\n",
      "!\n",
      "!\n",
      "!\n",
      "!\n",
      "!\n",
      "!\n",
      "!\n",
      "!\n",
      "!\n",
      "!\n",
      "!\n",
      "!\n",
      "!\n"
     ]
    },
    {
     "name": "stderr",
     "output_type": "stream",
     "text": [
      "Extract dsift in train data:  61%|██████    | 1223/2020 [01:18<00:50, 15.64it/s]"
     ]
    },
    {
     "name": "stdout",
     "output_type": "stream",
     "text": [
      "!\n",
      "!\n",
      "!\n",
      "!\n",
      "!\n",
      "!\n",
      "!\n",
      "!\n",
      "!\n",
      "!\n",
      "!\n",
      "!\n",
      "!\n",
      "!\n",
      "!\n",
      "!\n",
      "!\n"
     ]
    },
    {
     "name": "stderr",
     "output_type": "stream",
     "text": [
      "Extract dsift in train data:  61%|██████    | 1227/2020 [01:18<00:50, 15.73it/s]"
     ]
    },
    {
     "name": "stdout",
     "output_type": "stream",
     "text": [
      "!\n",
      "!\n",
      "!\n",
      "!\n",
      "!\n",
      "!\n",
      "!\n",
      "!\n",
      "!\n",
      "!\n",
      "!\n",
      "!\n",
      "!\n",
      "!\n",
      "!\n",
      "!\n",
      "!\n"
     ]
    },
    {
     "name": "stderr",
     "output_type": "stream",
     "text": [
      "Extract dsift in train data:  61%|██████    | 1231/2020 [01:18<00:49, 15.93it/s]"
     ]
    },
    {
     "name": "stdout",
     "output_type": "stream",
     "text": [
      "!\n",
      "!\n",
      "!\n",
      "!\n",
      "!\n",
      "!\n",
      "!\n",
      "!\n",
      "!\n",
      "!\n",
      "!\n",
      "!\n",
      "!\n",
      "!\n",
      "!\n",
      "!\n"
     ]
    },
    {
     "name": "stderr",
     "output_type": "stream",
     "text": [
      "Extract dsift in train data:  61%|██████    | 1233/2020 [01:18<00:49, 16.04it/s]"
     ]
    },
    {
     "name": "stdout",
     "output_type": "stream",
     "text": [
      "!\n",
      "!\n",
      "!\n",
      "!\n",
      "!\n",
      "!\n",
      "!\n",
      "!\n",
      "!\n",
      "!\n",
      "!\n",
      "!\n",
      "!\n",
      "!\n",
      "!\n",
      "!\n",
      "!\n"
     ]
    },
    {
     "name": "stderr",
     "output_type": "stream",
     "text": [
      "Extract dsift in train data:  61%|██████    | 1237/2020 [01:19<00:49, 15.97it/s]"
     ]
    },
    {
     "name": "stdout",
     "output_type": "stream",
     "text": [
      "!\n",
      "!\n",
      "!\n",
      "!\n",
      "!\n",
      "!\n",
      "!\n",
      "!\n",
      "!\n",
      "!\n",
      "!\n",
      "!\n",
      "!\n",
      "!\n",
      "!\n",
      "!\n"
     ]
    },
    {
     "name": "stderr",
     "output_type": "stream",
     "text": [
      "Extract dsift in train data:  61%|██████▏   | 1239/2020 [01:19<00:49, 15.86it/s]"
     ]
    },
    {
     "name": "stdout",
     "output_type": "stream",
     "text": [
      "!\n",
      "!\n",
      "!\n",
      "!\n",
      "!\n",
      "!\n",
      "!\n",
      "!\n",
      "!\n",
      "!\n",
      "!\n",
      "!\n",
      "!\n",
      "!\n",
      "!\n",
      "!\n",
      "!\n"
     ]
    },
    {
     "name": "stderr",
     "output_type": "stream",
     "text": [
      "Extract dsift in train data:  62%|██████▏   | 1243/2020 [01:19<00:49, 15.77it/s]"
     ]
    },
    {
     "name": "stdout",
     "output_type": "stream",
     "text": [
      "!\n",
      "!\n",
      "!\n",
      "!\n",
      "!\n",
      "!\n",
      "!\n",
      "!\n",
      "!\n",
      "!\n",
      "!\n",
      "!\n",
      "!\n",
      "!\n",
      "!\n",
      "!\n",
      "!\n"
     ]
    },
    {
     "name": "stderr",
     "output_type": "stream",
     "text": [
      "Extract dsift in train data:  62%|██████▏   | 1247/2020 [01:19<00:48, 15.89it/s]"
     ]
    },
    {
     "name": "stdout",
     "output_type": "stream",
     "text": [
      "!\n",
      "!\n",
      "!\n",
      "!\n",
      "!\n",
      "!\n",
      "!\n",
      "!\n",
      "!\n",
      "!\n",
      "!\n",
      "!\n",
      "!\n",
      "!\n",
      "!\n",
      "!\n",
      "!\n"
     ]
    },
    {
     "name": "stderr",
     "output_type": "stream",
     "text": [
      "Extract dsift in train data:  62%|██████▏   | 1251/2020 [01:19<00:48, 15.77it/s]"
     ]
    },
    {
     "name": "stdout",
     "output_type": "stream",
     "text": [
      "!\n",
      "!\n",
      "!\n",
      "!\n",
      "!\n",
      "!\n",
      "!\n",
      "!\n",
      "!\n",
      "!\n",
      "!\n",
      "!\n",
      "!\n",
      "!\n",
      "!\n",
      "!\n"
     ]
    },
    {
     "name": "stderr",
     "output_type": "stream",
     "text": [
      "Extract dsift in train data:  62%|██████▏   | 1253/2020 [01:20<00:48, 15.77it/s]"
     ]
    },
    {
     "name": "stdout",
     "output_type": "stream",
     "text": [
      "!\n",
      "!\n",
      "!\n",
      "!\n",
      "!\n",
      "!\n",
      "!\n",
      "!\n",
      "!\n",
      "!\n",
      "!\n",
      "!\n",
      "!\n",
      "!\n",
      "!\n",
      "!\n",
      "!\n"
     ]
    },
    {
     "name": "stderr",
     "output_type": "stream",
     "text": [
      "Extract dsift in train data:  62%|██████▏   | 1257/2020 [01:20<00:48, 15.75it/s]"
     ]
    },
    {
     "name": "stdout",
     "output_type": "stream",
     "text": [
      "!\n",
      "!\n",
      "!\n",
      "!\n",
      "!\n",
      "!\n",
      "!\n",
      "!\n",
      "!\n",
      "!\n",
      "!\n",
      "!\n",
      "!\n",
      "!\n",
      "!\n",
      "!\n",
      "!\n"
     ]
    },
    {
     "name": "stderr",
     "output_type": "stream",
     "text": [
      "Extract dsift in train data:  62%|██████▏   | 1259/2020 [01:20<00:48, 15.68it/s]"
     ]
    },
    {
     "name": "stdout",
     "output_type": "stream",
     "text": [
      "!\n",
      "!\n",
      "!\n",
      "!\n",
      "!\n",
      "!\n",
      "!\n",
      "!\n",
      "!\n",
      "!\n",
      "!\n",
      "!\n",
      "!\n",
      "!\n",
      "!\n",
      "!\n"
     ]
    },
    {
     "name": "stderr",
     "output_type": "stream",
     "text": [
      "Extract dsift in train data:  63%|██████▎   | 1263/2020 [01:20<00:48, 15.69it/s]"
     ]
    },
    {
     "name": "stdout",
     "output_type": "stream",
     "text": [
      "!\n",
      "!\n",
      "!\n",
      "!\n",
      "!\n",
      "!\n",
      "!\n",
      "!\n",
      "!\n",
      "!\n",
      "!\n",
      "!\n",
      "!\n",
      "!\n",
      "!\n",
      "!\n",
      "!\n"
     ]
    },
    {
     "name": "stderr",
     "output_type": "stream",
     "text": [
      "Extract dsift in train data:  63%|██████▎   | 1267/2020 [01:20<00:47, 15.87it/s]"
     ]
    },
    {
     "name": "stdout",
     "output_type": "stream",
     "text": [
      "!\n",
      "!\n",
      "!\n",
      "!\n",
      "!\n",
      "!\n",
      "!\n",
      "!\n",
      "!\n",
      "!\n",
      "!\n",
      "!\n",
      "!\n",
      "!\n",
      "!\n",
      "!\n",
      "!\n"
     ]
    },
    {
     "name": "stderr",
     "output_type": "stream",
     "text": [
      "Extract dsift in train data:  63%|██████▎   | 1271/2020 [01:21<00:46, 16.02it/s]"
     ]
    },
    {
     "name": "stdout",
     "output_type": "stream",
     "text": [
      "!\n",
      "!\n",
      "!\n",
      "!\n",
      "!\n",
      "!\n",
      "!\n",
      "!\n",
      "!\n",
      "!\n",
      "!\n",
      "!\n",
      "!\n",
      "!\n",
      "!\n",
      "!\n"
     ]
    },
    {
     "name": "stderr",
     "output_type": "stream",
     "text": [
      "Extract dsift in train data:  63%|██████▎   | 1273/2020 [01:21<00:46, 16.02it/s]"
     ]
    },
    {
     "name": "stdout",
     "output_type": "stream",
     "text": [
      "!\n",
      "!\n",
      "!\n",
      "!\n",
      "!\n",
      "!\n",
      "!\n",
      "!\n",
      "!\n",
      "!\n",
      "!\n",
      "!\n",
      "!\n",
      "!\n",
      "!\n",
      "!\n",
      "!\n"
     ]
    },
    {
     "name": "stderr",
     "output_type": "stream",
     "text": [
      "Extract dsift in train data:  63%|██████▎   | 1277/2020 [01:21<00:46, 15.96it/s]"
     ]
    },
    {
     "name": "stdout",
     "output_type": "stream",
     "text": [
      "!\n",
      "!\n",
      "!\n",
      "!\n",
      "!\n",
      "!\n",
      "!\n",
      "!\n",
      "!\n",
      "!\n",
      "!\n",
      "!\n",
      "!\n",
      "!\n",
      "!\n",
      "!\n",
      "!\n"
     ]
    },
    {
     "name": "stderr",
     "output_type": "stream",
     "text": [
      "Extract dsift in train data:  63%|██████▎   | 1279/2020 [01:21<00:46, 15.83it/s]"
     ]
    },
    {
     "name": "stdout",
     "output_type": "stream",
     "text": [
      "!\n",
      "!\n",
      "!\n",
      "!\n",
      "!\n",
      "!\n",
      "!\n",
      "!\n",
      "!\n",
      "!\n",
      "!\n",
      "!\n",
      "!\n",
      "!\n",
      "!\n",
      "!\n"
     ]
    },
    {
     "name": "stderr",
     "output_type": "stream",
     "text": [
      "Extract dsift in train data:  64%|██████▎   | 1283/2020 [01:21<00:47, 15.40it/s]"
     ]
    },
    {
     "name": "stdout",
     "output_type": "stream",
     "text": [
      "!\n",
      "!\n",
      "!\n",
      "!\n",
      "!\n",
      "!\n",
      "!\n",
      "!\n",
      "!\n",
      "!\n",
      "!\n",
      "!\n",
      "!\n",
      "!\n",
      "!\n",
      "!\n",
      "!\n"
     ]
    },
    {
     "name": "stderr",
     "output_type": "stream",
     "text": [
      "Extract dsift in train data:  64%|██████▎   | 1287/2020 [01:22<00:47, 15.54it/s]"
     ]
    },
    {
     "name": "stdout",
     "output_type": "stream",
     "text": [
      "!\n",
      "!\n",
      "!\n",
      "!\n",
      "!\n",
      "!\n",
      "!\n",
      "!\n",
      "!\n",
      "!\n",
      "!\n",
      "!\n",
      "!\n",
      "!\n",
      "!\n",
      "!\n"
     ]
    },
    {
     "name": "stderr",
     "output_type": "stream",
     "text": [
      "Extract dsift in train data:  64%|██████▍   | 1289/2020 [01:22<00:47, 15.34it/s]"
     ]
    },
    {
     "name": "stdout",
     "output_type": "stream",
     "text": [
      "!\n",
      "!\n",
      "!\n",
      "!\n",
      "!\n",
      "!\n",
      "!\n",
      "!\n",
      "!\n",
      "!\n",
      "!\n",
      "!\n",
      "!\n",
      "!\n",
      "!\n",
      "!\n",
      "!\n"
     ]
    },
    {
     "name": "stderr",
     "output_type": "stream",
     "text": [
      "Extract dsift in train data:  64%|██████▍   | 1293/2020 [01:22<00:46, 15.58it/s]"
     ]
    },
    {
     "name": "stdout",
     "output_type": "stream",
     "text": [
      "!\n",
      "!\n",
      "!\n",
      "!\n",
      "!\n",
      "!\n",
      "!\n",
      "!\n",
      "!\n",
      "!\n",
      "!\n",
      "!\n",
      "!\n",
      "!\n",
      "!\n",
      "!\n",
      "!\n"
     ]
    },
    {
     "name": "stderr",
     "output_type": "stream",
     "text": [
      "Extract dsift in train data:  64%|██████▍   | 1297/2020 [01:22<00:46, 15.63it/s]"
     ]
    },
    {
     "name": "stdout",
     "output_type": "stream",
     "text": [
      "!\n",
      "!\n",
      "!\n",
      "!\n",
      "!\n",
      "!\n",
      "!\n",
      "!\n",
      "!\n",
      "!\n",
      "!\n",
      "!\n",
      "!\n",
      "!\n",
      "!\n",
      "!\n",
      "!\n"
     ]
    },
    {
     "name": "stderr",
     "output_type": "stream",
     "text": [
      "Extract dsift in train data:  64%|██████▍   | 1299/2020 [01:22<00:45, 15.77it/s]"
     ]
    },
    {
     "name": "stdout",
     "output_type": "stream",
     "text": [
      "!\n",
      "!\n",
      "!\n",
      "!\n",
      "!\n",
      "!\n",
      "!\n",
      "!\n",
      "!\n",
      "!\n",
      "!\n",
      "!\n",
      "!\n",
      "!\n",
      "!\n",
      "!\n"
     ]
    },
    {
     "name": "stderr",
     "output_type": "stream",
     "text": [
      "Extract dsift in train data:  65%|██████▍   | 1303/2020 [01:23<00:46, 15.41it/s]"
     ]
    },
    {
     "name": "stdout",
     "output_type": "stream",
     "text": [
      "!\n",
      "!\n",
      "!\n",
      "!\n",
      "!\n",
      "!\n",
      "!\n",
      "!\n",
      "!\n",
      "!\n",
      "!\n",
      "!\n",
      "!\n",
      "!\n",
      "!\n",
      "!\n",
      "!\n"
     ]
    },
    {
     "name": "stderr",
     "output_type": "stream",
     "text": [
      "Extract dsift in train data:  65%|██████▍   | 1307/2020 [01:23<00:46, 15.39it/s]"
     ]
    },
    {
     "name": "stdout",
     "output_type": "stream",
     "text": [
      "!\n",
      "!\n",
      "!\n",
      "!\n",
      "!\n",
      "!\n",
      "!\n",
      "!\n",
      "!\n",
      "!\n",
      "!\n",
      "!\n",
      "!\n",
      "!\n",
      "!\n",
      "!\n"
     ]
    },
    {
     "name": "stderr",
     "output_type": "stream",
     "text": [
      "Extract dsift in train data:  65%|██████▍   | 1309/2020 [01:23<00:46, 15.32it/s]"
     ]
    },
    {
     "name": "stdout",
     "output_type": "stream",
     "text": [
      "!\n",
      "!\n",
      "!\n",
      "!\n",
      "!\n",
      "!\n",
      "!\n",
      "!\n",
      "!\n",
      "!\n",
      "!\n",
      "!\n",
      "!\n",
      "!\n",
      "!\n",
      "!\n"
     ]
    },
    {
     "name": "stderr",
     "output_type": "stream",
     "text": [
      "Extract dsift in train data:  65%|██████▌   | 1313/2020 [01:23<00:45, 15.60it/s]"
     ]
    },
    {
     "name": "stdout",
     "output_type": "stream",
     "text": [
      "!\n",
      "!\n",
      "!\n",
      "!\n",
      "!\n",
      "!\n",
      "!\n",
      "!\n",
      "!\n",
      "!\n",
      "!\n",
      "!\n",
      "!\n",
      "!\n",
      "!\n",
      "!\n"
     ]
    },
    {
     "name": "stderr",
     "output_type": "stream",
     "text": [
      "Extract dsift in train data:  65%|██████▌   | 1317/2020 [01:24<00:45, 15.62it/s]"
     ]
    },
    {
     "name": "stdout",
     "output_type": "stream",
     "text": [
      "!\n",
      "!\n",
      "!\n",
      "!\n",
      "!\n",
      "!\n",
      "!\n",
      "!\n",
      "!\n",
      "!\n",
      "!\n",
      "!\n",
      "!\n",
      "!\n",
      "!\n",
      "!\n",
      "!\n"
     ]
    },
    {
     "name": "stderr",
     "output_type": "stream",
     "text": [
      "Extract dsift in train data:  65%|██████▌   | 1319/2020 [01:24<00:45, 15.54it/s]"
     ]
    },
    {
     "name": "stdout",
     "output_type": "stream",
     "text": [
      "!\n",
      "!\n",
      "!\n",
      "!\n",
      "!\n",
      "!\n",
      "!\n",
      "!\n",
      "!\n",
      "!\n",
      "!\n",
      "!\n",
      "!\n",
      "!\n",
      "!\n",
      "!\n"
     ]
    },
    {
     "name": "stderr",
     "output_type": "stream",
     "text": [
      "Extract dsift in train data:  65%|██████▌   | 1323/2020 [01:24<00:43, 15.90it/s]"
     ]
    },
    {
     "name": "stdout",
     "output_type": "stream",
     "text": [
      "!\n",
      "!\n",
      "!\n",
      "!\n",
      "!\n",
      "!\n",
      "!\n",
      "!\n",
      "!\n",
      "!\n",
      "!\n",
      "!\n",
      "!\n",
      "!\n",
      "!\n",
      "!\n",
      "!\n"
     ]
    },
    {
     "name": "stderr",
     "output_type": "stream",
     "text": [
      "Extract dsift in train data:  66%|██████▌   | 1327/2020 [01:24<00:43, 16.08it/s]"
     ]
    },
    {
     "name": "stdout",
     "output_type": "stream",
     "text": [
      "!\n",
      "!\n",
      "!\n",
      "!\n",
      "!\n",
      "!\n",
      "!\n",
      "!\n",
      "!\n",
      "!\n",
      "!\n",
      "!\n",
      "!\n",
      "!\n",
      "!\n",
      "!\n",
      "!\n"
     ]
    },
    {
     "name": "stderr",
     "output_type": "stream",
     "text": [
      "Extract dsift in train data:  66%|██████▌   | 1329/2020 [01:24<00:43, 15.79it/s]"
     ]
    },
    {
     "name": "stdout",
     "output_type": "stream",
     "text": [
      "!\n",
      "!\n",
      "!\n",
      "!\n",
      "!\n",
      "!\n",
      "!\n",
      "!\n",
      "!\n",
      "!\n",
      "!\n",
      "!\n",
      "!\n",
      "!\n",
      "!\n",
      "!\n",
      "!\n"
     ]
    },
    {
     "name": "stderr",
     "output_type": "stream",
     "text": [
      "Extract dsift in train data:  66%|██████▌   | 1333/2020 [01:25<00:43, 15.75it/s]"
     ]
    },
    {
     "name": "stdout",
     "output_type": "stream",
     "text": [
      "!\n",
      "!\n",
      "!\n",
      "!\n",
      "!\n",
      "!\n",
      "!\n",
      "!\n",
      "!\n",
      "!\n",
      "!\n",
      "!\n",
      "!\n",
      "!\n",
      "!\n",
      "!\n"
     ]
    },
    {
     "name": "stderr",
     "output_type": "stream",
     "text": [
      "Extract dsift in train data:  66%|██████▌   | 1337/2020 [01:25<00:43, 15.63it/s]"
     ]
    },
    {
     "name": "stdout",
     "output_type": "stream",
     "text": [
      "!\n",
      "!\n",
      "!\n",
      "!\n",
      "!\n",
      "!\n",
      "!\n",
      "!\n",
      "!\n",
      "!\n",
      "!\n",
      "!\n",
      "!\n",
      "!\n",
      "!\n",
      "!\n",
      "!"
     ]
    },
    {
     "name": "stderr",
     "output_type": "stream",
     "text": [
      "Extract dsift in train data:  66%|██████▋   | 1339/2020 [01:25<00:43, 15.60it/s]"
     ]
    },
    {
     "name": "stdout",
     "output_type": "stream",
     "text": [
      "\n",
      "!\n",
      "!\n",
      "!\n",
      "!\n",
      "!\n",
      "!\n",
      "!\n",
      "!\n",
      "!\n",
      "!\n",
      "!\n",
      "!\n",
      "!\n",
      "!\n",
      "!"
     ]
    },
    {
     "name": "stderr",
     "output_type": "stream",
     "text": [
      "Extract dsift in train data:  66%|██████▋   | 1343/2020 [01:25<00:43, 15.39it/s]"
     ]
    },
    {
     "name": "stdout",
     "output_type": "stream",
     "text": [
      "\n",
      "!\n",
      "!\n",
      "!\n",
      "!\n",
      "!\n",
      "!\n",
      "!\n",
      "!\n",
      "!\n",
      "!\n",
      "!\n",
      "!\n",
      "!\n",
      "!\n",
      "!\n",
      "!\n"
     ]
    },
    {
     "name": "stderr",
     "output_type": "stream",
     "text": [
      "Extract dsift in train data:  67%|██████▋   | 1345/2020 [01:25<00:46, 14.41it/s]"
     ]
    },
    {
     "name": "stdout",
     "output_type": "stream",
     "text": [
      "!\n",
      "!\n",
      "!\n",
      "!\n",
      "!\n",
      "!\n",
      "!\n",
      "!\n",
      "!\n",
      "!\n",
      "!\n",
      "!\n"
     ]
    },
    {
     "name": "stderr",
     "output_type": "stream",
     "text": [
      "Extract dsift in train data:  67%|██████▋   | 1349/2020 [01:26<00:46, 14.29it/s]"
     ]
    },
    {
     "name": "stdout",
     "output_type": "stream",
     "text": [
      "!\n",
      "!\n",
      "!\n",
      "!\n",
      "!\n",
      "!\n",
      "!\n",
      "!\n",
      "!\n",
      "!\n",
      "!\n",
      "!\n",
      "!\n",
      "!\n",
      "!\n",
      "!\n"
     ]
    },
    {
     "name": "stderr",
     "output_type": "stream",
     "text": [
      "Extract dsift in train data:  67%|██████▋   | 1351/2020 [01:26<00:45, 14.68it/s]"
     ]
    },
    {
     "name": "stdout",
     "output_type": "stream",
     "text": [
      "!\n",
      "!\n",
      "!\n",
      "!\n",
      "!\n",
      "!\n",
      "!\n",
      "!\n",
      "!\n",
      "!\n",
      "!\n",
      "!\n",
      "!\n",
      "!\n",
      "!\n",
      "!\n",
      "!\n"
     ]
    },
    {
     "name": "stderr",
     "output_type": "stream",
     "text": [
      "Extract dsift in train data:  67%|██████▋   | 1355/2020 [01:26<00:43, 15.30it/s]"
     ]
    },
    {
     "name": "stdout",
     "output_type": "stream",
     "text": [
      "!\n",
      "!\n",
      "!\n",
      "!\n",
      "!\n",
      "!\n",
      "!\n",
      "!\n",
      "!\n",
      "!\n",
      "!\n",
      "!\n",
      "!\n",
      "!\n",
      "!\n",
      "!\n"
     ]
    },
    {
     "name": "stderr",
     "output_type": "stream",
     "text": [
      "Extract dsift in train data:  67%|██████▋   | 1359/2020 [01:26<00:42, 15.61it/s]"
     ]
    },
    {
     "name": "stdout",
     "output_type": "stream",
     "text": [
      "!\n",
      "!\n",
      "!\n",
      "!\n",
      "!\n",
      "!\n",
      "!\n",
      "!\n",
      "!\n",
      "!\n",
      "!\n",
      "!\n",
      "!\n",
      "!\n",
      "!\n",
      "!\n"
     ]
    },
    {
     "name": "stderr",
     "output_type": "stream",
     "text": [
      "Extract dsift in train data:  67%|██████▋   | 1361/2020 [01:27<00:41, 15.75it/s]"
     ]
    },
    {
     "name": "stdout",
     "output_type": "stream",
     "text": [
      "!\n",
      "!\n",
      "!\n",
      "!\n",
      "!\n",
      "!\n",
      "!\n",
      "!\n",
      "!\n",
      "!\n",
      "!\n",
      "!\n",
      "!\n",
      "!\n",
      "!\n",
      "!\n",
      "!\n"
     ]
    },
    {
     "name": "stderr",
     "output_type": "stream",
     "text": [
      "Extract dsift in train data:  68%|██████▊   | 1365/2020 [01:27<00:44, 14.88it/s]"
     ]
    },
    {
     "name": "stdout",
     "output_type": "stream",
     "text": [
      "!\n",
      "!\n",
      "!\n",
      "!\n",
      "!\n",
      "!\n",
      "!\n",
      "!\n",
      "!\n",
      "!\n",
      "!\n",
      "!\n",
      "!\n",
      "!\n"
     ]
    },
    {
     "name": "stderr",
     "output_type": "stream",
     "text": [
      "Extract dsift in train data:  68%|██████▊   | 1367/2020 [01:27<00:46, 13.92it/s]"
     ]
    },
    {
     "name": "stdout",
     "output_type": "stream",
     "text": [
      "!\n",
      "!\n",
      "!\n",
      "!\n",
      "!\n",
      "!\n",
      "!\n",
      "!\n",
      "!\n",
      "!\n",
      "!\n",
      "!\n",
      "!\n"
     ]
    },
    {
     "name": "stderr",
     "output_type": "stream",
     "text": [
      "Extract dsift in train data:  68%|██████▊   | 1369/2020 [01:27<00:49, 13.18it/s]"
     ]
    },
    {
     "name": "stdout",
     "output_type": "stream",
     "text": [
      "!\n",
      "!\n",
      "!\n",
      "!\n",
      "!\n",
      "!\n",
      "!\n",
      "!\n",
      "!\n",
      "!\n",
      "!\n",
      "!\n"
     ]
    },
    {
     "name": "stderr",
     "output_type": "stream",
     "text": [
      "Extract dsift in train data:  68%|██████▊   | 1371/2020 [01:27<00:50, 12.79it/s]"
     ]
    },
    {
     "name": "stdout",
     "output_type": "stream",
     "text": [
      "!\n",
      "!\n",
      "!\n",
      "!\n",
      "!\n",
      "!\n",
      "!\n",
      "!\n",
      "!\n",
      "!\n",
      "!\n",
      "!\n",
      "!\n"
     ]
    },
    {
     "name": "stderr",
     "output_type": "stream",
     "text": [
      "Extract dsift in train data:  68%|██████▊   | 1375/2020 [01:28<00:51, 12.44it/s]"
     ]
    },
    {
     "name": "stdout",
     "output_type": "stream",
     "text": [
      "!\n",
      "!\n",
      "!\n",
      "!\n",
      "!\n",
      "!\n",
      "!\n",
      "!\n",
      "!\n",
      "!\n",
      "!\n",
      "!\n"
     ]
    },
    {
     "name": "stderr",
     "output_type": "stream",
     "text": [
      "Extract dsift in train data:  68%|██████▊   | 1377/2020 [01:28<00:52, 12.34it/s]"
     ]
    },
    {
     "name": "stdout",
     "output_type": "stream",
     "text": [
      "!\n",
      "!\n",
      "!\n",
      "!\n",
      "!\n",
      "!\n",
      "!\n",
      "!\n",
      "!\n",
      "!\n",
      "!\n",
      "!\n",
      "!\n",
      "!\n"
     ]
    },
    {
     "name": "stderr",
     "output_type": "stream",
     "text": [
      "Extract dsift in train data:  68%|██████▊   | 1381/2020 [01:28<00:46, 13.81it/s]"
     ]
    },
    {
     "name": "stdout",
     "output_type": "stream",
     "text": [
      "!\n",
      "!\n",
      "!\n",
      "!\n",
      "!\n",
      "!\n",
      "!\n",
      "!\n",
      "!\n",
      "!\n",
      "!\n",
      "!\n",
      "!\n",
      "!\n",
      "!\n",
      "!\n"
     ]
    },
    {
     "name": "stderr",
     "output_type": "stream",
     "text": [
      "Extract dsift in train data:  68%|██████▊   | 1383/2020 [01:28<00:44, 14.18it/s]"
     ]
    },
    {
     "name": "stdout",
     "output_type": "stream",
     "text": [
      "!\n",
      "!\n",
      "!\n",
      "!\n",
      "!\n",
      "!\n",
      "!\n",
      "!\n",
      "!\n",
      "!\n",
      "!\n",
      "!\n",
      "!\n",
      "!\n",
      "!\n",
      "!\n"
     ]
    },
    {
     "name": "stderr",
     "output_type": "stream",
     "text": [
      "Extract dsift in train data:  69%|██████▊   | 1387/2020 [01:28<00:42, 14.90it/s]"
     ]
    },
    {
     "name": "stdout",
     "output_type": "stream",
     "text": [
      "!\n",
      "!\n",
      "!\n",
      "!\n",
      "!\n",
      "!\n",
      "!\n",
      "!\n",
      "!\n",
      "!\n",
      "!\n",
      "!\n",
      "!\n",
      "!\n",
      "!\n",
      "!\n",
      "!\n"
     ]
    },
    {
     "name": "stderr",
     "output_type": "stream",
     "text": [
      "Extract dsift in train data:  69%|██████▉   | 1391/2020 [01:29<00:41, 15.33it/s]"
     ]
    },
    {
     "name": "stdout",
     "output_type": "stream",
     "text": [
      "!\n",
      "!\n",
      "!\n",
      "!\n",
      "!\n",
      "!\n",
      "!\n",
      "!\n",
      "!\n",
      "!\n",
      "!\n",
      "!\n",
      "!\n",
      "!\n",
      "!\n",
      "!\n"
     ]
    },
    {
     "name": "stderr",
     "output_type": "stream",
     "text": [
      "Extract dsift in train data:  69%|██████▉   | 1393/2020 [01:29<00:40, 15.51it/s]"
     ]
    },
    {
     "name": "stdout",
     "output_type": "stream",
     "text": [
      "!\n",
      "!\n",
      "!\n",
      "!\n",
      "!\n",
      "!\n",
      "!\n",
      "!\n",
      "!\n",
      "!\n",
      "!\n",
      "!\n",
      "!\n",
      "!\n",
      "!\n",
      "!\n",
      "!\n"
     ]
    },
    {
     "name": "stderr",
     "output_type": "stream",
     "text": [
      "Extract dsift in train data:  69%|██████▉   | 1397/2020 [01:29<00:39, 15.76it/s]"
     ]
    },
    {
     "name": "stdout",
     "output_type": "stream",
     "text": [
      "!\n",
      "!\n",
      "!\n",
      "!\n",
      "!\n",
      "!\n",
      "!\n",
      "!\n",
      "!\n",
      "!\n",
      "!\n",
      "!\n",
      "!\n",
      "!\n",
      "!\n",
      "!\n",
      "!\n"
     ]
    },
    {
     "name": "stderr",
     "output_type": "stream",
     "text": [
      "Extract dsift in train data:  69%|██████▉   | 1401/2020 [01:29<00:39, 15.83it/s]"
     ]
    },
    {
     "name": "stdout",
     "output_type": "stream",
     "text": [
      "!\n",
      "!\n",
      "!\n",
      "!\n",
      "!\n",
      "!\n",
      "!\n",
      "!\n",
      "!\n",
      "!\n",
      "!\n",
      "!\n",
      "!\n",
      "!\n",
      "!\n",
      "!\n"
     ]
    },
    {
     "name": "stderr",
     "output_type": "stream",
     "text": [
      "Extract dsift in train data:  69%|██████▉   | 1403/2020 [01:29<00:38, 15.89it/s]"
     ]
    },
    {
     "name": "stdout",
     "output_type": "stream",
     "text": [
      "!\n",
      "!\n",
      "!\n",
      "!\n",
      "!\n",
      "!\n",
      "!\n",
      "!\n",
      "!\n",
      "!\n",
      "!\n",
      "!\n",
      "!\n",
      "!\n",
      "!\n",
      "!\n",
      "!\n"
     ]
    },
    {
     "name": "stderr",
     "output_type": "stream",
     "text": [
      "Extract dsift in train data:  70%|██████▉   | 1407/2020 [01:30<00:39, 15.66it/s]"
     ]
    },
    {
     "name": "stdout",
     "output_type": "stream",
     "text": [
      "!\n",
      "!\n",
      "!\n",
      "!\n",
      "!\n",
      "!\n",
      "!\n",
      "!\n",
      "!\n",
      "!\n",
      "!\n",
      "!\n",
      "!\n",
      "!\n",
      "!\n",
      "!\n"
     ]
    },
    {
     "name": "stderr",
     "output_type": "stream",
     "text": [
      "Extract dsift in train data:  70%|██████▉   | 1409/2020 [01:30<00:39, 15.65it/s]"
     ]
    },
    {
     "name": "stdout",
     "output_type": "stream",
     "text": [
      "!\n",
      "!\n",
      "!\n",
      "!\n",
      "!\n",
      "!\n",
      "!\n",
      "!\n",
      "!\n",
      "!\n",
      "!\n",
      "!\n",
      "!\n",
      "!\n",
      "!\n",
      "!\n",
      "!\n"
     ]
    },
    {
     "name": "stderr",
     "output_type": "stream",
     "text": [
      "Extract dsift in train data:  70%|██████▉   | 1413/2020 [01:30<00:41, 14.70it/s]"
     ]
    },
    {
     "name": "stdout",
     "output_type": "stream",
     "text": [
      "!\n",
      "!\n",
      "!\n",
      "!\n",
      "!\n",
      "!\n",
      "!\n",
      "!\n",
      "!\n",
      "!\n",
      "!\n",
      "!\n",
      "!\n",
      "!\n"
     ]
    },
    {
     "name": "stderr",
     "output_type": "stream",
     "text": [
      "Extract dsift in train data:  70%|███████   | 1415/2020 [01:30<00:42, 14.14it/s]"
     ]
    },
    {
     "name": "stdout",
     "output_type": "stream",
     "text": [
      "!\n",
      "!\n",
      "!\n",
      "!\n",
      "!\n",
      "!\n",
      "!\n",
      "!\n",
      "!\n",
      "!\n",
      "!\n",
      "!\n",
      "!\n"
     ]
    },
    {
     "name": "stderr",
     "output_type": "stream",
     "text": [
      "Extract dsift in train data:  70%|███████   | 1419/2020 [01:31<00:41, 14.43it/s]"
     ]
    },
    {
     "name": "stdout",
     "output_type": "stream",
     "text": [
      "!\n",
      "!\n",
      "!\n",
      "!\n",
      "!\n",
      "!\n",
      "!\n",
      "!\n",
      "!\n",
      "!\n",
      "!\n",
      "!\n",
      "!\n",
      "!\n",
      "!\n",
      "!\n"
     ]
    },
    {
     "name": "stderr",
     "output_type": "stream",
     "text": [
      "Extract dsift in train data:  70%|███████   | 1421/2020 [01:31<00:40, 14.69it/s]"
     ]
    },
    {
     "name": "stdout",
     "output_type": "stream",
     "text": [
      "!\n",
      "!\n",
      "!\n",
      "!\n",
      "!\n",
      "!\n",
      "!\n",
      "!\n",
      "!\n",
      "!\n",
      "!\n",
      "!\n",
      "!\n",
      "!\n",
      "!\n",
      "!\n",
      "!\n"
     ]
    },
    {
     "name": "stderr",
     "output_type": "stream",
     "text": [
      "Extract dsift in train data:  71%|███████   | 1425/2020 [01:31<00:38, 15.36it/s]"
     ]
    },
    {
     "name": "stdout",
     "output_type": "stream",
     "text": [
      "!\n",
      "!\n",
      "!\n",
      "!\n",
      "!\n",
      "!\n",
      "!\n",
      "!\n",
      "!\n",
      "!\n",
      "!\n",
      "!\n",
      "!\n",
      "!\n",
      "!\n",
      "!\n",
      "!\n"
     ]
    },
    {
     "name": "stderr",
     "output_type": "stream",
     "text": [
      "Extract dsift in train data:  71%|███████   | 1429/2020 [01:31<00:37, 15.57it/s]"
     ]
    },
    {
     "name": "stdout",
     "output_type": "stream",
     "text": [
      "!\n",
      "!\n",
      "!\n",
      "!\n",
      "!\n",
      "!\n",
      "!\n",
      "!\n",
      "!\n",
      "!\n",
      "!\n",
      "!\n",
      "!\n",
      "!\n",
      "!\n",
      "!\n",
      "!\n"
     ]
    },
    {
     "name": "stderr",
     "output_type": "stream",
     "text": [
      "Extract dsift in train data:  71%|███████   | 1433/2020 [01:31<00:36, 15.95it/s]"
     ]
    },
    {
     "name": "stdout",
     "output_type": "stream",
     "text": [
      "!\n",
      "!\n",
      "!\n",
      "!\n",
      "!\n",
      "!\n",
      "!\n",
      "!\n",
      "!\n",
      "!\n",
      "!\n",
      "!\n",
      "!\n",
      "!\n",
      "!\n",
      "!\n"
     ]
    },
    {
     "name": "stderr",
     "output_type": "stream",
     "text": [
      "Extract dsift in train data:  71%|███████   | 1435/2020 [01:32<00:36, 15.99it/s]"
     ]
    },
    {
     "name": "stdout",
     "output_type": "stream",
     "text": [
      "!\n",
      "!\n",
      "!\n",
      "!\n",
      "!\n",
      "!\n",
      "!\n",
      "!\n",
      "!\n",
      "!\n",
      "!\n",
      "!\n",
      "!\n",
      "!\n",
      "!\n",
      "!\n",
      "!\n"
     ]
    },
    {
     "name": "stderr",
     "output_type": "stream",
     "text": [
      "Extract dsift in train data:  71%|███████   | 1439/2020 [01:32<00:36, 15.98it/s]"
     ]
    },
    {
     "name": "stdout",
     "output_type": "stream",
     "text": [
      "!\n",
      "!\n",
      "!\n",
      "!\n",
      "!\n",
      "!\n",
      "!\n",
      "!\n",
      "!\n",
      "!\n",
      "!\n",
      "!\n",
      "!\n",
      "!\n",
      "!\n",
      "!\n",
      "!\n"
     ]
    },
    {
     "name": "stderr",
     "output_type": "stream",
     "text": [
      "Extract dsift in train data:  71%|███████▏  | 1443/2020 [01:32<00:36, 15.98it/s]"
     ]
    },
    {
     "name": "stdout",
     "output_type": "stream",
     "text": [
      "!\n",
      "!\n",
      "!\n",
      "!\n",
      "!\n",
      "!\n",
      "!\n",
      "!\n",
      "!\n",
      "!\n",
      "!\n",
      "!\n",
      "!\n",
      "!\n",
      "!\n",
      "!\n"
     ]
    },
    {
     "name": "stderr",
     "output_type": "stream",
     "text": [
      "Extract dsift in train data:  72%|███████▏  | 1445/2020 [01:32<00:35, 16.00it/s]"
     ]
    },
    {
     "name": "stdout",
     "output_type": "stream",
     "text": [
      "!\n",
      "!\n",
      "!\n",
      "!\n",
      "!\n",
      "!\n",
      "!\n",
      "!\n",
      "!\n",
      "!\n",
      "!\n",
      "!\n",
      "!\n",
      "!\n",
      "!\n",
      "!\n",
      "!\n"
     ]
    },
    {
     "name": "stderr",
     "output_type": "stream",
     "text": [
      "Extract dsift in train data:  72%|███████▏  | 1449/2020 [01:32<00:35, 15.91it/s]"
     ]
    },
    {
     "name": "stdout",
     "output_type": "stream",
     "text": [
      "!\n",
      "!\n",
      "!\n",
      "!\n",
      "!\n",
      "!\n",
      "!\n",
      "!\n",
      "!\n",
      "!\n",
      "!\n",
      "!\n",
      "!\n",
      "!\n",
      "!\n",
      "!\n",
      "!"
     ]
    },
    {
     "name": "stderr",
     "output_type": "stream",
     "text": [
      "Extract dsift in train data:  72%|███████▏  | 1451/2020 [01:33<00:35, 15.99it/s]"
     ]
    },
    {
     "name": "stdout",
     "output_type": "stream",
     "text": [
      "\n",
      "!\n",
      "!\n",
      "!\n",
      "!\n",
      "!\n",
      "!\n",
      "!\n",
      "!\n",
      "!\n",
      "!\n",
      "!\n",
      "!\n",
      "!\n",
      "!\n",
      "!\n",
      "!\n"
     ]
    },
    {
     "name": "stderr",
     "output_type": "stream",
     "text": [
      "Extract dsift in train data:  72%|███████▏  | 1455/2020 [01:33<00:35, 16.01it/s]"
     ]
    },
    {
     "name": "stdout",
     "output_type": "stream",
     "text": [
      "!\n",
      "!\n",
      "!\n",
      "!\n",
      "!\n",
      "!\n",
      "!\n",
      "!\n",
      "!\n",
      "!\n",
      "!\n",
      "!\n",
      "!\n",
      "!\n",
      "!\n",
      "!\n",
      "!\n",
      "!\n"
     ]
    },
    {
     "name": "stderr",
     "output_type": "stream",
     "text": [
      "Extract dsift in train data:  72%|███████▏  | 1459/2020 [01:33<00:35, 15.88it/s]"
     ]
    },
    {
     "name": "stdout",
     "output_type": "stream",
     "text": [
      "!\n",
      "!\n",
      "!\n",
      "!\n",
      "!\n",
      "!\n",
      "!\n",
      "!\n",
      "!\n",
      "!\n",
      "!\n",
      "!\n",
      "!\n",
      "!\n",
      "!\n",
      "!\n"
     ]
    },
    {
     "name": "stderr",
     "output_type": "stream",
     "text": [
      "Extract dsift in train data:  72%|███████▏  | 1461/2020 [01:33<00:35, 15.78it/s]"
     ]
    },
    {
     "name": "stdout",
     "output_type": "stream",
     "text": [
      "!\n",
      "!\n",
      "!\n",
      "!\n",
      "!\n",
      "!\n",
      "!\n",
      "!\n",
      "!\n",
      "!\n",
      "!\n",
      "!\n",
      "!\n",
      "!\n",
      "!\n",
      "!\n"
     ]
    },
    {
     "name": "stderr",
     "output_type": "stream",
     "text": [
      "Extract dsift in train data:  73%|███████▎  | 1465/2020 [01:33<00:34, 15.87it/s]"
     ]
    },
    {
     "name": "stdout",
     "output_type": "stream",
     "text": [
      "!\n",
      "!\n",
      "!\n",
      "!\n",
      "!\n",
      "!\n",
      "!\n",
      "!\n",
      "!\n",
      "!\n",
      "!\n",
      "!\n",
      "!\n",
      "!\n",
      "!\n",
      "!\n",
      "!\n"
     ]
    },
    {
     "name": "stderr",
     "output_type": "stream",
     "text": [
      "Extract dsift in train data:  73%|███████▎  | 1469/2020 [01:34<00:34, 16.10it/s]"
     ]
    },
    {
     "name": "stdout",
     "output_type": "stream",
     "text": [
      "!\n",
      "!\n",
      "!\n",
      "!\n",
      "!\n",
      "!\n",
      "!\n",
      "!\n",
      "!\n",
      "!\n",
      "!\n",
      "!\n",
      "!\n",
      "!\n",
      "!\n",
      "!\n",
      "!\n"
     ]
    },
    {
     "name": "stderr",
     "output_type": "stream",
     "text": [
      "Extract dsift in train data:  73%|███████▎  | 1473/2020 [01:34<00:34, 15.98it/s]"
     ]
    },
    {
     "name": "stdout",
     "output_type": "stream",
     "text": [
      "!\n",
      "!\n",
      "!\n",
      "!\n",
      "!\n",
      "!\n",
      "!\n",
      "!\n",
      "!\n",
      "!\n",
      "!\n",
      "!\n",
      "!\n",
      "!\n",
      "!\n",
      "!\n"
     ]
    },
    {
     "name": "stderr",
     "output_type": "stream",
     "text": [
      "Extract dsift in train data:  73%|███████▎  | 1475/2020 [01:34<00:34, 15.93it/s]"
     ]
    },
    {
     "name": "stdout",
     "output_type": "stream",
     "text": [
      "!\n",
      "!\n",
      "!\n",
      "!\n",
      "!\n",
      "!\n",
      "!\n",
      "!\n",
      "!\n",
      "!\n",
      "!\n",
      "!\n",
      "!\n",
      "!\n",
      "!\n",
      "!\n",
      "!\n"
     ]
    },
    {
     "name": "stderr",
     "output_type": "stream",
     "text": [
      "Extract dsift in train data:  73%|███████▎  | 1479/2020 [01:34<00:34, 15.82it/s]"
     ]
    },
    {
     "name": "stdout",
     "output_type": "stream",
     "text": [
      "!\n",
      "!\n",
      "!\n",
      "!\n",
      "!\n",
      "!\n",
      "!\n",
      "!\n",
      "!\n",
      "!\n",
      "!\n",
      "!\n",
      "!\n",
      "!\n",
      "!\n",
      "!\n"
     ]
    },
    {
     "name": "stderr",
     "output_type": "stream",
     "text": [
      "Extract dsift in train data:  73%|███████▎  | 1481/2020 [01:34<00:34, 15.70it/s]"
     ]
    },
    {
     "name": "stdout",
     "output_type": "stream",
     "text": [
      "!\n",
      "!\n",
      "!\n",
      "!\n",
      "!\n",
      "!\n",
      "!\n",
      "!\n",
      "!\n",
      "!\n",
      "!\n",
      "!\n",
      "!\n",
      "!\n",
      "!\n",
      "!\n",
      "!\n"
     ]
    },
    {
     "name": "stderr",
     "output_type": "stream",
     "text": [
      "Extract dsift in train data:  74%|███████▎  | 1485/2020 [01:35<00:33, 15.78it/s]"
     ]
    },
    {
     "name": "stdout",
     "output_type": "stream",
     "text": [
      "!\n",
      "!\n",
      "!\n",
      "!\n",
      "!\n",
      "!\n",
      "!\n",
      "!\n",
      "!\n",
      "!\n",
      "!\n",
      "!\n",
      "!\n",
      "!\n",
      "!\n",
      "!\n",
      "!\n",
      "!\n"
     ]
    },
    {
     "name": "stderr",
     "output_type": "stream",
     "text": [
      "Extract dsift in train data:  74%|███████▎  | 1489/2020 [01:35<00:33, 16.02it/s]"
     ]
    },
    {
     "name": "stdout",
     "output_type": "stream",
     "text": [
      "!\n",
      "!\n",
      "!\n",
      "!\n",
      "!\n",
      "!\n",
      "!\n",
      "!\n",
      "!\n",
      "!\n",
      "!\n",
      "!\n",
      "!\n",
      "!\n",
      "!\n",
      "!\n",
      "!\n"
     ]
    },
    {
     "name": "stderr",
     "output_type": "stream",
     "text": [
      "Extract dsift in train data:  74%|███████▍  | 1493/2020 [01:35<00:32, 16.13it/s]"
     ]
    },
    {
     "name": "stdout",
     "output_type": "stream",
     "text": [
      "!\n",
      "!\n",
      "!\n",
      "!\n",
      "!\n",
      "!\n",
      "!\n",
      "!\n",
      "!\n",
      "!\n",
      "!\n",
      "!\n",
      "!\n",
      "!\n",
      "!\n",
      "!\n",
      "!\n"
     ]
    },
    {
     "name": "stderr",
     "output_type": "stream",
     "text": [
      "Extract dsift in train data:  74%|███████▍  | 1495/2020 [01:35<00:32, 16.00it/s]"
     ]
    },
    {
     "name": "stdout",
     "output_type": "stream",
     "text": [
      "!\n",
      "!\n",
      "!\n",
      "!\n",
      "!\n",
      "!\n",
      "!\n",
      "!\n",
      "!\n",
      "!\n",
      "!\n",
      "!\n",
      "!\n",
      "!\n",
      "!\n",
      "!\n"
     ]
    },
    {
     "name": "stderr",
     "output_type": "stream",
     "text": [
      "Extract dsift in train data:  74%|███████▍  | 1499/2020 [01:36<00:33, 15.51it/s]"
     ]
    },
    {
     "name": "stdout",
     "output_type": "stream",
     "text": [
      "!\n",
      "!\n",
      "!\n",
      "!\n",
      "!\n",
      "!\n",
      "!\n",
      "!\n",
      "!\n",
      "!\n",
      "!\n",
      "!\n",
      "!\n",
      "!\n",
      "!\n",
      "!\n"
     ]
    },
    {
     "name": "stderr",
     "output_type": "stream",
     "text": [
      "Extract dsift in train data:  74%|███████▍  | 1503/2020 [01:36<00:32, 15.76it/s]"
     ]
    },
    {
     "name": "stdout",
     "output_type": "stream",
     "text": [
      "!\n",
      "!\n",
      "!\n",
      "!\n",
      "!\n",
      "!\n",
      "!\n",
      "!\n",
      "!\n",
      "!\n",
      "!\n",
      "!\n",
      "!\n",
      "!\n",
      "!\n",
      "!\n"
     ]
    },
    {
     "name": "stderr",
     "output_type": "stream",
     "text": [
      "Extract dsift in train data:  75%|███████▍  | 1505/2020 [01:36<00:32, 15.94it/s]"
     ]
    },
    {
     "name": "stdout",
     "output_type": "stream",
     "text": [
      "!\n",
      "!\n",
      "!\n",
      "!\n",
      "!\n",
      "!\n",
      "!\n",
      "!\n",
      "!\n",
      "!\n",
      "!\n",
      "!\n",
      "!\n",
      "!\n",
      "!\n",
      "!\n",
      "!\n"
     ]
    },
    {
     "name": "stderr",
     "output_type": "stream",
     "text": [
      "Extract dsift in train data:  75%|███████▍  | 1509/2020 [01:36<00:31, 16.08it/s]"
     ]
    },
    {
     "name": "stdout",
     "output_type": "stream",
     "text": [
      "!\n",
      "!\n",
      "!\n",
      "!\n",
      "!\n",
      "!\n",
      "!\n",
      "!\n",
      "!\n",
      "!\n",
      "!\n",
      "!\n",
      "!\n",
      "!\n",
      "!\n",
      "!\n",
      "!\n"
     ]
    },
    {
     "name": "stderr",
     "output_type": "stream",
     "text": [
      "Extract dsift in train data:  75%|███████▍  | 1511/2020 [01:36<00:31, 16.08it/s]"
     ]
    },
    {
     "name": "stdout",
     "output_type": "stream",
     "text": [
      "!\n",
      "!\n",
      "!\n",
      "!\n",
      "!\n",
      "!\n",
      "!\n",
      "!\n",
      "!\n",
      "!\n",
      "!\n",
      "!\n",
      "!\n",
      "!\n",
      "!\n",
      "!\n"
     ]
    },
    {
     "name": "stderr",
     "output_type": "stream",
     "text": [
      "Extract dsift in train data:  75%|███████▌  | 1515/2020 [01:37<00:35, 14.36it/s]"
     ]
    },
    {
     "name": "stdout",
     "output_type": "stream",
     "text": [
      "!\n",
      "!\n",
      "!\n",
      "!\n",
      "!\n",
      "!\n",
      "!\n",
      "!\n",
      "!\n",
      "!\n",
      "!\n",
      "!\n",
      "!\n",
      "!\n",
      "!\n"
     ]
    },
    {
     "name": "stderr",
     "output_type": "stream",
     "text": [
      "Extract dsift in train data:  75%|███████▌  | 1519/2020 [01:37<00:33, 15.04it/s]"
     ]
    },
    {
     "name": "stdout",
     "output_type": "stream",
     "text": [
      "!\n",
      "!\n",
      "!\n",
      "!\n",
      "!\n",
      "!\n",
      "!\n",
      "!\n",
      "!\n",
      "!\n",
      "!\n",
      "!\n",
      "!\n",
      "!\n",
      "!\n",
      "!\n",
      "!\n"
     ]
    },
    {
     "name": "stderr",
     "output_type": "stream",
     "text": [
      "Extract dsift in train data:  75%|███████▌  | 1521/2020 [01:37<00:33, 15.08it/s]"
     ]
    },
    {
     "name": "stdout",
     "output_type": "stream",
     "text": [
      "!\n",
      "!\n",
      "!\n",
      "!\n",
      "!\n",
      "!\n",
      "!\n",
      "!\n",
      "!\n",
      "!\n",
      "!\n",
      "!\n",
      "!\n",
      "!\n",
      "!\n",
      "!\n"
     ]
    },
    {
     "name": "stderr",
     "output_type": "stream",
     "text": [
      "Extract dsift in train data:  75%|███████▌  | 1525/2020 [01:37<00:32, 15.28it/s]"
     ]
    },
    {
     "name": "stdout",
     "output_type": "stream",
     "text": [
      "!\n",
      "!\n",
      "!\n",
      "!\n",
      "!\n",
      "!\n",
      "!\n",
      "!\n",
      "!\n",
      "!\n",
      "!\n",
      "!\n",
      "!\n",
      "!\n",
      "!\n",
      "!\n",
      "!\n"
     ]
    },
    {
     "name": "stderr",
     "output_type": "stream",
     "text": [
      "Extract dsift in train data:  76%|███████▌  | 1529/2020 [01:38<00:31, 15.83it/s]"
     ]
    },
    {
     "name": "stdout",
     "output_type": "stream",
     "text": [
      "!\n",
      "!\n",
      "!\n",
      "!\n",
      "!\n",
      "!\n",
      "!\n",
      "!\n",
      "!\n",
      "!\n",
      "!\n",
      "!\n",
      "!\n",
      "!\n",
      "!\n",
      "!\n",
      "!\n"
     ]
    },
    {
     "name": "stderr",
     "output_type": "stream",
     "text": [
      "Extract dsift in train data:  76%|███████▌  | 1531/2020 [01:38<00:30, 15.82it/s]"
     ]
    },
    {
     "name": "stdout",
     "output_type": "stream",
     "text": [
      "!\n",
      "!\n",
      "!\n",
      "!\n",
      "!\n",
      "!\n",
      "!\n",
      "!\n",
      "!\n",
      "!\n",
      "!\n",
      "!\n",
      "!\n",
      "!\n",
      "!\n",
      "!\n",
      "!\n",
      "!\n"
     ]
    },
    {
     "name": "stderr",
     "output_type": "stream",
     "text": [
      "Extract dsift in train data:  76%|███████▌  | 1535/2020 [01:38<00:30, 16.01it/s]"
     ]
    },
    {
     "name": "stdout",
     "output_type": "stream",
     "text": [
      "!\n",
      "!\n",
      "!\n",
      "!\n",
      "!\n",
      "!\n",
      "!\n",
      "!\n",
      "!\n",
      "!\n",
      "!\n",
      "!\n",
      "!\n",
      "!\n",
      "!\n",
      "!\n"
     ]
    },
    {
     "name": "stderr",
     "output_type": "stream",
     "text": [
      "Extract dsift in train data:  76%|███████▌  | 1539/2020 [01:38<00:30, 15.68it/s]"
     ]
    },
    {
     "name": "stdout",
     "output_type": "stream",
     "text": [
      "!\n",
      "!\n",
      "!\n",
      "!\n",
      "!\n",
      "!\n",
      "!\n",
      "!\n",
      "!\n",
      "!\n",
      "!\n",
      "!\n",
      "!\n",
      "!\n",
      "!\n",
      "!\n"
     ]
    },
    {
     "name": "stderr",
     "output_type": "stream",
     "text": [
      "Extract dsift in train data:  76%|███████▋  | 1541/2020 [01:38<00:30, 15.46it/s]"
     ]
    },
    {
     "name": "stdout",
     "output_type": "stream",
     "text": [
      "!\n",
      "!\n",
      "!\n",
      "!\n",
      "!\n",
      "!\n",
      "!\n",
      "!\n",
      "!\n",
      "!\n",
      "!\n",
      "!\n",
      "!\n",
      "!\n",
      "!\n",
      "!\n"
     ]
    },
    {
     "name": "stderr",
     "output_type": "stream",
     "text": [
      "Extract dsift in train data:  76%|███████▋  | 1545/2020 [01:39<00:30, 15.50it/s]"
     ]
    },
    {
     "name": "stdout",
     "output_type": "stream",
     "text": [
      "!\n",
      "!\n",
      "!\n",
      "!\n",
      "!\n",
      "!\n",
      "!\n",
      "!\n",
      "!\n",
      "!\n",
      "!\n",
      "!\n",
      "!\n",
      "!\n",
      "!\n",
      "!\n",
      "!\n"
     ]
    },
    {
     "name": "stderr",
     "output_type": "stream",
     "text": [
      "Extract dsift in train data:  77%|███████▋  | 1549/2020 [01:39<00:29, 15.73it/s]"
     ]
    },
    {
     "name": "stdout",
     "output_type": "stream",
     "text": [
      "!\n",
      "!\n",
      "!\n",
      "!\n",
      "!\n",
      "!\n",
      "!\n",
      "!\n",
      "!\n",
      "!\n",
      "!\n",
      "!\n",
      "!\n",
      "!\n",
      "!\n",
      "!\n",
      "!\n"
     ]
    },
    {
     "name": "stderr",
     "output_type": "stream",
     "text": [
      "Extract dsift in train data:  77%|███████▋  | 1551/2020 [01:39<00:29, 15.90it/s]"
     ]
    },
    {
     "name": "stdout",
     "output_type": "stream",
     "text": [
      "!\n",
      "!\n",
      "!\n",
      "!\n",
      "!\n",
      "!\n",
      "!\n",
      "!\n",
      "!\n",
      "!\n",
      "!\n",
      "!\n",
      "!\n",
      "!\n",
      "!\n",
      "!\n",
      "!\n",
      "!"
     ]
    },
    {
     "name": "stderr",
     "output_type": "stream",
     "text": [
      "Extract dsift in train data:  77%|███████▋  | 1555/2020 [01:39<00:28, 16.09it/s]"
     ]
    },
    {
     "name": "stdout",
     "output_type": "stream",
     "text": [
      "\n",
      "!\n",
      "!\n",
      "!\n",
      "!\n",
      "!\n",
      "!\n",
      "!\n",
      "!\n",
      "!\n",
      "!\n",
      "!\n",
      "!\n",
      "!\n",
      "!\n",
      "!\n"
     ]
    },
    {
     "name": "stderr",
     "output_type": "stream",
     "text": [
      "Extract dsift in train data:  77%|███████▋  | 1559/2020 [01:39<00:28, 16.05it/s]"
     ]
    },
    {
     "name": "stdout",
     "output_type": "stream",
     "text": [
      "!\n",
      "!\n",
      "!\n",
      "!\n",
      "!\n",
      "!\n",
      "!\n",
      "!\n",
      "!\n",
      "!\n",
      "!\n",
      "!\n",
      "!\n",
      "!\n",
      "!\n",
      "!\n",
      "!\n"
     ]
    },
    {
     "name": "stderr",
     "output_type": "stream",
     "text": [
      "Extract dsift in train data:  77%|███████▋  | 1561/2020 [01:40<00:28, 16.02it/s]"
     ]
    },
    {
     "name": "stdout",
     "output_type": "stream",
     "text": [
      "!\n",
      "!\n",
      "!\n",
      "!\n",
      "!\n",
      "!\n",
      "!\n",
      "!\n",
      "!\n",
      "!\n",
      "!\n",
      "!\n",
      "!\n",
      "!\n",
      "!\n",
      "!\n",
      "!\n"
     ]
    },
    {
     "name": "stderr",
     "output_type": "stream",
     "text": [
      "Extract dsift in train data:  77%|███████▋  | 1565/2020 [01:40<00:28, 16.11it/s]"
     ]
    },
    {
     "name": "stdout",
     "output_type": "stream",
     "text": [
      "!\n",
      "!\n",
      "!\n",
      "!\n",
      "!\n",
      "!\n",
      "!\n",
      "!\n",
      "!\n",
      "!\n",
      "!\n",
      "!\n",
      "!\n",
      "!\n",
      "!\n",
      "!\n"
     ]
    },
    {
     "name": "stderr",
     "output_type": "stream",
     "text": [
      "Extract dsift in train data:  78%|███████▊  | 1569/2020 [01:40<00:28, 16.08it/s]"
     ]
    },
    {
     "name": "stdout",
     "output_type": "stream",
     "text": [
      "!\n",
      "!\n",
      "!\n",
      "!\n",
      "!\n",
      "!\n",
      "!\n",
      "!\n",
      "!\n",
      "!\n",
      "!\n",
      "!\n",
      "!\n",
      "!\n",
      "!\n",
      "!\n",
      "!\n"
     ]
    },
    {
     "name": "stderr",
     "output_type": "stream",
     "text": [
      "Extract dsift in train data:  78%|███████▊  | 1571/2020 [01:40<00:27, 16.13it/s]"
     ]
    },
    {
     "name": "stdout",
     "output_type": "stream",
     "text": [
      "!\n",
      "!\n",
      "!\n",
      "!\n",
      "!\n",
      "!\n",
      "!\n",
      "!\n",
      "!\n",
      "!\n",
      "!\n",
      "!\n",
      "!\n",
      "!\n",
      "!\n",
      "!\n",
      "!\n",
      "!\n"
     ]
    },
    {
     "name": "stderr",
     "output_type": "stream",
     "text": [
      "Extract dsift in train data:  78%|███████▊  | 1575/2020 [01:40<00:27, 16.26it/s]"
     ]
    },
    {
     "name": "stdout",
     "output_type": "stream",
     "text": [
      "!\n",
      "!\n",
      "!\n",
      "!\n",
      "!\n",
      "!\n",
      "!\n",
      "!\n",
      "!\n",
      "!\n",
      "!\n",
      "!\n",
      "!\n",
      "!\n",
      "!\n",
      "!\n",
      "!\n"
     ]
    },
    {
     "name": "stderr",
     "output_type": "stream",
     "text": [
      "Extract dsift in train data:  78%|███████▊  | 1579/2020 [01:41<00:27, 16.11it/s]"
     ]
    },
    {
     "name": "stdout",
     "output_type": "stream",
     "text": [
      "!\n",
      "!\n",
      "!\n",
      "!\n",
      "!\n",
      "!\n",
      "!\n",
      "!\n",
      "!\n",
      "!\n",
      "!\n",
      "!\n",
      "!\n",
      "!\n",
      "!\n",
      "!\n",
      "!\n"
     ]
    },
    {
     "name": "stderr",
     "output_type": "stream",
     "text": [
      "Extract dsift in train data:  78%|███████▊  | 1583/2020 [01:41<00:27, 16.00it/s]"
     ]
    },
    {
     "name": "stdout",
     "output_type": "stream",
     "text": [
      "!\n",
      "!\n",
      "!\n",
      "!\n",
      "!\n",
      "!\n",
      "!\n",
      "!\n",
      "!\n",
      "!\n",
      "!\n",
      "!\n",
      "!\n",
      "!\n",
      "!\n",
      "!\n"
     ]
    },
    {
     "name": "stderr",
     "output_type": "stream",
     "text": [
      "Extract dsift in train data:  78%|███████▊  | 1585/2020 [01:41<00:27, 15.99it/s]"
     ]
    },
    {
     "name": "stdout",
     "output_type": "stream",
     "text": [
      "!\n",
      "!\n",
      "!\n",
      "!\n",
      "!\n",
      "!\n",
      "!\n",
      "!\n",
      "!\n",
      "!\n",
      "!\n",
      "!\n",
      "!\n",
      "!\n",
      "!\n",
      "!\n",
      "!\n"
     ]
    },
    {
     "name": "stderr",
     "output_type": "stream",
     "text": [
      "Extract dsift in train data:  79%|███████▊  | 1589/2020 [01:41<00:26, 16.04it/s]"
     ]
    },
    {
     "name": "stdout",
     "output_type": "stream",
     "text": [
      "!\n",
      "!\n",
      "!\n",
      "!\n",
      "!\n",
      "!\n",
      "!\n",
      "!\n",
      "!\n",
      "!\n",
      "!\n",
      "!\n",
      "!\n",
      "!\n",
      "!\n",
      "!\n",
      "!\n"
     ]
    },
    {
     "name": "stderr",
     "output_type": "stream",
     "text": [
      "Extract dsift in train data:  79%|███████▉  | 1593/2020 [01:42<00:26, 16.26it/s]"
     ]
    },
    {
     "name": "stdout",
     "output_type": "stream",
     "text": [
      "!\n",
      "!\n",
      "!\n",
      "!\n",
      "!\n",
      "!\n",
      "!\n",
      "!\n",
      "!\n",
      "!\n",
      "!\n",
      "!\n",
      "!\n",
      "!\n",
      "!\n",
      "!\n"
     ]
    },
    {
     "name": "stderr",
     "output_type": "stream",
     "text": [
      "Extract dsift in train data:  79%|███████▉  | 1595/2020 [01:42<00:26, 16.17it/s]"
     ]
    },
    {
     "name": "stdout",
     "output_type": "stream",
     "text": [
      "!\n",
      "!\n",
      "!\n",
      "!\n",
      "!\n",
      "!\n",
      "!\n",
      "!\n",
      "!\n",
      "!\n",
      "!\n",
      "!\n",
      "!\n",
      "!\n",
      "!\n",
      "!\n",
      "!\n"
     ]
    },
    {
     "name": "stderr",
     "output_type": "stream",
     "text": [
      "Extract dsift in train data:  79%|███████▉  | 1599/2020 [01:42<00:25, 16.36it/s]"
     ]
    },
    {
     "name": "stdout",
     "output_type": "stream",
     "text": [
      "!\n",
      "!\n",
      "!\n",
      "!\n",
      "!\n",
      "!\n",
      "!\n",
      "!\n",
      "!\n",
      "!\n",
      "!\n",
      "!\n",
      "!\n",
      "!\n",
      "!\n",
      "!\n",
      "!\n",
      "!\n"
     ]
    },
    {
     "name": "stderr",
     "output_type": "stream",
     "text": [
      "Extract dsift in train data:  79%|███████▉  | 1603/2020 [01:42<00:25, 16.21it/s]"
     ]
    },
    {
     "name": "stdout",
     "output_type": "stream",
     "text": [
      "!\n",
      "!\n",
      "!\n",
      "!\n",
      "!\n",
      "!\n",
      "!\n",
      "!\n",
      "!\n",
      "!\n",
      "!\n",
      "!\n",
      "!\n",
      "!\n",
      "!\n",
      "!\n",
      "!\n"
     ]
    },
    {
     "name": "stderr",
     "output_type": "stream",
     "text": [
      "Extract dsift in train data:  79%|███████▉  | 1605/2020 [01:42<00:25, 16.22it/s]"
     ]
    },
    {
     "name": "stdout",
     "output_type": "stream",
     "text": [
      "!\n",
      "!\n",
      "!\n",
      "!\n",
      "!\n",
      "!\n",
      "!\n",
      "!\n",
      "!\n",
      "!\n",
      "!\n",
      "!\n",
      "!\n",
      "!\n",
      "!\n",
      "!\n",
      "!\n",
      "!\n"
     ]
    },
    {
     "name": "stderr",
     "output_type": "stream",
     "text": [
      "Extract dsift in train data:  80%|███████▉  | 1609/2020 [01:43<00:24, 16.50it/s]"
     ]
    },
    {
     "name": "stdout",
     "output_type": "stream",
     "text": [
      "!\n",
      "!\n",
      "!\n",
      "!\n",
      "!\n",
      "!\n",
      "!\n",
      "!\n",
      "!\n",
      "!\n",
      "!\n",
      "!\n",
      "!\n",
      "!\n",
      "!\n",
      "!\n",
      "!\n",
      "!\n"
     ]
    },
    {
     "name": "stderr",
     "output_type": "stream",
     "text": [
      "Extract dsift in train data:  80%|███████▉  | 1613/2020 [01:43<00:24, 16.28it/s]"
     ]
    },
    {
     "name": "stdout",
     "output_type": "stream",
     "text": [
      "!\n",
      "!\n",
      "!\n",
      "!\n",
      "!\n",
      "!\n",
      "!\n",
      "!\n",
      "!\n",
      "!\n",
      "!\n",
      "!\n",
      "!\n",
      "!\n",
      "!\n",
      "!\n",
      "!\n"
     ]
    },
    {
     "name": "stderr",
     "output_type": "stream",
     "text": [
      "Extract dsift in train data:  80%|████████  | 1617/2020 [01:43<00:25, 16.03it/s]"
     ]
    },
    {
     "name": "stdout",
     "output_type": "stream",
     "text": [
      "!\n",
      "!\n",
      "!\n",
      "!\n",
      "!\n",
      "!\n",
      "!\n",
      "!\n",
      "!\n",
      "!\n",
      "!\n",
      "!\n",
      "!\n",
      "!\n",
      "!\n",
      "!\n"
     ]
    },
    {
     "name": "stderr",
     "output_type": "stream",
     "text": [
      "Extract dsift in train data:  80%|████████  | 1619/2020 [01:43<00:25, 15.87it/s]"
     ]
    },
    {
     "name": "stdout",
     "output_type": "stream",
     "text": [
      "!\n",
      "!\n",
      "!\n",
      "!\n",
      "!\n",
      "!\n",
      "!\n",
      "!\n",
      "!\n",
      "!\n",
      "!\n",
      "!\n",
      "!\n",
      "!\n",
      "!\n",
      "!\n",
      "!\n"
     ]
    },
    {
     "name": "stderr",
     "output_type": "stream",
     "text": [
      "Extract dsift in train data:  80%|████████  | 1623/2020 [01:43<00:25, 15.55it/s]"
     ]
    },
    {
     "name": "stdout",
     "output_type": "stream",
     "text": [
      "!\n",
      "!\n",
      "!\n",
      "!\n",
      "!\n",
      "!\n",
      "!\n",
      "!\n",
      "!\n",
      "!\n",
      "!\n",
      "!\n",
      "!\n",
      "!\n",
      "!\n",
      "!\n"
     ]
    },
    {
     "name": "stderr",
     "output_type": "stream",
     "text": [
      "Extract dsift in train data:  81%|████████  | 1627/2020 [01:44<00:25, 15.59it/s]"
     ]
    },
    {
     "name": "stdout",
     "output_type": "stream",
     "text": [
      "!\n",
      "!\n",
      "!\n",
      "!\n",
      "!\n",
      "!\n",
      "!\n",
      "!\n",
      "!\n",
      "!\n",
      "!\n",
      "!\n",
      "!\n",
      "!\n",
      "!\n",
      "!\n"
     ]
    },
    {
     "name": "stderr",
     "output_type": "stream",
     "text": [
      "Extract dsift in train data:  81%|████████  | 1629/2020 [01:44<00:25, 15.57it/s]"
     ]
    },
    {
     "name": "stdout",
     "output_type": "stream",
     "text": [
      "!\n",
      "!\n",
      "!\n",
      "!\n",
      "!\n",
      "!\n",
      "!\n",
      "!\n",
      "!\n",
      "!\n",
      "!\n",
      "!\n",
      "!\n",
      "!\n",
      "!\n",
      "!\n"
     ]
    },
    {
     "name": "stderr",
     "output_type": "stream",
     "text": [
      "Extract dsift in train data:  81%|████████  | 1633/2020 [01:44<00:24, 15.79it/s]"
     ]
    },
    {
     "name": "stdout",
     "output_type": "stream",
     "text": [
      "!\n",
      "!\n",
      "!\n",
      "!\n",
      "!\n",
      "!\n",
      "!\n",
      "!\n",
      "!\n",
      "!\n",
      "!\n",
      "!\n",
      "!\n",
      "!\n",
      "!\n",
      "!\n",
      "!\n"
     ]
    },
    {
     "name": "stderr",
     "output_type": "stream",
     "text": [
      "Extract dsift in train data:  81%|████████  | 1635/2020 [01:44<00:24, 15.79it/s]"
     ]
    },
    {
     "name": "stdout",
     "output_type": "stream",
     "text": [
      "!\n",
      "!\n",
      "!\n",
      "!\n",
      "!\n",
      "!\n",
      "!\n",
      "!\n",
      "!\n",
      "!\n",
      "!\n",
      "!\n",
      "!\n",
      "!\n",
      "!\n",
      "!\n",
      "!\n"
     ]
    },
    {
     "name": "stderr",
     "output_type": "stream",
     "text": [
      "Extract dsift in train data:  81%|████████  | 1639/2020 [01:44<00:23, 16.00it/s]"
     ]
    },
    {
     "name": "stdout",
     "output_type": "stream",
     "text": [
      "!\n",
      "!\n",
      "!\n",
      "!\n",
      "!\n",
      "!\n",
      "!\n",
      "!\n",
      "!\n",
      "!\n",
      "!\n",
      "!\n",
      "!\n",
      "!\n",
      "!\n",
      "!\n",
      "!\n"
     ]
    },
    {
     "name": "stderr",
     "output_type": "stream",
     "text": [
      "Extract dsift in train data:  81%|████████▏ | 1643/2020 [01:45<00:23, 15.97it/s]"
     ]
    },
    {
     "name": "stdout",
     "output_type": "stream",
     "text": [
      "!\n",
      "!\n",
      "!\n",
      "!\n",
      "!\n",
      "!\n",
      "!\n",
      "!\n",
      "!\n",
      "!\n",
      "!\n",
      "!\n",
      "!\n",
      "!\n",
      "!\n",
      "!\n",
      "!\n"
     ]
    },
    {
     "name": "stderr",
     "output_type": "stream",
     "text": [
      "Extract dsift in train data:  81%|████████▏ | 1645/2020 [01:45<00:23, 15.88it/s]"
     ]
    },
    {
     "name": "stdout",
     "output_type": "stream",
     "text": [
      "!\n",
      "!\n",
      "!\n",
      "!\n",
      "!\n",
      "!\n",
      "!\n",
      "!\n",
      "!\n",
      "!\n",
      "!\n",
      "!\n",
      "!\n",
      "!\n",
      "!\n",
      "!\n"
     ]
    },
    {
     "name": "stderr",
     "output_type": "stream",
     "text": [
      "Extract dsift in train data:  82%|████████▏ | 1649/2020 [01:45<00:23, 15.88it/s]"
     ]
    },
    {
     "name": "stdout",
     "output_type": "stream",
     "text": [
      "!\n",
      "!\n",
      "!\n",
      "!\n",
      "!\n",
      "!\n",
      "!\n",
      "!\n",
      "!\n",
      "!\n",
      "!\n",
      "!\n",
      "!\n",
      "!\n",
      "!\n",
      "!\n",
      "!\n"
     ]
    },
    {
     "name": "stderr",
     "output_type": "stream",
     "text": [
      "Extract dsift in train data:  82%|████████▏ | 1653/2020 [01:45<00:23, 15.87it/s]"
     ]
    },
    {
     "name": "stdout",
     "output_type": "stream",
     "text": [
      "!\n",
      "!\n",
      "!\n",
      "!\n",
      "!\n",
      "!\n",
      "!\n",
      "!\n",
      "!\n",
      "!\n",
      "!\n",
      "!\n",
      "!\n",
      "!\n",
      "!\n",
      "!\n",
      "!\n"
     ]
    },
    {
     "name": "stderr",
     "output_type": "stream",
     "text": [
      "Extract dsift in train data:  82%|████████▏ | 1657/2020 [01:46<00:22, 15.85it/s]"
     ]
    },
    {
     "name": "stdout",
     "output_type": "stream",
     "text": [
      "!\n",
      "!\n",
      "!\n",
      "!\n",
      "!\n",
      "!\n",
      "!\n",
      "!\n",
      "!\n",
      "!\n",
      "!\n",
      "!\n",
      "!\n",
      "!\n",
      "!\n",
      "!\n"
     ]
    },
    {
     "name": "stderr",
     "output_type": "stream",
     "text": [
      "Extract dsift in train data:  82%|████████▏ | 1659/2020 [01:46<00:22, 16.00it/s]"
     ]
    },
    {
     "name": "stdout",
     "output_type": "stream",
     "text": [
      "!\n",
      "!\n",
      "!\n",
      "!\n",
      "!\n",
      "!\n",
      "!\n",
      "!\n",
      "!\n",
      "!\n",
      "!\n",
      "!\n",
      "!\n",
      "!\n",
      "!\n",
      "!\n",
      "!\n",
      "!\n"
     ]
    },
    {
     "name": "stderr",
     "output_type": "stream",
     "text": [
      "Extract dsift in train data:  82%|████████▏ | 1663/2020 [01:46<00:22, 15.98it/s]"
     ]
    },
    {
     "name": "stdout",
     "output_type": "stream",
     "text": [
      "!\n",
      "!\n",
      "!\n",
      "!\n",
      "!\n",
      "!\n",
      "!\n",
      "!\n",
      "!\n",
      "!\n",
      "!\n",
      "!\n",
      "!\n",
      "!\n",
      "!\n",
      "!\n"
     ]
    },
    {
     "name": "stderr",
     "output_type": "stream",
     "text": [
      "Extract dsift in train data:  83%|████████▎ | 1667/2020 [01:46<00:22, 15.76it/s]"
     ]
    },
    {
     "name": "stdout",
     "output_type": "stream",
     "text": [
      "!\n",
      "!\n",
      "!\n",
      "!\n",
      "!\n",
      "!\n",
      "!\n",
      "!\n",
      "!\n",
      "!\n",
      "!\n",
      "!\n",
      "!\n",
      "!\n",
      "!\n",
      "!\n"
     ]
    },
    {
     "name": "stderr",
     "output_type": "stream",
     "text": [
      "Extract dsift in train data:  83%|████████▎ | 1669/2020 [01:46<00:21, 15.97it/s]"
     ]
    },
    {
     "name": "stdout",
     "output_type": "stream",
     "text": [
      "!\n",
      "!\n",
      "!\n",
      "!\n",
      "!\n",
      "!\n",
      "!\n",
      "!\n",
      "!\n",
      "!\n",
      "!\n",
      "!\n",
      "!\n",
      "!\n",
      "!\n",
      "!\n",
      "!\n"
     ]
    },
    {
     "name": "stderr",
     "output_type": "stream",
     "text": [
      "Extract dsift in train data:  83%|████████▎ | 1673/2020 [01:47<00:21, 15.80it/s]"
     ]
    },
    {
     "name": "stdout",
     "output_type": "stream",
     "text": [
      "!\n",
      "!\n",
      "!\n",
      "!\n",
      "!\n",
      "!\n",
      "!\n",
      "!\n",
      "!\n",
      "!\n",
      "!\n",
      "!\n",
      "!\n",
      "!\n",
      "!\n",
      "!\n"
     ]
    },
    {
     "name": "stderr",
     "output_type": "stream",
     "text": [
      "Extract dsift in train data:  83%|████████▎ | 1675/2020 [01:47<00:21, 15.74it/s]"
     ]
    },
    {
     "name": "stdout",
     "output_type": "stream",
     "text": [
      "!\n",
      "!\n",
      "!\n",
      "!\n",
      "!\n",
      "!\n",
      "!\n",
      "!\n",
      "!\n",
      "!\n",
      "!\n",
      "!\n",
      "!\n",
      "!\n",
      "!\n",
      "!\n",
      "!\n"
     ]
    },
    {
     "name": "stderr",
     "output_type": "stream",
     "text": [
      "Extract dsift in train data:  83%|████████▎ | 1679/2020 [01:47<00:21, 15.58it/s]"
     ]
    },
    {
     "name": "stdout",
     "output_type": "stream",
     "text": [
      "!\n",
      "!\n",
      "!\n",
      "!\n",
      "!\n",
      "!\n",
      "!\n",
      "!\n",
      "!\n",
      "!\n",
      "!\n",
      "!\n",
      "!\n",
      "!\n",
      "!\n",
      "!\n",
      "!\n"
     ]
    },
    {
     "name": "stderr",
     "output_type": "stream",
     "text": [
      "Extract dsift in train data:  83%|████████▎ | 1683/2020 [01:47<00:21, 15.99it/s]"
     ]
    },
    {
     "name": "stdout",
     "output_type": "stream",
     "text": [
      "!\n",
      "!\n",
      "!\n",
      "!\n",
      "!\n",
      "!\n",
      "!\n",
      "!\n",
      "!\n",
      "!\n",
      "!\n",
      "!\n",
      "!\n",
      "!\n",
      "!\n",
      "!\n",
      "!\n"
     ]
    },
    {
     "name": "stderr",
     "output_type": "stream",
     "text": [
      "Extract dsift in train data:  84%|████████▎ | 1687/2020 [01:47<00:20, 16.32it/s]"
     ]
    },
    {
     "name": "stdout",
     "output_type": "stream",
     "text": [
      "!\n",
      "!\n",
      "!\n",
      "!\n",
      "!\n",
      "!\n",
      "!\n",
      "!\n",
      "!\n",
      "!\n",
      "!\n",
      "!\n",
      "!\n",
      "!\n",
      "!\n",
      "!\n"
     ]
    },
    {
     "name": "stderr",
     "output_type": "stream",
     "text": [
      "Extract dsift in train data:  84%|████████▎ | 1689/2020 [01:48<00:22, 14.88it/s]"
     ]
    },
    {
     "name": "stdout",
     "output_type": "stream",
     "text": [
      "!\n",
      "!\n",
      "!\n",
      "!\n",
      "!\n",
      "!\n",
      "!\n",
      "!\n",
      "!\n",
      "!\n",
      "!\n",
      "!\n",
      "!\n",
      "!\n",
      "!\n"
     ]
    },
    {
     "name": "stderr",
     "output_type": "stream",
     "text": [
      "Extract dsift in train data:  84%|████████▍ | 1693/2020 [01:48<00:21, 15.26it/s]"
     ]
    },
    {
     "name": "stdout",
     "output_type": "stream",
     "text": [
      "!\n",
      "!\n",
      "!\n",
      "!\n",
      "!\n",
      "!\n",
      "!\n",
      "!\n",
      "!\n",
      "!\n",
      "!\n",
      "!\n",
      "!\n",
      "!\n",
      "!\n",
      "!\n",
      "!\n"
     ]
    },
    {
     "name": "stderr",
     "output_type": "stream",
     "text": [
      "Extract dsift in train data:  84%|████████▍ | 1695/2020 [01:48<00:21, 15.33it/s]"
     ]
    },
    {
     "name": "stdout",
     "output_type": "stream",
     "text": [
      "!\n",
      "!\n",
      "!\n",
      "!\n",
      "!\n",
      "!\n",
      "!\n",
      "!\n",
      "!\n",
      "!\n",
      "!\n",
      "!\n",
      "!\n",
      "!\n",
      "!\n",
      "!\n"
     ]
    },
    {
     "name": "stderr",
     "output_type": "stream",
     "text": [
      "Extract dsift in train data:  84%|████████▍ | 1699/2020 [01:48<00:20, 15.64it/s]"
     ]
    },
    {
     "name": "stdout",
     "output_type": "stream",
     "text": [
      "!\n",
      "!\n",
      "!\n",
      "!\n",
      "!\n",
      "!\n",
      "!\n",
      "!\n",
      "!\n",
      "!\n",
      "!\n",
      "!\n",
      "!\n",
      "!\n",
      "!\n",
      "!\n",
      "!\n"
     ]
    },
    {
     "name": "stderr",
     "output_type": "stream",
     "text": [
      "Extract dsift in train data:  84%|████████▍ | 1703/2020 [01:48<00:20, 15.56it/s]"
     ]
    },
    {
     "name": "stdout",
     "output_type": "stream",
     "text": [
      "!\n",
      "!\n",
      "!\n",
      "!\n",
      "!\n",
      "!\n",
      "!\n",
      "!\n",
      "!\n",
      "!\n",
      "!\n",
      "!\n",
      "!\n",
      "!\n",
      "!\n",
      "!\n"
     ]
    },
    {
     "name": "stderr",
     "output_type": "stream",
     "text": [
      "Extract dsift in train data:  84%|████████▍ | 1705/2020 [01:49<00:20, 15.31it/s]"
     ]
    },
    {
     "name": "stdout",
     "output_type": "stream",
     "text": [
      "!\n",
      "!\n",
      "!\n",
      "!\n",
      "!\n",
      "!\n",
      "!\n",
      "!\n",
      "!\n",
      "!\n",
      "!\n",
      "!\n",
      "!\n",
      "!\n",
      "!\n",
      "!\n",
      "!\n"
     ]
    },
    {
     "name": "stderr",
     "output_type": "stream",
     "text": [
      "Extract dsift in train data:  85%|████████▍ | 1709/2020 [01:49<00:20, 15.55it/s]"
     ]
    },
    {
     "name": "stdout",
     "output_type": "stream",
     "text": [
      "!\n",
      "!\n",
      "!\n",
      "!\n",
      "!\n",
      "!\n",
      "!\n",
      "!\n",
      "!\n",
      "!\n",
      "!\n",
      "!\n",
      "!\n",
      "!\n",
      "!\n",
      "!\n"
     ]
    },
    {
     "name": "stderr",
     "output_type": "stream",
     "text": [
      "Extract dsift in train data:  85%|████████▍ | 1711/2020 [01:49<00:19, 15.45it/s]"
     ]
    },
    {
     "name": "stdout",
     "output_type": "stream",
     "text": [
      "!\n",
      "!\n",
      "!\n",
      "!\n",
      "!\n",
      "!\n",
      "!\n",
      "!\n",
      "!\n",
      "!\n",
      "!\n",
      "!\n",
      "!\n",
      "!\n",
      "!\n",
      "!\n"
     ]
    },
    {
     "name": "stderr",
     "output_type": "stream",
     "text": [
      "Extract dsift in train data:  85%|████████▍ | 1715/2020 [01:49<00:19, 15.44it/s]"
     ]
    },
    {
     "name": "stdout",
     "output_type": "stream",
     "text": [
      "!\n",
      "!\n",
      "!\n",
      "!\n",
      "!\n",
      "!\n",
      "!\n",
      "!\n",
      "!\n",
      "!\n",
      "!\n",
      "!\n",
      "!\n",
      "!\n",
      "!\n",
      "!\n",
      "!\n"
     ]
    },
    {
     "name": "stderr",
     "output_type": "stream",
     "text": [
      "Extract dsift in train data:  85%|████████▌ | 1719/2020 [01:50<00:19, 15.54it/s]"
     ]
    },
    {
     "name": "stdout",
     "output_type": "stream",
     "text": [
      "!\n",
      "!\n",
      "!\n",
      "!\n",
      "!\n",
      "!\n",
      "!\n",
      "!\n",
      "!\n",
      "!\n",
      "!\n",
      "!\n",
      "!\n",
      "!\n",
      "!\n",
      "!\n",
      "!\n"
     ]
    },
    {
     "name": "stderr",
     "output_type": "stream",
     "text": [
      "Extract dsift in train data:  85%|████████▌ | 1723/2020 [01:50<00:18, 15.76it/s]"
     ]
    },
    {
     "name": "stdout",
     "output_type": "stream",
     "text": [
      "!\n",
      "!\n",
      "!\n",
      "!\n",
      "!\n",
      "!\n",
      "!\n",
      "!\n",
      "!\n",
      "!\n",
      "!\n",
      "!\n",
      "!\n",
      "!\n",
      "!\n",
      "!\n"
     ]
    },
    {
     "name": "stderr",
     "output_type": "stream",
     "text": [
      "Extract dsift in train data:  85%|████████▌ | 1725/2020 [01:50<00:18, 15.77it/s]"
     ]
    },
    {
     "name": "stdout",
     "output_type": "stream",
     "text": [
      "!\n",
      "!\n",
      "!\n",
      "!\n",
      "!\n",
      "!\n",
      "!\n",
      "!\n",
      "!\n",
      "!\n",
      "!\n",
      "!\n",
      "!\n",
      "!\n",
      "!\n",
      "!\n",
      "!\n"
     ]
    },
    {
     "name": "stderr",
     "output_type": "stream",
     "text": [
      "Extract dsift in train data:  86%|████████▌ | 1729/2020 [01:50<00:18, 15.92it/s]"
     ]
    },
    {
     "name": "stdout",
     "output_type": "stream",
     "text": [
      "!\n",
      "!\n",
      "!\n",
      "!\n",
      "!\n",
      "!\n",
      "!\n",
      "!\n",
      "!\n",
      "!\n",
      "!\n",
      "!\n",
      "!\n",
      "!\n",
      "!\n",
      "!\n",
      "!\n"
     ]
    },
    {
     "name": "stderr",
     "output_type": "stream",
     "text": [
      "Extract dsift in train data:  86%|████████▌ | 1733/2020 [01:50<00:18, 15.63it/s]"
     ]
    },
    {
     "name": "stdout",
     "output_type": "stream",
     "text": [
      "!\n",
      "!\n",
      "!\n",
      "!\n",
      "!\n",
      "!\n",
      "!\n",
      "!\n",
      "!\n",
      "!\n",
      "!\n",
      "!\n",
      "!\n",
      "!\n",
      "!\n",
      "!\n"
     ]
    },
    {
     "name": "stderr",
     "output_type": "stream",
     "text": [
      "Extract dsift in train data:  86%|████████▌ | 1735/2020 [01:51<00:18, 15.65it/s]"
     ]
    },
    {
     "name": "stdout",
     "output_type": "stream",
     "text": [
      "!\n",
      "!\n",
      "!\n",
      "!\n",
      "!\n",
      "!\n",
      "!\n",
      "!\n",
      "!\n",
      "!\n",
      "!\n",
      "!\n",
      "!\n",
      "!\n",
      "!\n",
      "!\n"
     ]
    },
    {
     "name": "stderr",
     "output_type": "stream",
     "text": [
      "Extract dsift in train data:  86%|████████▌ | 1739/2020 [01:51<00:17, 15.66it/s]"
     ]
    },
    {
     "name": "stdout",
     "output_type": "stream",
     "text": [
      "!\n",
      "!\n",
      "!\n",
      "!\n",
      "!\n",
      "!\n",
      "!\n",
      "!\n",
      "!\n",
      "!\n",
      "!\n",
      "!\n",
      "!\n",
      "!\n",
      "!\n",
      "!\n",
      "!\n"
     ]
    },
    {
     "name": "stderr",
     "output_type": "stream",
     "text": [
      "Extract dsift in train data:  86%|████████▌ | 1741/2020 [01:51<00:17, 15.57it/s]"
     ]
    },
    {
     "name": "stdout",
     "output_type": "stream",
     "text": [
      "!\n",
      "!\n",
      "!\n",
      "!\n",
      "!\n",
      "!\n",
      "!\n",
      "!\n",
      "!\n",
      "!\n",
      "!\n",
      "!\n",
      "!\n",
      "!\n",
      "!\n",
      "!\n",
      "!\n"
     ]
    },
    {
     "name": "stderr",
     "output_type": "stream",
     "text": [
      "Extract dsift in train data:  86%|████████▋ | 1745/2020 [01:51<00:17, 15.77it/s]"
     ]
    },
    {
     "name": "stdout",
     "output_type": "stream",
     "text": [
      "!\n",
      "!\n",
      "!\n",
      "!\n",
      "!\n",
      "!\n",
      "!\n",
      "!\n",
      "!\n",
      "!\n",
      "!\n",
      "!\n",
      "!\n",
      "!\n",
      "!\n",
      "!\n",
      "!\n"
     ]
    },
    {
     "name": "stderr",
     "output_type": "stream",
     "text": [
      "Extract dsift in train data:  87%|████████▋ | 1749/2020 [01:51<00:17, 15.66it/s]"
     ]
    },
    {
     "name": "stdout",
     "output_type": "stream",
     "text": [
      "!\n",
      "!\n",
      "!\n",
      "!\n",
      "!\n",
      "!\n",
      "!\n",
      "!\n",
      "!\n",
      "!\n",
      "!\n",
      "!\n",
      "!\n",
      "!\n",
      "!\n",
      "!\n"
     ]
    },
    {
     "name": "stderr",
     "output_type": "stream",
     "text": [
      "Extract dsift in train data:  87%|████████▋ | 1751/2020 [01:52<00:17, 15.44it/s]"
     ]
    },
    {
     "name": "stdout",
     "output_type": "stream",
     "text": [
      "!\n",
      "!\n",
      "!\n",
      "!\n",
      "!\n",
      "!\n",
      "!\n",
      "!\n",
      "!\n",
      "!\n",
      "!\n",
      "!\n",
      "!\n",
      "!\n",
      "!\n",
      "!\n",
      "!"
     ]
    },
    {
     "name": "stderr",
     "output_type": "stream",
     "text": [
      "Extract dsift in train data:  87%|████████▋ | 1755/2020 [01:52<00:17, 15.56it/s]"
     ]
    },
    {
     "name": "stdout",
     "output_type": "stream",
     "text": [
      "\n",
      "!\n",
      "!\n",
      "!\n",
      "!\n",
      "!\n",
      "!\n",
      "!\n",
      "!\n",
      "!\n",
      "!\n",
      "!\n",
      "!\n",
      "!\n",
      "!\n",
      "!\n"
     ]
    },
    {
     "name": "stderr",
     "output_type": "stream",
     "text": [
      "Extract dsift in train data:  87%|████████▋ | 1759/2020 [01:52<00:16, 15.80it/s]"
     ]
    },
    {
     "name": "stdout",
     "output_type": "stream",
     "text": [
      "!\n",
      "!\n",
      "!\n",
      "!\n",
      "!\n",
      "!\n",
      "!\n",
      "!\n",
      "!\n",
      "!\n",
      "!\n",
      "!\n",
      "!\n",
      "!\n",
      "!\n",
      "!\n"
     ]
    },
    {
     "name": "stderr",
     "output_type": "stream",
     "text": [
      "Extract dsift in train data:  87%|████████▋ | 1761/2020 [01:52<00:16, 15.75it/s]"
     ]
    },
    {
     "name": "stdout",
     "output_type": "stream",
     "text": [
      "!\n",
      "!\n",
      "!\n",
      "!\n",
      "!\n",
      "!\n",
      "!\n",
      "!\n",
      "!\n",
      "!\n",
      "!\n",
      "!\n",
      "!\n",
      "!\n",
      "!\n",
      "!\n",
      "!\n"
     ]
    },
    {
     "name": "stderr",
     "output_type": "stream",
     "text": [
      "Extract dsift in train data:  87%|████████▋ | 1765/2020 [01:52<00:16, 15.79it/s]"
     ]
    },
    {
     "name": "stdout",
     "output_type": "stream",
     "text": [
      "!\n",
      "!\n",
      "!\n",
      "!\n",
      "!\n",
      "!\n",
      "!\n",
      "!\n",
      "!\n",
      "!\n",
      "!\n",
      "!\n",
      "!\n",
      "!\n",
      "!\n",
      "!\n",
      "!\n"
     ]
    },
    {
     "name": "stderr",
     "output_type": "stream",
     "text": [
      "Extract dsift in train data:  88%|████████▊ | 1769/2020 [01:53<00:15, 15.81it/s]"
     ]
    },
    {
     "name": "stdout",
     "output_type": "stream",
     "text": [
      "!\n",
      "!\n",
      "!\n",
      "!\n",
      "!\n",
      "!\n",
      "!\n",
      "!\n",
      "!\n",
      "!\n",
      "!\n",
      "!\n",
      "!\n",
      "!\n",
      "!\n",
      "!\n",
      "!\n"
     ]
    },
    {
     "name": "stderr",
     "output_type": "stream",
     "text": [
      "Extract dsift in train data:  88%|████████▊ | 1771/2020 [01:53<00:15, 15.78it/s]"
     ]
    },
    {
     "name": "stdout",
     "output_type": "stream",
     "text": [
      "!\n",
      "!\n",
      "!\n",
      "!\n",
      "!\n",
      "!\n",
      "!\n",
      "!\n",
      "!\n",
      "!\n",
      "!\n",
      "!\n",
      "!\n",
      "!\n",
      "!\n",
      "!\n",
      "!\n"
     ]
    },
    {
     "name": "stderr",
     "output_type": "stream",
     "text": [
      "Extract dsift in train data:  88%|████████▊ | 1775/2020 [01:53<00:15, 16.00it/s]"
     ]
    },
    {
     "name": "stdout",
     "output_type": "stream",
     "text": [
      "!\n",
      "!\n",
      "!\n",
      "!\n",
      "!\n",
      "!\n",
      "!\n",
      "!\n",
      "!\n",
      "!\n",
      "!\n",
      "!\n",
      "!\n",
      "!\n",
      "!\n",
      "!\n"
     ]
    },
    {
     "name": "stderr",
     "output_type": "stream",
     "text": [
      "Extract dsift in train data:  88%|████████▊ | 1779/2020 [01:53<00:15, 15.94it/s]"
     ]
    },
    {
     "name": "stdout",
     "output_type": "stream",
     "text": [
      "!\n",
      "!\n",
      "!\n",
      "!\n",
      "!\n",
      "!\n",
      "!\n",
      "!\n",
      "!\n",
      "!\n",
      "!\n",
      "!\n",
      "!\n",
      "!\n",
      "!\n",
      "!\n",
      "!\n"
     ]
    },
    {
     "name": "stderr",
     "output_type": "stream",
     "text": [
      "Extract dsift in train data:  88%|████████▊ | 1781/2020 [01:53<00:15, 15.75it/s]"
     ]
    },
    {
     "name": "stdout",
     "output_type": "stream",
     "text": [
      "!\n",
      "!\n",
      "!\n",
      "!\n",
      "!\n",
      "!\n",
      "!\n",
      "!\n",
      "!\n",
      "!\n",
      "!\n",
      "!\n",
      "!\n",
      "!\n",
      "!\n",
      "!\n"
     ]
    },
    {
     "name": "stderr",
     "output_type": "stream",
     "text": [
      "Extract dsift in train data:  88%|████████▊ | 1785/2020 [01:54<00:15, 15.53it/s]"
     ]
    },
    {
     "name": "stdout",
     "output_type": "stream",
     "text": [
      "!\n",
      "!\n",
      "!\n",
      "!\n",
      "!\n",
      "!\n",
      "!\n",
      "!\n",
      "!\n",
      "!\n",
      "!\n",
      "!\n",
      "!\n",
      "!\n",
      "!\n",
      "!\n"
     ]
    },
    {
     "name": "stderr",
     "output_type": "stream",
     "text": [
      "Extract dsift in train data:  89%|████████▊ | 1789/2020 [01:54<00:14, 15.74it/s]"
     ]
    },
    {
     "name": "stdout",
     "output_type": "stream",
     "text": [
      "!\n",
      "!\n",
      "!\n",
      "!\n",
      "!\n",
      "!\n",
      "!\n",
      "!\n",
      "!\n",
      "!\n",
      "!\n",
      "!\n",
      "!\n",
      "!\n",
      "!\n",
      "!\n"
     ]
    },
    {
     "name": "stderr",
     "output_type": "stream",
     "text": [
      "Extract dsift in train data:  89%|████████▊ | 1791/2020 [01:54<00:14, 15.72it/s]"
     ]
    },
    {
     "name": "stdout",
     "output_type": "stream",
     "text": [
      "!\n",
      "!\n",
      "!\n",
      "!\n",
      "!\n",
      "!\n",
      "!\n",
      "!\n",
      "!\n",
      "!\n",
      "!\n",
      "!\n",
      "!\n",
      "!\n",
      "!\n",
      "!\n",
      "!\n"
     ]
    },
    {
     "name": "stderr",
     "output_type": "stream",
     "text": [
      "Extract dsift in train data:  89%|████████▉ | 1795/2020 [01:54<00:14, 15.90it/s]"
     ]
    },
    {
     "name": "stdout",
     "output_type": "stream",
     "text": [
      "!\n",
      "!\n",
      "!\n",
      "!\n",
      "!\n",
      "!\n",
      "!\n",
      "!\n",
      "!\n",
      "!\n",
      "!\n",
      "!\n",
      "!\n",
      "!\n",
      "!\n",
      "!\n"
     ]
    },
    {
     "name": "stderr",
     "output_type": "stream",
     "text": [
      "Extract dsift in train data:  89%|████████▉ | 1797/2020 [01:54<00:14, 15.66it/s]"
     ]
    },
    {
     "name": "stdout",
     "output_type": "stream",
     "text": [
      "!\n",
      "!\n",
      "!\n",
      "!\n",
      "!\n",
      "!\n",
      "!\n",
      "!\n",
      "!\n",
      "!\n",
      "!\n",
      "!\n",
      "!\n",
      "!\n",
      "!\n",
      "!\n",
      "!\n"
     ]
    },
    {
     "name": "stderr",
     "output_type": "stream",
     "text": [
      "Extract dsift in train data:  89%|████████▉ | 1801/2020 [01:55<00:14, 15.61it/s]"
     ]
    },
    {
     "name": "stdout",
     "output_type": "stream",
     "text": [
      "!\n",
      "!\n",
      "!\n",
      "!\n",
      "!\n",
      "!\n",
      "!\n",
      "!\n",
      "!\n",
      "!\n",
      "!\n",
      "!\n",
      "!\n",
      "!\n",
      "!\n",
      "!\n"
     ]
    },
    {
     "name": "stderr",
     "output_type": "stream",
     "text": [
      "Extract dsift in train data:  89%|████████▉ | 1805/2020 [01:55<00:13, 15.71it/s]"
     ]
    },
    {
     "name": "stdout",
     "output_type": "stream",
     "text": [
      "!\n",
      "!\n",
      "!\n",
      "!\n",
      "!\n",
      "!\n",
      "!\n",
      "!\n",
      "!\n",
      "!\n",
      "!\n",
      "!\n",
      "!\n",
      "!\n",
      "!\n",
      "!\n",
      "!\n"
     ]
    },
    {
     "name": "stderr",
     "output_type": "stream",
     "text": [
      "Extract dsift in train data:  89%|████████▉ | 1807/2020 [01:55<00:13, 15.39it/s]"
     ]
    },
    {
     "name": "stdout",
     "output_type": "stream",
     "text": [
      "!\n",
      "!\n",
      "!\n",
      "!\n",
      "!\n",
      "!\n",
      "!\n",
      "!\n",
      "!\n",
      "!\n",
      "!\n",
      "!\n",
      "!\n",
      "!\n",
      "!\n",
      "!\n"
     ]
    },
    {
     "name": "stderr",
     "output_type": "stream",
     "text": [
      "Extract dsift in train data:  90%|████████▉ | 1811/2020 [01:55<00:13, 15.53it/s]"
     ]
    },
    {
     "name": "stdout",
     "output_type": "stream",
     "text": [
      "!\n",
      "!\n",
      "!\n",
      "!\n",
      "!\n",
      "!\n",
      "!\n",
      "!\n",
      "!\n",
      "!\n",
      "!\n",
      "!\n",
      "!\n",
      "!\n",
      "!\n",
      "!\n"
     ]
    },
    {
     "name": "stderr",
     "output_type": "stream",
     "text": [
      "Extract dsift in train data:  90%|████████▉ | 1815/2020 [01:56<00:13, 15.49it/s]"
     ]
    },
    {
     "name": "stdout",
     "output_type": "stream",
     "text": [
      "!\n",
      "!\n",
      "!\n",
      "!\n",
      "!\n",
      "!\n",
      "!\n",
      "!\n",
      "!\n",
      "!\n",
      "!\n",
      "!\n",
      "!\n",
      "!\n",
      "!\n",
      "!\n"
     ]
    },
    {
     "name": "stderr",
     "output_type": "stream",
     "text": [
      "Extract dsift in train data:  90%|████████▉ | 1817/2020 [01:56<00:13, 15.26it/s]"
     ]
    },
    {
     "name": "stdout",
     "output_type": "stream",
     "text": [
      "!\n",
      "!\n",
      "!\n",
      "!\n",
      "!\n",
      "!\n",
      "!\n",
      "!\n",
      "!\n",
      "!\n",
      "!\n",
      "!\n",
      "!\n",
      "!\n",
      "!\n",
      "!\n"
     ]
    },
    {
     "name": "stderr",
     "output_type": "stream",
     "text": [
      "Extract dsift in train data:  90%|█████████ | 1821/2020 [01:56<00:12, 15.61it/s]"
     ]
    },
    {
     "name": "stdout",
     "output_type": "stream",
     "text": [
      "!\n",
      "!\n",
      "!\n",
      "!\n",
      "!\n",
      "!\n",
      "!\n",
      "!\n",
      "!\n",
      "!\n",
      "!\n",
      "!\n",
      "!\n",
      "!\n",
      "!\n",
      "!\n",
      "!\n"
     ]
    },
    {
     "name": "stderr",
     "output_type": "stream",
     "text": [
      "Extract dsift in train data:  90%|█████████ | 1825/2020 [01:56<00:12, 15.72it/s]"
     ]
    },
    {
     "name": "stdout",
     "output_type": "stream",
     "text": [
      "!\n",
      "!\n",
      "!\n",
      "!\n",
      "!\n",
      "!\n",
      "!\n",
      "!\n",
      "!\n",
      "!\n",
      "!\n",
      "!\n",
      "!\n",
      "!\n",
      "!\n",
      "!\n"
     ]
    },
    {
     "name": "stderr",
     "output_type": "stream",
     "text": [
      "Extract dsift in train data:  90%|█████████ | 1827/2020 [01:56<00:12, 15.91it/s]"
     ]
    },
    {
     "name": "stdout",
     "output_type": "stream",
     "text": [
      "!\n",
      "!\n",
      "!\n",
      "!\n",
      "!\n",
      "!\n",
      "!\n",
      "!\n",
      "!\n",
      "!\n",
      "!\n",
      "!\n",
      "!\n",
      "!\n",
      "!\n",
      "!\n",
      "!\n",
      "!\n"
     ]
    },
    {
     "name": "stderr",
     "output_type": "stream",
     "text": [
      "Extract dsift in train data:  91%|█████████ | 1831/2020 [01:57<00:11, 16.00it/s]"
     ]
    },
    {
     "name": "stdout",
     "output_type": "stream",
     "text": [
      "!\n",
      "!\n",
      "!\n",
      "!\n",
      "!\n",
      "!\n",
      "!\n",
      "!\n",
      "!\n",
      "!\n",
      "!\n",
      "!\n",
      "!\n",
      "!\n",
      "!\n",
      "!\n",
      "!\n"
     ]
    },
    {
     "name": "stderr",
     "output_type": "stream",
     "text": [
      "Extract dsift in train data:  91%|█████████ | 1835/2020 [01:57<00:11, 15.77it/s]"
     ]
    },
    {
     "name": "stdout",
     "output_type": "stream",
     "text": [
      "!\n",
      "!\n",
      "!\n",
      "!\n",
      "!\n",
      "!\n",
      "!\n",
      "!\n",
      "!\n",
      "!\n",
      "!\n",
      "!\n",
      "!\n",
      "!\n",
      "!\n",
      "!\n"
     ]
    },
    {
     "name": "stderr",
     "output_type": "stream",
     "text": [
      "Extract dsift in train data:  91%|█████████ | 1837/2020 [01:57<00:11, 15.82it/s]"
     ]
    },
    {
     "name": "stdout",
     "output_type": "stream",
     "text": [
      "!\n",
      "!\n",
      "!\n",
      "!\n",
      "!\n",
      "!\n",
      "!\n",
      "!\n",
      "!\n",
      "!\n",
      "!\n",
      "!\n",
      "!\n",
      "!\n",
      "!\n",
      "!\n",
      "!\n"
     ]
    },
    {
     "name": "stderr",
     "output_type": "stream",
     "text": [
      "Extract dsift in train data:  91%|█████████ | 1841/2020 [01:57<00:11, 16.02it/s]"
     ]
    },
    {
     "name": "stdout",
     "output_type": "stream",
     "text": [
      "!\n",
      "!\n",
      "!\n",
      "!\n",
      "!\n",
      "!\n",
      "!\n",
      "!\n",
      "!\n",
      "!\n",
      "!\n",
      "!\n",
      "!\n",
      "!\n",
      "!\n",
      "!\n",
      "!\n"
     ]
    },
    {
     "name": "stderr",
     "output_type": "stream",
     "text": [
      "Extract dsift in train data:  91%|█████████▏| 1845/2020 [01:58<00:10, 16.10it/s]"
     ]
    },
    {
     "name": "stdout",
     "output_type": "stream",
     "text": [
      "!\n",
      "!\n",
      "!\n",
      "!\n",
      "!\n",
      "!\n",
      "!\n",
      "!\n",
      "!\n",
      "!\n",
      "!\n",
      "!\n",
      "!\n",
      "!\n",
      "!\n",
      "!\n",
      "!\n"
     ]
    },
    {
     "name": "stderr",
     "output_type": "stream",
     "text": [
      "Extract dsift in train data:  91%|█████████▏| 1847/2020 [01:58<00:10, 16.03it/s]"
     ]
    },
    {
     "name": "stdout",
     "output_type": "stream",
     "text": [
      "!\n",
      "!\n",
      "!\n",
      "!\n",
      "!\n",
      "!\n",
      "!\n",
      "!\n",
      "!\n",
      "!\n",
      "!\n",
      "!\n",
      "!\n",
      "!\n",
      "!\n",
      "!\n",
      "!\n"
     ]
    },
    {
     "name": "stderr",
     "output_type": "stream",
     "text": [
      "Extract dsift in train data:  92%|█████████▏| 1851/2020 [01:58<00:10, 16.22it/s]"
     ]
    },
    {
     "name": "stdout",
     "output_type": "stream",
     "text": [
      "!\n",
      "!\n",
      "!\n",
      "!\n",
      "!\n",
      "!\n",
      "!\n",
      "!\n",
      "!\n",
      "!\n",
      "!\n",
      "!\n",
      "!\n",
      "!\n",
      "!\n",
      "!\n"
     ]
    },
    {
     "name": "stderr",
     "output_type": "stream",
     "text": [
      "Extract dsift in train data:  92%|█████████▏| 1855/2020 [01:58<00:10, 16.07it/s]"
     ]
    },
    {
     "name": "stdout",
     "output_type": "stream",
     "text": [
      "!\n",
      "!\n",
      "!\n",
      "!\n",
      "!\n",
      "!\n",
      "!\n",
      "!\n",
      "!\n",
      "!\n",
      "!\n",
      "!\n",
      "!\n",
      "!\n",
      "!\n",
      "!\n",
      "!\n"
     ]
    },
    {
     "name": "stderr",
     "output_type": "stream",
     "text": [
      "Extract dsift in train data:  92%|█████████▏| 1857/2020 [01:58<00:10, 15.95it/s]"
     ]
    },
    {
     "name": "stdout",
     "output_type": "stream",
     "text": [
      "!\n",
      "!\n",
      "!\n",
      "!\n",
      "!\n",
      "!\n",
      "!\n",
      "!\n",
      "!\n",
      "!\n",
      "!\n",
      "!\n",
      "!\n",
      "!\n",
      "!\n",
      "!\n",
      "!\n"
     ]
    },
    {
     "name": "stderr",
     "output_type": "stream",
     "text": [
      "Extract dsift in train data:  92%|█████████▏| 1861/2020 [01:59<00:10, 14.72it/s]"
     ]
    },
    {
     "name": "stdout",
     "output_type": "stream",
     "text": [
      "!\n",
      "!\n",
      "!\n",
      "!\n",
      "!\n",
      "!\n",
      "!\n",
      "!\n",
      "!\n",
      "!\n",
      "!\n",
      "!\n"
     ]
    },
    {
     "name": "stderr",
     "output_type": "stream",
     "text": [
      "Extract dsift in train data:  92%|█████████▏| 1863/2020 [01:59<00:11, 13.50it/s]"
     ]
    },
    {
     "name": "stdout",
     "output_type": "stream",
     "text": [
      "!\n",
      "!\n",
      "!\n",
      "!\n",
      "!\n",
      "!\n",
      "!\n",
      "!\n",
      "!\n",
      "!\n",
      "!\n",
      "!\n",
      "!\n"
     ]
    },
    {
     "name": "stderr",
     "output_type": "stream",
     "text": [
      "Extract dsift in train data:  92%|█████████▏| 1865/2020 [01:59<00:12, 12.69it/s]"
     ]
    },
    {
     "name": "stdout",
     "output_type": "stream",
     "text": [
      "!\n",
      "!\n",
      "!\n",
      "!\n",
      "!\n",
      "!\n",
      "!\n",
      "!\n",
      "!\n",
      "!\n",
      "!\n"
     ]
    },
    {
     "name": "stderr",
     "output_type": "stream",
     "text": [
      "Extract dsift in train data:  92%|█████████▏| 1867/2020 [01:59<00:12, 12.58it/s]"
     ]
    },
    {
     "name": "stdout",
     "output_type": "stream",
     "text": [
      "!\n",
      "!\n",
      "!\n",
      "!\n",
      "!\n",
      "!\n",
      "!\n",
      "!\n",
      "!\n",
      "!\n",
      "!\n",
      "!\n",
      "!\n"
     ]
    },
    {
     "name": "stderr",
     "output_type": "stream",
     "text": [
      "Extract dsift in train data:  93%|█████████▎| 1871/2020 [01:59<00:12, 12.27it/s]"
     ]
    },
    {
     "name": "stdout",
     "output_type": "stream",
     "text": [
      "!\n",
      "!\n",
      "!\n",
      "!\n",
      "!\n",
      "!\n",
      "!\n",
      "!\n",
      "!\n",
      "!\n",
      "!\n",
      "!\n"
     ]
    },
    {
     "name": "stderr",
     "output_type": "stream",
     "text": [
      "Extract dsift in train data:  93%|█████████▎| 1873/2020 [02:00<00:11, 12.41it/s]"
     ]
    },
    {
     "name": "stdout",
     "output_type": "stream",
     "text": [
      "!\n",
      "!\n",
      "!\n",
      "!\n",
      "!\n",
      "!\n",
      "!\n",
      "!\n",
      "!\n",
      "!\n",
      "!\n",
      "!\n",
      "!\n",
      "!\n"
     ]
    },
    {
     "name": "stderr",
     "output_type": "stream",
     "text": [
      "Extract dsift in train data:  93%|█████████▎| 1877/2020 [02:00<00:10, 13.62it/s]"
     ]
    },
    {
     "name": "stdout",
     "output_type": "stream",
     "text": [
      "!\n",
      "!\n",
      "!\n",
      "!\n",
      "!\n",
      "!\n",
      "!\n",
      "!\n",
      "!\n",
      "!\n",
      "!\n",
      "!\n",
      "!\n",
      "!\n",
      "!\n",
      "!\n"
     ]
    },
    {
     "name": "stderr",
     "output_type": "stream",
     "text": [
      "Extract dsift in train data:  93%|█████████▎| 1879/2020 [02:00<00:09, 14.19it/s]"
     ]
    },
    {
     "name": "stdout",
     "output_type": "stream",
     "text": [
      "!\n",
      "!\n",
      "!\n",
      "!\n",
      "!\n",
      "!\n",
      "!\n",
      "!\n",
      "!\n",
      "!\n",
      "!\n",
      "!\n",
      "!\n",
      "!\n",
      "!\n",
      "!\n",
      "!\n"
     ]
    },
    {
     "name": "stderr",
     "output_type": "stream",
     "text": [
      "Extract dsift in train data:  93%|█████████▎| 1883/2020 [02:00<00:09, 15.14it/s]"
     ]
    },
    {
     "name": "stdout",
     "output_type": "stream",
     "text": [
      "!\n",
      "!\n",
      "!\n",
      "!\n",
      "!\n",
      "!\n",
      "!\n",
      "!\n",
      "!\n",
      "!\n",
      "!\n",
      "!\n",
      "!\n",
      "!\n",
      "!\n",
      "!\n",
      "!\n"
     ]
    },
    {
     "name": "stderr",
     "output_type": "stream",
     "text": [
      "Extract dsift in train data:  93%|█████████▎| 1887/2020 [02:00<00:08, 15.50it/s]"
     ]
    },
    {
     "name": "stdout",
     "output_type": "stream",
     "text": [
      "!\n",
      "!\n",
      "!\n",
      "!\n",
      "!\n",
      "!\n",
      "!\n",
      "!\n",
      "!\n",
      "!\n",
      "!\n",
      "!\n",
      "!\n",
      "!\n",
      "!\n",
      "!\n"
     ]
    },
    {
     "name": "stderr",
     "output_type": "stream",
     "text": [
      "Extract dsift in train data:  94%|█████████▎| 1889/2020 [02:01<00:09, 14.54it/s]"
     ]
    },
    {
     "name": "stdout",
     "output_type": "stream",
     "text": [
      "!\n",
      "!\n",
      "!\n",
      "!\n",
      "!\n",
      "!\n",
      "!\n",
      "!\n",
      "!\n",
      "!\n",
      "!\n",
      "!\n",
      "!\n",
      "!\n"
     ]
    },
    {
     "name": "stderr",
     "output_type": "stream",
     "text": [
      "Extract dsift in train data:  94%|█████████▎| 1891/2020 [02:01<00:09, 13.89it/s]"
     ]
    },
    {
     "name": "stdout",
     "output_type": "stream",
     "text": [
      "!\n",
      "!\n",
      "!\n",
      "!\n",
      "!\n",
      "!\n",
      "!\n",
      "!\n",
      "!\n",
      "!\n",
      "!\n",
      "!\n",
      "!\n"
     ]
    },
    {
     "name": "stderr",
     "output_type": "stream",
     "text": [
      "Extract dsift in train data:  94%|█████████▍| 1895/2020 [02:01<00:09, 13.50it/s]"
     ]
    },
    {
     "name": "stdout",
     "output_type": "stream",
     "text": [
      "!\n",
      "!\n",
      "!\n",
      "!\n",
      "!\n",
      "!\n",
      "!\n",
      "!\n",
      "!\n",
      "!\n",
      "!\n",
      "!\n",
      "!\n",
      "!\n"
     ]
    },
    {
     "name": "stderr",
     "output_type": "stream",
     "text": [
      "Extract dsift in train data:  94%|█████████▍| 1897/2020 [02:01<00:08, 14.26it/s]"
     ]
    },
    {
     "name": "stdout",
     "output_type": "stream",
     "text": [
      "!\n",
      "!\n",
      "!\n",
      "!\n",
      "!\n",
      "!\n",
      "!\n",
      "!\n",
      "!\n",
      "!\n",
      "!\n",
      "!\n",
      "!\n",
      "!\n",
      "!\n",
      "!\n",
      "!\n"
     ]
    },
    {
     "name": "stderr",
     "output_type": "stream",
     "text": [
      "Extract dsift in train data:  94%|█████████▍| 1901/2020 [02:01<00:07, 15.04it/s]"
     ]
    },
    {
     "name": "stdout",
     "output_type": "stream",
     "text": [
      "!\n",
      "!\n",
      "!\n",
      "!\n",
      "!\n",
      "!\n",
      "!\n",
      "!\n",
      "!\n",
      "!\n",
      "!\n",
      "!\n",
      "!\n",
      "!\n",
      "!\n",
      "!\n",
      "!\n"
     ]
    },
    {
     "name": "stderr",
     "output_type": "stream",
     "text": [
      "Extract dsift in train data:  94%|█████████▍| 1905/2020 [02:02<00:07, 15.42it/s]"
     ]
    },
    {
     "name": "stdout",
     "output_type": "stream",
     "text": [
      "!\n",
      "!\n",
      "!\n",
      "!\n",
      "!\n",
      "!\n",
      "!\n",
      "!\n",
      "!\n",
      "!\n",
      "!\n",
      "!\n",
      "!\n",
      "!\n",
      "!\n",
      "!\n",
      "!\n"
     ]
    },
    {
     "name": "stderr",
     "output_type": "stream",
     "text": [
      "Extract dsift in train data:  94%|█████████▍| 1907/2020 [02:02<00:07, 15.47it/s]"
     ]
    },
    {
     "name": "stdout",
     "output_type": "stream",
     "text": [
      "!\n",
      "!\n",
      "!\n",
      "!\n",
      "!\n",
      "!\n",
      "!\n",
      "!\n",
      "!\n",
      "!\n",
      "!\n",
      "!\n",
      "!\n",
      "!\n",
      "!\n",
      "!\n",
      "!\n"
     ]
    },
    {
     "name": "stderr",
     "output_type": "stream",
     "text": [
      "Extract dsift in train data:  95%|█████████▍| 1911/2020 [02:02<00:06, 15.62it/s]"
     ]
    },
    {
     "name": "stdout",
     "output_type": "stream",
     "text": [
      "!\n",
      "!\n",
      "!\n",
      "!\n",
      "!\n",
      "!\n",
      "!\n",
      "!\n",
      "!\n",
      "!\n",
      "!\n",
      "!\n",
      "!\n",
      "!\n",
      "!\n",
      "!\n"
     ]
    },
    {
     "name": "stderr",
     "output_type": "stream",
     "text": [
      "Extract dsift in train data:  95%|█████████▍| 1915/2020 [02:02<00:06, 15.93it/s]"
     ]
    },
    {
     "name": "stdout",
     "output_type": "stream",
     "text": [
      "!\n",
      "!\n",
      "!\n",
      "!\n",
      "!\n",
      "!\n",
      "!\n",
      "!\n",
      "!\n",
      "!\n",
      "!\n",
      "!\n",
      "!\n",
      "!\n",
      "!\n",
      "!\n",
      "!\n"
     ]
    },
    {
     "name": "stderr",
     "output_type": "stream",
     "text": [
      "Extract dsift in train data:  95%|█████████▍| 1917/2020 [02:02<00:06, 15.87it/s]"
     ]
    },
    {
     "name": "stdout",
     "output_type": "stream",
     "text": [
      "!\n",
      "!\n",
      "!\n",
      "!\n",
      "!\n",
      "!\n",
      "!\n",
      "!\n",
      "!\n",
      "!\n",
      "!\n",
      "!\n",
      "!\n",
      "!\n",
      "!\n",
      "!\n",
      "!\n"
     ]
    },
    {
     "name": "stderr",
     "output_type": "stream",
     "text": [
      "Extract dsift in train data:  95%|█████████▌| 1921/2020 [02:03<00:06, 15.87it/s]"
     ]
    },
    {
     "name": "stdout",
     "output_type": "stream",
     "text": [
      "!\n",
      "!\n",
      "!\n",
      "!\n",
      "!\n",
      "!\n",
      "!\n",
      "!\n",
      "!\n",
      "!\n",
      "!\n",
      "!\n",
      "!\n",
      "!\n",
      "!\n",
      "!\n"
     ]
    },
    {
     "name": "stderr",
     "output_type": "stream",
     "text": [
      "Extract dsift in train data:  95%|█████████▌| 1925/2020 [02:03<00:05, 15.94it/s]"
     ]
    },
    {
     "name": "stdout",
     "output_type": "stream",
     "text": [
      "!\n",
      "!\n",
      "!\n",
      "!\n",
      "!\n",
      "!\n",
      "!\n",
      "!\n",
      "!\n",
      "!\n",
      "!\n",
      "!\n",
      "!\n",
      "!\n",
      "!\n",
      "!\n",
      "!\n"
     ]
    },
    {
     "name": "stderr",
     "output_type": "stream",
     "text": [
      "Extract dsift in train data:  95%|█████████▌| 1927/2020 [02:03<00:05, 15.94it/s]"
     ]
    },
    {
     "name": "stdout",
     "output_type": "stream",
     "text": [
      "!\n",
      "!\n",
      "!\n",
      "!\n",
      "!\n",
      "!\n",
      "!\n",
      "!\n",
      "!\n",
      "!\n",
      "!\n",
      "!\n",
      "!\n",
      "!\n",
      "!\n",
      "!\n",
      "!\n"
     ]
    },
    {
     "name": "stderr",
     "output_type": "stream",
     "text": [
      "Extract dsift in train data:  96%|█████████▌| 1931/2020 [02:03<00:05, 16.07it/s]"
     ]
    },
    {
     "name": "stdout",
     "output_type": "stream",
     "text": [
      "!\n",
      "!\n",
      "!\n",
      "!\n",
      "!\n",
      "!\n",
      "!\n",
      "!\n",
      "!\n",
      "!\n",
      "!\n",
      "!\n",
      "!\n",
      "!\n",
      "!\n",
      "!\n"
     ]
    },
    {
     "name": "stderr",
     "output_type": "stream",
     "text": [
      "Extract dsift in train data:  96%|█████████▌| 1935/2020 [02:04<00:05, 15.88it/s]"
     ]
    },
    {
     "name": "stdout",
     "output_type": "stream",
     "text": [
      "!\n",
      "!\n",
      "!\n",
      "!\n",
      "!\n",
      "!\n",
      "!\n",
      "!\n",
      "!\n",
      "!\n",
      "!\n",
      "!\n",
      "!\n",
      "!\n",
      "!\n",
      "!\n",
      "!\n"
     ]
    },
    {
     "name": "stderr",
     "output_type": "stream",
     "text": [
      "Extract dsift in train data:  96%|█████████▌| 1937/2020 [02:04<00:05, 16.03it/s]"
     ]
    },
    {
     "name": "stdout",
     "output_type": "stream",
     "text": [
      "!\n",
      "!\n",
      "!\n",
      "!\n",
      "!\n",
      "!\n",
      "!\n",
      "!\n",
      "!\n",
      "!\n",
      "!\n",
      "!\n",
      "!\n",
      "!\n",
      "!\n",
      "!\n",
      "!\n"
     ]
    },
    {
     "name": "stderr",
     "output_type": "stream",
     "text": [
      "Extract dsift in train data:  96%|█████████▌| 1941/2020 [02:04<00:04, 15.88it/s]"
     ]
    },
    {
     "name": "stdout",
     "output_type": "stream",
     "text": [
      "!\n",
      "!\n",
      "!\n",
      "!\n",
      "!\n",
      "!\n",
      "!\n",
      "!\n",
      "!\n",
      "!\n",
      "!\n",
      "!\n",
      "!\n",
      "!\n",
      "!\n",
      "!\n"
     ]
    },
    {
     "name": "stderr",
     "output_type": "stream",
     "text": [
      "Extract dsift in train data:  96%|█████████▋| 1945/2020 [02:04<00:04, 15.97it/s]"
     ]
    },
    {
     "name": "stdout",
     "output_type": "stream",
     "text": [
      "!\n",
      "!\n",
      "!\n",
      "!\n",
      "!\n",
      "!\n",
      "!\n",
      "!\n",
      "!\n",
      "!\n",
      "!\n",
      "!\n",
      "!\n",
      "!\n",
      "!\n",
      "!\n",
      "!\n"
     ]
    },
    {
     "name": "stderr",
     "output_type": "stream",
     "text": [
      "Extract dsift in train data:  96%|█████████▋| 1947/2020 [02:04<00:04, 15.79it/s]"
     ]
    },
    {
     "name": "stdout",
     "output_type": "stream",
     "text": [
      "!\n",
      "!\n",
      "!\n",
      "!\n",
      "!\n",
      "!\n",
      "!\n",
      "!\n",
      "!\n",
      "!\n",
      "!\n",
      "!\n",
      "!\n",
      "!\n",
      "!\n",
      "!\n",
      "!\n"
     ]
    },
    {
     "name": "stderr",
     "output_type": "stream",
     "text": [
      "Extract dsift in train data:  97%|█████████▋| 1951/2020 [02:05<00:04, 15.73it/s]"
     ]
    },
    {
     "name": "stdout",
     "output_type": "stream",
     "text": [
      "!\n",
      "!\n",
      "!\n",
      "!\n",
      "!\n",
      "!\n",
      "!\n",
      "!\n",
      "!\n",
      "!\n",
      "!\n",
      "!\n",
      "!\n",
      "!\n",
      "!\n",
      "!\n"
     ]
    },
    {
     "name": "stderr",
     "output_type": "stream",
     "text": [
      "Extract dsift in train data:  97%|█████████▋| 1955/2020 [02:05<00:04, 15.80it/s]"
     ]
    },
    {
     "name": "stdout",
     "output_type": "stream",
     "text": [
      "!\n",
      "!\n",
      "!\n",
      "!\n",
      "!\n",
      "!\n",
      "!\n",
      "!\n",
      "!\n",
      "!\n",
      "!\n",
      "!\n",
      "!\n",
      "!\n",
      "!\n",
      "!\n"
     ]
    },
    {
     "name": "stderr",
     "output_type": "stream",
     "text": [
      "Extract dsift in train data:  97%|█████████▋| 1957/2020 [02:05<00:04, 15.58it/s]"
     ]
    },
    {
     "name": "stdout",
     "output_type": "stream",
     "text": [
      "!\n",
      "!\n",
      "!\n",
      "!\n",
      "!\n",
      "!\n",
      "!\n",
      "!\n",
      "!\n",
      "!\n",
      "!\n",
      "!\n",
      "!\n",
      "!\n",
      "!\n",
      "!\n",
      "!\n"
     ]
    },
    {
     "name": "stderr",
     "output_type": "stream",
     "text": [
      "Extract dsift in train data:  97%|█████████▋| 1961/2020 [02:05<00:03, 15.77it/s]"
     ]
    },
    {
     "name": "stdout",
     "output_type": "stream",
     "text": [
      "!\n",
      "!\n",
      "!\n",
      "!\n",
      "!\n",
      "!\n",
      "!\n",
      "!\n",
      "!\n",
      "!\n",
      "!\n",
      "!\n",
      "!\n",
      "!\n",
      "!\n",
      "!\n",
      "!\n"
     ]
    },
    {
     "name": "stderr",
     "output_type": "stream",
     "text": [
      "Extract dsift in train data:  97%|█████████▋| 1965/2020 [02:06<00:03, 15.64it/s]"
     ]
    },
    {
     "name": "stdout",
     "output_type": "stream",
     "text": [
      "!\n",
      "!\n",
      "!\n",
      "!\n",
      "!\n",
      "!\n",
      "!\n",
      "!\n",
      "!\n",
      "!\n",
      "!\n",
      "!\n",
      "!\n",
      "!\n",
      "!\n",
      "!\n"
     ]
    },
    {
     "name": "stderr",
     "output_type": "stream",
     "text": [
      "Extract dsift in train data:  97%|█████████▋| 1967/2020 [02:06<00:03, 15.72it/s]"
     ]
    },
    {
     "name": "stdout",
     "output_type": "stream",
     "text": [
      "!\n",
      "!\n",
      "!\n",
      "!\n",
      "!\n",
      "!\n",
      "!\n",
      "!\n",
      "!\n",
      "!\n",
      "!\n",
      "!\n",
      "!\n",
      "!\n",
      "!\n",
      "!\n",
      "!\n"
     ]
    },
    {
     "name": "stderr",
     "output_type": "stream",
     "text": [
      "Extract dsift in train data:  98%|█████████▊| 1971/2020 [02:06<00:03, 15.79it/s]"
     ]
    },
    {
     "name": "stdout",
     "output_type": "stream",
     "text": [
      "!\n",
      "!\n",
      "!\n",
      "!\n",
      "!\n",
      "!\n",
      "!\n",
      "!\n",
      "!\n",
      "!\n",
      "!\n",
      "!\n",
      "!\n",
      "!\n",
      "!\n",
      "!\n",
      "!\n"
     ]
    },
    {
     "name": "stderr",
     "output_type": "stream",
     "text": [
      "Extract dsift in train data:  98%|█████████▊| 1975/2020 [02:06<00:02, 16.02it/s]"
     ]
    },
    {
     "name": "stdout",
     "output_type": "stream",
     "text": [
      "!\n",
      "!\n",
      "!\n",
      "!\n",
      "!\n",
      "!\n",
      "!\n",
      "!\n",
      "!\n",
      "!\n",
      "!\n",
      "!\n",
      "!\n",
      "!\n",
      "!\n",
      "!\n",
      "!\n"
     ]
    },
    {
     "name": "stderr",
     "output_type": "stream",
     "text": [
      "Extract dsift in train data:  98%|█████████▊| 1977/2020 [02:06<00:02, 15.84it/s]"
     ]
    },
    {
     "name": "stdout",
     "output_type": "stream",
     "text": [
      "!\n",
      "!\n",
      "!\n",
      "!\n",
      "!\n",
      "!\n",
      "!\n",
      "!\n",
      "!\n",
      "!\n",
      "!\n",
      "!\n",
      "!\n",
      "!\n",
      "!\n",
      "!\n",
      "!\n"
     ]
    },
    {
     "name": "stderr",
     "output_type": "stream",
     "text": [
      "Extract dsift in train data:  98%|█████████▊| 1981/2020 [02:07<00:02, 15.95it/s]"
     ]
    },
    {
     "name": "stdout",
     "output_type": "stream",
     "text": [
      "!\n",
      "!\n",
      "!\n",
      "!\n",
      "!\n",
      "!\n",
      "!\n",
      "!\n",
      "!\n",
      "!\n",
      "!\n",
      "!\n",
      "!\n",
      "!\n",
      "!\n",
      "!\n"
     ]
    },
    {
     "name": "stderr",
     "output_type": "stream",
     "text": [
      "Extract dsift in train data:  98%|█████████▊| 1985/2020 [02:07<00:02, 15.86it/s]"
     ]
    },
    {
     "name": "stdout",
     "output_type": "stream",
     "text": [
      "!\n",
      "!\n",
      "!\n",
      "!\n",
      "!\n",
      "!\n",
      "!\n",
      "!\n",
      "!\n",
      "!\n",
      "!\n",
      "!\n",
      "!\n",
      "!\n",
      "!\n",
      "!\n"
     ]
    },
    {
     "name": "stderr",
     "output_type": "stream",
     "text": [
      "Extract dsift in train data:  98%|█████████▊| 1987/2020 [02:07<00:02, 15.71it/s]"
     ]
    },
    {
     "name": "stdout",
     "output_type": "stream",
     "text": [
      "!\n",
      "!\n",
      "!\n",
      "!\n",
      "!\n",
      "!\n",
      "!\n",
      "!\n",
      "!\n",
      "!\n",
      "!\n",
      "!\n",
      "!\n",
      "!\n",
      "!\n",
      "!\n",
      "!\n"
     ]
    },
    {
     "name": "stderr",
     "output_type": "stream",
     "text": [
      "Extract dsift in train data:  99%|█████████▊| 1991/2020 [02:07<00:01, 16.03it/s]"
     ]
    },
    {
     "name": "stdout",
     "output_type": "stream",
     "text": [
      "!\n",
      "!\n",
      "!\n",
      "!\n",
      "!\n",
      "!\n",
      "!\n",
      "!\n",
      "!\n",
      "!\n",
      "!\n",
      "!\n",
      "!\n",
      "!\n",
      "!\n",
      "!\n",
      "!\n"
     ]
    },
    {
     "name": "stderr",
     "output_type": "stream",
     "text": [
      "Extract dsift in train data:  99%|█████████▉| 1995/2020 [02:07<00:01, 15.99it/s]"
     ]
    },
    {
     "name": "stdout",
     "output_type": "stream",
     "text": [
      "!\n",
      "!\n",
      "!\n",
      "!\n",
      "!\n",
      "!\n",
      "!\n",
      "!\n",
      "!\n",
      "!\n",
      "!\n",
      "!\n",
      "!\n",
      "!\n",
      "!\n",
      "!\n",
      "!\n"
     ]
    },
    {
     "name": "stderr",
     "output_type": "stream",
     "text": [
      "Extract dsift in train data:  99%|█████████▉| 1997/2020 [02:08<00:01, 15.98it/s]"
     ]
    },
    {
     "name": "stdout",
     "output_type": "stream",
     "text": [
      "!\n",
      "!\n",
      "!\n",
      "!\n",
      "!\n",
      "!\n",
      "!\n",
      "!\n",
      "!\n",
      "!\n",
      "!\n",
      "!\n",
      "!\n",
      "!\n",
      "!\n",
      "!\n",
      "!\n"
     ]
    },
    {
     "name": "stderr",
     "output_type": "stream",
     "text": [
      "Extract dsift in train data:  99%|█████████▉| 2001/2020 [02:08<00:01, 15.87it/s]"
     ]
    },
    {
     "name": "stdout",
     "output_type": "stream",
     "text": [
      "!\n",
      "!\n",
      "!\n",
      "!\n",
      "!\n",
      "!\n",
      "!\n",
      "!\n",
      "!\n",
      "!\n",
      "!\n",
      "!\n",
      "!\n",
      "!\n",
      "!\n",
      "!\n"
     ]
    },
    {
     "name": "stderr",
     "output_type": "stream",
     "text": [
      "Extract dsift in train data:  99%|█████████▉| 2005/2020 [02:08<00:00, 15.76it/s]"
     ]
    },
    {
     "name": "stdout",
     "output_type": "stream",
     "text": [
      "!\n",
      "!\n",
      "!\n",
      "!\n",
      "!\n",
      "!\n",
      "!\n",
      "!\n",
      "!\n",
      "!\n",
      "!\n",
      "!\n",
      "!\n",
      "!\n",
      "!\n",
      "!\n",
      "!\n"
     ]
    },
    {
     "name": "stderr",
     "output_type": "stream",
     "text": [
      "Extract dsift in train data:  99%|█████████▉| 2007/2020 [02:08<00:00, 15.75it/s]"
     ]
    },
    {
     "name": "stdout",
     "output_type": "stream",
     "text": [
      "!\n",
      "!\n",
      "!\n",
      "!\n",
      "!\n",
      "!\n",
      "!\n",
      "!\n",
      "!\n",
      "!\n",
      "!\n",
      "!\n",
      "!\n",
      "!\n",
      "!\n",
      "!\n",
      "!\n"
     ]
    },
    {
     "name": "stderr",
     "output_type": "stream",
     "text": [
      "Extract dsift in train data: 100%|█████████▉| 2011/2020 [02:08<00:00, 15.86it/s]"
     ]
    },
    {
     "name": "stdout",
     "output_type": "stream",
     "text": [
      "!\n",
      "!\n",
      "!\n",
      "!\n",
      "!\n",
      "!\n",
      "!\n",
      "!\n",
      "!\n",
      "!\n",
      "!\n",
      "!\n",
      "!\n",
      "!\n",
      "!\n",
      "!\n"
     ]
    },
    {
     "name": "stderr",
     "output_type": "stream",
     "text": [
      "Extract dsift in train data: 100%|█████████▉| 2015/2020 [02:09<00:00, 15.78it/s]"
     ]
    },
    {
     "name": "stdout",
     "output_type": "stream",
     "text": [
      "!\n",
      "!\n",
      "!\n",
      "!\n",
      "!\n",
      "!\n",
      "!\n",
      "!\n",
      "!\n",
      "!\n",
      "!\n",
      "!\n",
      "!\n",
      "!\n",
      "!\n",
      "!\n",
      "!\n"
     ]
    },
    {
     "name": "stderr",
     "output_type": "stream",
     "text": [
      "Extract dsift in train data: 100%|█████████▉| 2017/2020 [02:09<00:00, 15.75it/s]"
     ]
    },
    {
     "name": "stdout",
     "output_type": "stream",
     "text": [
      "!\n",
      "!\n",
      "!\n",
      "!\n",
      "!\n",
      "!\n",
      "!\n",
      "!\n",
      "!\n",
      "!\n",
      "!\n",
      "!\n",
      "!\n",
      "!\n",
      "!\n",
      "!\n",
      "!\n"
     ]
    },
    {
     "name": "stderr",
     "output_type": "stream",
     "text": [
      "Extract dsift in train data: 100%|██████████| 2020/2020 [02:09<00:00, 15.60it/s]\n",
      "Extract dsift in test data:   0%|          | 2/505 [00:00<00:31, 16.00it/s]"
     ]
    },
    {
     "name": "stdout",
     "output_type": "stream",
     "text": [
      "!\n",
      "!\n",
      "!\n",
      "!\n",
      "!\n",
      "!\n",
      "!\n",
      "!\n",
      "!\n",
      "!\n",
      "!\n",
      "!\n",
      "!\n",
      "!\n",
      "!\n",
      "!\n"
     ]
    },
    {
     "name": "stderr",
     "output_type": "stream",
     "text": [
      "Extract dsift in test data:   1%|          | 4/505 [00:00<00:30, 16.37it/s]"
     ]
    },
    {
     "name": "stdout",
     "output_type": "stream",
     "text": [
      "!\n",
      "!\n",
      "!\n",
      "!\n",
      "!\n",
      "!\n",
      "!\n",
      "!\n",
      "!\n",
      "!\n",
      "!\n",
      "!\n",
      "!\n",
      "!\n",
      "!\n",
      "!\n",
      "!\n",
      "!\n"
     ]
    },
    {
     "name": "stderr",
     "output_type": "stream",
     "text": [
      "Extract dsift in test data:   2%|▏         | 8/505 [00:00<00:32, 15.19it/s]"
     ]
    },
    {
     "name": "stdout",
     "output_type": "stream",
     "text": [
      "!\n",
      "!\n",
      "!\n",
      "!\n",
      "!\n",
      "!\n",
      "!\n",
      "!\n",
      "!\n",
      "!\n",
      "!\n",
      "!\n",
      "!\n",
      "!\n"
     ]
    },
    {
     "name": "stderr",
     "output_type": "stream",
     "text": [
      "Extract dsift in test data:   2%|▏         | 10/505 [00:00<00:33, 14.75it/s]"
     ]
    },
    {
     "name": "stdout",
     "output_type": "stream",
     "text": [
      "!\n",
      "!\n",
      "!\n",
      "!\n",
      "!\n",
      "!\n",
      "!\n",
      "!\n",
      "!\n",
      "!\n",
      "!\n",
      "!\n",
      "!\n",
      "!\n",
      "!\n",
      "!\n",
      "!\n"
     ]
    },
    {
     "name": "stderr",
     "output_type": "stream",
     "text": [
      "Extract dsift in test data:   3%|▎         | 14/505 [00:00<00:31, 15.60it/s]"
     ]
    },
    {
     "name": "stdout",
     "output_type": "stream",
     "text": [
      "!\n",
      "!\n",
      "!\n",
      "!\n",
      "!\n",
      "!\n",
      "!\n",
      "!\n",
      "!\n",
      "!\n",
      "!\n",
      "!\n",
      "!\n",
      "!\n",
      "!\n",
      "!\n"
     ]
    },
    {
     "name": "stderr",
     "output_type": "stream",
     "text": [
      "Extract dsift in test data:   4%|▎         | 18/505 [00:01<00:30, 15.90it/s]"
     ]
    },
    {
     "name": "stdout",
     "output_type": "stream",
     "text": [
      "!\n",
      "!\n",
      "!\n",
      "!\n",
      "!\n",
      "!\n",
      "!\n",
      "!\n",
      "!\n",
      "!\n",
      "!\n",
      "!\n",
      "!\n",
      "!\n",
      "!\n",
      "!\n",
      "!\n"
     ]
    },
    {
     "name": "stderr",
     "output_type": "stream",
     "text": [
      "Extract dsift in test data:   4%|▍         | 20/505 [00:01<00:30, 15.75it/s]"
     ]
    },
    {
     "name": "stdout",
     "output_type": "stream",
     "text": [
      "!\n",
      "!\n",
      "!\n",
      "!\n",
      "!\n",
      "!\n",
      "!\n",
      "!\n",
      "!\n",
      "!\n",
      "!\n",
      "!\n",
      "!\n",
      "!\n",
      "!\n",
      "!\n",
      "!\n"
     ]
    },
    {
     "name": "stderr",
     "output_type": "stream",
     "text": [
      "Extract dsift in test data:   5%|▍         | 24/505 [00:01<00:30, 15.96it/s]"
     ]
    },
    {
     "name": "stdout",
     "output_type": "stream",
     "text": [
      "!\n",
      "!\n",
      "!\n",
      "!\n",
      "!\n",
      "!\n",
      "!\n",
      "!\n",
      "!\n",
      "!\n",
      "!\n",
      "!\n",
      "!\n",
      "!\n",
      "!\n",
      "!\n"
     ]
    },
    {
     "name": "stderr",
     "output_type": "stream",
     "text": [
      "Extract dsift in test data:   6%|▌         | 28/505 [00:01<00:30, 15.86it/s]"
     ]
    },
    {
     "name": "stdout",
     "output_type": "stream",
     "text": [
      "!\n",
      "!\n",
      "!\n",
      "!\n",
      "!\n",
      "!\n",
      "!\n",
      "!\n",
      "!\n",
      "!\n",
      "!\n",
      "!\n",
      "!\n",
      "!\n",
      "!\n",
      "!\n"
     ]
    },
    {
     "name": "stderr",
     "output_type": "stream",
     "text": [
      "Extract dsift in test data:   6%|▌         | 30/505 [00:01<00:30, 15.67it/s]"
     ]
    },
    {
     "name": "stdout",
     "output_type": "stream",
     "text": [
      "!\n",
      "!\n",
      "!\n",
      "!\n",
      "!\n",
      "!\n",
      "!\n",
      "!\n",
      "!\n",
      "!\n",
      "!\n",
      "!\n",
      "!\n",
      "!\n",
      "!\n",
      "!\n",
      "!\n"
     ]
    },
    {
     "name": "stderr",
     "output_type": "stream",
     "text": [
      "Extract dsift in test data:   7%|▋         | 34/505 [00:02<00:29, 15.80it/s]"
     ]
    },
    {
     "name": "stdout",
     "output_type": "stream",
     "text": [
      "!\n",
      "!\n",
      "!\n",
      "!\n",
      "!\n",
      "!\n",
      "!\n",
      "!\n",
      "!\n",
      "!\n",
      "!\n",
      "!\n",
      "!\n",
      "!\n",
      "!\n",
      "!\n",
      "!\n"
     ]
    },
    {
     "name": "stderr",
     "output_type": "stream",
     "text": [
      "Extract dsift in test data:   8%|▊         | 38/505 [00:02<00:29, 16.03it/s]"
     ]
    },
    {
     "name": "stdout",
     "output_type": "stream",
     "text": [
      "!\n",
      "!\n",
      "!\n",
      "!\n",
      "!\n",
      "!\n",
      "!\n",
      "!\n",
      "!\n",
      "!\n",
      "!\n",
      "!\n",
      "!\n",
      "!\n",
      "!\n",
      "!\n",
      "!\n"
     ]
    },
    {
     "name": "stderr",
     "output_type": "stream",
     "text": [
      "Extract dsift in test data:   8%|▊         | 40/505 [00:02<00:28, 16.04it/s]"
     ]
    },
    {
     "name": "stdout",
     "output_type": "stream",
     "text": [
      "!\n",
      "!\n",
      "!\n",
      "!\n",
      "!\n",
      "!\n",
      "!\n",
      "!\n",
      "!\n",
      "!\n",
      "!\n",
      "!\n",
      "!\n",
      "!\n",
      "!\n",
      "!\n",
      "!\n"
     ]
    },
    {
     "name": "stderr",
     "output_type": "stream",
     "text": [
      "Extract dsift in test data:   9%|▊         | 44/505 [00:02<00:28, 15.93it/s]"
     ]
    },
    {
     "name": "stdout",
     "output_type": "stream",
     "text": [
      "!\n",
      "!\n",
      "!\n",
      "!\n",
      "!\n",
      "!\n",
      "!\n",
      "!\n",
      "!\n",
      "!\n",
      "!\n",
      "!\n",
      "!\n",
      "!\n",
      "!\n",
      "!\n"
     ]
    },
    {
     "name": "stderr",
     "output_type": "stream",
     "text": [
      "Extract dsift in test data:  10%|▉         | 48/505 [00:03<00:28, 15.86it/s]"
     ]
    },
    {
     "name": "stdout",
     "output_type": "stream",
     "text": [
      "!\n",
      "!\n",
      "!\n",
      "!\n",
      "!\n",
      "!\n",
      "!\n",
      "!\n",
      "!\n",
      "!\n",
      "!\n",
      "!\n",
      "!\n",
      "!\n",
      "!\n",
      "!\n",
      "!\n"
     ]
    },
    {
     "name": "stderr",
     "output_type": "stream",
     "text": [
      "Extract dsift in test data:  10%|▉         | 50/505 [00:03<00:28, 15.95it/s]"
     ]
    },
    {
     "name": "stdout",
     "output_type": "stream",
     "text": [
      "!\n",
      "!\n",
      "!\n",
      "!\n",
      "!\n",
      "!\n",
      "!\n",
      "!\n",
      "!\n",
      "!\n",
      "!\n",
      "!\n",
      "!\n",
      "!\n",
      "!\n",
      "!\n",
      "!\n",
      "!\n"
     ]
    },
    {
     "name": "stderr",
     "output_type": "stream",
     "text": [
      "Extract dsift in test data:  11%|█         | 54/505 [00:03<00:28, 16.09it/s]"
     ]
    },
    {
     "name": "stdout",
     "output_type": "stream",
     "text": [
      "!\n",
      "!\n",
      "!\n",
      "!\n",
      "!\n",
      "!\n",
      "!\n",
      "!\n",
      "!\n",
      "!\n",
      "!\n",
      "!\n",
      "!\n",
      "!\n",
      "!\n",
      "!\n",
      "!\n",
      "!"
     ]
    },
    {
     "name": "stderr",
     "output_type": "stream",
     "text": [
      "Extract dsift in test data:  11%|█▏        | 58/505 [00:03<00:27, 16.29it/s]"
     ]
    },
    {
     "name": "stdout",
     "output_type": "stream",
     "text": [
      "\n",
      "!\n",
      "!\n",
      "!\n",
      "!\n",
      "!\n",
      "!\n",
      "!\n",
      "!\n",
      "!\n",
      "!\n",
      "!\n",
      "!\n",
      "!\n",
      "!\n",
      "!\n",
      "!\n"
     ]
    },
    {
     "name": "stderr",
     "output_type": "stream",
     "text": [
      "Extract dsift in test data:  12%|█▏        | 60/505 [00:03<00:27, 16.00it/s]"
     ]
    },
    {
     "name": "stdout",
     "output_type": "stream",
     "text": [
      "!\n",
      "!\n",
      "!\n",
      "!\n",
      "!\n",
      "!\n",
      "!\n",
      "!\n",
      "!\n",
      "!\n",
      "!\n",
      "!\n",
      "!\n",
      "!\n",
      "!\n",
      "!\n"
     ]
    },
    {
     "name": "stderr",
     "output_type": "stream",
     "text": [
      "Extract dsift in test data:  13%|█▎        | 64/505 [00:04<00:27, 15.96it/s]"
     ]
    },
    {
     "name": "stdout",
     "output_type": "stream",
     "text": [
      "!\n",
      "!\n",
      "!\n",
      "!\n",
      "!\n",
      "!\n",
      "!\n",
      "!\n",
      "!\n",
      "!\n",
      "!\n",
      "!\n",
      "!\n",
      "!\n",
      "!\n",
      "!\n",
      "!\n"
     ]
    },
    {
     "name": "stderr",
     "output_type": "stream",
     "text": [
      "Extract dsift in test data:  13%|█▎        | 68/505 [00:04<00:27, 15.86it/s]"
     ]
    },
    {
     "name": "stdout",
     "output_type": "stream",
     "text": [
      "!\n",
      "!\n",
      "!\n",
      "!\n",
      "!\n",
      "!\n",
      "!\n",
      "!\n",
      "!\n",
      "!\n",
      "!\n",
      "!\n",
      "!\n",
      "!\n",
      "!\n",
      "!\n"
     ]
    },
    {
     "name": "stderr",
     "output_type": "stream",
     "text": [
      "Extract dsift in test data:  14%|█▍        | 70/505 [00:04<00:27, 15.80it/s]"
     ]
    },
    {
     "name": "stdout",
     "output_type": "stream",
     "text": [
      "!\n",
      "!\n",
      "!\n",
      "!\n",
      "!\n",
      "!\n",
      "!\n",
      "!\n",
      "!\n",
      "!\n",
      "!\n",
      "!\n",
      "!\n",
      "!\n",
      "!\n",
      "!\n"
     ]
    },
    {
     "name": "stderr",
     "output_type": "stream",
     "text": [
      "Extract dsift in test data:  15%|█▍        | 74/505 [00:04<00:28, 15.38it/s]"
     ]
    },
    {
     "name": "stdout",
     "output_type": "stream",
     "text": [
      "!\n",
      "!\n",
      "!\n",
      "!\n",
      "!\n",
      "!\n",
      "!\n",
      "!\n",
      "!\n",
      "!\n",
      "!\n",
      "!\n",
      "!\n",
      "!\n",
      "!\n",
      "!\n"
     ]
    },
    {
     "name": "stderr",
     "output_type": "stream",
     "text": [
      "Extract dsift in test data:  15%|█▌        | 78/505 [00:04<00:27, 15.62it/s]"
     ]
    },
    {
     "name": "stdout",
     "output_type": "stream",
     "text": [
      "!\n",
      "!\n",
      "!\n",
      "!\n",
      "!\n",
      "!\n",
      "!\n",
      "!\n",
      "!\n",
      "!\n",
      "!\n",
      "!\n",
      "!\n",
      "!\n",
      "!\n",
      "!\n",
      "!\n"
     ]
    },
    {
     "name": "stderr",
     "output_type": "stream",
     "text": [
      "Extract dsift in test data:  16%|█▌        | 80/505 [00:05<00:27, 15.63it/s]"
     ]
    },
    {
     "name": "stdout",
     "output_type": "stream",
     "text": [
      "!\n",
      "!\n",
      "!\n",
      "!\n",
      "!\n",
      "!\n",
      "!\n",
      "!\n",
      "!\n",
      "!\n",
      "!\n",
      "!\n",
      "!\n",
      "!\n",
      "!\n",
      "!\n",
      "!\n"
     ]
    },
    {
     "name": "stderr",
     "output_type": "stream",
     "text": [
      "Extract dsift in test data:  17%|█▋        | 84/505 [00:05<00:26, 15.96it/s]"
     ]
    },
    {
     "name": "stdout",
     "output_type": "stream",
     "text": [
      "!\n",
      "!\n",
      "!\n",
      "!\n",
      "!\n",
      "!\n",
      "!\n",
      "!\n",
      "!\n",
      "!\n",
      "!\n",
      "!\n",
      "!\n",
      "!\n",
      "!\n",
      "!\n"
     ]
    },
    {
     "name": "stderr",
     "output_type": "stream",
     "text": [
      "Extract dsift in test data:  17%|█▋        | 88/505 [00:05<00:26, 15.85it/s]"
     ]
    },
    {
     "name": "stdout",
     "output_type": "stream",
     "text": [
      "!\n",
      "!\n",
      "!\n",
      "!\n",
      "!\n",
      "!\n",
      "!\n",
      "!\n",
      "!\n",
      "!\n",
      "!\n",
      "!\n",
      "!\n",
      "!\n",
      "!\n",
      "!\n",
      "!\n"
     ]
    },
    {
     "name": "stderr",
     "output_type": "stream",
     "text": [
      "Extract dsift in test data:  18%|█▊        | 90/505 [00:05<00:26, 15.78it/s]"
     ]
    },
    {
     "name": "stdout",
     "output_type": "stream",
     "text": [
      "!\n",
      "!\n",
      "!\n",
      "!\n",
      "!\n",
      "!\n",
      "!\n",
      "!\n",
      "!\n",
      "!\n",
      "!\n",
      "!\n",
      "!\n",
      "!\n",
      "!\n",
      "!\n",
      "!\n"
     ]
    },
    {
     "name": "stderr",
     "output_type": "stream",
     "text": [
      "Extract dsift in test data:  19%|█▊        | 94/505 [00:05<00:25, 15.87it/s]"
     ]
    },
    {
     "name": "stdout",
     "output_type": "stream",
     "text": [
      "!\n",
      "!\n",
      "!\n",
      "!\n",
      "!\n",
      "!\n",
      "!\n",
      "!\n",
      "!\n",
      "!\n",
      "!\n",
      "!\n",
      "!\n",
      "!\n",
      "!\n",
      "!\n"
     ]
    },
    {
     "name": "stderr",
     "output_type": "stream",
     "text": [
      "Extract dsift in test data:  19%|█▉        | 98/505 [00:06<00:25, 15.90it/s]"
     ]
    },
    {
     "name": "stdout",
     "output_type": "stream",
     "text": [
      "!\n",
      "!\n",
      "!\n",
      "!\n",
      "!\n",
      "!\n",
      "!\n",
      "!\n",
      "!\n",
      "!\n",
      "!\n",
      "!\n",
      "!\n",
      "!\n",
      "!\n",
      "!\n",
      "!\n"
     ]
    },
    {
     "name": "stderr",
     "output_type": "stream",
     "text": [
      "Extract dsift in test data:  20%|█▉        | 100/505 [00:06<00:25, 15.77it/s]"
     ]
    },
    {
     "name": "stdout",
     "output_type": "stream",
     "text": [
      "!\n",
      "!\n",
      "!\n",
      "!\n",
      "!\n",
      "!\n",
      "!\n",
      "!\n",
      "!\n",
      "!\n",
      "!\n",
      "!\n",
      "!\n",
      "!\n",
      "!\n",
      "!\n"
     ]
    },
    {
     "name": "stderr",
     "output_type": "stream",
     "text": [
      "Extract dsift in test data:  21%|██        | 104/505 [00:06<00:25, 15.53it/s]"
     ]
    },
    {
     "name": "stdout",
     "output_type": "stream",
     "text": [
      "!\n",
      "!\n",
      "!\n",
      "!\n",
      "!\n",
      "!\n",
      "!\n",
      "!\n",
      "!\n",
      "!\n",
      "!\n",
      "!\n",
      "!\n",
      "!\n",
      "!\n",
      "!\n"
     ]
    },
    {
     "name": "stderr",
     "output_type": "stream",
     "text": [
      "Extract dsift in test data:  21%|██▏       | 108/505 [00:06<00:25, 15.67it/s]"
     ]
    },
    {
     "name": "stdout",
     "output_type": "stream",
     "text": [
      "!\n",
      "!\n",
      "!\n",
      "!\n",
      "!\n",
      "!\n",
      "!\n",
      "!\n",
      "!\n",
      "!\n",
      "!\n",
      "!\n",
      "!\n",
      "!\n",
      "!\n",
      "!\n"
     ]
    },
    {
     "name": "stderr",
     "output_type": "stream",
     "text": [
      "Extract dsift in test data:  22%|██▏       | 110/505 [00:06<00:25, 15.46it/s]"
     ]
    },
    {
     "name": "stdout",
     "output_type": "stream",
     "text": [
      "!\n",
      "!\n",
      "!\n",
      "!\n",
      "!\n",
      "!\n",
      "!\n",
      "!\n",
      "!\n",
      "!\n",
      "!\n",
      "!\n",
      "!\n",
      "!\n",
      "!\n",
      "!\n",
      "!\n"
     ]
    },
    {
     "name": "stderr",
     "output_type": "stream",
     "text": [
      "Extract dsift in test data:  23%|██▎       | 114/505 [00:07<00:25, 15.54it/s]"
     ]
    },
    {
     "name": "stdout",
     "output_type": "stream",
     "text": [
      "!\n",
      "!\n",
      "!\n",
      "!\n",
      "!\n",
      "!\n",
      "!\n",
      "!\n",
      "!\n",
      "!\n",
      "!\n",
      "!\n",
      "!\n",
      "!\n",
      "!\n",
      "!\n"
     ]
    },
    {
     "name": "stderr",
     "output_type": "stream",
     "text": [
      "Extract dsift in test data:  23%|██▎       | 116/505 [00:07<00:25, 15.48it/s]"
     ]
    },
    {
     "name": "stdout",
     "output_type": "stream",
     "text": [
      "!\n",
      "!\n",
      "!\n",
      "!\n",
      "!\n",
      "!\n",
      "!\n",
      "!\n",
      "!\n",
      "!\n",
      "!\n",
      "!\n",
      "!\n",
      "!\n",
      "!\n",
      "!\n",
      "!\n"
     ]
    },
    {
     "name": "stderr",
     "output_type": "stream",
     "text": [
      "Extract dsift in test data:  24%|██▍       | 120/505 [00:07<00:24, 15.59it/s]"
     ]
    },
    {
     "name": "stdout",
     "output_type": "stream",
     "text": [
      "!\n",
      "!\n",
      "!\n",
      "!\n",
      "!\n",
      "!\n",
      "!\n",
      "!\n",
      "!\n",
      "!\n",
      "!\n",
      "!\n",
      "!\n",
      "!\n",
      "!\n",
      "!\n",
      "!\n"
     ]
    },
    {
     "name": "stderr",
     "output_type": "stream",
     "text": [
      "Extract dsift in test data:  25%|██▍       | 124/505 [00:07<00:24, 15.71it/s]"
     ]
    },
    {
     "name": "stdout",
     "output_type": "stream",
     "text": [
      "!\n",
      "!\n",
      "!\n",
      "!\n",
      "!\n",
      "!\n",
      "!\n",
      "!\n",
      "!\n",
      "!\n",
      "!\n",
      "!\n",
      "!\n",
      "!\n",
      "!\n",
      "!\n",
      "!\n"
     ]
    },
    {
     "name": "stderr",
     "output_type": "stream",
     "text": [
      "Extract dsift in test data:  25%|██▌       | 128/505 [00:08<00:23, 15.87it/s]"
     ]
    },
    {
     "name": "stdout",
     "output_type": "stream",
     "text": [
      "!\n",
      "!\n",
      "!\n",
      "!\n",
      "!\n",
      "!\n",
      "!\n",
      "!\n",
      "!\n",
      "!\n",
      "!\n",
      "!\n",
      "!\n",
      "!\n",
      "!\n",
      "!\n"
     ]
    },
    {
     "name": "stderr",
     "output_type": "stream",
     "text": [
      "Extract dsift in test data:  26%|██▌       | 130/505 [00:08<00:23, 15.93it/s]"
     ]
    },
    {
     "name": "stdout",
     "output_type": "stream",
     "text": [
      "!\n",
      "!\n",
      "!\n",
      "!\n",
      "!\n",
      "!\n",
      "!\n",
      "!\n",
      "!\n",
      "!\n",
      "!\n",
      "!\n",
      "!\n",
      "!\n",
      "!\n",
      "!\n",
      "!\n"
     ]
    },
    {
     "name": "stderr",
     "output_type": "stream",
     "text": [
      "Extract dsift in test data:  27%|██▋       | 134/505 [00:08<00:23, 15.86it/s]"
     ]
    },
    {
     "name": "stdout",
     "output_type": "stream",
     "text": [
      "!\n",
      "!\n",
      "!\n",
      "!\n",
      "!\n",
      "!\n",
      "!\n",
      "!\n",
      "!\n",
      "!\n",
      "!\n",
      "!\n",
      "!\n",
      "!\n",
      "!\n",
      "!\n",
      "!\n"
     ]
    },
    {
     "name": "stderr",
     "output_type": "stream",
     "text": [
      "Extract dsift in test data:  27%|██▋       | 138/505 [00:08<00:22, 16.12it/s]"
     ]
    },
    {
     "name": "stdout",
     "output_type": "stream",
     "text": [
      "!\n",
      "!\n",
      "!\n",
      "!\n",
      "!\n",
      "!\n",
      "!\n",
      "!\n",
      "!\n",
      "!\n",
      "!\n",
      "!\n",
      "!\n",
      "!\n",
      "!\n",
      "!\n"
     ]
    },
    {
     "name": "stderr",
     "output_type": "stream",
     "text": [
      "Extract dsift in test data:  28%|██▊       | 140/505 [00:08<00:22, 15.99it/s]"
     ]
    },
    {
     "name": "stdout",
     "output_type": "stream",
     "text": [
      "!\n",
      "!\n",
      "!\n",
      "!\n",
      "!\n",
      "!\n",
      "!\n",
      "!\n",
      "!\n",
      "!\n",
      "!\n",
      "!\n",
      "!\n",
      "!\n",
      "!\n",
      "!\n",
      "!\n"
     ]
    },
    {
     "name": "stderr",
     "output_type": "stream",
     "text": [
      "Extract dsift in test data:  29%|██▊       | 144/505 [00:09<00:22, 15.90it/s]"
     ]
    },
    {
     "name": "stdout",
     "output_type": "stream",
     "text": [
      "!\n",
      "!\n",
      "!\n",
      "!\n",
      "!\n",
      "!\n",
      "!\n",
      "!\n",
      "!\n",
      "!\n",
      "!\n",
      "!\n",
      "!\n",
      "!\n",
      "!\n",
      "!\n",
      "!\n"
     ]
    },
    {
     "name": "stderr",
     "output_type": "stream",
     "text": [
      "Extract dsift in test data:  29%|██▉       | 148/505 [00:09<00:22, 15.95it/s]"
     ]
    },
    {
     "name": "stdout",
     "output_type": "stream",
     "text": [
      "!\n",
      "!\n",
      "!\n",
      "!\n",
      "!\n",
      "!\n",
      "!\n",
      "!\n",
      "!\n",
      "!\n",
      "!\n",
      "!\n",
      "!\n",
      "!\n",
      "!\n",
      "!\n"
     ]
    },
    {
     "name": "stderr",
     "output_type": "stream",
     "text": [
      "Extract dsift in test data:  30%|██▉       | 150/505 [00:09<00:22, 15.93it/s]"
     ]
    },
    {
     "name": "stdout",
     "output_type": "stream",
     "text": [
      "!\n",
      "!\n",
      "!\n",
      "!\n",
      "!\n",
      "!\n",
      "!\n",
      "!\n",
      "!\n",
      "!\n",
      "!\n",
      "!\n",
      "!\n",
      "!\n",
      "!\n",
      "!\n",
      "!\n"
     ]
    },
    {
     "name": "stderr",
     "output_type": "stream",
     "text": [
      "Extract dsift in test data:  30%|███       | 154/505 [00:09<00:21, 16.03it/s]"
     ]
    },
    {
     "name": "stdout",
     "output_type": "stream",
     "text": [
      "!\n",
      "!\n",
      "!\n",
      "!\n",
      "!\n",
      "!\n",
      "!\n",
      "!\n",
      "!\n",
      "!\n",
      "!\n",
      "!\n",
      "!\n",
      "!\n",
      "!\n",
      "!\n",
      "!\n"
     ]
    },
    {
     "name": "stderr",
     "output_type": "stream",
     "text": [
      "Extract dsift in test data:  31%|███▏      | 158/505 [00:10<00:21, 15.89it/s]"
     ]
    },
    {
     "name": "stdout",
     "output_type": "stream",
     "text": [
      "!\n",
      "!\n",
      "!\n",
      "!\n",
      "!\n",
      "!\n",
      "!\n",
      "!\n",
      "!\n",
      "!\n",
      "!\n",
      "!\n",
      "!\n",
      "!\n",
      "!\n",
      "!\n"
     ]
    },
    {
     "name": "stderr",
     "output_type": "stream",
     "text": [
      "Extract dsift in test data:  32%|███▏      | 160/505 [00:10<00:21, 15.92it/s]"
     ]
    },
    {
     "name": "stdout",
     "output_type": "stream",
     "text": [
      "!\n",
      "!\n",
      "!\n",
      "!\n",
      "!\n",
      "!\n",
      "!\n",
      "!\n",
      "!\n",
      "!\n",
      "!\n",
      "!\n",
      "!\n",
      "!\n",
      "!\n",
      "!\n",
      "!\n"
     ]
    },
    {
     "name": "stderr",
     "output_type": "stream",
     "text": [
      "Extract dsift in test data:  32%|███▏      | 164/505 [00:10<00:21, 15.81it/s]"
     ]
    },
    {
     "name": "stdout",
     "output_type": "stream",
     "text": [
      "!\n",
      "!\n",
      "!\n",
      "!\n",
      "!\n",
      "!\n",
      "!\n",
      "!\n",
      "!\n",
      "!\n",
      "!\n",
      "!\n",
      "!\n",
      "!\n",
      "!\n",
      "!\n",
      "!"
     ]
    },
    {
     "name": "stderr",
     "output_type": "stream",
     "text": [
      "Extract dsift in test data:  33%|███▎      | 166/505 [00:10<00:21, 15.48it/s]"
     ]
    },
    {
     "name": "stdout",
     "output_type": "stream",
     "text": [
      "\n",
      "!\n",
      "!\n",
      "!\n",
      "!\n",
      "!\n",
      "!\n",
      "!\n",
      "!\n",
      "!\n",
      "!\n",
      "!\n",
      "!\n",
      "!\n",
      "!\n",
      "!\n"
     ]
    },
    {
     "name": "stderr",
     "output_type": "stream",
     "text": [
      "Extract dsift in test data:  34%|███▎      | 170/505 [00:10<00:21, 15.67it/s]"
     ]
    },
    {
     "name": "stdout",
     "output_type": "stream",
     "text": [
      "!\n",
      "!\n",
      "!\n",
      "!\n",
      "!\n",
      "!\n",
      "!\n",
      "!\n",
      "!\n",
      "!\n",
      "!\n",
      "!\n",
      "!\n",
      "!\n",
      "!\n",
      "!\n"
     ]
    },
    {
     "name": "stderr",
     "output_type": "stream",
     "text": [
      "Extract dsift in test data:  34%|███▍      | 174/505 [00:11<00:21, 15.54it/s]"
     ]
    },
    {
     "name": "stdout",
     "output_type": "stream",
     "text": [
      "!\n",
      "!\n",
      "!\n",
      "!\n",
      "!\n",
      "!\n",
      "!\n",
      "!\n",
      "!\n",
      "!\n",
      "!\n",
      "!\n",
      "!\n",
      "!\n",
      "!\n",
      "!\n"
     ]
    },
    {
     "name": "stderr",
     "output_type": "stream",
     "text": [
      "Extract dsift in test data:  35%|███▍      | 176/505 [00:11<00:21, 15.62it/s]"
     ]
    },
    {
     "name": "stdout",
     "output_type": "stream",
     "text": [
      "!\n",
      "!\n",
      "!\n",
      "!\n",
      "!\n",
      "!\n",
      "!\n",
      "!\n",
      "!\n",
      "!\n",
      "!\n",
      "!\n",
      "!\n",
      "!\n",
      "!\n",
      "!\n",
      "!\n"
     ]
    },
    {
     "name": "stderr",
     "output_type": "stream",
     "text": [
      "Extract dsift in test data:  36%|███▌      | 180/505 [00:11<00:20, 15.62it/s]"
     ]
    },
    {
     "name": "stdout",
     "output_type": "stream",
     "text": [
      "!\n",
      "!\n",
      "!\n",
      "!\n",
      "!\n",
      "!\n",
      "!\n",
      "!\n",
      "!\n",
      "!\n",
      "!\n",
      "!\n",
      "!\n",
      "!\n",
      "!\n",
      "!\n"
     ]
    },
    {
     "name": "stderr",
     "output_type": "stream",
     "text": [
      "Extract dsift in test data:  36%|███▌      | 182/505 [00:11<00:22, 14.45it/s]"
     ]
    },
    {
     "name": "stdout",
     "output_type": "stream",
     "text": [
      "!\n",
      "!\n",
      "!\n",
      "!\n",
      "!\n",
      "!\n",
      "!\n",
      "!\n",
      "!\n",
      "!\n",
      "!\n",
      "!\n",
      "!\n"
     ]
    },
    {
     "name": "stderr",
     "output_type": "stream",
     "text": [
      "Extract dsift in test data:  37%|███▋      | 186/505 [00:11<00:21, 14.75it/s]"
     ]
    },
    {
     "name": "stdout",
     "output_type": "stream",
     "text": [
      "!\n",
      "!\n",
      "!\n",
      "!\n",
      "!\n",
      "!\n",
      "!\n",
      "!\n",
      "!\n",
      "!\n",
      "!\n",
      "!\n",
      "!\n",
      "!\n",
      "!\n",
      "!\n"
     ]
    },
    {
     "name": "stderr",
     "output_type": "stream",
     "text": [
      "Extract dsift in test data:  37%|███▋      | 188/505 [00:11<00:21, 15.09it/s]"
     ]
    },
    {
     "name": "stdout",
     "output_type": "stream",
     "text": [
      "!\n",
      "!\n",
      "!\n",
      "!\n",
      "!\n",
      "!\n",
      "!\n",
      "!\n",
      "!\n",
      "!\n",
      "!\n",
      "!\n",
      "!\n",
      "!\n",
      "!\n",
      "!\n",
      "!\n"
     ]
    },
    {
     "name": "stderr",
     "output_type": "stream",
     "text": [
      "Extract dsift in test data:  38%|███▊      | 192/505 [00:12<00:20, 15.46it/s]"
     ]
    },
    {
     "name": "stdout",
     "output_type": "stream",
     "text": [
      "!\n",
      "!\n",
      "!\n",
      "!\n",
      "!\n",
      "!\n",
      "!\n",
      "!\n",
      "!\n",
      "!\n",
      "!\n",
      "!\n",
      "!\n",
      "!\n",
      "!\n",
      "!\n"
     ]
    },
    {
     "name": "stderr",
     "output_type": "stream",
     "text": [
      "Extract dsift in test data:  39%|███▉      | 196/505 [00:12<00:19, 15.50it/s]"
     ]
    },
    {
     "name": "stdout",
     "output_type": "stream",
     "text": [
      "!\n",
      "!\n",
      "!\n",
      "!\n",
      "!\n",
      "!\n",
      "!\n",
      "!\n",
      "!\n",
      "!\n",
      "!\n",
      "!\n",
      "!\n",
      "!\n",
      "!\n",
      "!\n"
     ]
    },
    {
     "name": "stderr",
     "output_type": "stream",
     "text": [
      "Extract dsift in test data:  39%|███▉      | 198/505 [00:12<00:19, 15.47it/s]"
     ]
    },
    {
     "name": "stdout",
     "output_type": "stream",
     "text": [
      "!\n",
      "!\n",
      "!\n",
      "!\n",
      "!\n",
      "!\n",
      "!\n",
      "!\n",
      "!\n",
      "!\n",
      "!\n",
      "!\n",
      "!\n",
      "!\n",
      "!\n",
      "!\n",
      "!\n"
     ]
    },
    {
     "name": "stderr",
     "output_type": "stream",
     "text": [
      "Extract dsift in test data:  40%|████      | 202/505 [00:12<00:19, 15.75it/s]"
     ]
    },
    {
     "name": "stdout",
     "output_type": "stream",
     "text": [
      "!\n",
      "!\n",
      "!\n",
      "!\n",
      "!\n",
      "!\n",
      "!\n",
      "!\n",
      "!\n",
      "!\n",
      "!\n",
      "!\n",
      "!\n",
      "!\n",
      "!\n",
      "!\n"
     ]
    },
    {
     "name": "stderr",
     "output_type": "stream",
     "text": [
      "Extract dsift in test data:  41%|████      | 206/505 [00:13<00:18, 15.89it/s]"
     ]
    },
    {
     "name": "stdout",
     "output_type": "stream",
     "text": [
      "!\n",
      "!\n",
      "!\n",
      "!\n",
      "!\n",
      "!\n",
      "!\n",
      "!\n",
      "!\n",
      "!\n",
      "!\n",
      "!\n",
      "!\n",
      "!\n",
      "!\n",
      "!\n"
     ]
    },
    {
     "name": "stderr",
     "output_type": "stream",
     "text": [
      "Extract dsift in test data:  41%|████      | 208/505 [00:13<00:18, 15.77it/s]"
     ]
    },
    {
     "name": "stdout",
     "output_type": "stream",
     "text": [
      "!\n",
      "!\n",
      "!\n",
      "!\n",
      "!\n",
      "!\n",
      "!\n",
      "!\n",
      "!\n",
      "!\n",
      "!\n",
      "!\n",
      "!\n",
      "!\n",
      "!\n",
      "!\n",
      "!\n"
     ]
    },
    {
     "name": "stderr",
     "output_type": "stream",
     "text": [
      "Extract dsift in test data:  42%|████▏     | 212/505 [00:13<00:18, 15.65it/s]"
     ]
    },
    {
     "name": "stdout",
     "output_type": "stream",
     "text": [
      "!\n",
      "!\n",
      "!\n",
      "!\n",
      "!\n",
      "!\n",
      "!\n",
      "!\n",
      "!\n",
      "!\n",
      "!\n",
      "!\n",
      "!\n",
      "!\n",
      "!\n",
      "!\n",
      "!\n"
     ]
    },
    {
     "name": "stderr",
     "output_type": "stream",
     "text": [
      "Extract dsift in test data:  43%|████▎     | 216/505 [00:13<00:18, 15.43it/s]"
     ]
    },
    {
     "name": "stdout",
     "output_type": "stream",
     "text": [
      "!\n",
      "!\n",
      "!\n",
      "!\n",
      "!\n",
      "!\n",
      "!\n",
      "!\n",
      "!\n",
      "!\n",
      "!\n",
      "!\n",
      "!\n",
      "!\n",
      "!\n",
      "!\n"
     ]
    },
    {
     "name": "stderr",
     "output_type": "stream",
     "text": [
      "Extract dsift in test data:  43%|████▎     | 218/505 [00:13<00:18, 15.45it/s]"
     ]
    },
    {
     "name": "stdout",
     "output_type": "stream",
     "text": [
      "!\n",
      "!\n",
      "!\n",
      "!\n",
      "!\n",
      "!\n",
      "!\n",
      "!\n",
      "!\n",
      "!\n",
      "!\n",
      "!\n",
      "!\n",
      "!\n",
      "!\n",
      "!\n"
     ]
    },
    {
     "name": "stderr",
     "output_type": "stream",
     "text": [
      "Extract dsift in test data:  44%|████▍     | 222/505 [00:14<00:18, 15.62it/s]"
     ]
    },
    {
     "name": "stdout",
     "output_type": "stream",
     "text": [
      "!\n",
      "!\n",
      "!\n",
      "!\n",
      "!\n",
      "!\n",
      "!\n",
      "!\n",
      "!\n",
      "!\n",
      "!\n",
      "!\n",
      "!\n",
      "!\n",
      "!\n",
      "!\n",
      "!\n"
     ]
    },
    {
     "name": "stderr",
     "output_type": "stream",
     "text": [
      "Extract dsift in test data:  45%|████▍     | 226/505 [00:14<00:17, 15.76it/s]"
     ]
    },
    {
     "name": "stdout",
     "output_type": "stream",
     "text": [
      "!\n",
      "!\n",
      "!\n",
      "!\n",
      "!\n",
      "!\n",
      "!\n",
      "!\n",
      "!\n",
      "!\n",
      "!\n",
      "!\n",
      "!\n",
      "!\n",
      "!\n",
      "!\n"
     ]
    },
    {
     "name": "stderr",
     "output_type": "stream",
     "text": [
      "Extract dsift in test data:  45%|████▌     | 228/505 [00:14<00:17, 15.83it/s]"
     ]
    },
    {
     "name": "stdout",
     "output_type": "stream",
     "text": [
      "!\n",
      "!\n",
      "!\n",
      "!\n",
      "!\n",
      "!\n",
      "!\n",
      "!\n",
      "!\n",
      "!\n",
      "!\n",
      "!\n",
      "!\n",
      "!\n",
      "!\n",
      "!\n",
      "!\n"
     ]
    },
    {
     "name": "stderr",
     "output_type": "stream",
     "text": [
      "Extract dsift in test data:  46%|████▌     | 232/505 [00:14<00:17, 15.81it/s]"
     ]
    },
    {
     "name": "stdout",
     "output_type": "stream",
     "text": [
      "!\n",
      "!\n",
      "!\n",
      "!\n",
      "!\n",
      "!\n",
      "!\n",
      "!\n",
      "!\n",
      "!\n",
      "!\n",
      "!\n",
      "!\n",
      "!\n",
      "!\n",
      "!\n",
      "!\n"
     ]
    },
    {
     "name": "stderr",
     "output_type": "stream",
     "text": [
      "Extract dsift in test data:  47%|████▋     | 236/505 [00:15<00:16, 15.82it/s]"
     ]
    },
    {
     "name": "stdout",
     "output_type": "stream",
     "text": [
      "!\n",
      "!\n",
      "!\n",
      "!\n",
      "!\n",
      "!\n",
      "!\n",
      "!\n",
      "!\n",
      "!\n",
      "!\n",
      "!\n",
      "!\n",
      "!\n",
      "!\n",
      "!\n"
     ]
    },
    {
     "name": "stderr",
     "output_type": "stream",
     "text": [
      "Extract dsift in test data:  47%|████▋     | 238/505 [00:15<00:16, 15.87it/s]"
     ]
    },
    {
     "name": "stdout",
     "output_type": "stream",
     "text": [
      "!\n",
      "!\n",
      "!\n",
      "!\n",
      "!\n",
      "!\n",
      "!\n",
      "!\n",
      "!\n",
      "!\n",
      "!\n",
      "!\n",
      "!\n",
      "!\n",
      "!\n",
      "!\n",
      "!\n"
     ]
    },
    {
     "name": "stderr",
     "output_type": "stream",
     "text": [
      "Extract dsift in test data:  48%|████▊     | 242/505 [00:15<00:16, 15.97it/s]"
     ]
    },
    {
     "name": "stdout",
     "output_type": "stream",
     "text": [
      "!\n",
      "!\n",
      "!\n",
      "!\n",
      "!\n",
      "!\n",
      "!\n",
      "!\n",
      "!\n",
      "!\n",
      "!\n",
      "!\n",
      "!\n",
      "!\n",
      "!\n",
      "!\n",
      "!\n"
     ]
    },
    {
     "name": "stderr",
     "output_type": "stream",
     "text": [
      "Extract dsift in test data:  49%|████▊     | 246/505 [00:15<00:16, 15.91it/s]"
     ]
    },
    {
     "name": "stdout",
     "output_type": "stream",
     "text": [
      "!\n",
      "!\n",
      "!\n",
      "!\n",
      "!\n",
      "!\n",
      "!\n",
      "!\n",
      "!\n",
      "!\n",
      "!\n",
      "!\n",
      "!\n",
      "!\n",
      "!\n",
      "!\n"
     ]
    },
    {
     "name": "stderr",
     "output_type": "stream",
     "text": [
      "Extract dsift in test data:  49%|████▉     | 248/505 [00:15<00:16, 16.03it/s]"
     ]
    },
    {
     "name": "stdout",
     "output_type": "stream",
     "text": [
      "!\n",
      "!\n",
      "!\n",
      "!\n",
      "!\n",
      "!\n",
      "!\n",
      "!\n",
      "!\n",
      "!\n",
      "!\n",
      "!\n",
      "!\n",
      "!\n",
      "!\n",
      "!\n",
      "!\n",
      "!\n"
     ]
    },
    {
     "name": "stderr",
     "output_type": "stream",
     "text": [
      "Extract dsift in test data:  50%|████▉     | 252/505 [00:16<00:15, 15.94it/s]"
     ]
    },
    {
     "name": "stdout",
     "output_type": "stream",
     "text": [
      "!\n",
      "!\n",
      "!\n",
      "!\n",
      "!\n",
      "!\n",
      "!\n",
      "!\n",
      "!\n",
      "!\n",
      "!\n",
      "!\n",
      "!\n",
      "!\n",
      "!\n",
      "!\n",
      "!\n"
     ]
    },
    {
     "name": "stderr",
     "output_type": "stream",
     "text": [
      "Extract dsift in test data:  51%|█████     | 256/505 [00:16<00:15, 15.70it/s]"
     ]
    },
    {
     "name": "stdout",
     "output_type": "stream",
     "text": [
      "!\n",
      "!\n",
      "!\n",
      "!\n",
      "!\n",
      "!\n",
      "!\n",
      "!\n",
      "!\n",
      "!\n",
      "!\n",
      "!\n",
      "!\n",
      "!\n",
      "!\n"
     ]
    },
    {
     "name": "stderr",
     "output_type": "stream",
     "text": [
      "Extract dsift in test data:  51%|█████     | 258/505 [00:16<00:15, 15.45it/s]"
     ]
    },
    {
     "name": "stdout",
     "output_type": "stream",
     "text": [
      "!\n",
      "!\n",
      "!\n",
      "!\n",
      "!\n",
      "!\n",
      "!\n",
      "!\n",
      "!\n",
      "!\n",
      "!\n",
      "!\n",
      "!\n",
      "!\n",
      "!\n",
      "!\n"
     ]
    },
    {
     "name": "stderr",
     "output_type": "stream",
     "text": [
      "Extract dsift in test data:  52%|█████▏    | 262/505 [00:16<00:15, 15.32it/s]"
     ]
    },
    {
     "name": "stdout",
     "output_type": "stream",
     "text": [
      "!\n",
      "!\n",
      "!\n",
      "!\n",
      "!\n",
      "!\n",
      "!\n",
      "!\n",
      "!\n",
      "!\n",
      "!\n",
      "!\n",
      "!\n",
      "!\n",
      "!\n",
      "!\n"
     ]
    },
    {
     "name": "stderr",
     "output_type": "stream",
     "text": [
      "Extract dsift in test data:  52%|█████▏    | 264/505 [00:16<00:15, 15.46it/s]"
     ]
    },
    {
     "name": "stdout",
     "output_type": "stream",
     "text": [
      "!\n",
      "!\n",
      "!\n",
      "!\n",
      "!\n",
      "!\n",
      "!\n",
      "!\n",
      "!\n",
      "!\n",
      "!\n",
      "!\n",
      "!\n",
      "!\n",
      "!\n",
      "!\n"
     ]
    },
    {
     "name": "stderr",
     "output_type": "stream",
     "text": [
      "Extract dsift in test data:  53%|█████▎    | 268/505 [00:17<00:15, 15.53it/s]"
     ]
    },
    {
     "name": "stdout",
     "output_type": "stream",
     "text": [
      "!\n",
      "!\n",
      "!\n",
      "!\n",
      "!\n",
      "!\n",
      "!\n",
      "!\n",
      "!\n",
      "!\n",
      "!\n",
      "!\n",
      "!\n",
      "!\n",
      "!\n",
      "!\n",
      "!\n"
     ]
    },
    {
     "name": "stderr",
     "output_type": "stream",
     "text": [
      "Extract dsift in test data:  54%|█████▍    | 272/505 [00:17<00:14, 15.70it/s]"
     ]
    },
    {
     "name": "stdout",
     "output_type": "stream",
     "text": [
      "!\n",
      "!\n",
      "!\n",
      "!\n",
      "!\n",
      "!\n",
      "!\n",
      "!\n",
      "!\n",
      "!\n",
      "!\n",
      "!\n",
      "!\n",
      "!\n",
      "!\n",
      "!\n",
      "!\n"
     ]
    },
    {
     "name": "stderr",
     "output_type": "stream",
     "text": [
      "Extract dsift in test data:  54%|█████▍    | 274/505 [00:17<00:14, 15.90it/s]"
     ]
    },
    {
     "name": "stdout",
     "output_type": "stream",
     "text": [
      "!\n",
      "!\n",
      "!\n",
      "!\n",
      "!\n",
      "!\n",
      "!\n",
      "!\n",
      "!\n",
      "!\n",
      "!\n",
      "!\n",
      "!\n",
      "!\n",
      "!\n",
      "!\n",
      "!\n"
     ]
    },
    {
     "name": "stderr",
     "output_type": "stream",
     "text": [
      "Extract dsift in test data:  55%|█████▌    | 278/505 [00:17<00:14, 15.91it/s]"
     ]
    },
    {
     "name": "stdout",
     "output_type": "stream",
     "text": [
      "!\n",
      "!\n",
      "!\n",
      "!\n",
      "!\n",
      "!\n",
      "!\n",
      "!\n",
      "!\n",
      "!\n",
      "!\n",
      "!\n",
      "!\n",
      "!\n",
      "!\n",
      "!\n"
     ]
    },
    {
     "name": "stderr",
     "output_type": "stream",
     "text": [
      "Extract dsift in test data:  56%|█████▌    | 282/505 [00:17<00:14, 15.88it/s]"
     ]
    },
    {
     "name": "stdout",
     "output_type": "stream",
     "text": [
      "!\n",
      "!\n",
      "!\n",
      "!\n",
      "!\n",
      "!\n",
      "!\n",
      "!\n",
      "!\n",
      "!\n",
      "!\n",
      "!\n",
      "!\n",
      "!\n",
      "!\n",
      "!\n",
      "!\n"
     ]
    },
    {
     "name": "stderr",
     "output_type": "stream",
     "text": [
      "Extract dsift in test data:  56%|█████▌    | 284/505 [00:18<00:13, 15.87it/s]"
     ]
    },
    {
     "name": "stdout",
     "output_type": "stream",
     "text": [
      "!\n",
      "!\n",
      "!\n",
      "!\n",
      "!\n",
      "!\n",
      "!\n",
      "!\n",
      "!\n",
      "!\n",
      "!\n",
      "!\n",
      "!\n",
      "!\n",
      "!\n",
      "!\n",
      "!\n"
     ]
    },
    {
     "name": "stderr",
     "output_type": "stream",
     "text": [
      "Extract dsift in test data:  57%|█████▋    | 288/505 [00:18<00:13, 15.80it/s]"
     ]
    },
    {
     "name": "stdout",
     "output_type": "stream",
     "text": [
      "!\n",
      "!\n",
      "!\n",
      "!\n",
      "!\n",
      "!\n",
      "!\n",
      "!\n",
      "!\n",
      "!\n",
      "!\n",
      "!\n",
      "!\n",
      "!\n",
      "!\n",
      "!\n"
     ]
    },
    {
     "name": "stderr",
     "output_type": "stream",
     "text": [
      "Extract dsift in test data:  58%|█████▊    | 292/505 [00:18<00:13, 15.92it/s]"
     ]
    },
    {
     "name": "stdout",
     "output_type": "stream",
     "text": [
      "!\n",
      "!\n",
      "!\n",
      "!\n",
      "!\n",
      "!\n",
      "!\n",
      "!\n",
      "!\n",
      "!\n",
      "!\n",
      "!\n",
      "!\n",
      "!\n",
      "!\n",
      "!\n",
      "!\n"
     ]
    },
    {
     "name": "stderr",
     "output_type": "stream",
     "text": [
      "Extract dsift in test data:  58%|█████▊    | 294/505 [00:18<00:13, 15.83it/s]"
     ]
    },
    {
     "name": "stdout",
     "output_type": "stream",
     "text": [
      "!\n",
      "!\n",
      "!\n",
      "!\n",
      "!\n",
      "!\n",
      "!\n",
      "!\n",
      "!\n",
      "!\n",
      "!\n",
      "!\n",
      "!\n",
      "!\n",
      "!\n",
      "!\n",
      "!"
     ]
    },
    {
     "name": "stderr",
     "output_type": "stream",
     "text": [
      "Extract dsift in test data:  59%|█████▉    | 298/505 [00:18<00:13, 15.83it/s]"
     ]
    },
    {
     "name": "stdout",
     "output_type": "stream",
     "text": [
      "\n",
      "!\n",
      "!\n",
      "!\n",
      "!\n",
      "!\n",
      "!\n",
      "!\n",
      "!\n",
      "!\n",
      "!\n",
      "!\n",
      "!\n",
      "!\n",
      "!\n",
      "!\n",
      "!\n"
     ]
    },
    {
     "name": "stderr",
     "output_type": "stream",
     "text": [
      "Extract dsift in test data:  60%|█████▉    | 302/505 [00:19<00:12, 15.64it/s]"
     ]
    },
    {
     "name": "stdout",
     "output_type": "stream",
     "text": [
      "!\n",
      "!\n",
      "!\n",
      "!\n",
      "!\n",
      "!\n",
      "!\n",
      "!\n",
      "!\n",
      "!\n",
      "!\n",
      "!\n",
      "!\n",
      "!\n",
      "!\n",
      "!\n"
     ]
    },
    {
     "name": "stderr",
     "output_type": "stream",
     "text": [
      "Extract dsift in test data:  60%|██████    | 304/505 [00:19<00:13, 15.42it/s]"
     ]
    },
    {
     "name": "stdout",
     "output_type": "stream",
     "text": [
      "!\n",
      "!\n",
      "!\n",
      "!\n",
      "!\n",
      "!\n",
      "!\n",
      "!\n",
      "!\n",
      "!\n",
      "!\n",
      "!\n",
      "!\n",
      "!\n",
      "!\n",
      "!\n",
      "!\n"
     ]
    },
    {
     "name": "stderr",
     "output_type": "stream",
     "text": [
      "Extract dsift in test data:  61%|██████    | 308/505 [00:19<00:12, 15.90it/s]"
     ]
    },
    {
     "name": "stdout",
     "output_type": "stream",
     "text": [
      "!\n",
      "!\n",
      "!\n",
      "!\n",
      "!\n",
      "!\n",
      "!\n",
      "!\n",
      "!\n",
      "!\n",
      "!\n",
      "!\n",
      "!\n",
      "!\n",
      "!\n",
      "!\n",
      "!\n"
     ]
    },
    {
     "name": "stderr",
     "output_type": "stream",
     "text": [
      "Extract dsift in test data:  62%|██████▏   | 312/505 [00:19<00:12, 15.74it/s]"
     ]
    },
    {
     "name": "stdout",
     "output_type": "stream",
     "text": [
      "!\n",
      "!\n",
      "!\n",
      "!\n",
      "!\n",
      "!\n",
      "!\n",
      "!\n",
      "!\n",
      "!\n",
      "!\n",
      "!\n",
      "!\n",
      "!\n",
      "!\n",
      "!\n"
     ]
    },
    {
     "name": "stderr",
     "output_type": "stream",
     "text": [
      "Extract dsift in test data:  62%|██████▏   | 314/505 [00:19<00:12, 15.62it/s]"
     ]
    },
    {
     "name": "stdout",
     "output_type": "stream",
     "text": [
      "!\n",
      "!\n",
      "!\n",
      "!\n",
      "!\n",
      "!\n",
      "!\n",
      "!\n",
      "!\n",
      "!\n",
      "!\n",
      "!\n",
      "!\n",
      "!\n",
      "!\n",
      "!\n"
     ]
    },
    {
     "name": "stderr",
     "output_type": "stream",
     "text": [
      "Extract dsift in test data:  63%|██████▎   | 318/505 [00:20<00:12, 15.41it/s]"
     ]
    },
    {
     "name": "stdout",
     "output_type": "stream",
     "text": [
      "!\n",
      "!\n",
      "!\n",
      "!\n",
      "!\n",
      "!\n",
      "!\n",
      "!\n",
      "!\n",
      "!\n",
      "!\n",
      "!\n",
      "!\n",
      "!\n",
      "!\n",
      "!\n"
     ]
    },
    {
     "name": "stderr",
     "output_type": "stream",
     "text": [
      "Extract dsift in test data:  63%|██████▎   | 320/505 [00:20<00:11, 15.46it/s]"
     ]
    },
    {
     "name": "stdout",
     "output_type": "stream",
     "text": [
      "!\n",
      "!\n",
      "!\n",
      "!\n",
      "!\n",
      "!\n",
      "!\n",
      "!\n",
      "!\n",
      "!\n",
      "!\n",
      "!\n",
      "!\n",
      "!\n",
      "!\n",
      "!\n",
      "!\n"
     ]
    },
    {
     "name": "stderr",
     "output_type": "stream",
     "text": [
      "Extract dsift in test data:  64%|██████▍   | 324/505 [00:20<00:11, 15.60it/s]"
     ]
    },
    {
     "name": "stdout",
     "output_type": "stream",
     "text": [
      "!\n",
      "!\n",
      "!\n",
      "!\n",
      "!\n",
      "!\n",
      "!\n",
      "!\n",
      "!\n",
      "!\n",
      "!\n",
      "!\n",
      "!\n",
      "!\n",
      "!\n",
      "!\n",
      "!\n"
     ]
    },
    {
     "name": "stderr",
     "output_type": "stream",
     "text": [
      "Extract dsift in test data:  65%|██████▍   | 328/505 [00:20<00:11, 15.66it/s]"
     ]
    },
    {
     "name": "stdout",
     "output_type": "stream",
     "text": [
      "!\n",
      "!\n",
      "!\n",
      "!\n",
      "!\n",
      "!\n",
      "!\n",
      "!\n",
      "!\n",
      "!\n",
      "!\n",
      "!\n",
      "!\n",
      "!\n",
      "!\n",
      "!\n"
     ]
    },
    {
     "name": "stderr",
     "output_type": "stream",
     "text": [
      "Extract dsift in test data:  65%|██████▌   | 330/505 [00:21<00:11, 15.82it/s]"
     ]
    },
    {
     "name": "stdout",
     "output_type": "stream",
     "text": [
      "!\n",
      "!\n",
      "!\n",
      "!\n",
      "!\n",
      "!\n",
      "!\n",
      "!\n",
      "!\n",
      "!\n",
      "!\n",
      "!\n",
      "!\n",
      "!\n",
      "!\n",
      "!\n",
      "!\n"
     ]
    },
    {
     "name": "stderr",
     "output_type": "stream",
     "text": [
      "Extract dsift in test data:  66%|██████▌   | 334/505 [00:21<00:10, 16.01it/s]"
     ]
    },
    {
     "name": "stdout",
     "output_type": "stream",
     "text": [
      "!\n",
      "!\n",
      "!\n",
      "!\n",
      "!\n",
      "!\n",
      "!\n",
      "!\n",
      "!\n",
      "!\n",
      "!\n",
      "!\n",
      "!\n",
      "!\n",
      "!\n",
      "!\n",
      "!\n"
     ]
    },
    {
     "name": "stderr",
     "output_type": "stream",
     "text": [
      "Extract dsift in test data:  67%|██████▋   | 338/505 [00:21<00:10, 15.85it/s]"
     ]
    },
    {
     "name": "stdout",
     "output_type": "stream",
     "text": [
      "!\n",
      "!\n",
      "!\n",
      "!\n",
      "!\n",
      "!\n",
      "!\n",
      "!\n",
      "!\n",
      "!\n",
      "!\n",
      "!\n",
      "!\n",
      "!\n",
      "!\n",
      "!\n",
      "!\n"
     ]
    },
    {
     "name": "stderr",
     "output_type": "stream",
     "text": [
      "Extract dsift in test data:  68%|██████▊   | 342/505 [00:21<00:10, 15.99it/s]"
     ]
    },
    {
     "name": "stdout",
     "output_type": "stream",
     "text": [
      "!\n",
      "!\n",
      "!\n",
      "!\n",
      "!\n",
      "!\n",
      "!\n",
      "!\n",
      "!\n",
      "!\n",
      "!\n",
      "!\n",
      "!\n",
      "!\n",
      "!\n",
      "!\n"
     ]
    },
    {
     "name": "stderr",
     "output_type": "stream",
     "text": [
      "Extract dsift in test data:  68%|██████▊   | 344/505 [00:21<00:11, 14.49it/s]"
     ]
    },
    {
     "name": "stdout",
     "output_type": "stream",
     "text": [
      "!\n",
      "!\n",
      "!\n",
      "!\n",
      "!\n",
      "!\n",
      "!\n",
      "!\n",
      "!\n",
      "!\n",
      "!\n",
      "!\n"
     ]
    },
    {
     "name": "stderr",
     "output_type": "stream",
     "text": [
      "Extract dsift in test data:  69%|██████▊   | 346/505 [00:22<00:11, 13.35it/s]"
     ]
    },
    {
     "name": "stdout",
     "output_type": "stream",
     "text": [
      "!\n",
      "!\n",
      "!\n",
      "!\n",
      "!\n",
      "!\n",
      "!\n",
      "!\n",
      "!\n",
      "!\n",
      "!\n",
      "!\n"
     ]
    },
    {
     "name": "stderr",
     "output_type": "stream",
     "text": [
      "Extract dsift in test data:  69%|██████▉   | 348/505 [00:22<00:13, 11.43it/s]"
     ]
    },
    {
     "name": "stdout",
     "output_type": "stream",
     "text": [
      "!\n",
      "!\n",
      "!\n",
      "!\n",
      "!\n",
      "!\n",
      "!\n",
      "!\n",
      "!\n",
      "!\n",
      "!\n",
      "!\n",
      "!\n",
      "!\n",
      "!\n",
      "!\n"
     ]
    },
    {
     "name": "stderr",
     "output_type": "stream",
     "text": [
      "Extract dsift in test data:  70%|██████▉   | 352/505 [00:22<00:15,  9.65it/s]"
     ]
    },
    {
     "name": "stdout",
     "output_type": "stream",
     "text": [
      "!\n",
      "!\n",
      "!\n",
      "!\n",
      "!\n",
      "!\n",
      "!\n",
      "!\n",
      "!\n",
      "!\n"
     ]
    },
    {
     "name": "stderr",
     "output_type": "stream",
     "text": [
      "Extract dsift in test data:  70%|███████   | 354/505 [00:22<00:14, 10.12it/s]"
     ]
    },
    {
     "name": "stdout",
     "output_type": "stream",
     "text": [
      "!\n",
      "!\n",
      "!\n",
      "!\n",
      "!\n",
      "!\n",
      "!\n",
      "!\n",
      "!\n",
      "!\n",
      "!\n",
      "!\n",
      "!\n",
      "!\n"
     ]
    },
    {
     "name": "stderr",
     "output_type": "stream",
     "text": [
      "Extract dsift in test data:  71%|███████   | 358/505 [00:23<00:11, 12.61it/s]"
     ]
    },
    {
     "name": "stdout",
     "output_type": "stream",
     "text": [
      "!\n",
      "!\n",
      "!\n",
      "!\n",
      "!\n",
      "!\n",
      "!\n",
      "!\n",
      "!\n",
      "!\n",
      "!\n",
      "!\n",
      "!\n",
      "!\n",
      "!\n",
      "!\n"
     ]
    },
    {
     "name": "stderr",
     "output_type": "stream",
     "text": [
      "Extract dsift in test data:  71%|███████▏  | 360/505 [00:23<00:10, 13.32it/s]"
     ]
    },
    {
     "name": "stdout",
     "output_type": "stream",
     "text": [
      "!\n",
      "!\n",
      "!\n",
      "!\n",
      "!\n",
      "!\n",
      "!\n",
      "!\n",
      "!\n",
      "!\n",
      "!\n",
      "!\n",
      "!\n",
      "!\n",
      "!\n",
      "!\n"
     ]
    },
    {
     "name": "stderr",
     "output_type": "stream",
     "text": [
      "Extract dsift in test data:  72%|███████▏  | 364/505 [00:23<00:09, 14.34it/s]"
     ]
    },
    {
     "name": "stdout",
     "output_type": "stream",
     "text": [
      "!\n",
      "!\n",
      "!\n",
      "!\n",
      "!\n",
      "!\n",
      "!\n",
      "!\n",
      "!\n",
      "!\n",
      "!\n",
      "!\n",
      "!\n",
      "!\n",
      "!\n",
      "!\n"
     ]
    },
    {
     "name": "stderr",
     "output_type": "stream",
     "text": [
      "Extract dsift in test data:  72%|███████▏  | 366/505 [00:23<00:09, 14.64it/s]"
     ]
    },
    {
     "name": "stdout",
     "output_type": "stream",
     "text": [
      "!\n",
      "!\n",
      "!\n",
      "!\n",
      "!\n",
      "!\n",
      "!\n",
      "!\n",
      "!\n",
      "!\n",
      "!\n",
      "!\n",
      "!\n",
      "!\n",
      "!\n",
      "!\n"
     ]
    },
    {
     "name": "stderr",
     "output_type": "stream",
     "text": [
      "Extract dsift in test data:  73%|███████▎  | 370/505 [00:24<00:08, 15.11it/s]"
     ]
    },
    {
     "name": "stdout",
     "output_type": "stream",
     "text": [
      "!\n",
      "!\n",
      "!\n",
      "!\n",
      "!\n",
      "!\n",
      "!\n",
      "!\n",
      "!\n",
      "!\n",
      "!\n",
      "!\n",
      "!\n",
      "!\n",
      "!\n",
      "!\n",
      "!\n"
     ]
    },
    {
     "name": "stderr",
     "output_type": "stream",
     "text": [
      "Extract dsift in test data:  74%|███████▍  | 374/505 [00:24<00:08, 15.27it/s]"
     ]
    },
    {
     "name": "stdout",
     "output_type": "stream",
     "text": [
      "!\n",
      "!\n",
      "!\n",
      "!\n",
      "!\n",
      "!\n",
      "!\n",
      "!\n",
      "!\n",
      "!\n",
      "!\n",
      "!\n",
      "!\n",
      "!\n",
      "!\n",
      "!\n"
     ]
    },
    {
     "name": "stderr",
     "output_type": "stream",
     "text": [
      "Extract dsift in test data:  74%|███████▍  | 376/505 [00:24<00:08, 15.11it/s]"
     ]
    },
    {
     "name": "stdout",
     "output_type": "stream",
     "text": [
      "!\n",
      "!\n",
      "!\n",
      "!\n",
      "!\n",
      "!\n",
      "!\n",
      "!\n",
      "!\n",
      "!\n",
      "!\n",
      "!\n",
      "!\n",
      "!\n",
      "!\n",
      "!\n",
      "!\n"
     ]
    },
    {
     "name": "stderr",
     "output_type": "stream",
     "text": [
      "Extract dsift in test data:  75%|███████▌  | 380/505 [00:24<00:08, 15.49it/s]"
     ]
    },
    {
     "name": "stdout",
     "output_type": "stream",
     "text": [
      "!\n",
      "!\n",
      "!\n",
      "!\n",
      "!\n",
      "!\n",
      "!\n",
      "!\n",
      "!\n",
      "!\n",
      "!\n",
      "!\n",
      "!\n",
      "!\n",
      "!\n",
      "!\n",
      "!\n"
     ]
    },
    {
     "name": "stderr",
     "output_type": "stream",
     "text": [
      "Extract dsift in test data:  76%|███████▌  | 384/505 [00:24<00:07, 15.49it/s]"
     ]
    },
    {
     "name": "stdout",
     "output_type": "stream",
     "text": [
      "!\n",
      "!\n",
      "!\n",
      "!\n",
      "!\n",
      "!\n",
      "!\n",
      "!\n",
      "!\n",
      "!\n",
      "!\n",
      "!\n",
      "!\n",
      "!\n",
      "!\n",
      "!\n"
     ]
    },
    {
     "name": "stderr",
     "output_type": "stream",
     "text": [
      "Extract dsift in test data:  76%|███████▋  | 386/505 [00:25<00:07, 15.29it/s]"
     ]
    },
    {
     "name": "stdout",
     "output_type": "stream",
     "text": [
      "!\n",
      "!\n",
      "!\n",
      "!\n",
      "!\n",
      "!\n",
      "!\n",
      "!\n",
      "!\n",
      "!\n",
      "!\n",
      "!\n",
      "!\n",
      "!\n",
      "!\n",
      "!\n",
      "!\n"
     ]
    },
    {
     "name": "stderr",
     "output_type": "stream",
     "text": [
      "Extract dsift in test data:  77%|███████▋  | 390/505 [00:25<00:07, 15.59it/s]"
     ]
    },
    {
     "name": "stdout",
     "output_type": "stream",
     "text": [
      "!\n",
      "!\n",
      "!\n",
      "!\n",
      "!\n",
      "!\n",
      "!\n",
      "!\n",
      "!\n",
      "!\n",
      "!\n",
      "!\n",
      "!\n",
      "!\n",
      "!\n",
      "!\n",
      "!\n"
     ]
    },
    {
     "name": "stderr",
     "output_type": "stream",
     "text": [
      "Extract dsift in test data:  78%|███████▊  | 394/505 [00:25<00:07, 15.56it/s]"
     ]
    },
    {
     "name": "stdout",
     "output_type": "stream",
     "text": [
      "!\n",
      "!\n",
      "!\n",
      "!\n",
      "!\n",
      "!\n",
      "!\n",
      "!\n",
      "!\n",
      "!\n",
      "!\n",
      "!\n",
      "!\n",
      "!\n",
      "!\n",
      "!\n"
     ]
    },
    {
     "name": "stderr",
     "output_type": "stream",
     "text": [
      "Extract dsift in test data:  78%|███████▊  | 396/505 [00:25<00:07, 15.54it/s]"
     ]
    },
    {
     "name": "stdout",
     "output_type": "stream",
     "text": [
      "!\n",
      "!\n",
      "!\n",
      "!\n",
      "!\n",
      "!\n",
      "!\n",
      "!\n",
      "!\n",
      "!\n",
      "!\n",
      "!\n",
      "!\n",
      "!\n",
      "!\n",
      "!\n",
      "!\n"
     ]
    },
    {
     "name": "stderr",
     "output_type": "stream",
     "text": [
      "Extract dsift in test data:  79%|███████▉  | 400/505 [00:25<00:06, 15.81it/s]"
     ]
    },
    {
     "name": "stdout",
     "output_type": "stream",
     "text": [
      "!\n",
      "!\n",
      "!\n",
      "!\n",
      "!\n",
      "!\n",
      "!\n",
      "!\n",
      "!\n",
      "!\n",
      "!\n",
      "!\n",
      "!\n",
      "!\n",
      "!\n",
      "!\n",
      "!\n"
     ]
    },
    {
     "name": "stderr",
     "output_type": "stream",
     "text": [
      "Extract dsift in test data:  80%|████████  | 404/505 [00:26<00:06, 16.01it/s]"
     ]
    },
    {
     "name": "stdout",
     "output_type": "stream",
     "text": [
      "!\n",
      "!\n",
      "!\n",
      "!\n",
      "!\n",
      "!\n",
      "!\n",
      "!\n",
      "!\n",
      "!\n",
      "!\n",
      "!\n",
      "!\n",
      "!\n",
      "!\n",
      "!\n",
      "!\n"
     ]
    },
    {
     "name": "stderr",
     "output_type": "stream",
     "text": [
      "Extract dsift in test data:  80%|████████  | 406/505 [00:26<00:06, 15.77it/s]"
     ]
    },
    {
     "name": "stdout",
     "output_type": "stream",
     "text": [
      "!\n",
      "!\n",
      "!\n",
      "!\n",
      "!\n",
      "!\n",
      "!\n",
      "!\n",
      "!\n",
      "!\n",
      "!\n",
      "!\n",
      "!\n",
      "!\n",
      "!\n",
      "!\n"
     ]
    },
    {
     "name": "stderr",
     "output_type": "stream",
     "text": [
      "Extract dsift in test data:  81%|████████  | 410/505 [00:26<00:06, 15.40it/s]"
     ]
    },
    {
     "name": "stdout",
     "output_type": "stream",
     "text": [
      "!\n",
      "!\n",
      "!\n",
      "!\n",
      "!\n",
      "!\n",
      "!\n",
      "!\n",
      "!\n",
      "!\n",
      "!\n",
      "!\n",
      "!\n",
      "!\n",
      "!\n",
      "!\n"
     ]
    },
    {
     "name": "stderr",
     "output_type": "stream",
     "text": [
      "Extract dsift in test data:  82%|████████▏ | 412/505 [00:26<00:05, 15.53it/s]"
     ]
    },
    {
     "name": "stdout",
     "output_type": "stream",
     "text": [
      "!\n",
      "!\n",
      "!\n",
      "!\n",
      "!\n",
      "!\n",
      "!\n",
      "!\n",
      "!\n",
      "!\n",
      "!\n",
      "!\n",
      "!\n",
      "!\n",
      "!\n"
     ]
    },
    {
     "name": "stderr",
     "output_type": "stream",
     "text": [
      "Extract dsift in test data:  82%|████████▏ | 416/505 [00:26<00:05, 15.32it/s]"
     ]
    },
    {
     "name": "stdout",
     "output_type": "stream",
     "text": [
      "!\n",
      "!\n",
      "!\n",
      "!\n",
      "!\n",
      "!\n",
      "!\n",
      "!\n",
      "!\n",
      "!\n",
      "!\n",
      "!\n",
      "!\n",
      "!\n",
      "!\n",
      "!\n"
     ]
    },
    {
     "name": "stderr",
     "output_type": "stream",
     "text": [
      "Extract dsift in test data:  83%|████████▎ | 420/505 [00:27<00:05, 15.36it/s]"
     ]
    },
    {
     "name": "stdout",
     "output_type": "stream",
     "text": [
      "!\n",
      "!\n",
      "!\n",
      "!\n",
      "!\n",
      "!\n",
      "!\n",
      "!\n",
      "!\n",
      "!\n",
      "!\n",
      "!\n",
      "!\n",
      "!\n",
      "!\n",
      "!\n",
      "!\n"
     ]
    },
    {
     "name": "stderr",
     "output_type": "stream",
     "text": [
      "Extract dsift in test data:  84%|████████▎ | 422/505 [00:27<00:05, 15.41it/s]"
     ]
    },
    {
     "name": "stdout",
     "output_type": "stream",
     "text": [
      "!\n",
      "!\n",
      "!\n",
      "!\n",
      "!\n",
      "!\n",
      "!\n",
      "!\n",
      "!\n",
      "!\n",
      "!\n",
      "!\n",
      "!\n",
      "!\n",
      "!\n",
      "!\n"
     ]
    },
    {
     "name": "stderr",
     "output_type": "stream",
     "text": [
      "Extract dsift in test data:  84%|████████▍ | 426/505 [00:27<00:05, 15.46it/s]"
     ]
    },
    {
     "name": "stdout",
     "output_type": "stream",
     "text": [
      "!\n",
      "!\n",
      "!\n",
      "!\n",
      "!\n",
      "!\n",
      "!\n",
      "!\n",
      "!\n",
      "!\n",
      "!\n",
      "!\n",
      "!\n",
      "!\n",
      "!\n",
      "!\n",
      "!\n"
     ]
    },
    {
     "name": "stderr",
     "output_type": "stream",
     "text": [
      "Extract dsift in test data:  85%|████████▌ | 430/505 [00:27<00:04, 15.70it/s]"
     ]
    },
    {
     "name": "stdout",
     "output_type": "stream",
     "text": [
      "!\n",
      "!\n",
      "!\n",
      "!\n",
      "!\n",
      "!\n",
      "!\n",
      "!\n",
      "!\n",
      "!\n",
      "!\n",
      "!\n",
      "!\n",
      "!\n",
      "!\n",
      "!\n",
      "!\n"
     ]
    },
    {
     "name": "stderr",
     "output_type": "stream",
     "text": [
      "Extract dsift in test data:  86%|████████▌ | 432/505 [00:28<00:04, 15.80it/s]"
     ]
    },
    {
     "name": "stdout",
     "output_type": "stream",
     "text": [
      "!\n",
      "!\n",
      "!\n",
      "!\n",
      "!\n",
      "!\n",
      "!\n",
      "!\n",
      "!\n",
      "!\n",
      "!\n",
      "!\n",
      "!\n",
      "!\n",
      "!\n",
      "!\n",
      "!\n"
     ]
    },
    {
     "name": "stderr",
     "output_type": "stream",
     "text": [
      "Extract dsift in test data:  86%|████████▋ | 436/505 [00:28<00:04, 15.78it/s]"
     ]
    },
    {
     "name": "stdout",
     "output_type": "stream",
     "text": [
      "!\n",
      "!\n",
      "!\n",
      "!\n",
      "!\n",
      "!\n",
      "!\n",
      "!\n",
      "!\n",
      "!\n",
      "!\n",
      "!\n",
      "!\n",
      "!\n",
      "!\n",
      "!\n"
     ]
    },
    {
     "name": "stderr",
     "output_type": "stream",
     "text": [
      "Extract dsift in test data:  87%|████████▋ | 440/505 [00:28<00:04, 15.89it/s]"
     ]
    },
    {
     "name": "stdout",
     "output_type": "stream",
     "text": [
      "!\n",
      "!\n",
      "!\n",
      "!\n",
      "!\n",
      "!\n",
      "!\n",
      "!\n",
      "!\n",
      "!\n",
      "!\n",
      "!\n",
      "!\n",
      "!\n",
      "!\n",
      "!\n",
      "!\n"
     ]
    },
    {
     "name": "stderr",
     "output_type": "stream",
     "text": [
      "Extract dsift in test data:  88%|████████▊ | 442/505 [00:28<00:03, 15.90it/s]"
     ]
    },
    {
     "name": "stdout",
     "output_type": "stream",
     "text": [
      "!\n",
      "!\n",
      "!\n",
      "!\n",
      "!\n",
      "!\n",
      "!\n",
      "!\n",
      "!\n",
      "!\n",
      "!\n",
      "!\n",
      "!\n",
      "!\n",
      "!\n",
      "!\n"
     ]
    },
    {
     "name": "stderr",
     "output_type": "stream",
     "text": [
      "Extract dsift in test data:  88%|████████▊ | 446/505 [00:28<00:03, 15.57it/s]"
     ]
    },
    {
     "name": "stdout",
     "output_type": "stream",
     "text": [
      "!\n",
      "!\n",
      "!\n",
      "!\n",
      "!\n",
      "!\n",
      "!\n",
      "!\n",
      "!\n",
      "!\n",
      "!\n",
      "!\n",
      "!\n",
      "!\n",
      "!\n",
      "!\n"
     ]
    },
    {
     "name": "stderr",
     "output_type": "stream",
     "text": [
      "Extract dsift in test data:  89%|████████▊ | 448/505 [00:29<00:03, 15.50it/s]"
     ]
    },
    {
     "name": "stdout",
     "output_type": "stream",
     "text": [
      "!\n",
      "!\n",
      "!\n",
      "!\n",
      "!\n",
      "!\n",
      "!\n",
      "!\n",
      "!\n",
      "!\n",
      "!\n",
      "!\n",
      "!\n",
      "!\n",
      "!\n",
      "!\n"
     ]
    },
    {
     "name": "stderr",
     "output_type": "stream",
     "text": [
      "Extract dsift in test data:  90%|████████▉ | 452/505 [00:29<00:03, 15.26it/s]"
     ]
    },
    {
     "name": "stdout",
     "output_type": "stream",
     "text": [
      "!\n",
      "!\n",
      "!\n",
      "!\n",
      "!\n",
      "!\n",
      "!\n",
      "!\n",
      "!\n",
      "!\n",
      "!\n",
      "!\n",
      "!\n",
      "!\n",
      "!\n",
      "!\n"
     ]
    },
    {
     "name": "stderr",
     "output_type": "stream",
     "text": [
      "Extract dsift in test data:  90%|█████████ | 456/505 [00:29<00:03, 15.62it/s]"
     ]
    },
    {
     "name": "stdout",
     "output_type": "stream",
     "text": [
      "!\n",
      "!\n",
      "!\n",
      "!\n",
      "!\n",
      "!\n",
      "!\n",
      "!\n",
      "!\n",
      "!\n",
      "!\n",
      "!\n",
      "!\n",
      "!\n",
      "!\n",
      "!\n",
      "!\n"
     ]
    },
    {
     "name": "stderr",
     "output_type": "stream",
     "text": [
      "Extract dsift in test data:  91%|█████████ | 458/505 [00:29<00:03, 15.66it/s]"
     ]
    },
    {
     "name": "stdout",
     "output_type": "stream",
     "text": [
      "!\n",
      "!\n",
      "!\n",
      "!\n",
      "!\n",
      "!\n",
      "!\n",
      "!\n",
      "!\n",
      "!\n",
      "!\n",
      "!\n",
      "!\n",
      "!\n",
      "!\n",
      "!\n"
     ]
    },
    {
     "name": "stderr",
     "output_type": "stream",
     "text": [
      "Extract dsift in test data:  91%|█████████▏| 462/505 [00:29<00:02, 15.31it/s]"
     ]
    },
    {
     "name": "stdout",
     "output_type": "stream",
     "text": [
      "!\n",
      "!\n",
      "!\n",
      "!\n",
      "!\n",
      "!\n",
      "!\n",
      "!\n",
      "!\n",
      "!\n",
      "!\n",
      "!\n",
      "!\n",
      "!\n",
      "!\n",
      "!\n"
     ]
    },
    {
     "name": "stderr",
     "output_type": "stream",
     "text": [
      "Extract dsift in test data:  92%|█████████▏| 466/505 [00:30<00:02, 15.49it/s]"
     ]
    },
    {
     "name": "stdout",
     "output_type": "stream",
     "text": [
      "!\n",
      "!\n",
      "!\n",
      "!\n",
      "!\n",
      "!\n",
      "!\n",
      "!\n",
      "!\n",
      "!\n",
      "!\n",
      "!\n",
      "!\n",
      "!\n",
      "!\n",
      "!\n",
      "!\n"
     ]
    },
    {
     "name": "stderr",
     "output_type": "stream",
     "text": [
      "Extract dsift in test data:  93%|█████████▎| 468/505 [00:30<00:02, 15.50it/s]"
     ]
    },
    {
     "name": "stdout",
     "output_type": "stream",
     "text": [
      "!\n",
      "!\n",
      "!\n",
      "!\n",
      "!\n",
      "!\n",
      "!\n",
      "!\n",
      "!\n",
      "!\n",
      "!\n",
      "!\n",
      "!\n",
      "!\n",
      "!\n",
      "!\n",
      "!\n"
     ]
    },
    {
     "name": "stderr",
     "output_type": "stream",
     "text": [
      "Extract dsift in test data:  93%|█████████▎| 472/505 [00:30<00:02, 15.67it/s]"
     ]
    },
    {
     "name": "stdout",
     "output_type": "stream",
     "text": [
      "!\n",
      "!\n",
      "!\n",
      "!\n",
      "!\n",
      "!\n",
      "!\n",
      "!\n",
      "!\n",
      "!\n",
      "!\n",
      "!\n",
      "!\n",
      "!\n",
      "!\n",
      "!\n"
     ]
    },
    {
     "name": "stderr",
     "output_type": "stream",
     "text": [
      "Extract dsift in test data:  94%|█████████▍| 476/505 [00:30<00:01, 15.78it/s]"
     ]
    },
    {
     "name": "stdout",
     "output_type": "stream",
     "text": [
      "!\n",
      "!\n",
      "!\n",
      "!\n",
      "!\n",
      "!\n",
      "!\n",
      "!\n",
      "!\n",
      "!\n",
      "!\n",
      "!\n",
      "!\n",
      "!\n",
      "!\n",
      "!\n",
      "!\n"
     ]
    },
    {
     "name": "stderr",
     "output_type": "stream",
     "text": [
      "Extract dsift in test data:  95%|█████████▍| 478/505 [00:30<00:01, 15.76it/s]"
     ]
    },
    {
     "name": "stdout",
     "output_type": "stream",
     "text": [
      "!\n",
      "!\n",
      "!\n",
      "!\n",
      "!\n",
      "!\n",
      "!\n",
      "!\n",
      "!\n",
      "!\n",
      "!\n",
      "!\n",
      "!\n",
      "!\n",
      "!\n",
      "!\n",
      "!\n"
     ]
    },
    {
     "name": "stderr",
     "output_type": "stream",
     "text": [
      "Extract dsift in test data:  95%|█████████▌| 482/505 [00:31<00:01, 15.74it/s]"
     ]
    },
    {
     "name": "stdout",
     "output_type": "stream",
     "text": [
      "!\n",
      "!\n",
      "!\n",
      "!\n",
      "!\n",
      "!\n",
      "!\n",
      "!\n",
      "!\n",
      "!\n",
      "!\n",
      "!\n",
      "!\n",
      "!\n",
      "!\n",
      "!\n"
     ]
    },
    {
     "name": "stderr",
     "output_type": "stream",
     "text": [
      "Extract dsift in test data:  96%|█████████▌| 486/505 [00:31<00:01, 15.88it/s]"
     ]
    },
    {
     "name": "stdout",
     "output_type": "stream",
     "text": [
      "!\n",
      "!\n",
      "!\n",
      "!\n",
      "!\n",
      "!\n",
      "!\n",
      "!\n",
      "!\n",
      "!\n",
      "!\n",
      "!\n",
      "!\n",
      "!\n",
      "!\n",
      "!\n",
      "!"
     ]
    },
    {
     "name": "stderr",
     "output_type": "stream",
     "text": [
      "Extract dsift in test data:  97%|█████████▋| 488/505 [00:31<00:01, 15.79it/s]"
     ]
    },
    {
     "name": "stdout",
     "output_type": "stream",
     "text": [
      "\n",
      "!\n",
      "!\n",
      "!\n",
      "!\n",
      "!\n",
      "!\n",
      "!\n",
      "!\n",
      "!\n",
      "!\n",
      "!\n",
      "!\n",
      "!\n",
      "!\n",
      "!\n"
     ]
    },
    {
     "name": "stderr",
     "output_type": "stream",
     "text": [
      "Extract dsift in test data:  97%|█████████▋| 492/505 [00:31<00:00, 15.65it/s]"
     ]
    },
    {
     "name": "stdout",
     "output_type": "stream",
     "text": [
      "!\n",
      "!\n",
      "!\n",
      "!\n",
      "!\n",
      "!\n",
      "!\n",
      "!\n",
      "!\n",
      "!\n",
      "!\n",
      "!\n",
      "!\n",
      "!\n",
      "!\n",
      "!\n"
     ]
    },
    {
     "name": "stderr",
     "output_type": "stream",
     "text": [
      "Extract dsift in test data:  98%|█████████▊| 494/505 [00:31<00:00, 15.64it/s]"
     ]
    },
    {
     "name": "stdout",
     "output_type": "stream",
     "text": [
      "!\n",
      "!\n",
      "!\n",
      "!\n",
      "!\n",
      "!\n",
      "!\n",
      "!\n",
      "!\n",
      "!\n",
      "!\n",
      "!\n",
      "!\n",
      "!\n",
      "!\n",
      "!\n",
      "!\n"
     ]
    },
    {
     "name": "stderr",
     "output_type": "stream",
     "text": [
      "Extract dsift in test data:  99%|█████████▊| 498/505 [00:32<00:00, 15.58it/s]"
     ]
    },
    {
     "name": "stdout",
     "output_type": "stream",
     "text": [
      "!\n",
      "!\n",
      "!\n",
      "!\n",
      "!\n",
      "!\n",
      "!\n",
      "!\n",
      "!\n",
      "!\n",
      "!\n",
      "!\n",
      "!\n",
      "!\n",
      "!\n",
      "!\n",
      "!\n"
     ]
    },
    {
     "name": "stderr",
     "output_type": "stream",
     "text": [
      "Extract dsift in test data:  99%|█████████▉| 502/505 [00:32<00:00, 15.59it/s]"
     ]
    },
    {
     "name": "stdout",
     "output_type": "stream",
     "text": [
      "!\n",
      "!\n",
      "!\n",
      "!\n",
      "!\n",
      "!\n",
      "!\n",
      "!\n",
      "!\n",
      "!\n",
      "!\n",
      "!\n",
      "!\n",
      "!\n",
      "!\n",
      "!\n",
      "!\n"
     ]
    },
    {
     "name": "stderr",
     "output_type": "stream",
     "text": [
      "Extract dsift in test data: 100%|██████████| 505/505 [00:32<00:00, 15.45it/s]"
     ]
    },
    {
     "name": "stdout",
     "output_type": "stream",
     "text": [
      "!\n",
      "!\n",
      "!\n",
      "!\n",
      "!\n",
      "!\n",
      "!\n",
      "!\n",
      "!\n",
      "!\n",
      "!\n"
     ]
    },
    {
     "name": "stderr",
     "output_type": "stream",
     "text": [
      "\n"
     ]
    }
   ],
   "source": [
    "# train 비디오에서 프레임 추출 및 특징점(visual word) 추출, dict 형태로 train_local_desc[비디오 경로]이면 해당하는 비디오에서 추출한 모든 특징점(visual word) 확인 가능\n",
    "train_local_desc = {}\n",
    "for vi, vid_path in enumerate(tqdm.tqdm(train_list, desc=\"Extract {} in train data\".format(\"dsift\" if arg_dense_sift else \"sift\"))):\n",
    "    curr_frame = video_to_frame(vid_path, arg_img_size, num_frame)\n",
    "    local_desc = computeSIFT(curr_frame, arg_dense_sift)\n",
    "    train_local_desc.update({vid_path : local_desc})\n",
    "\n",
    "# test 비디오에서 프레임 추출 및 특징점(visual word) 추출, dict 형태로 test_local_desc[비디오 경로]이면 해당하는 비디오에서 추출한 모든 특징점(visual word) 확인 가능\n",
    "test_local_desc = {}\n",
    "for vi, vid_path in enumerate(tqdm.tqdm(test_list, desc=\"Extract {} in test data\".format(\"dsift\" if arg_dense_sift else \"sift\"))):\n",
    "    curr_frame = video_to_frame(vid_path, arg_img_size, num_frame)\n",
    "    local_desc = computeSIFT(curr_frame, arg_dense_sift)\n",
    "    test_local_desc.update({vid_path : local_desc})\n"
   ]
  },
  {
   "cell_type": "code",
   "execution_count": 8,
   "id": "smart-improvement",
   "metadata": {
    "execution": {
     "iopub.execute_input": "2021-06-05T22:33:05.930930Z",
     "iopub.status.busy": "2021-06-05T22:33:05.925295Z",
     "iopub.status.idle": "2021-06-05T22:33:09.291286Z",
     "shell.execute_reply": "2021-06-05T22:33:09.290756Z",
     "shell.execute_reply.started": "2021-06-05T04:56:23.716238Z"
    },
    "papermill": {
     "duration": 3.862695,
     "end_time": "2021-06-05T22:33:09.291469",
     "exception": false,
     "start_time": "2021-06-05T22:33:05.428774",
     "status": "completed"
    },
    "tags": []
   },
   "outputs": [
    {
     "name": "stdout",
     "output_type": "stream",
     "text": [
      "\n",
      "\n",
      "Aggregate SIFT descriptor\n",
      "\t3.37s\n",
      "\n",
      "\n"
     ]
    }
   ],
   "source": [
    "print(\"\\n\\nAggregate SIFT descriptor\")\n",
    "start = time.time()\n",
    "\n",
    "\n",
    "# train 비디오 별로 나눠진 특징점(visual word)들을 [n,128]형태로 모음, 모아진 특징점(visual word)들의 정보(비디오 내의 몇번째 프레임에서 나온 특징점인지)는 \n",
    "# 같은 인덱스의 train_frame_total에서 확인 가능 및 비디오 내의 특정 프레임에서 나온 특징점(visual word)의 수는 train_local_info에서 확인 가능\n",
    "train_frame_total = []\n",
    "train_local_desc_total = []\n",
    "train_local_info = {}\n",
    "for k, v in train_local_desc.items():\n",
    "    for kk, vv in v.items():\n",
    "        l_num = 0\n",
    "        if vv is not None:\n",
    "            train_local_desc_total.extend(vv)\n",
    "            train_frame_total.extend([k+\", \"+str(kk)] * len(vv))\n",
    "            l_num = len(vv)\n",
    "        train_local_info.update({k+\", \"+str(kk) : l_num})\n",
    "train_local_desc_total = np.asarray(train_local_desc_total)\n",
    "train_frame_total = np.asarray(train_frame_total)\n",
    "\n",
    "\n",
    "# test 비디오 별로 나눠진 특징점(visual word)들을 [n,128]형태로 모음, 모아진 특징점(visual word)들의 정보(비디오 내의 몇번째 프레임에서 나온 특징점인지)는 \n",
    "# 같은 인덱스의 test_frame_total에서 확인 가능 및 비디오 내의 특정 프레임에서 나온 특징점(visual word)의 수는 test_local_info에서 확인 가능\n",
    "test_frame_total = []\n",
    "test_local_desc_total = []\n",
    "test_local_info = {}\n",
    "for k, v in test_local_desc.items():\n",
    "    for kk, vv in v.items():\n",
    "        l_num = 0\n",
    "        if vv is not None:\n",
    "            test_local_desc_total.extend(vv)\n",
    "            test_frame_total.extend([k+\", \"+str(kk)] * len(vv))\n",
    "            l_num = len(vv)\n",
    "        test_local_info.update({k+\", \"+str(kk) : l_num})\n",
    "test_local_desc_total = np.asarray(test_local_desc_total)\n",
    "test_frame_total = np.asarray(test_frame_total)\n",
    "\n",
    "\n",
    "print(\"\\t{:3.2f}s\\n\\n\".format(time.time()-start))"
   ]
  },
  {
   "cell_type": "markdown",
   "id": "reflected-duplicate",
   "metadata": {
    "papermill": {
     "duration": 0.462338,
     "end_time": "2021-06-05T22:33:10.207456",
     "exception": false,
     "start_time": "2021-06-05T22:33:09.745118",
     "status": "completed"
    },
    "tags": []
   },
   "source": [
    "# 비디오 feature 기술을 위한 프레임 feature 기술 (Empty Module 2,3,4)"
   ]
  },
  {
   "cell_type": "code",
   "execution_count": 9,
   "id": "fifty-starter",
   "metadata": {
    "execution": {
     "iopub.execute_input": "2021-06-05T22:33:11.126013Z",
     "iopub.status.busy": "2021-06-05T22:33:11.125385Z",
     "iopub.status.idle": "2021-06-05T22:33:11.128583Z",
     "shell.execute_reply": "2021-06-05T22:33:11.128112Z",
     "shell.execute_reply.started": "2021-06-05T04:56:28.418372Z"
    },
    "papermill": {
     "duration": 0.46777,
     "end_time": "2021-06-05T22:33:11.128732",
     "exception": false,
     "start_time": "2021-06-05T22:33:10.660962",
     "status": "completed"
    },
    "tags": []
   },
   "outputs": [],
   "source": [
    "def clustering(train_desc, test_desc=None, n_clusters=200):\n",
    "    #########################################################\n",
    "    ## 모든 특징점들 중, 대표 특징점(codebook)을 선정하는 함수\n",
    "    ## \n",
    "    ## Input \n",
    "    ##     train_desc : 모든 train 비디오의 모든 프레임에서 추출한 특징점(visual word)들\n",
    "    ##     test_desc : 모든 test 비디오의 모든 프레임에서 추출한 특징점(visual word)들\n",
    "    ##     n_clusters : 대표 특징점(codebook)의 수\n",
    "    ##\n",
    "    ## Output\n",
    "    ##     train_pred : 대표 특징점(codebook)에 대해 train_desc가 할당된 위치\n",
    "    ##     test_pred : 대표 특징점(codebook)에 대해 train_desc가 할당된 위치\n",
    "    ##     clusters : 대표 특징점(codebook)\n",
    "    ##     kmeans : kmeans 인스턴스\n",
    "    #########################################################\n",
    "    \n",
    "    \n",
    "    \n",
    "    ##### Empty Module 2 : 대표 특징점(codebook) 선정 ######\n",
    "    # 제약 조건 : MiniBatchKMeans 사용, random_state=0 고정\n",
    "    # sklearn의 MiniBatchKMeans를 활용하여 n_clusters 크기 만큼의 대표 특징점(codebook)을 선정\n",
    "    ###########################################\n",
    "    \n",
    "    #MiniBatchKMeans는 가이드 라인대로 생성한 후 train_desc로 학습하고 예측데이터를 만들었다.\n",
    "    kmeans = MiniBatchKMeans(n_clusters=n_clusters, random_state=0)\n",
    "    kmeans.fit(train_desc)\n",
    "\n",
    "    train_pred = kmeans.predict(train_desc)\n",
    "    if test_desc is not None:\n",
    "        test_pred = kmeans.predict(test_desc)\n",
    "    else:\n",
    "        test_pred = None\n",
    "    \n",
    "    #kmeans가 속성값으로 가지는 cluster_centers_를 이용해서 대표점들을 뽑았다.\n",
    "    clusters = kmeans.cluster_centers_\n",
    "    \n",
    "    return train_pred, test_pred, clusters, kmeans"
   ]
  },
  {
   "cell_type": "code",
   "execution_count": 10,
   "id": "critical-terrace",
   "metadata": {
    "execution": {
     "iopub.execute_input": "2021-06-05T22:33:12.121171Z",
     "iopub.status.busy": "2021-06-05T22:33:12.120044Z",
     "iopub.status.idle": "2021-06-05T22:35:41.452544Z",
     "shell.execute_reply": "2021-06-05T22:35:41.451798Z",
     "shell.execute_reply.started": "2021-06-05T04:56:28.42499Z"
    },
    "papermill": {
     "duration": 149.800263,
     "end_time": "2021-06-05T22:35:41.452718",
     "exception": false,
     "start_time": "2021-06-05T22:33:11.652455",
     "status": "completed"
    },
    "scrolled": true,
    "tags": []
   },
   "outputs": [],
   "source": [
    "# 모든 train 비디오의 모든 프레임에서 추출한 특징점(visual word)들로 대표 특징점(codebook)을 만들고,\n",
    "# train 비디오의 모든 프레임에서 추출된 특징점(visual word)과 test 비디오의 모든 프레임에서 추출된 특징점(visual word)을 대표 특징점(codebook)에 할당\n",
    "train_local_alloc, test_local_alloc, local_codebook, local_kmeans = clustering(train_local_desc_total, test_local_desc_total, args_local_cluster)"
   ]
  },
  {
   "cell_type": "code",
   "execution_count": 11,
   "id": "liable-elevation",
   "metadata": {
    "execution": {
     "iopub.execute_input": "2021-06-05T22:35:42.379497Z",
     "iopub.status.busy": "2021-06-05T22:35:42.378741Z",
     "iopub.status.idle": "2021-06-05T22:35:42.382108Z",
     "shell.execute_reply": "2021-06-05T22:35:42.381634Z",
     "shell.execute_reply.started": "2021-06-03T01:07:40.459517Z"
    },
    "papermill": {
     "duration": 0.471581,
     "end_time": "2021-06-05T22:35:42.382276",
     "exception": false,
     "start_time": "2021-06-05T22:35:41.910695",
     "status": "completed"
    },
    "tags": []
   },
   "outputs": [],
   "source": [
    "def VLAD(X, alloc, centers):\n",
    "    #########################################################\n",
    "    ## 이미지 feature인 VLAD feature를 기술하기 위한 함수\n",
    "    ## \n",
    "    ## Input \n",
    "    ##     X : 한 프레임의 특징점(visual word)들\n",
    "    ##     alloc : 한 프레임의 특징점(visual word)들이 대표 특징점(codebook)에 할당된 위치\n",
    "    ##     centers : 대표 특징점(codebook)\n",
    "    ##\n",
    "    ## Output\n",
    "    ##     V : VLAD feature\n",
    "    #########################################################\n",
    "    \n",
    "    m,d = X.shape\n",
    "    k = centers.shape[0]\n",
    "    \n",
    "    # VLAD feature를 담기 위한 변수\n",
    "    V=np.zeros([k,d])\n",
    "    for i in range(k):\n",
    "        if np.sum(alloc==i)>0:\n",
    "            ####################### Empty Module 3 : VLAD ########################\n",
    "            # 이미지에서 추출된 특징점(visual word) X와 이들이 대표 특징점(codebook)으로 할당된 정보 alloc을 이용해,\n",
    "            # 동일한 대표 특징점(codebook)으로 할당된 특징점(visual word)들의 벡터 합 계산해 V[i]에 저장\n",
    "            # hint : 바로 위 조건문의 조건 \"alloc==i\"의 의미를 파악하고 인덱싱에 활용\n",
    "            ######################################################################\n",
    "            \n",
    "            #오버뷰를 확인해보면 이제 대표 중심점에 할당된 즉 대표 중심점의 군집에 해당하는 특징점들과\n",
    "            #대표 특징점 사이의 벡터 차이값을 더하여 넣는 과정이다.\n",
    "            #X[alloc == i]를 하게 되면, 대표 특징점들의 위치정보를 담고있는 alloc에서\n",
    "            #i와 같은 즉 각 대표 특징점에 해당하는 X의 값들을 추출하여 볼 수 있게 된다.\n",
    "            #이렇게 추출된 특징점들에서 centers[i] 즉 대표 특징점을 빼준 후 axis=0를 이용해서 np.sum을 하여\n",
    "            #차이점을 합해서 V[i,:]에 저장해준다.\n",
    "            V[i, :] = np.sum(X[alloc==i, :]-centers[i], axis = 0)\n",
    "            \n",
    "    \n",
    "    # 후처리 과정\n",
    "    V = V.flatten()\n",
    "    V = np.sign(V)*np.sqrt(np.abs(V))\n",
    "    if np.sqrt(np.dot(V,V))!=0:\n",
    "        V = V/np.sqrt(np.dot(V,V))\n",
    "    return V\n",
    "\n",
    "\n",
    "def BoW(alloc, n_cluster):\n",
    "    #########################################################\n",
    "    ## 이미지 feature인 BoW feature를 기술하기 위한 함수\n",
    "    ## \n",
    "    ## Input \n",
    "    ##     alloc : 한 프레임의 특징점(visual word)들이 대표 특징점(codebook)에 할당된 위치\n",
    "    ##     n_cluster : 대표 특징점(codebook)의 수\n",
    "    ##\n",
    "    ## Output\n",
    "    ##     V : BoW feature\n",
    "    #########################################################\n",
    "    \n",
    "    ######################### Empty Module 4 : BoW ##########################\n",
    "    # 이미지에서 추출된 특징점(visual word)이 대표 특징점(codebook)으로 할당된 정보 alloc의 histogram을 계산\n",
    "    # np.histogram 함수 참고\n",
    "    #########################################################################\n",
    "    \n",
    "    #해당 부분은 11주차 코드를 많이 참고하였다.\n",
    "    #11주차에서 index를 나타내던 부분이 이제 위치정보이기에 alloc을 담고\n",
    "    #갯수를 담는 부분에서 n_cluster를 대신하여 넣어준 뒤 나머지는 동일하게 Bow함수를 구성하였다.\n",
    "    V = np.histogram(alloc, bins=range(n_cluster + 1), normed=True)[0].flatten()\n",
    "    \n",
    "    return V"
   ]
  },
  {
   "cell_type": "code",
   "execution_count": 12,
   "id": "german-shakespeare",
   "metadata": {
    "execution": {
     "iopub.execute_input": "2021-06-05T22:35:43.312146Z",
     "iopub.status.busy": "2021-06-05T22:35:43.311368Z",
     "iopub.status.idle": "2021-06-05T22:36:46.889618Z",
     "shell.execute_reply": "2021-06-05T22:36:46.891345Z",
     "shell.execute_reply.started": "2021-06-03T01:07:40.473487Z"
    },
    "papermill": {
     "duration": 64.047485,
     "end_time": "2021-06-05T22:36:46.891678",
     "exception": false,
     "start_time": "2021-06-05T22:35:42.844193",
     "status": "completed"
    },
    "tags": []
   },
   "outputs": [
    {
     "name": "stdout",
     "output_type": "stream",
     "text": [
      "\n",
      "\n",
      "Allocate center & Descript local histogram\n",
      "\t63.10s\n",
      "\n",
      "\n"
     ]
    }
   ],
   "source": [
    "print(\"\\n\\nAllocate center & Descript local histogram\")\n",
    "start = time.time()\n",
    "\n",
    "# Train 비디오 내의 프레임 별로 이미지 feature 기술 -> train_global_desc\n",
    "# 각 이미지 feature의 정보(속한 비디오 이름, 비디오 내의 인덱스) -> train_global_desc_key\n",
    "train_global_desc = []\n",
    "train_global_desc_key = []\n",
    "vi=0\n",
    "for k, v in train_local_info.items():\n",
    "    if v!=0:\n",
    "        if args_aggr==\"bow\":            \n",
    "            hist_desc = BoW(train_local_alloc[vi:vi+v], args_local_cluster)\n",
    "        elif args_aggr==\"vlad\":\n",
    "            hist_desc = VLAD(train_local_desc_total[vi:vi+v], train_local_alloc[vi:vi+v], local_codebook)\n",
    "        else:\n",
    "            import pdb; pdb.set_trace()\n",
    "        vi+=v\n",
    "        train_global_desc.append(hist_desc)\n",
    "        train_global_desc_key.append(k)\n",
    "train_global_desc = np.asarray(train_global_desc)\n",
    "train_global_desc_key = np.asarray(train_global_desc_key)\n",
    "\n",
    "\n",
    "# Test 비디오 내의 프레임 별로 이미지 feature 기술 -> test_global_desc\n",
    "# 각 이미지 feature의 정보(속한 비디오 이름, 비디오 내의 인덱스) -> test_global_desc_key\n",
    "test_global_desc = []\n",
    "test_global_desc_key = []\n",
    "vi=0\n",
    "for k, v in test_local_info.items():\n",
    "    if v!=0:\n",
    "        if args_aggr==\"bow\":\n",
    "            hist_desc = BoW(test_local_alloc[vi:vi+v], args_local_cluster)\n",
    "        elif args_aggr==\"vlad\":\n",
    "            hist_desc = VLAD(test_local_desc_total[vi:vi+v], test_local_alloc[vi:vi+v], local_codebook)\n",
    "        else:\n",
    "            import pdb; pdb.set_trace()\n",
    "\n",
    "        vi+=v\n",
    "        test_global_desc.append(hist_desc)\n",
    "        test_global_desc_key.append(k)\n",
    "test_global_desc = np.asarray(test_global_desc)\n",
    "test_global_desc_key = np.asarray(test_global_desc_key)\n",
    "\n",
    "print(\"\\t{:3.2f}s\\n\\n\".format(time.time()-start))\n"
   ]
  },
  {
   "cell_type": "code",
   "execution_count": 13,
   "id": "alike-match",
   "metadata": {
    "execution": {
     "iopub.execute_input": "2021-06-05T22:36:47.835381Z",
     "iopub.status.busy": "2021-06-05T22:36:47.834687Z",
     "iopub.status.idle": "2021-06-05T22:37:21.091910Z",
     "shell.execute_reply": "2021-06-05T22:37:21.092659Z",
     "shell.execute_reply.started": "2021-06-03T01:09:00.313478Z"
    },
    "papermill": {
     "duration": 33.727455,
     "end_time": "2021-06-05T22:37:21.092915",
     "exception": false,
     "start_time": "2021-06-05T22:36:47.365460",
     "status": "completed"
    },
    "tags": []
   },
   "outputs": [
    {
     "name": "stdout",
     "output_type": "stream",
     "text": [
      "\n",
      "\n",
      "Reduce dim of descriptor of the frames with PCA\n",
      "\t32.74s\n",
      "\n",
      "\n"
     ]
    }
   ],
   "source": [
    "# VLAD feature의 경우 큰 차원으로 인해 메모리 부족 현상이 발생하므로 PCA를 이용한 차원 축소\n",
    "if args_aggr==\"vlad\":\n",
    "    print(\"\\n\\nReduce dim of descriptor of the frames with PCA\")\n",
    "    start = time.time()\n",
    "    pca = PCA(n_components=pca_vlad, random_state=0)\n",
    "    pca.fit(train_global_desc)\n",
    "    train_global_desc = pca.transform(train_global_desc)\n",
    "    test_global_desc = pca.transform(test_global_desc)\n",
    "    print(\"\\t{:3.2f}s\\n\\n\".format(time.time()-start))"
   ]
  },
  {
   "cell_type": "code",
   "execution_count": 14,
   "id": "focused-consumer",
   "metadata": {
    "execution": {
     "iopub.execute_input": "2021-06-05T22:37:22.073838Z",
     "iopub.status.busy": "2021-06-05T22:37:22.064693Z",
     "iopub.status.idle": "2021-06-05T22:37:22.504919Z",
     "shell.execute_reply": "2021-06-05T22:37:22.504311Z",
     "shell.execute_reply.started": "2021-06-03T01:09:37.89982Z"
    },
    "papermill": {
     "duration": 0.952865,
     "end_time": "2021-06-05T22:37:22.505068",
     "exception": false,
     "start_time": "2021-06-05T22:37:21.552203",
     "status": "completed"
    },
    "tags": []
   },
   "outputs": [
    {
     "name": "stdout",
     "output_type": "stream",
     "text": [
      "\n",
      "\n",
      "Processing label\n",
      "\t0.49s\n",
      "\n",
      "\n"
     ]
    }
   ],
   "source": [
    "print(\"\\n\\nProcessing label\")\n",
    "start = time.time()\n",
    "\n",
    "# 분류를 위해, 행동 분류에 대한 train 비디오의 각 프레임 별 label 가공\n",
    "train_global_id = np.array([int(i.split(\"/\")[-1].split(\".\")[0]) for i in train_global_desc_key])\n",
    "train_global_label = []\n",
    "for fid in train_global_id:\n",
    "    cind = np.where(train_csv_arr[:, 0]==fid)[0]\n",
    "    clsname = train_csv_arr[cind, 1]\n",
    "    cinfo_ind = np.where(classinfo_arr[:, 1] == clsname)[0]\n",
    "    train_global_label.append(classinfo_arr[cinfo_ind, 0].astype(\"int\"))\n",
    "train_global_label = np.asarray(train_global_label).ravel()\n",
    "\n",
    "# 분류를 위해, 행동 분류에 대한 test 비디오의 각 프레임 별 id 가공 \n",
    "test_global_id = np.array([int(i.split(\"/\")[-1].split(\".\")[0]) for i in test_global_desc_key])\n",
    "\n",
    "print(\"\\t{:3.2f}s\\n\\n\".format(time.time()-start))"
   ]
  },
  {
   "cell_type": "code",
   "execution_count": 15,
   "id": "greek-india",
   "metadata": {
    "execution": {
     "iopub.execute_input": "2021-06-05T22:37:23.417223Z",
     "iopub.status.busy": "2021-06-05T22:37:23.416312Z",
     "iopub.status.idle": "2021-06-05T22:37:23.419534Z",
     "shell.execute_reply": "2021-06-05T22:37:23.418963Z",
     "shell.execute_reply.started": "2021-06-03T01:09:38.854609Z"
    },
    "papermill": {
     "duration": 0.463566,
     "end_time": "2021-06-05T22:37:23.419675",
     "exception": false,
     "start_time": "2021-06-05T22:37:22.956109",
     "status": "completed"
    },
    "tags": []
   },
   "outputs": [],
   "source": [
    "def saveFile(predict, predict_id, name, best_params=None):\n",
    "    #########################################################\n",
    "    ## 결과를 저장하기 위한 함수\n",
    "    ## \n",
    "    ## Input \n",
    "    ##     predict : 모든 test 비디오의 행동 예측 값\n",
    "    ##     predict_id : 모든 test 비디오의 id\n",
    "    ##     name : 원하는 저장 파일 이름\n",
    "    ##     best_params : 원하는 instance 저장 시 사용\n",
    "    ##\n",
    "    #########################################################\n",
    "    \n",
    "    data = np.concatenate((np.expand_dims(predict_id.astype(\"str\"), axis=1), np.expand_dims(predict.astype(\"str\"), axis=1)), axis=1)\n",
    "    csv = pd.DataFrame(data, columns=['Id', 'Category'])\n",
    "    csv.to_csv(name + \".csv\", index=False)\n",
    "    \n",
    "    if best_params:\n",
    "        f = open(name + \".pickle\", \"wb\")\n",
    "        pickle.dump(best_params, f, 2)"
   ]
  },
  {
   "cell_type": "markdown",
   "id": "honey-outside",
   "metadata": {
    "papermill": {
     "duration": 0.45265,
     "end_time": "2021-06-05T22:37:24.328731",
     "exception": false,
     "start_time": "2021-06-05T22:37:23.876081",
     "status": "completed"
    },
    "tags": []
   },
   "source": [
    "# 비디오의 모든 프레임에서 얻은 feature를 평균내어 비디오 feature 생성 및 분류 (Empty Module 5)"
   ]
  },
  {
   "cell_type": "code",
   "execution_count": 16,
   "id": "located-novelty",
   "metadata": {
    "execution": {
     "iopub.execute_input": "2021-06-05T22:37:25.251159Z",
     "iopub.status.busy": "2021-06-05T22:37:25.249996Z",
     "iopub.status.idle": "2021-06-05T22:37:27.291488Z",
     "shell.execute_reply": "2021-06-05T22:37:27.290197Z",
     "shell.execute_reply.started": "2021-06-03T01:09:38.863146Z"
    },
    "papermill": {
     "duration": 2.511235,
     "end_time": "2021-06-05T22:37:27.291711",
     "exception": false,
     "start_time": "2021-06-05T22:37:24.780476",
     "status": "completed"
    },
    "tags": []
   },
   "outputs": [
    {
     "name": "stdout",
     "output_type": "stream",
     "text": [
      "\n",
      "\n",
      "SVM global averaging in frame\n",
      "0.9985148514851485\n",
      "\t2.04s\n",
      "\n",
      "\n"
     ]
    }
   ],
   "source": [
    "print(\"\\n\\nSVM global averaging in frame\")\n",
    "start = time.time()\n",
    "#################### Empty Module 6 : SVM (averaging) ######################\n",
    "# 제약조건 : sklearn의 SVC 사용 및 random_state=0으로 고정\n",
    "# 각 프레임을 나타내는 이미지 feature를 비디오 별로 평균 내어 비디오 feature로 사용\n",
    "# 비디오 feature로 학습 후, 행동 예측\n",
    "# hint : 위 셀에서 선언한 train_global_id, train_global_label, test_global_id 활용\n",
    "###########################################################################\n",
    "from sklearn.model_selection import GridSearchCV\n",
    "#params = {'gamma': ['auto', 'scale'], 'tol':[0.01, 0.05, 0.1, 0.5]}\n",
    "#svm = GridSearchCV(SVC(random_state=0, C=3), params, cv=10, n_jobs=-1)\n",
    "\n",
    "#해당 부분에서 학습 데이터에 대해 찍어본 결과 C가 4부터 \n",
    "#학습데이터에 대한 점수가 1.0이 나오는 것을 확인하였다.\n",
    "#그래서 4에서 낮추며 확인을 해보았는데, 3에서 \n",
    "#가장 높은 결과값이 나와 3으로 둔 후 tol과 gamma를 조정하면서\n",
    "#그리드 서치를 굴려보았다.\n",
    "svm = SVC(random_state=0, C=3, tol=0.5)\n",
    "\n",
    "#평균값을 낼때, 일단 각 데이터의 갯수를 체크하였다.\n",
    "trs = train_global_id.shape[0]\n",
    "tes = test_global_id.shape[0]\n",
    "\n",
    "#새로운 빈 데이터를 만든 후\n",
    "train_global_avg = []\n",
    "test_global_avg = []\n",
    "train_global_label_avg = []\n",
    "\n",
    "#각 갯수만큼 5개씩 돌면서 평균을 구해 더하고 추가해주었다.\n",
    "#label은 5개마다 동일했기에 따로 평균을 구하지는 않고 그저 append로 추가하였다.\n",
    "for i in range(0, trs, 5):\n",
    "    train_global_avg.append(np.mean(train_global_desc[i : i + 5, :], axis=0))\n",
    "    train_global_label_avg.append(train_global_label[i])\n",
    "\n",
    "#test에 대해서도 동일하게 구성하였다.\n",
    "for i in range(0, tes, 5):\n",
    "    test_global_avg.append(np.mean(test_global_desc[i : i + 5, :], axis=0))\n",
    "\n",
    "#추가한 데이터들이 리스트이기에 이를 행렬로 바꾸어주기 위해서 np.array함수를 이용했다.\n",
    "train_global_avg = np.array(train_global_avg)\n",
    "train_global_label_avg = np.array(train_global_label_avg)\n",
    "test_global_avg = np.array(test_global_avg)\n",
    "\n",
    "#찾은 파라미터로 원래 데이터로 학습을 시켜보았다.\n",
    "svm.fit(train_global_avg, train_global_label_avg)\n",
    "\n",
    "#원래 데이터에 대해서 학습데이터에 대한 점수를 보기 위해 점수를 출력해보았다.\n",
    "print(svm.score(train_global_avg, train_global_label_avg))\n",
    "\n",
    "svm_predict = svm.predict(test_global_avg)\n",
    "saveFile(classinfo_arr[svm_predict][:,1], np.arange(len(test_list)), \"svm_global_averaging\")\n",
    "print(\"\\t{:3.2f}s\\n\\n\".format(time.time()-start))"
   ]
  },
  {
   "cell_type": "markdown",
   "id": "marked-appliance",
   "metadata": {
    "papermill": {
     "duration": 0.456841,
     "end_time": "2021-06-05T22:37:28.209978",
     "exception": false,
     "start_time": "2021-06-05T22:37:27.753137",
     "status": "completed"
    },
    "tags": []
   },
   "source": [
    "# 비디오의 모든 프레임에서 얻은 feature로 분류기를 사용해 예측하고 예측치 중 가장 많은 빈도를 나타낸 행동을 선정 (Empty Module 6)"
   ]
  },
  {
   "cell_type": "code",
   "execution_count": 17,
   "id": "broad-score",
   "metadata": {
    "execution": {
     "iopub.execute_input": "2021-06-05T22:37:29.201660Z",
     "iopub.status.busy": "2021-06-05T22:37:29.200908Z",
     "iopub.status.idle": "2021-06-05T22:40:26.773460Z",
     "shell.execute_reply": "2021-06-05T22:40:26.772408Z",
     "shell.execute_reply.started": "2021-06-03T01:09:41.219468Z"
    },
    "papermill": {
     "duration": 178.043888,
     "end_time": "2021-06-05T22:40:26.773653",
     "exception": false,
     "start_time": "2021-06-05T22:37:28.729765",
     "status": "completed"
    },
    "tags": []
   },
   "outputs": [
    {
     "name": "stdout",
     "output_type": "stream",
     "text": [
      "\n",
      "\n",
      "SVM global voting in frame\n",
      "{'C': 10}\n",
      "\t177.57s\n",
      "\n",
      "\n"
     ]
    }
   ],
   "source": [
    "print(\"\\n\\nSVM global voting in frame\")\n",
    "start = time.time()\n",
    "############################### Empty Module 5 : SVM (voting) ##################################\n",
    "# 제약조건 : sklearn의 SVC 사용 및 random_state=0으로 고정\n",
    "# 각 프레임을 나타내는 이미지 feature를 모두 사용해 SVM 학습\n",
    "# 학습 시, 각 이미지 feature의 label은 해당되는 비디오의 label(행동)로 사용\n",
    "# 프레임 별로 행동 예측 후, 같은 비디오 내 프레임의 행동 예측 값의 최빈값을 해당 비디오의 행동 예측 값으로 선정\n",
    "# hint : 위 셀에서 선언한 train_global_label, test_global_id 및 mode 활용\n",
    "################################################################################################\n",
    "\n",
    "#GridSearchCV를 이용해서 최적의 값을 찾아보았다. 결론적으로는 voting보다 average가 더 낮게 나오기에\n",
    "#추가적인 파라미터 조정을 하지 않았다.\n",
    "from sklearn.model_selection import GridSearchCV\n",
    "params = {'C':[0.01, 0.1, 10, 100, 1000]}\n",
    "svm = GridSearchCV(SVC(random_state=0), params, n_jobs=-1)\n",
    "svm.fit(train_global_desc, train_global_label)\n",
    "print(svm.best_params_)\n",
    "svm = svm.best_estimator_\n",
    "\n",
    "#전체에 대한 데이터의 결과값을 일단 담아두었다.\n",
    "svm_predict_before = svm.predict(test_global_desc)\n",
    "\n",
    "svm_predict = []\n",
    "\n",
    "#테스트 전체 갯수에 대해서 5개씩 돌면서 5개마다 가장 많이 나온 예측값을 담아서 만들었다.\n",
    "for i in range(0, tes, 5):\n",
    "    svm_predict.append(mode(svm_predict_before[i : i + 5]).mode[0])\n",
    "    \n",
    "#만든 데이터를 넣을 수 있게 np.array함수를 이용했다.\n",
    "svm_predict = np.array(svm_predict)\n",
    "\n",
    "saveFile(classinfo_arr[svm_predict][:,1], np.arange(len(test_list)), \"svm_global_voting\")\n",
    "print(\"\\t{:3.2f}s\\n\\n\".format(time.time()-start))"
   ]
  },
  {
   "cell_type": "markdown",
   "id": "subsequent-intellectual",
   "metadata": {
    "papermill": {
     "duration": 0.466928,
     "end_time": "2021-06-05T22:40:27.715791",
     "exception": false,
     "start_time": "2021-06-05T22:40:27.248863",
     "status": "completed"
    },
    "tags": []
   },
   "source": [
    "# 프레임 feature에서 대표되는 feature를 선정 후 BoW or VLAD 방식으로 비디오 feature를 기술 (Empty Module 7)"
   ]
  },
  {
   "cell_type": "code",
   "execution_count": 18,
   "id": "approximate-sunglasses",
   "metadata": {
    "execution": {
     "iopub.execute_input": "2021-06-05T22:40:28.636590Z",
     "iopub.status.busy": "2021-06-05T22:40:28.635503Z",
     "iopub.status.idle": "2021-06-05T22:40:29.984274Z",
     "shell.execute_reply": "2021-06-05T22:40:29.984731Z",
     "shell.execute_reply.started": "2021-06-03T01:12:54.881861Z"
    },
    "papermill": {
     "duration": 1.814247,
     "end_time": "2021-06-05T22:40:29.984971",
     "exception": false,
     "start_time": "2021-06-05T22:40:28.170724",
     "status": "completed"
    },
    "scrolled": true,
    "tags": []
   },
   "outputs": [],
   "source": [
    "train_global_alloc, test_global_alloc, global_codebook, global_kmeans = clustering(train_global_desc, test_global_desc, args_global_cluster)"
   ]
  },
  {
   "cell_type": "code",
   "execution_count": 19,
   "id": "oriental-velvet",
   "metadata": {
    "execution": {
     "iopub.execute_input": "2021-06-05T22:40:30.904614Z",
     "iopub.status.busy": "2021-06-05T22:40:30.903903Z",
     "iopub.status.idle": "2021-06-05T22:40:40.859464Z",
     "shell.execute_reply": "2021-06-05T22:40:40.860908Z",
     "shell.execute_reply.started": "2021-06-03T01:12:56.52906Z"
    },
    "papermill": {
     "duration": 10.415275,
     "end_time": "2021-06-05T22:40:40.861307",
     "exception": false,
     "start_time": "2021-06-05T22:40:30.446032",
     "status": "completed"
    },
    "tags": []
   },
   "outputs": [
    {
     "name": "stdout",
     "output_type": "stream",
     "text": [
      "\n",
      "\n",
      "Allocate center & Descript global histogram\n",
      "\t9.94s\n",
      "\n",
      "\n"
     ]
    }
   ],
   "source": [
    "print(\"\\n\\nAllocate center & Descript global histogram\")\n",
    "start = time.time()\n",
    "train_vid_names = np.asarray([i.split(\", \")[0] for i in train_global_desc_key])\n",
    "train_vid_names_u = np.unique(train_vid_names)\n",
    "\n",
    "# Train 비디오 내 프레임 별로 기술된 이미지 feature를 기반으로 한번 더 기술하여(한번 더 BoW 혹은 VLAD)\n",
    "# 각 비디오에 대한 비디오 feature 기술\n",
    "# Empty Module 7과 관련있으며, 5,6과는 무관\n",
    "train_video_desc = []\n",
    "train_video_desc_key = []\n",
    "for vid_name in train_vid_names_u:\n",
    "    cind = np.where(vid_name==train_vid_names)[0]\n",
    "    if args_aggr==\"bow\":\n",
    "        hist_desc = BoW(train_global_alloc[cind], args_global_cluster)\n",
    "    elif args_aggr==\"vlad\":\n",
    "        hist_desc = VLAD(train_global_desc[cind], train_global_alloc[cind], global_codebook)\n",
    "    else:\n",
    "        import pdb; pdb.set_trace()\n",
    "\n",
    "    train_video_desc.append(hist_desc)\n",
    "    train_video_desc_key.append(vid_name)\n",
    "train_video_desc = np.asarray(train_video_desc)\n",
    "train_video_desc_key = np.asarray(train_video_desc_key)\n",
    "\n",
    "# Test 비디오 내 프레임 별로 기술된 이미지 feature를 기반으로 한번 더 기술하여(한번 더 BoW 혹은 VLAD)\n",
    "# 각 비디오에 대한 비디오 feature 기술\n",
    "# Empty Module 7과 관련있으며, 5,6과는 무관\n",
    "test_vid_names = np.asarray([i.split(\", \")[0] for i in test_global_desc_key])\n",
    "test_vid_names_u = np.unique(test_vid_names)\n",
    "\n",
    "test_video_desc = []\n",
    "test_video_desc_key = []\n",
    "for vid_name in test_vid_names_u:\n",
    "    cind = np.where(vid_name==test_vid_names)[0]\n",
    "    if args_aggr==\"bow\":\n",
    "        hist_desc = BoW(test_global_alloc[cind], args_global_cluster)\n",
    "    elif args_aggr==\"vlad\":\n",
    "        hist_desc = VLAD(test_global_desc[cind], test_global_alloc[cind], global_codebook)\n",
    "    else:\n",
    "        import pdb; pdb.set_trace()\n",
    "\n",
    "    test_video_desc.append(hist_desc)\n",
    "    test_video_desc_key.append(vid_name)\n",
    "test_video_desc = np.asarray(test_video_desc)\n",
    "test_video_desc_key = np.asarray(test_video_desc_key)\n",
    "\n",
    "\n",
    "print(\"\\t{:3.2f}s\\n\\n\".format(time.time()-start))\n"
   ]
  },
  {
   "cell_type": "code",
   "execution_count": 20,
   "id": "adolescent-there",
   "metadata": {
    "execution": {
     "iopub.execute_input": "2021-06-05T22:40:41.888877Z",
     "iopub.status.busy": "2021-06-05T22:40:41.881927Z",
     "iopub.status.idle": "2021-06-05T22:40:41.955769Z",
     "shell.execute_reply": "2021-06-05T22:40:41.955066Z",
     "shell.execute_reply.started": "2021-06-03T01:13:08.504527Z"
    },
    "papermill": {
     "duration": 0.606493,
     "end_time": "2021-06-05T22:40:41.956037",
     "exception": false,
     "start_time": "2021-06-05T22:40:41.349544",
     "status": "completed"
    },
    "tags": []
   },
   "outputs": [
    {
     "name": "stdout",
     "output_type": "stream",
     "text": [
      "\n",
      "\n",
      "Processing label\n",
      "\t0.13s\n",
      "\n",
      "\n"
     ]
    }
   ],
   "source": [
    "print(\"\\n\\nProcessing label\")\n",
    "start = time.time()\n",
    "\n",
    "# 분류를 위해, 행동 분류에 대한 각 train 비디오 별 label 가공\n",
    "train_video_id = np.array([int(i.split(\"/\")[-1].split(\".\")[0]) for i in train_video_desc_key])\n",
    "train_video_label = []\n",
    "for fid in train_video_id:\n",
    "    cind = np.where(train_csv_arr[:, 0]==fid)[0]\n",
    "    clsname = train_csv_arr[cind, 1]\n",
    "    cinfo_ind = np.where(classinfo_arr[:, 1] == clsname)[0]\n",
    "    train_video_label.append(classinfo_arr[cinfo_ind, 0].astype(\"int\"))\n",
    "train_video_label = np.asarray(train_video_label).ravel()\n",
    "\n",
    "# 분류를 위해, 행동 분류에 대한 각 test 비디오 별 id 가공\n",
    "test_video_id = np.array([int(i.split(\"/\")[-1].split(\".\")[0]) for i in test_video_desc_key])\n",
    "\n",
    "print(\"\\t{:3.2f}s\\n\\n\".format(time.time()-start))"
   ]
  },
  {
   "cell_type": "code",
   "execution_count": 21,
   "id": "greatest-teens",
   "metadata": {
    "execution": {
     "iopub.execute_input": "2021-06-05T22:40:42.898584Z",
     "iopub.status.busy": "2021-06-05T22:40:42.897877Z",
     "iopub.status.idle": "2021-06-05T22:40:50.100071Z",
     "shell.execute_reply": "2021-06-05T22:40:50.101045Z",
     "shell.execute_reply.started": "2021-06-03T01:13:08.723447Z"
    },
    "papermill": {
     "duration": 7.669216,
     "end_time": "2021-06-05T22:40:50.101339",
     "exception": false,
     "start_time": "2021-06-05T22:40:42.432123",
     "status": "completed"
    },
    "tags": []
   },
   "outputs": [
    {
     "name": "stdout",
     "output_type": "stream",
     "text": [
      "\n",
      "\n",
      "Reduce dim of descriptor of the frames with PCA\n",
      "\t7.20s\n",
      "\n",
      "\n"
     ]
    }
   ],
   "source": [
    "# 이미지 feature에 대해 다시 한번 VLAD feature 기술 방식을 사용하여 video feature를 기술한 경우 큰 차원으로 인해 메모리 부족 현상이 발생하므로 PCA를 이용한 차원 축소\n",
    "if args_aggr==\"vlad\":\n",
    "    print(\"\\n\\nReduce dim of descriptor of the frames with PCA\")\n",
    "    start = time.time()\n",
    "    pca = PCA(n_components=pca_vlad, random_state=0)\n",
    "    pca.fit(train_video_desc)\n",
    "    train_video_desc = pca.transform(train_video_desc)\n",
    "    test_video_desc = pca.transform(test_video_desc)\n",
    "    print(\"\\t{:3.2f}s\\n\\n\".format(time.time()-start))\n"
   ]
  },
  {
   "cell_type": "code",
   "execution_count": 22,
   "id": "matched-evans",
   "metadata": {
    "execution": {
     "iopub.execute_input": "2021-06-05T22:40:51.129129Z",
     "iopub.status.busy": "2021-06-05T22:40:51.128402Z",
     "iopub.status.idle": "2021-06-05T22:41:15.756107Z",
     "shell.execute_reply": "2021-06-05T22:41:15.756660Z",
     "shell.execute_reply.started": "2021-06-03T01:13:17.210358Z"
    },
    "papermill": {
     "duration": 25.08957,
     "end_time": "2021-06-05T22:41:15.756875",
     "exception": false,
     "start_time": "2021-06-05T22:40:50.667305",
     "status": "completed"
    },
    "tags": []
   },
   "outputs": [
    {
     "name": "stdout",
     "output_type": "stream",
     "text": [
      "\n",
      "\n",
      "SVM video descriptor\n",
      "\t24.62s\n",
      "\n",
      "\n"
     ]
    }
   ],
   "source": [
    "print(\"\\n\\nSVM video descriptor\")\n",
    "start = time.time()\n",
    "######################## Empty Module 7 : SVM (video feature) ##########################\n",
    "# 제약조건 : sklearn의 SVC 사용 및 random_state=0으로 고정\n",
    "# 이전 이미지 feature를 기반으로 각 기술방식(BoW, VLAD)을 한번 더 적용해 만든 비디오 feature 사용\n",
    "# 비디오 feature로 학습 후, 행동 예측\n",
    "#######################################################################################\n",
    "#기본적으로 주어진 데이터를 이용해서 학습을 진행했다.\n",
    "#성능이 다른 항목들에 비해서 많이 떨어지게 나와 추가적인 파라미터 조정은 진행하지 않았다.\n",
    "from sklearn.model_selection import GridSearchCV\n",
    "params = {'C':[0.01, 0.1, 1, 10, 100, 1000]}\n",
    "svm = GridSearchCV(SVC(random_state=0, class_weight='balanced'), params)\n",
    "svm.fit(train_video_desc, train_video_label)\n",
    "\n",
    "svm_predict = svm.predict(test_video_desc)\n",
    "\n",
    "saveFile(classinfo_arr[svm_predict][:,1], test_video_id, \"svm_video\")\n",
    "print(\"\\t{:3.2f}s\\n\\n\".format(time.time()-start))"
   ]
  }
 ],
 "metadata": {
  "kernelspec": {
   "display_name": "Python 3",
   "language": "python",
   "name": "python3"
  },
  "language_info": {
   "codemirror_mode": {
    "name": "ipython",
    "version": 3
   },
   "file_extension": ".py",
   "mimetype": "text/x-python",
   "name": "python",
   "nbconvert_exporter": "python",
   "pygments_lexer": "ipython3",
   "version": "3.7.9"
  },
  "papermill": {
   "default_parameters": {},
   "duration": 665.689695,
   "end_time": "2021-06-05T22:41:17.537218",
   "environment_variables": {},
   "exception": null,
   "input_path": "__notebook__.ipynb",
   "output_path": "__notebook__.ipynb",
   "parameters": {},
   "start_time": "2021-06-05T22:30:11.847523",
   "version": "2.3.2"
  }
 },
 "nbformat": 4,
 "nbformat_minor": 5
}
